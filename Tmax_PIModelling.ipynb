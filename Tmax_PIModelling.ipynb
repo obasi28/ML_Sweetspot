{
 "cells": [
  {
   "cell_type": "code",
   "execution_count": 1,
   "id": "dee1200d-759e-4b26-b184-7699073d2949",
   "metadata": {},
   "outputs": [],
   "source": [
    "# mlp for multi-output regression\n",
    "from numpy import mean\n",
    "from numpy import std\n",
    "from sklearn.datasets import make_regression\n",
    "from sklearn.model_selection import RepeatedKFold\n",
    "from keras.models import Sequential\n",
    "from keras.layers import Dense"
   ]
  },
  {
   "cell_type": "code",
   "execution_count": 2,
   "id": "5d130f21-244d-46d0-9177-49413ff946b7",
   "metadata": {},
   "outputs": [],
   "source": [
    "import pandas as pd\n",
    "import numpy as np"
   ]
  },
  {
   "cell_type": "code",
   "execution_count": 3,
   "id": "b34040f2-8d3f-438c-915d-8cfa670642cb",
   "metadata": {},
   "outputs": [],
   "source": [
    "import pandas as pd\n",
    "from sklearn import preprocessing\n",
    "import sklearn.model_selection as ms\n",
    "from sklearn import linear_model\n",
    "import sklearn.metrics as sklm\n",
    "import numpy as np\n",
    "import numpy.random as nr\n",
    "import matplotlib.pyplot as plt\n",
    "import seaborn as sns\n",
    "import scipy.stats as ss\n",
    "import math\n",
    "\n",
    "%matplotlib inline"
   ]
  },
  {
   "cell_type": "code",
   "execution_count": 4,
   "id": "fcd5ef78-4991-48f9-b8cd-529a2832da10",
   "metadata": {},
   "outputs": [],
   "source": [
    "coreDataSynthetic=pd.read_csv('CoredataTmax.csv')"
   ]
  },
  {
   "cell_type": "code",
   "execution_count": 5,
   "id": "6a6bbd17-5f1b-4862-8a4f-c5228a4d511a",
   "metadata": {},
   "outputs": [
    {
     "data": {
      "text/html": [
       "<div>\n",
       "<style scoped>\n",
       "    .dataframe tbody tr th:only-of-type {\n",
       "        vertical-align: middle;\n",
       "    }\n",
       "\n",
       "    .dataframe tbody tr th {\n",
       "        vertical-align: top;\n",
       "    }\n",
       "\n",
       "    .dataframe thead th {\n",
       "        text-align: right;\n",
       "    }\n",
       "</style>\n",
       "<table border=\"1\" class=\"dataframe\">\n",
       "  <thead>\n",
       "    <tr style=\"text-align: right;\">\n",
       "      <th></th>\n",
       "      <th>Well</th>\n",
       "      <th>CRC Lib #</th>\n",
       "      <th>Formation</th>\n",
       "      <th>Sample Type</th>\n",
       "      <th>GR</th>\n",
       "      <th>ILD</th>\n",
       "      <th>Porosity</th>\n",
       "      <th>HCl Reaction</th>\n",
       "      <th>Avg. Depth</th>\n",
       "      <th>Leco TOC (%)</th>\n",
       "      <th>S1</th>\n",
       "      <th>S2</th>\n",
       "      <th>S3</th>\n",
       "      <th>Tmax (°C)</th>\n",
       "      <th>HI</th>\n",
       "      <th>OI</th>\n",
       "      <th>S1+S2</th>\n",
       "      <th>PI</th>\n",
       "    </tr>\n",
       "  </thead>\n",
       "  <tbody>\n",
       "    <tr>\n",
       "      <th>0</th>\n",
       "      <td>Buffalo Gap Federal 35-1</td>\n",
       "      <td>T120</td>\n",
       "      <td>MWRY</td>\n",
       "      <td>core</td>\n",
       "      <td>230.484523</td>\n",
       "      <td>11.470472</td>\n",
       "      <td>9.500998</td>\n",
       "      <td>1</td>\n",
       "      <td>11145.1</td>\n",
       "      <td>0.55</td>\n",
       "      <td>NaN</td>\n",
       "      <td>NaN</td>\n",
       "      <td>NaN</td>\n",
       "      <td>NaN</td>\n",
       "      <td>NaN</td>\n",
       "      <td>NaN</td>\n",
       "      <td>0.0</td>\n",
       "      <td>NaN</td>\n",
       "    </tr>\n",
       "    <tr>\n",
       "      <th>1</th>\n",
       "      <td>Buffalo Gap Federal 35-1</td>\n",
       "      <td>T120</td>\n",
       "      <td>MWRY</td>\n",
       "      <td>core</td>\n",
       "      <td>230.484523</td>\n",
       "      <td>11.470472</td>\n",
       "      <td>9.500998</td>\n",
       "      <td>1</td>\n",
       "      <td>11145.1</td>\n",
       "      <td>0.55</td>\n",
       "      <td>NaN</td>\n",
       "      <td>NaN</td>\n",
       "      <td>NaN</td>\n",
       "      <td>NaN</td>\n",
       "      <td>NaN</td>\n",
       "      <td>NaN</td>\n",
       "      <td>0.0</td>\n",
       "      <td>NaN</td>\n",
       "    </tr>\n",
       "    <tr>\n",
       "      <th>2</th>\n",
       "      <td>Buffalo Gap Federal 35-1</td>\n",
       "      <td>T120</td>\n",
       "      <td>MWRY</td>\n",
       "      <td>core</td>\n",
       "      <td>230.484523</td>\n",
       "      <td>11.470472</td>\n",
       "      <td>9.500998</td>\n",
       "      <td>1</td>\n",
       "      <td>11145.1</td>\n",
       "      <td>0.55</td>\n",
       "      <td>NaN</td>\n",
       "      <td>NaN</td>\n",
       "      <td>NaN</td>\n",
       "      <td>NaN</td>\n",
       "      <td>NaN</td>\n",
       "      <td>NaN</td>\n",
       "      <td>0.0</td>\n",
       "      <td>NaN</td>\n",
       "    </tr>\n",
       "    <tr>\n",
       "      <th>3</th>\n",
       "      <td>Buffalo Gap Federal 35-1</td>\n",
       "      <td>T120</td>\n",
       "      <td>MWRY</td>\n",
       "      <td>core</td>\n",
       "      <td>230.484523</td>\n",
       "      <td>11.470472</td>\n",
       "      <td>9.500998</td>\n",
       "      <td>1</td>\n",
       "      <td>11145.1</td>\n",
       "      <td>0.55</td>\n",
       "      <td>NaN</td>\n",
       "      <td>NaN</td>\n",
       "      <td>NaN</td>\n",
       "      <td>NaN</td>\n",
       "      <td>NaN</td>\n",
       "      <td>NaN</td>\n",
       "      <td>0.0</td>\n",
       "      <td>NaN</td>\n",
       "    </tr>\n",
       "    <tr>\n",
       "      <th>4</th>\n",
       "      <td>Buffalo Gap Federal 35-1</td>\n",
       "      <td>T120</td>\n",
       "      <td>MWRY</td>\n",
       "      <td>core</td>\n",
       "      <td>230.484523</td>\n",
       "      <td>11.470472</td>\n",
       "      <td>9.500998</td>\n",
       "      <td>1</td>\n",
       "      <td>11145.1</td>\n",
       "      <td>0.55</td>\n",
       "      <td>NaN</td>\n",
       "      <td>NaN</td>\n",
       "      <td>NaN</td>\n",
       "      <td>NaN</td>\n",
       "      <td>NaN</td>\n",
       "      <td>NaN</td>\n",
       "      <td>0.0</td>\n",
       "      <td>NaN</td>\n",
       "    </tr>\n",
       "  </tbody>\n",
       "</table>\n",
       "</div>"
      ],
      "text/plain": [
       "                       Well CRC Lib # Formation Sample Type          GR  \\\n",
       "0  Buffalo Gap Federal 35-1      T120      MWRY        core  230.484523   \n",
       "1  Buffalo Gap Federal 35-1      T120      MWRY        core  230.484523   \n",
       "2  Buffalo Gap Federal 35-1      T120      MWRY        core  230.484523   \n",
       "3  Buffalo Gap Federal 35-1      T120      MWRY        core  230.484523   \n",
       "4  Buffalo Gap Federal 35-1      T120      MWRY        core  230.484523   \n",
       "\n",
       "         ILD  Porosity  HCl Reaction  Avg. Depth  Leco TOC (%)  S1   S2   S3  \\\n",
       "0  11.470472  9.500998             1     11145.1          0.55  NaN  NaN NaN   \n",
       "1  11.470472  9.500998             1     11145.1          0.55  NaN  NaN NaN   \n",
       "2  11.470472  9.500998             1     11145.1          0.55  NaN  NaN NaN   \n",
       "3  11.470472  9.500998             1     11145.1          0.55  NaN  NaN NaN   \n",
       "4  11.470472  9.500998             1     11145.1          0.55  NaN  NaN NaN   \n",
       "\n",
       "   Tmax (°C)  HI  OI  S1+S2  PI  \n",
       "0        NaN NaN NaN    0.0 NaN  \n",
       "1        NaN NaN NaN    0.0 NaN  \n",
       "2        NaN NaN NaN    0.0 NaN  \n",
       "3        NaN NaN NaN    0.0 NaN  \n",
       "4        NaN NaN NaN    0.0 NaN  "
      ]
     },
     "execution_count": 5,
     "metadata": {},
     "output_type": "execute_result"
    }
   ],
   "source": [
    "coreDataSynthetic.head()"
   ]
  },
  {
   "cell_type": "code",
   "execution_count": 6,
   "id": "46e9e0cc-466a-4a3b-aa69-a3d77464b639",
   "metadata": {},
   "outputs": [
    {
     "data": {
      "text/plain": [
       "Index(['Well', 'CRC Lib #', 'Formation', 'Sample Type', 'GR', 'ILD',\n",
       "       'Porosity', 'HCl Reaction', 'Avg. Depth', 'Leco TOC (%)', 'S1 ', 'S2 ',\n",
       "       'S3', 'Tmax (°C)', 'HI', 'OI', 'S1+S2', 'PI'],\n",
       "      dtype='object')"
      ]
     },
     "execution_count": 6,
     "metadata": {},
     "output_type": "execute_result"
    }
   ],
   "source": [
    "coreDataSynthetic.columns"
   ]
  },
  {
   "cell_type": "code",
   "execution_count": 7,
   "id": "041a17a1-07e9-4547-8c97-9f622014656a",
   "metadata": {},
   "outputs": [],
   "source": [
    "data=coreDataSynthetic[['GR','ILD','Porosity','Avg. Depth','Tmax (°C)','PI']]"
   ]
  },
  {
   "cell_type": "code",
   "execution_count": 8,
   "id": "4a14b8d8-6044-4cfd-8b7f-188a018bb16c",
   "metadata": {},
   "outputs": [
    {
     "name": "stderr",
     "output_type": "stream",
     "text": [
      "<ipython-input-8-f1116dacf2bb>:1: SettingWithCopyWarning: \n",
      "A value is trying to be set on a copy of a slice from a DataFrame\n",
      "\n",
      "See the caveats in the documentation: https://pandas.pydata.org/pandas-docs/stable/user_guide/indexing.html#returning-a-view-versus-a-copy\n",
      "  data.dropna(inplace=True)\n"
     ]
    }
   ],
   "source": [
    "data.dropna(inplace=True)"
   ]
  },
  {
   "cell_type": "code",
   "execution_count": 9,
   "id": "ef1e7409-f8d2-47e4-9725-de52498a7b09",
   "metadata": {},
   "outputs": [],
   "source": [
    "data=data[data['Porosity']<31]\n",
    "data=data[(data['Avg. Depth']>7000)&(data['ILD']<400)]\n",
    "data.reset_index(inplace=True)"
   ]
  },
  {
   "cell_type": "code",
   "execution_count": 10,
   "id": "2d479f0c-e7a7-4d43-bc69-417d9316d7d7",
   "metadata": {},
   "outputs": [],
   "source": [
    "X=data.drop(['Tmax (°C)','PI'],axis=1)\n",
    "y=data[['Tmax (°C)','PI']]"
   ]
  },
  {
   "cell_type": "code",
   "execution_count": 11,
   "id": "686ad802-3b9d-4269-bfe7-fe8f4f48f18d",
   "metadata": {},
   "outputs": [
    {
     "data": {
      "text/html": [
       "<div>\n",
       "<style scoped>\n",
       "    .dataframe tbody tr th:only-of-type {\n",
       "        vertical-align: middle;\n",
       "    }\n",
       "\n",
       "    .dataframe tbody tr th {\n",
       "        vertical-align: top;\n",
       "    }\n",
       "\n",
       "    .dataframe thead th {\n",
       "        text-align: right;\n",
       "    }\n",
       "</style>\n",
       "<table border=\"1\" class=\"dataframe\">\n",
       "  <thead>\n",
       "    <tr style=\"text-align: right;\">\n",
       "      <th></th>\n",
       "      <th>index</th>\n",
       "      <th>GR</th>\n",
       "      <th>ILD</th>\n",
       "      <th>Porosity</th>\n",
       "      <th>Avg. Depth</th>\n",
       "    </tr>\n",
       "  </thead>\n",
       "  <tbody>\n",
       "    <tr>\n",
       "      <th>0</th>\n",
       "      <td>10</td>\n",
       "      <td>113.312000</td>\n",
       "      <td>6.419200</td>\n",
       "      <td>20.160000</td>\n",
       "      <td>10557.2</td>\n",
       "    </tr>\n",
       "    <tr>\n",
       "      <th>1</th>\n",
       "      <td>15</td>\n",
       "      <td>123.569200</td>\n",
       "      <td>9.876200</td>\n",
       "      <td>17.310000</td>\n",
       "      <td>10677.4</td>\n",
       "    </tr>\n",
       "    <tr>\n",
       "      <th>2</th>\n",
       "      <td>17</td>\n",
       "      <td>143.963500</td>\n",
       "      <td>4.226100</td>\n",
       "      <td>8.480000</td>\n",
       "      <td>10162.0</td>\n",
       "    </tr>\n",
       "    <tr>\n",
       "      <th>3</th>\n",
       "      <td>19</td>\n",
       "      <td>117.457600</td>\n",
       "      <td>9.061900</td>\n",
       "      <td>20.760000</td>\n",
       "      <td>10690.7</td>\n",
       "    </tr>\n",
       "    <tr>\n",
       "      <th>4</th>\n",
       "      <td>20</td>\n",
       "      <td>113.312000</td>\n",
       "      <td>6.419200</td>\n",
       "      <td>20.160000</td>\n",
       "      <td>10557.2</td>\n",
       "    </tr>\n",
       "    <tr>\n",
       "      <th>...</th>\n",
       "      <td>...</td>\n",
       "      <td>...</td>\n",
       "      <td>...</td>\n",
       "      <td>...</td>\n",
       "      <td>...</td>\n",
       "    </tr>\n",
       "    <tr>\n",
       "      <th>9199</th>\n",
       "      <td>9995</td>\n",
       "      <td>105.054811</td>\n",
       "      <td>9.725226</td>\n",
       "      <td>10.592800</td>\n",
       "      <td>9227.0</td>\n",
       "    </tr>\n",
       "    <tr>\n",
       "      <th>9200</th>\n",
       "      <td>9996</td>\n",
       "      <td>113.135171</td>\n",
       "      <td>51.706493</td>\n",
       "      <td>9.700599</td>\n",
       "      <td>11170.0</td>\n",
       "    </tr>\n",
       "    <tr>\n",
       "      <th>9201</th>\n",
       "      <td>9997</td>\n",
       "      <td>157.069571</td>\n",
       "      <td>30.067157</td>\n",
       "      <td>9.500998</td>\n",
       "      <td>11343.2</td>\n",
       "    </tr>\n",
       "    <tr>\n",
       "      <th>9202</th>\n",
       "      <td>9998</td>\n",
       "      <td>144.028221</td>\n",
       "      <td>49.117105</td>\n",
       "      <td>7.704591</td>\n",
       "      <td>11255.5</td>\n",
       "    </tr>\n",
       "    <tr>\n",
       "      <th>9203</th>\n",
       "      <td>9999</td>\n",
       "      <td>161.057408</td>\n",
       "      <td>30.067157</td>\n",
       "      <td>9.500998</td>\n",
       "      <td>11199.0</td>\n",
       "    </tr>\n",
       "  </tbody>\n",
       "</table>\n",
       "<p>9204 rows × 5 columns</p>\n",
       "</div>"
      ],
      "text/plain": [
       "      index          GR        ILD   Porosity  Avg. Depth\n",
       "0        10  113.312000   6.419200  20.160000     10557.2\n",
       "1        15  123.569200   9.876200  17.310000     10677.4\n",
       "2        17  143.963500   4.226100   8.480000     10162.0\n",
       "3        19  117.457600   9.061900  20.760000     10690.7\n",
       "4        20  113.312000   6.419200  20.160000     10557.2\n",
       "...     ...         ...        ...        ...         ...\n",
       "9199   9995  105.054811   9.725226  10.592800      9227.0\n",
       "9200   9996  113.135171  51.706493   9.700599     11170.0\n",
       "9201   9997  157.069571  30.067157   9.500998     11343.2\n",
       "9202   9998  144.028221  49.117105   7.704591     11255.5\n",
       "9203   9999  161.057408  30.067157   9.500998     11199.0\n",
       "\n",
       "[9204 rows x 5 columns]"
      ]
     },
     "execution_count": 11,
     "metadata": {},
     "output_type": "execute_result"
    }
   ],
   "source": [
    "X"
   ]
  },
  {
   "cell_type": "code",
   "execution_count": 12,
   "id": "c9301d2d-d296-46b8-aecd-57ec795c6078",
   "metadata": {},
   "outputs": [],
   "source": [
    "X=X.drop('index',axis=1)"
   ]
  },
  {
   "cell_type": "code",
   "execution_count": 13,
   "id": "7afb1765-d83f-4e59-afe2-49b15cd083ec",
   "metadata": {},
   "outputs": [],
   "source": [
    "scaler = preprocessing.StandardScaler()"
   ]
  },
  {
   "cell_type": "code",
   "execution_count": 14,
   "id": "9c7d5d27-cb8f-4526-baf2-d6f76ad35366",
   "metadata": {},
   "outputs": [
    {
     "data": {
      "text/html": [
       "<div>\n",
       "<style scoped>\n",
       "    .dataframe tbody tr th:only-of-type {\n",
       "        vertical-align: middle;\n",
       "    }\n",
       "\n",
       "    .dataframe tbody tr th {\n",
       "        vertical-align: top;\n",
       "    }\n",
       "\n",
       "    .dataframe thead th {\n",
       "        text-align: right;\n",
       "    }\n",
       "</style>\n",
       "<table border=\"1\" class=\"dataframe\">\n",
       "  <thead>\n",
       "    <tr style=\"text-align: right;\">\n",
       "      <th></th>\n",
       "      <th>GR</th>\n",
       "      <th>ILD</th>\n",
       "      <th>Porosity</th>\n",
       "      <th>Avg. Depth</th>\n",
       "    </tr>\n",
       "  </thead>\n",
       "  <tbody>\n",
       "    <tr>\n",
       "      <th>0</th>\n",
       "      <td>113.312000</td>\n",
       "      <td>6.419200</td>\n",
       "      <td>20.160000</td>\n",
       "      <td>10557.2</td>\n",
       "    </tr>\n",
       "    <tr>\n",
       "      <th>1</th>\n",
       "      <td>123.569200</td>\n",
       "      <td>9.876200</td>\n",
       "      <td>17.310000</td>\n",
       "      <td>10677.4</td>\n",
       "    </tr>\n",
       "    <tr>\n",
       "      <th>2</th>\n",
       "      <td>143.963500</td>\n",
       "      <td>4.226100</td>\n",
       "      <td>8.480000</td>\n",
       "      <td>10162.0</td>\n",
       "    </tr>\n",
       "    <tr>\n",
       "      <th>3</th>\n",
       "      <td>117.457600</td>\n",
       "      <td>9.061900</td>\n",
       "      <td>20.760000</td>\n",
       "      <td>10690.7</td>\n",
       "    </tr>\n",
       "    <tr>\n",
       "      <th>4</th>\n",
       "      <td>113.312000</td>\n",
       "      <td>6.419200</td>\n",
       "      <td>20.160000</td>\n",
       "      <td>10557.2</td>\n",
       "    </tr>\n",
       "    <tr>\n",
       "      <th>...</th>\n",
       "      <td>...</td>\n",
       "      <td>...</td>\n",
       "      <td>...</td>\n",
       "      <td>...</td>\n",
       "    </tr>\n",
       "    <tr>\n",
       "      <th>9199</th>\n",
       "      <td>105.054811</td>\n",
       "      <td>9.725226</td>\n",
       "      <td>10.592800</td>\n",
       "      <td>9227.0</td>\n",
       "    </tr>\n",
       "    <tr>\n",
       "      <th>9200</th>\n",
       "      <td>113.135171</td>\n",
       "      <td>51.706493</td>\n",
       "      <td>9.700599</td>\n",
       "      <td>11170.0</td>\n",
       "    </tr>\n",
       "    <tr>\n",
       "      <th>9201</th>\n",
       "      <td>157.069571</td>\n",
       "      <td>30.067157</td>\n",
       "      <td>9.500998</td>\n",
       "      <td>11343.2</td>\n",
       "    </tr>\n",
       "    <tr>\n",
       "      <th>9202</th>\n",
       "      <td>144.028221</td>\n",
       "      <td>49.117105</td>\n",
       "      <td>7.704591</td>\n",
       "      <td>11255.5</td>\n",
       "    </tr>\n",
       "    <tr>\n",
       "      <th>9203</th>\n",
       "      <td>161.057408</td>\n",
       "      <td>30.067157</td>\n",
       "      <td>9.500998</td>\n",
       "      <td>11199.0</td>\n",
       "    </tr>\n",
       "  </tbody>\n",
       "</table>\n",
       "<p>9204 rows × 4 columns</p>\n",
       "</div>"
      ],
      "text/plain": [
       "              GR        ILD   Porosity  Avg. Depth\n",
       "0     113.312000   6.419200  20.160000     10557.2\n",
       "1     123.569200   9.876200  17.310000     10677.4\n",
       "2     143.963500   4.226100   8.480000     10162.0\n",
       "3     117.457600   9.061900  20.760000     10690.7\n",
       "4     113.312000   6.419200  20.160000     10557.2\n",
       "...          ...        ...        ...         ...\n",
       "9199  105.054811   9.725226  10.592800      9227.0\n",
       "9200  113.135171  51.706493   9.700599     11170.0\n",
       "9201  157.069571  30.067157   9.500998     11343.2\n",
       "9202  144.028221  49.117105   7.704591     11255.5\n",
       "9203  161.057408  30.067157   9.500998     11199.0\n",
       "\n",
       "[9204 rows x 4 columns]"
      ]
     },
     "execution_count": 14,
     "metadata": {},
     "output_type": "execute_result"
    }
   ],
   "source": [
    "X"
   ]
  },
  {
   "cell_type": "code",
   "execution_count": 15,
   "id": "7821b206-5029-4754-827c-b924ed6e91f9",
   "metadata": {},
   "outputs": [],
   "source": [
    "X=scaler.fit_transform(X)\n",
    "y=scaler.fit_transform(y)"
   ]
  },
  {
   "cell_type": "code",
   "execution_count": 16,
   "id": "65562eee-a750-4c4b-b4fc-a3c0be5c7568",
   "metadata": {},
   "outputs": [
    {
     "data": {
      "text/plain": [
       "array([[ 0.08160265, -0.99521568],\n",
       "       [ 0.10209917, -0.63489213],\n",
       "       [-0.08236951, -0.33462251],\n",
       "       ...,\n",
       "       [ 0.20458177,  1.64715702],\n",
       "       [ 0.20458177,  0.62624029],\n",
       "       [ 0.18408525,  1.64715702]])"
      ]
     },
     "execution_count": 16,
     "metadata": {},
     "output_type": "execute_result"
    }
   ],
   "source": [
    "y"
   ]
  },
  {
   "cell_type": "code",
   "execution_count": 177,
   "id": "822cc948-42ac-4cc1-8dc6-c67404cc895d",
   "metadata": {},
   "outputs": [],
   "source": [
    "# get the model\n",
    "def get_model(n_inputs, n_outputs):\n",
    "\tmodel = Sequential()\n",
    "\tmodel.add(Dense(30, input_dim=n_inputs, kernel_initializer='he_uniform', activation='relu'))\n",
    "\tmodel.add(Dense(n_outputs))\n",
    "\tmodel.compile(loss='mae', optimizer='adam')\n",
    "\treturn model"
   ]
  },
  {
   "cell_type": "code",
   "execution_count": 178,
   "id": "6a9e6b1c-0119-4e50-b719-e9b6dcb916fa",
   "metadata": {},
   "outputs": [
    {
     "data": {
      "text/plain": [
       "array([[-0.86667229, -0.39456515,  1.14127572, -0.21350504],\n",
       "       [-0.56593609, -0.33824032,  0.62227993, -0.05377213],\n",
       "       [ 0.03201503, -0.43029728, -0.9856965 , -0.73868344],\n",
       "       ...,\n",
       "       [ 0.41627877, -0.00926946, -0.7997689 ,  0.83100465],\n",
       "       [ 0.03391261,  0.30111096, -1.12690145,  0.71446075],\n",
       "       [ 0.53320024, -0.00926946, -0.7997689 ,  0.63937831]])"
      ]
     },
     "execution_count": 178,
     "metadata": {},
     "output_type": "execute_result"
    }
   ],
   "source": [
    "X"
   ]
  },
  {
   "cell_type": "code",
   "execution_count": 179,
   "id": "5cf752f8-403d-47e8-acd6-5293dc8602ea",
   "metadata": {},
   "outputs": [],
   "source": [
    "# evaluate a model using repeated k-fold cross-validation\n",
    "def evaluate_model(X, y):\n",
    "\tresults = list()\n",
    "\tn_inputs, n_outputs = X.shape[1], y.shape[1]\n",
    "\t# define evaluation procedure\n",
    "\tcv = RepeatedKFold(n_splits=10, n_repeats=3, random_state=1)\n",
    "\t# enumerate folds\n",
    "\tfor train_ix, test_ix in cv.split(X):\n",
    "\t\t# prepare data\n",
    "\t\tX_train, X_test = X[train_ix], X[test_ix]\n",
    "\t\ty_train, y_test = y[train_ix], y[test_ix]\n",
    "\t\t# define model\n",
    "\t\tmodel = get_model(n_inputs, n_outputs)\n",
    "\t\t# fit model\n",
    "\t\tmodel.fit(X_train, y_train, verbose=0, epochs=100)\n",
    "\t\t# evaluate model on test set\n",
    "\t\tmae = model.evaluate(X_test, y_test, verbose=0)\n",
    "\t\t# store result\n",
    "\t\tprint('>%.3f' % mae)\n",
    "\t\tresults.append(mae)\n",
    "\treturn results\n",
    " "
   ]
  },
  {
   "cell_type": "code",
   "execution_count": 180,
   "id": "8e6e0ea7-964f-4f3e-ad06-f6310c0be18e",
   "metadata": {},
   "outputs": [
    {
     "name": "stdout",
     "output_type": "stream",
     "text": [
      ">0.170\n",
      ">0.146\n",
      ">0.165\n",
      ">0.147\n",
      ">0.166\n",
      ">0.155\n",
      ">0.167\n",
      ">0.171\n",
      ">0.161\n",
      ">0.151\n",
      ">0.157\n",
      ">0.135\n",
      ">0.170\n",
      ">0.154\n",
      ">0.162\n",
      ">0.180\n",
      ">0.180\n",
      ">0.167\n",
      ">0.165\n",
      ">0.147\n",
      ">0.158\n",
      ">0.178\n",
      ">0.150\n",
      ">0.176\n",
      ">0.161\n",
      ">0.149\n",
      ">0.151\n",
      ">0.149\n",
      ">0.172\n",
      ">0.172\n"
     ]
    }
   ],
   "source": [
    "# evaluate model\n",
    "results = evaluate_model(X, y)"
   ]
  },
  {
   "cell_type": "code",
   "execution_count": null,
   "id": "208e4cfe-78cb-451e-8fb4-93bfbb1664bd",
   "metadata": {},
   "outputs": [],
   "source": []
  },
  {
   "cell_type": "markdown",
   "id": "c89d5419-0cdb-472e-934b-6436ed33102c",
   "metadata": {},
   "source": [
    "### Model optimization"
   ]
  },
  {
   "cell_type": "code",
   "execution_count": 181,
   "id": "985fdb21-576a-458e-b6b2-b13e4897b069",
   "metadata": {},
   "outputs": [],
   "source": [
    "import numpy as np\n",
    "import pandas as pd\n",
    "import matplotlib.pyplot as plt \n",
    "import seaborn as sns\n",
    "import re\n",
    "\n",
    "import sklearn\n",
    "from sklearn.model_selection import train_test_split\n",
    "from sklearn.preprocessing import MinMaxScaler\n",
    "from sklearn.preprocessing import PolynomialFeatures\n",
    "from sklearn.preprocessing import scale\n",
    "from sklearn.feature_selection import RFE\n",
    "from sklearn.linear_model import LinearRegression\n",
    "from sklearn.model_selection import cross_val_score\n",
    "from sklearn.model_selection import KFold\n",
    "from sklearn.model_selection import GridSearchCV\n",
    "from sklearn.pipeline import make_pipeline"
   ]
  },
  {
   "cell_type": "code",
   "execution_count": 182,
   "id": "53e0767c-95ce-44d8-9ba2-060bdac719ac",
   "metadata": {},
   "outputs": [],
   "source": [
    "X_train, X_test, y_train, y_test = ms.train_test_split(X, y, test_size=0.2, random_state=42)"
   ]
  },
  {
   "cell_type": "code",
   "execution_count": 183,
   "id": "852d379f-bfc5-4a74-9635-054eede54372",
   "metadata": {},
   "outputs": [
    {
     "data": {
      "text/plain": [
       "<keras.callbacks.History at 0x1cce7e0b190>"
      ]
     },
     "execution_count": 183,
     "metadata": {},
     "output_type": "execute_result"
    }
   ],
   "source": [
    "n_inputs, n_outputs = X.shape[1], y.shape[1]\n",
    "# get model\n",
    "model = get_model(n_inputs, n_outputs)\n",
    "# fit the model on all data\n",
    "model.fit(X_train, y_train, verbose=0, epochs=100)"
   ]
  },
  {
   "cell_type": "code",
   "execution_count": 184,
   "id": "ab885b53-4059-44c9-b587-9576d08be9c5",
   "metadata": {},
   "outputs": [
    {
     "data": {
      "text/plain": [
       "(1841, 4)"
      ]
     },
     "execution_count": 184,
     "metadata": {},
     "output_type": "execute_result"
    }
   ],
   "source": [
    "X_test.shape"
   ]
  },
  {
   "cell_type": "code",
   "execution_count": 185,
   "id": "19b7717d-244a-4855-afad-5a85d5abf8e0",
   "metadata": {},
   "outputs": [],
   "source": [
    "y_pred_r=model.predict(X_test)"
   ]
  },
  {
   "cell_type": "code",
   "execution_count": 186,
   "id": "0c06bc91-3b49-44c4-9164-ec2816fe75e1",
   "metadata": {},
   "outputs": [
    {
     "data": {
      "text/plain": [
       "array([[ 0.03541607, -0.955929  ],\n",
       "       [ 0.23834822,  1.2163637 ],\n",
       "       [ 0.09819614, -0.87428   ],\n",
       "       ...,\n",
       "       [ 0.10783661, -0.9465235 ],\n",
       "       [ 0.19060516,  1.094973  ],\n",
       "       [ 0.17152151,  1.0239174 ]], dtype=float32)"
      ]
     },
     "execution_count": 186,
     "metadata": {},
     "output_type": "execute_result"
    }
   ],
   "source": [
    "y_pred_r"
   ]
  },
  {
   "cell_type": "code",
   "execution_count": 187,
   "id": "04d70167-a3ee-4319-b0d1-452fdaef4859",
   "metadata": {},
   "outputs": [
    {
     "name": "stdout",
     "output_type": "stream",
     "text": [
      "Mean Square Error      = 0.5778882564390799\n",
      "Root Mean Square Error = 0.7601896187393511\n",
      "Mean Absolute Error    = 0.16059986005578342\n",
      "Median Absolute Error  = 0.03700193932579926\n",
      "R^2                    = 0.4537427185764142\n",
      "Adjusted R^2           = 0.4528506272077311\n"
     ]
    }
   ],
   "source": [
    "def print_metrics(y_true, y_predicted, n_parameters):\n",
    "    ## First compute R^2 and the adjusted R^2\n",
    "    r2 = sklm.r2_score(y_true, y_predicted)\n",
    "    r2_adj = r2 - (n_parameters - 1)/(y_true.shape[0] - n_parameters) * (1 - r2)\n",
    "    \n",
    "    ## Print the usual metrics and the R^2 values\n",
    "    print('Mean Square Error      = ' + str(sklm.mean_squared_error(y_true, y_predicted)))\n",
    "    print('Root Mean Square Error = ' + str(math.sqrt(sklm.mean_squared_error(y_true, y_predicted))))\n",
    "    print('Mean Absolute Error    = ' + str(sklm.mean_absolute_error(y_true, y_predicted)))\n",
    "    print('Median Absolute Error  = ' + str(sklm.median_absolute_error(y_true, y_predicted)))\n",
    "    print('R^2                    = ' + str(r2))\n",
    "    print('Adjusted R^2           = ' + str(r2_adj))\n",
    "    \n",
    "   \n",
    "\n",
    "print_metrics(y_test, y_pred_r, 4)"
   ]
  },
  {
   "cell_type": "code",
   "execution_count": 188,
   "id": "4a26585d-a091-4897-8ed4-5a9ca0375111",
   "metadata": {},
   "outputs": [
    {
     "name": "stdout",
     "output_type": "stream",
     "text": [
      "MAE: 0.161 (0.011)\n"
     ]
    }
   ],
   "source": [
    "# summarize performance\n",
    "print('MAE: %.3f (%.3f)' % (mean(results), std(results)))"
   ]
  },
  {
   "cell_type": "code",
   "execution_count": 72,
   "id": "3341e00a-82e9-47fe-802f-f0e7562cfd66",
   "metadata": {},
   "outputs": [
    {
     "data": {
      "text/plain": [
       "<keras.callbacks.History at 0x1a6a74ffa30>"
      ]
     },
     "execution_count": 72,
     "metadata": {},
     "output_type": "execute_result"
    }
   ],
   "source": []
  },
  {
   "cell_type": "code",
   "execution_count": 42,
   "id": "4a148436-ce92-4943-817b-1c9fb41f0d29",
   "metadata": {},
   "outputs": [
    {
     "data": {
      "text/plain": [
       "(2736, 4)"
      ]
     },
     "execution_count": 42,
     "metadata": {},
     "output_type": "execute_result"
    }
   ],
   "source": [
    "X.shape"
   ]
  },
  {
   "cell_type": "code",
   "execution_count": 236,
   "id": "3d2dbe6f-9788-4e26-a570-f500e556f6c4",
   "metadata": {},
   "outputs": [
    {
     "data": {
      "text/plain": [
       "array([[4.44e+02, 2.00e-02],\n",
       "       [4.45e+02, 8.00e-02],\n",
       "       [4.36e+02, 1.30e-01],\n",
       "       ...,\n",
       "       [4.50e+02, 4.60e-01],\n",
       "       [4.50e+02, 2.90e-01],\n",
       "       [4.49e+02, 4.60e-01]])"
      ]
     },
     "execution_count": 236,
     "metadata": {},
     "output_type": "execute_result"
    }
   ],
   "source": [
    "y=data[['Tmax (°C)','PI']]\n",
    "y=np.array(y)\n",
    "y"
   ]
  },
  {
   "cell_type": "code",
   "execution_count": 18,
   "id": "c1e9e1c0-869f-4a3e-8f21-d28bcd3e4e43",
   "metadata": {},
   "outputs": [],
   "source": [
    "import matplotlib as mpl"
   ]
  },
  {
   "cell_type": "markdown",
   "id": "b50c2b04-af97-4ec4-8fec-ba074b269ead",
   "metadata": {},
   "source": [
    "## Radom Forest and Multioutput regression for Tmax and PI"
   ]
  },
  {
   "cell_type": "code",
   "execution_count": 21,
   "id": "b8ff66fa-a688-4057-8c9b-4d9b99f8d372",
   "metadata": {},
   "outputs": [
    {
     "name": "stderr",
     "output_type": "stream",
     "text": [
      "<ipython-input-21-78fc6835db5a>:70: MatplotlibDeprecationWarning: savefig() got unexpected keyword argument \"quality\" which is no longer supported as of 3.3 and will become an error in 3.6\n",
      "  plt.savefig('Tmax.png',bbox_inches='tight',dpi=300, quality=99)\n"
     ]
    },
    {
     "data": {
      "image/png": "[encoded data removed]",
      "text/plain": [
       "<Figure size 432x288 with 1 Axes>"
      ]
     },
     "metadata": {
      "needs_background": "light"
     },
     "output_type": "display_data"
    }
   ],
   "source": [
    "mpl.rcParams['font.family'] = 'Avenir'\n",
    "plt.rcParams['font.size'] = 12\n",
    "plt.rcParams['axes.linewidth'] = 1.5\n",
    "import numpy as np\n",
    "import matplotlib.pyplot as plt\n",
    "from sklearn.ensemble import RandomForestRegressor\n",
    "from sklearn.model_selection import train_test_split\n",
    "from sklearn.multioutput import MultiOutputRegressor\n",
    "\n",
    "\n",
    "# Create a random dataset\n",
    "rng = np.random.RandomState(1)\n",
    "# = np.sort(200 * rng.rand(600, 1) - 100, axis=0)\n",
    "# = np.array([np.pi * np.sin(X).ravel(), np.pi * np.cos(X).ravel()]).T\n",
    "# += 0.5 - rng.rand(*y.shape)\n",
    "\n",
    "X_train, X_test, y_train, y_test = ms.train_test_split(X, y, test_size=0.1, random_state=42)\n",
    "\n",
    "max_depth = 30\n",
    "regr_multirf = MultiOutputRegressor(\n",
    "    RandomForestRegressor(n_estimators=100, max_depth=max_depth, random_state=0)\n",
    ")\n",
    "regr_multirf.fit(X_train, y_train)\n",
    "\n",
    "regr_rf = RandomForestRegressor(n_estimators=100, max_depth=max_depth, random_state=2)\n",
    "regr_rf.fit(X_train, y_train)\n",
    "\n",
    "# Predict on new data\n",
    "y_multirf = regr_multirf.predict(X_test)\n",
    "y_rf = regr_rf.predict(X_test)\n",
    "\n",
    "# Plot the results\n",
    "plt.figure()\n",
    "s = 50\n",
    "a = 0.4\n",
    "plt.scatter(\n",
    "    y_test[:, 0],\n",
    "    y_test[:, 1],\n",
    "    edgecolor=\"k\",\n",
    "    c=\"navy\",\n",
    "    s=s,\n",
    "    marker=\"s\",\n",
    "    alpha=a,\n",
    "    label=\"Data\",\n",
    ")\n",
    "plt.scatter(\n",
    "    y_multirf[:, 0],\n",
    "    y_multirf[:, 1],\n",
    "    edgecolor=\"k\",\n",
    "    c=\"cornflowerblue\",\n",
    "    s=s,\n",
    "    alpha=a,\n",
    "    label=\"Multi RF score=%.2f\" % regr_multirf.score(X_test, y_test),\n",
    ")\n",
    "plt.scatter(\n",
    "    y_rf[:, 0],\n",
    "    y_rf[:, 1],\n",
    "    edgecolor=\"k\",\n",
    "    c=\"c\",\n",
    "    s=s,\n",
    "    marker=\"^\",\n",
    "    alpha=a,\n",
    "    label=\"RF score=%.2f\" % regr_rf.score(X_test, y_test),\n",
    ")\n",
    "\n",
    "plt.xlabel(\"target 1\")\n",
    "plt.ylabel(\"target 2\")\n",
    "#plt.title(\"Comparing random forests and the multi-output meta estimator\")\n",
    "plt.legend()\n",
    "plt.savefig('Tmax.png',bbox_inches='tight',dpi=300, quality=99)\n",
    "plt.show()\n"
   ]
  },
  {
   "cell_type": "code",
   "execution_count": 235,
   "id": "883d8ccd-ae73-4861-88d9-d3313d2d8a8c",
   "metadata": {},
   "outputs": [
    {
     "data": {
      "text/html": [
       "<div>\n",
       "<style scoped>\n",
       "    .dataframe tbody tr th:only-of-type {\n",
       "        vertical-align: middle;\n",
       "    }\n",
       "\n",
       "    .dataframe tbody tr th {\n",
       "        vertical-align: top;\n",
       "    }\n",
       "\n",
       "    .dataframe thead th {\n",
       "        text-align: right;\n",
       "    }\n",
       "</style>\n",
       "<table border=\"1\" class=\"dataframe\">\n",
       "  <thead>\n",
       "    <tr style=\"text-align: right;\">\n",
       "      <th></th>\n",
       "      <th>Tmax (°C)</th>\n",
       "      <th>PI</th>\n",
       "    </tr>\n",
       "  </thead>\n",
       "  <tbody>\n",
       "    <tr>\n",
       "      <th>76</th>\n",
       "      <td>447.0</td>\n",
       "      <td>0.03</td>\n",
       "    </tr>\n",
       "    <tr>\n",
       "      <th>5281</th>\n",
       "      <td>451.0</td>\n",
       "      <td>0.39</td>\n",
       "    </tr>\n",
       "    <tr>\n",
       "      <th>2087</th>\n",
       "      <td>445.0</td>\n",
       "      <td>0.04</td>\n",
       "    </tr>\n",
       "    <tr>\n",
       "      <th>582</th>\n",
       "      <td>450.0</td>\n",
       "      <td>0.42</td>\n",
       "    </tr>\n",
       "    <tr>\n",
       "      <th>93</th>\n",
       "      <td>441.0</td>\n",
       "      <td>0.02</td>\n",
       "    </tr>\n",
       "    <tr>\n",
       "      <th>...</th>\n",
       "      <td>...</td>\n",
       "      <td>...</td>\n",
       "    </tr>\n",
       "    <tr>\n",
       "      <th>3165</th>\n",
       "      <td>440.0</td>\n",
       "      <td>0.03</td>\n",
       "    </tr>\n",
       "    <tr>\n",
       "      <th>103</th>\n",
       "      <td>442.0</td>\n",
       "      <td>0.02</td>\n",
       "    </tr>\n",
       "    <tr>\n",
       "      <th>1175</th>\n",
       "      <td>450.0</td>\n",
       "      <td>0.12</td>\n",
       "    </tr>\n",
       "    <tr>\n",
       "      <th>2006</th>\n",
       "      <td>450.0</td>\n",
       "      <td>0.41</td>\n",
       "    </tr>\n",
       "    <tr>\n",
       "      <th>5070</th>\n",
       "      <td>443.0</td>\n",
       "      <td>0.05</td>\n",
       "    </tr>\n",
       "  </tbody>\n",
       "</table>\n",
       "<p>921 rows × 2 columns</p>\n",
       "</div>"
      ],
      "text/plain": [
       "      Tmax (°C)    PI\n",
       "76        447.0  0.03\n",
       "5281      451.0  0.39\n",
       "2087      445.0  0.04\n",
       "582       450.0  0.42\n",
       "93        441.0  0.02\n",
       "...         ...   ...\n",
       "3165      440.0  0.03\n",
       "103       442.0  0.02\n",
       "1175      450.0  0.12\n",
       "2006      450.0  0.41\n",
       "5070      443.0  0.05\n",
       "\n",
       "[921 rows x 2 columns]"
      ]
     },
     "execution_count": 235,
     "metadata": {},
     "output_type": "execute_result"
    }
   ],
   "source": [
    "y_test"
   ]
  },
  {
   "cell_type": "code",
   "execution_count": 191,
   "id": "3eb2265b-ddfc-4f4c-9be8-8c8639b3ec4c",
   "metadata": {},
   "outputs": [
    {
     "data": {
      "text/plain": [
       "(921, 2)"
      ]
     },
     "execution_count": 191,
     "metadata": {},
     "output_type": "execute_result"
    }
   ],
   "source": [
    "y_multirf.shape"
   ]
  },
  {
   "cell_type": "code",
   "execution_count": 192,
   "id": "7e1bd5a8-d92e-4028-bacd-6b41c6086392",
   "metadata": {},
   "outputs": [
    {
     "data": {
      "text/plain": [
       "1.7672648708517853"
      ]
     },
     "execution_count": 192,
     "metadata": {},
     "output_type": "execute_result"
    }
   ],
   "source": [
    "y_test[:,1].max()"
   ]
  },
  {
   "cell_type": "code",
   "execution_count": 193,
   "id": "52835a77-cb50-497e-b614-16f7085eed8c",
   "metadata": {},
   "outputs": [
    {
     "data": {
      "text/plain": [
       "-1.0552696068282728"
      ]
     },
     "execution_count": 193,
     "metadata": {},
     "output_type": "execute_result"
    }
   ],
   "source": [
    "y_test[:,1].min()"
   ]
  },
  {
   "cell_type": "markdown",
   "id": "3e0aa789-a31f-4329-a0d4-0a895f134d4e",
   "metadata": {},
   "source": [
    "### Model evaluation"
   ]
  },
  {
   "cell_type": "markdown",
   "id": "f14d04e4-0b8d-4594-ba54-9b8db9e00737",
   "metadata": {},
   "source": [
    "#### Multi output meta estimator"
   ]
  },
  {
   "cell_type": "code",
   "execution_count": 194,
   "id": "33e4b65b-af43-487e-b228-d11117c14fb8",
   "metadata": {},
   "outputs": [
    {
     "name": "stdout",
     "output_type": "stream",
     "text": [
      "Mean Square Error      = 0.22320810859043924\n",
      "Root Mean Square Error = 0.47244905396290005\n",
      "Mean Absolute Error    = 0.05084838667211716\n",
      "Median Absolute Error  = 8.465450562766819e-16\n",
      "R^2                    = 0.775775835792399\n",
      "Adjusted R^2           = 0.7750422780032792\n"
     ]
    }
   ],
   "source": [
    "def print_metrics(y_true, y_predicted, n_parameters):\n",
    "    ## First compute R^2 and the adjusted R^2\n",
    "    r2 = sklm.r2_score(y_true, y_predicted)\n",
    "    r2_adj = r2 - (n_parameters - 1)/(y_true.shape[0] - n_parameters) * (1 - r2)\n",
    "    \n",
    "    ## Print the usual metrics and the R^2 values\n",
    "    print('Mean Square Error      = ' + str(sklm.mean_squared_error(y_true, y_predicted)))\n",
    "    print('Root Mean Square Error = ' + str(math.sqrt(sklm.mean_squared_error(y_true, y_predicted))))\n",
    "    print('Mean Absolute Error    = ' + str(sklm.mean_absolute_error(y_true, y_predicted)))\n",
    "    print('Median Absolute Error  = ' + str(sklm.median_absolute_error(y_true, y_predicted)))\n",
    "    print('R^2                    = ' + str(r2))\n",
    "    print('Adjusted R^2           = ' + str(r2_adj))\n",
    "   \n",
    "\n",
    "print_metrics(y_test, y_multirf, 4)"
   ]
  },
  {
   "cell_type": "markdown",
   "id": "17c0f136-03ae-4e50-9810-465cd2223b39",
   "metadata": {},
   "source": [
    "### Random forest regression "
   ]
  },
  {
   "cell_type": "code",
   "execution_count": 195,
   "id": "d18556a7-c428-4dce-be2b-df573399e95b",
   "metadata": {},
   "outputs": [
    {
     "name": "stdout",
     "output_type": "stream",
     "text": [
      "Mean Square Error      = 0.18351856928215302\n",
      "Root Mean Square Error = 0.42839067366383343\n",
      "Mean Absolute Error    = 0.05575865770946762\n",
      "Median Absolute Error  = 9.298117831235686e-16\n",
      "R^2                    = 0.8157897153316505\n",
      "Adjusted R^2           = 0.8151870644548729\n"
     ]
    }
   ],
   "source": [
    "def print_metrics(y_true, y_predicted, n_parameters):\n",
    "    ## First compute R^2 and the adjusted R^2\n",
    "    r2 = sklm.r2_score(y_true, y_predicted)\n",
    "    r2_adj = r2 - (n_parameters - 1)/(y_true.shape[0] - n_parameters) * (1 - r2)\n",
    "    \n",
    "    ## Print the usual metrics and the R^2 values\n",
    "    print('Mean Square Error      = ' + str(sklm.mean_squared_error(y_true, y_predicted)))\n",
    "    print('Root Mean Square Error = ' + str(math.sqrt(sklm.mean_squared_error(y_true, y_predicted))))\n",
    "    print('Mean Absolute Error    = ' + str(sklm.mean_absolute_error(y_true, y_predicted)))\n",
    "    print('Median Absolute Error  = ' + str(sklm.median_absolute_error(y_true, y_predicted)))\n",
    "    print('R^2                    = ' + str(r2))\n",
    "    print('Adjusted R^2           = ' + str(r2_adj))\n",
    "   \n",
    "\n",
    "print_metrics(y_test, y_rf, 4)"
   ]
  },
  {
   "cell_type": "code",
   "execution_count": 196,
   "id": "4ced797b-0151-429b-8b9e-55382673fc60",
   "metadata": {},
   "outputs": [
    {
     "data": {
      "text/plain": [
       "0.8605595071568019"
      ]
     },
     "execution_count": 196,
     "metadata": {},
     "output_type": "execute_result"
    }
   ],
   "source": [
    "lm = regr_multirf\n",
    "scores = cross_val_score(lm, X_train, y_train, scoring='r2', cv=10)\n",
    "scores.mean()"
   ]
  },
  {
   "cell_type": "code",
   "execution_count": 197,
   "id": "0d7cb62c-5909-42a7-b33a-8083eee237a9",
   "metadata": {},
   "outputs": [
    {
     "data": {
      "text/plain": [
       "0.8523400834116674"
      ]
     },
     "execution_count": 197,
     "metadata": {},
     "output_type": "execute_result"
    }
   ],
   "source": [
    "lm = regr_rf\n",
    "scores = cross_val_score(lm, X_train, y_train, scoring='r2', cv=10)\n",
    "scores.mean()"
   ]
  },
  {
   "cell_type": "code",
   "execution_count": 229,
   "id": "e7f78c0d-faa4-4c22-9445-84253654ce20",
   "metadata": {},
   "outputs": [
    {
     "data": {
      "text/plain": [
       "array([0.90799403, 0.82254511, 0.71872241, 0.88585871, 0.95333927,\n",
       "       0.85376457, 0.81583523, 0.87976809, 0.7762023 , 0.90937113])"
      ]
     },
     "execution_count": 229,
     "metadata": {},
     "output_type": "execute_result"
    }
   ],
   "source": [
    "scores"
   ]
  },
  {
   "cell_type": "code",
   "execution_count": 198,
   "id": "75c61435-75fb-448e-b7e6-bdf45ea29193",
   "metadata": {},
   "outputs": [
    {
     "name": "stdout",
     "output_type": "stream",
     "text": [
      "Fitting 10 folds for each of 4 candidates, totalling 40 fits\n"
     ]
    },
    {
     "data": {
      "text/plain": [
       "GridSearchCV(cv=KFold(n_splits=10, random_state=100, shuffle=True),\n",
       "             estimator=RFE(estimator=RandomForestRegressor(max_depth=30,\n",
       "                                                           random_state=2)),\n",
       "             param_grid=[{'n_features_to_select': [1, 2, 3, 4]}],\n",
       "             return_train_score=True, scoring='r2', verbose=1)"
      ]
     },
     "execution_count": 198,
     "metadata": {},
     "output_type": "execute_result"
    }
   ],
   "source": [
    "# step-1: create a cross-validation scheme\n",
    "folds = KFold(n_splits = 10, shuffle = True, random_state = 100)\n",
    "\n",
    "# step-2: specify range of hyperparameters to tune\n",
    "hyper_params = [{'n_features_to_select': list(range(1, 5))}]\n",
    "\n",
    "\n",
    "# step-3: perform grid search\n",
    "# 3.1 specify model\n",
    "lm = regr_rf\n",
    "lm.fit(X_train, y_train)\n",
    "rfe = RFE(lm)             \n",
    "\n",
    "# 3.2 call GridSearchCV()\n",
    "model_cv = GridSearchCV(estimator = rfe, \n",
    "                        param_grid = hyper_params, \n",
    "                        scoring= 'r2', \n",
    "                        cv = folds, \n",
    "                        verbose = 1,\n",
    "                        return_train_score=True)      \n",
    "\n",
    "# fit the model\n",
    "model_cv.fit(X_train, y_train) "
   ]
  },
  {
   "cell_type": "code",
   "execution_count": 199,
   "id": "b3f3bdc2-163b-4738-886d-50bee8f6f814",
   "metadata": {},
   "outputs": [
    {
     "data": {
      "text/html": [
       "<div>\n",
       "<style scoped>\n",
       "    .dataframe tbody tr th:only-of-type {\n",
       "        vertical-align: middle;\n",
       "    }\n",
       "\n",
       "    .dataframe tbody tr th {\n",
       "        vertical-align: top;\n",
       "    }\n",
       "\n",
       "    .dataframe thead th {\n",
       "        text-align: right;\n",
       "    }\n",
       "</style>\n",
       "<table border=\"1\" class=\"dataframe\">\n",
       "  <thead>\n",
       "    <tr style=\"text-align: right;\">\n",
       "      <th></th>\n",
       "      <th>mean_fit_time</th>\n",
       "      <th>std_fit_time</th>\n",
       "      <th>mean_score_time</th>\n",
       "      <th>std_score_time</th>\n",
       "      <th>param_n_features_to_select</th>\n",
       "      <th>params</th>\n",
       "      <th>split0_test_score</th>\n",
       "      <th>split1_test_score</th>\n",
       "      <th>split2_test_score</th>\n",
       "      <th>split3_test_score</th>\n",
       "      <th>...</th>\n",
       "      <th>split2_train_score</th>\n",
       "      <th>split3_train_score</th>\n",
       "      <th>split4_train_score</th>\n",
       "      <th>split5_train_score</th>\n",
       "      <th>split6_train_score</th>\n",
       "      <th>split7_train_score</th>\n",
       "      <th>split8_train_score</th>\n",
       "      <th>split9_train_score</th>\n",
       "      <th>mean_train_score</th>\n",
       "      <th>std_train_score</th>\n",
       "    </tr>\n",
       "  </thead>\n",
       "  <tbody>\n",
       "    <tr>\n",
       "      <th>0</th>\n",
       "      <td>2.317107</td>\n",
       "      <td>0.051696</td>\n",
       "      <td>0.015960</td>\n",
       "      <td>0.002186</td>\n",
       "      <td>1</td>\n",
       "      <td>{'n_features_to_select': 1}</td>\n",
       "      <td>0.790121</td>\n",
       "      <td>0.903349</td>\n",
       "      <td>0.839680</td>\n",
       "      <td>0.870564</td>\n",
       "      <td>...</td>\n",
       "      <td>0.872356</td>\n",
       "      <td>0.868272</td>\n",
       "      <td>0.867121</td>\n",
       "      <td>0.895495</td>\n",
       "      <td>0.870188</td>\n",
       "      <td>0.869848</td>\n",
       "      <td>0.864077</td>\n",
       "      <td>0.865950</td>\n",
       "      <td>0.872098</td>\n",
       "      <td>0.009186</td>\n",
       "    </tr>\n",
       "    <tr>\n",
       "      <th>1</th>\n",
       "      <td>1.953305</td>\n",
       "      <td>0.098888</td>\n",
       "      <td>0.019157</td>\n",
       "      <td>0.002265</td>\n",
       "      <td>2</td>\n",
       "      <td>{'n_features_to_select': 2}</td>\n",
       "      <td>0.821950</td>\n",
       "      <td>0.882741</td>\n",
       "      <td>0.895070</td>\n",
       "      <td>0.889785</td>\n",
       "      <td>...</td>\n",
       "      <td>0.929059</td>\n",
       "      <td>0.933663</td>\n",
       "      <td>0.932735</td>\n",
       "      <td>0.935832</td>\n",
       "      <td>0.932212</td>\n",
       "      <td>0.934218</td>\n",
       "      <td>0.929981</td>\n",
       "      <td>0.931617</td>\n",
       "      <td>0.933336</td>\n",
       "      <td>0.002831</td>\n",
       "    </tr>\n",
       "    <tr>\n",
       "      <th>2</th>\n",
       "      <td>1.478011</td>\n",
       "      <td>0.071754</td>\n",
       "      <td>0.020350</td>\n",
       "      <td>0.002930</td>\n",
       "      <td>3</td>\n",
       "      <td>{'n_features_to_select': 3}</td>\n",
       "      <td>0.823229</td>\n",
       "      <td>0.872887</td>\n",
       "      <td>0.910538</td>\n",
       "      <td>0.866884</td>\n",
       "      <td>...</td>\n",
       "      <td>0.937554</td>\n",
       "      <td>0.943341</td>\n",
       "      <td>0.941134</td>\n",
       "      <td>0.944247</td>\n",
       "      <td>0.941867</td>\n",
       "      <td>0.942433</td>\n",
       "      <td>0.937684</td>\n",
       "      <td>0.940765</td>\n",
       "      <td>0.942155</td>\n",
       "      <td>0.003048</td>\n",
       "    </tr>\n",
       "    <tr>\n",
       "      <th>3</th>\n",
       "      <td>0.847775</td>\n",
       "      <td>0.053566</td>\n",
       "      <td>0.022240</td>\n",
       "      <td>0.002531</td>\n",
       "      <td>4</td>\n",
       "      <td>{'n_features_to_select': 4}</td>\n",
       "      <td>0.824302</td>\n",
       "      <td>0.883005</td>\n",
       "      <td>0.885500</td>\n",
       "      <td>0.876401</td>\n",
       "      <td>...</td>\n",
       "      <td>0.955497</td>\n",
       "      <td>0.956173</td>\n",
       "      <td>0.957404</td>\n",
       "      <td>0.957885</td>\n",
       "      <td>0.956936</td>\n",
       "      <td>0.958648</td>\n",
       "      <td>0.952739</td>\n",
       "      <td>0.954513</td>\n",
       "      <td>0.957191</td>\n",
       "      <td>0.002699</td>\n",
       "    </tr>\n",
       "  </tbody>\n",
       "</table>\n",
       "<p>4 rows × 31 columns</p>\n",
       "</div>"
      ],
      "text/plain": [
       "   mean_fit_time  std_fit_time  mean_score_time  std_score_time  \\\n",
       "0       2.317107      0.051696         0.015960        0.002186   \n",
       "1       1.953305      0.098888         0.019157        0.002265   \n",
       "2       1.478011      0.071754         0.020350        0.002930   \n",
       "3       0.847775      0.053566         0.022240        0.002531   \n",
       "\n",
       "  param_n_features_to_select                       params  split0_test_score  \\\n",
       "0                          1  {'n_features_to_select': 1}           0.790121   \n",
       "1                          2  {'n_features_to_select': 2}           0.821950   \n",
       "2                          3  {'n_features_to_select': 3}           0.823229   \n",
       "3                          4  {'n_features_to_select': 4}           0.824302   \n",
       "\n",
       "   split1_test_score  split2_test_score  split3_test_score  ...  \\\n",
       "0           0.903349           0.839680           0.870564  ...   \n",
       "1           0.882741           0.895070           0.889785  ...   \n",
       "2           0.872887           0.910538           0.866884  ...   \n",
       "3           0.883005           0.885500           0.876401  ...   \n",
       "\n",
       "   split2_train_score  split3_train_score  split4_train_score  \\\n",
       "0            0.872356            0.868272            0.867121   \n",
       "1            0.929059            0.933663            0.932735   \n",
       "2            0.937554            0.943341            0.941134   \n",
       "3            0.955497            0.956173            0.957404   \n",
       "\n",
       "   split5_train_score  split6_train_score  split7_train_score  \\\n",
       "0            0.895495            0.870188            0.869848   \n",
       "1            0.935832            0.932212            0.934218   \n",
       "2            0.944247            0.941867            0.942433   \n",
       "3            0.957885            0.956936            0.958648   \n",
       "\n",
       "   split8_train_score  split9_train_score  mean_train_score  std_train_score  \n",
       "0            0.864077            0.865950          0.872098         0.009186  \n",
       "1            0.929981            0.931617          0.933336         0.002831  \n",
       "2            0.937684            0.940765          0.942155         0.003048  \n",
       "3            0.952739            0.954513          0.957191         0.002699  \n",
       "\n",
       "[4 rows x 31 columns]"
      ]
     },
     "execution_count": 199,
     "metadata": {},
     "output_type": "execute_result"
    }
   ],
   "source": [
    "# cv results\n",
    "cv_results = pd.DataFrame(model_cv.cv_results_)\n",
    "cv_results"
   ]
  },
  {
   "cell_type": "code",
   "execution_count": 200,
   "id": "030c0494-e110-427b-a0b1-c1df0ab849f4",
   "metadata": {},
   "outputs": [
    {
     "data": {
      "text/plain": [
       "<matplotlib.legend.Legend at 0x1ccea3e4ca0>"
      ]
     },
     "execution_count": 200,
     "metadata": {},
     "output_type": "execute_result"
    },
    {
     "data": {
      "image/png": "[encoded data removed]",
      "text/plain": [
       "<Figure size 1152x432 with 1 Axes>"
      ]
     },
     "metadata": {
      "needs_background": "light"
     },
     "output_type": "display_data"
    }
   ],
   "source": [
    "# plotting cv results\n",
    "plt.figure(figsize=(16,6))\n",
    "\n",
    "plt.plot(cv_results[\"param_n_features_to_select\"], cv_results[\"mean_test_score\"])\n",
    "plt.plot(cv_results[\"param_n_features_to_select\"], cv_results[\"mean_train_score\"])\n",
    "plt.xlabel('number of features')\n",
    "plt.ylabel('r-squared')\n",
    "plt.title(\"Optimal Number of Features\")\n",
    "plt.legend(['test score', 'train score'], loc='upper left')"
   ]
  },
  {
   "cell_type": "code",
   "execution_count": 202,
   "id": "64981190-2604-48fb-85bb-1f31fb576f72",
   "metadata": {},
   "outputs": [
    {
     "name": "stdout",
     "output_type": "stream",
     "text": [
      "0.8157897153316505\n"
     ]
    }
   ],
   "source": [
    "# final model\n",
    "n_features_optimal = 4\n",
    "\n",
    "lm1 = regr_rf\n",
    "lm1.fit(X_train, y_train)\n",
    "\n",
    "rfe1 = RFE(lm1, n_features_to_select=n_features_optimal)             \n",
    "rfe1 = rfe1.fit(X_train, y_train)\n",
    "\n",
    "\n",
    "y_pred1 = lm.predict(X_test)\n",
    "r21 = sklearn.metrics.r2_score(y_test, y_pred1)\n",
    "print(r21)"
   ]
  },
  {
   "cell_type": "markdown",
   "id": "06bd1abf-5d4b-47dc-91a9-f248edc5c7c4",
   "metadata": {},
   "source": [
    "### Grid Search with Cross Validation"
   ]
  },
  {
   "cell_type": "code",
   "execution_count": 203,
   "id": "3c9363a9-a777-4ea3-ad2f-165e324f52ff",
   "metadata": {},
   "outputs": [],
   "source": [
    "from sklearn.model_selection import GridSearchCV\n",
    "# Create the parameter grid based on the results of random search \n",
    "param_grid = {\n",
    "    'bootstrap': [True],\n",
    "    'max_depth': [10, 30, 40, 50],\n",
    "    'max_features': [2, 3],\n",
    "    'min_samples_leaf': [1, 2, 3],\n",
    "    'min_samples_split': [0, 2, 4],\n",
    "    'n_estimators': [600, 800, 1500, 2000]\n",
    "}\n",
    "# Create a based model\n",
    "rf = RandomForestRegressor()\n",
    "# Instantiate the grid search model\n",
    "grid_search = GridSearchCV(estimator = rf, param_grid = param_grid, \n",
    "                          cv = 3, n_jobs = -1, verbose = 2)"
   ]
  },
  {
   "cell_type": "code",
   "execution_count": 204,
   "id": "15d516fe-0b46-4942-b1f1-66397865bc74",
   "metadata": {},
   "outputs": [
    {
     "name": "stdout",
     "output_type": "stream",
     "text": [
      "Fitting 3 folds for each of 288 candidates, totalling 864 fits\n"
     ]
    },
    {
     "name": "stderr",
     "output_type": "stream",
     "text": [
      "C:\\Users\\eobasi\\Anaconda3\\lib\\site-packages\\sklearn\\model_selection\\_validation.py:372: FitFailedWarning: \n",
      "288 fits failed out of a total of 864.\n",
      "The score on these train-test partitions for these parameters will be set to nan.\n",
      "If these failures are not expected, you can try to debug them by setting error_score='raise'.\n",
      "\n",
      "Below are more details about the failures:\n",
      "--------------------------------------------------------------------------------\n",
      "288 fits failed with the following error:\n",
      "Traceback (most recent call last):\n",
      "  File \"C:\\Users\\eobasi\\Anaconda3\\lib\\site-packages\\sklearn\\model_selection\\_validation.py\", line 680, in _fit_and_score\n",
      "    estimator.fit(X_train, y_train, **fit_params)\n",
      "  File \"C:\\Users\\eobasi\\Anaconda3\\lib\\site-packages\\sklearn\\ensemble\\_forest.py\", line 450, in fit\n",
      "    trees = Parallel(\n",
      "  File \"C:\\Users\\eobasi\\Anaconda3\\lib\\site-packages\\joblib\\parallel.py\", line 1041, in __call__\n",
      "    if self.dispatch_one_batch(iterator):\n",
      "  File \"C:\\Users\\eobasi\\Anaconda3\\lib\\site-packages\\joblib\\parallel.py\", line 859, in dispatch_one_batch\n",
      "    self._dispatch(tasks)\n",
      "  File \"C:\\Users\\eobasi\\Anaconda3\\lib\\site-packages\\joblib\\parallel.py\", line 777, in _dispatch\n",
      "    job = self._backend.apply_async(batch, callback=cb)\n",
      "  File \"C:\\Users\\eobasi\\Anaconda3\\lib\\site-packages\\joblib\\_parallel_backends.py\", line 208, in apply_async\n",
      "    result = ImmediateResult(func)\n",
      "  File \"C:\\Users\\eobasi\\Anaconda3\\lib\\site-packages\\joblib\\_parallel_backends.py\", line 572, in __init__\n",
      "    self.results = batch()\n",
      "  File \"C:\\Users\\eobasi\\Anaconda3\\lib\\site-packages\\joblib\\parallel.py\", line 262, in __call__\n",
      "    return [func(*args, **kwargs)\n",
      "  File \"C:\\Users\\eobasi\\Anaconda3\\lib\\site-packages\\joblib\\parallel.py\", line 262, in <listcomp>\n",
      "    return [func(*args, **kwargs)\n",
      "  File \"C:\\Users\\eobasi\\Anaconda3\\lib\\site-packages\\sklearn\\utils\\fixes.py\", line 216, in __call__\n",
      "    return self.function(*args, **kwargs)\n",
      "  File \"C:\\Users\\eobasi\\Anaconda3\\lib\\site-packages\\sklearn\\ensemble\\_forest.py\", line 185, in _parallel_build_trees\n",
      "    tree.fit(X, y, sample_weight=curr_sample_weight, check_input=False)\n",
      "  File \"C:\\Users\\eobasi\\Anaconda3\\lib\\site-packages\\sklearn\\tree\\_classes.py\", line 1315, in fit\n",
      "    super().fit(\n",
      "  File \"C:\\Users\\eobasi\\Anaconda3\\lib\\site-packages\\sklearn\\tree\\_classes.py\", line 250, in fit\n",
      "    raise ValueError(\n",
      "ValueError: min_samples_split must be an integer greater than 1 or a float in (0.0, 1.0]; got the integer 0\n",
      "\n",
      "  warnings.warn(some_fits_failed_message, FitFailedWarning)\n",
      "C:\\Users\\eobasi\\Anaconda3\\lib\\site-packages\\sklearn\\model_selection\\_search.py:969: UserWarning: One or more of the test scores are non-finite: [       nan        nan        nan        nan 0.85002353 0.85031013\n",
      " 0.85013412 0.85009414 0.84748271 0.84775422 0.84783323 0.84802884\n",
      "        nan        nan        nan        nan 0.83755614 0.8367092\n",
      " 0.83802571 0.83684729 0.83691882 0.83823586 0.83773189 0.83792681\n",
      "        nan        nan        nan        nan 0.82772842 0.82746205\n",
      " 0.82777211 0.82759559 0.82669963 0.82685089 0.82833303 0.82830565\n",
      "        nan        nan        nan        nan 0.8506323  0.85095786\n",
      " 0.85012332 0.85025417 0.84790354 0.84841332 0.84807846 0.84896893\n",
      "        nan        nan        nan        nan 0.84340978 0.84197648\n",
      " 0.84276733 0.84249248 0.84263726 0.84264634 0.84150939 0.84295231\n",
      "        nan        nan        nan        nan 0.83325459 0.83452723\n",
      " 0.83428567 0.83371467 0.83436076 0.83394867 0.83371405 0.833369\n",
      "        nan        nan        nan        nan 0.85082987 0.85265315\n",
      " 0.85248062 0.8529686  0.84928045 0.85017405 0.85039474 0.84971331\n",
      "        nan        nan        nan        nan 0.83838008 0.83844116\n",
      " 0.83932134 0.83850198 0.8395368  0.83930766 0.83857253 0.83852389\n",
      "        nan        nan        nan        nan 0.82792208 0.82786658\n",
      " 0.82766633 0.82810723 0.82773893 0.82779371 0.82842789 0.8278808\n",
      "        nan        nan        nan        nan 0.85400116 0.85246246\n",
      " 0.85247925 0.85273343 0.85126916 0.85115249 0.8504613  0.85036723\n",
      "        nan        nan        nan        nan 0.84217196 0.84310949\n",
      " 0.84327135 0.84330371 0.84341865 0.84285682 0.84306641 0.84339312\n",
      "        nan        nan        nan        nan 0.8337123  0.83480108\n",
      " 0.8341887  0.83448729 0.83522013 0.83502599 0.83440963 0.83422944\n",
      "        nan        nan        nan        nan 0.85178163 0.85254902\n",
      " 0.85214134 0.85218861 0.84984965 0.84895698 0.8500401  0.85028185\n",
      "        nan        nan        nan        nan 0.83830569 0.83927294\n",
      " 0.83917185 0.83903363 0.83917442 0.83947964 0.83920107 0.83958961\n",
      "        nan        nan        nan        nan 0.82827143 0.82891138\n",
      " 0.82892918 0.82886492 0.82734068 0.82884773 0.82773584 0.82891963\n",
      "        nan        nan        nan        nan 0.85290382 0.85298143\n",
      " 0.85313948 0.85348942 0.85097    0.8510527  0.85075414 0.85078032\n",
      "        nan        nan        nan        nan 0.84224124 0.8431057\n",
      " 0.84393461 0.84310924 0.84386488 0.84334136 0.84442535 0.84324679\n",
      "        nan        nan        nan        nan 0.8343922  0.83431735\n",
      " 0.8345968  0.83391576 0.83356444 0.83433156 0.8344539  0.83494051\n",
      "        nan        nan        nan        nan 0.85154764 0.85288157\n",
      " 0.85266851 0.85282991 0.85090475 0.85049251 0.84918498 0.85001593\n",
      "        nan        nan        nan        nan 0.8385746  0.83859398\n",
      " 0.838856   0.83823195 0.8383649  0.83851807 0.83902978 0.83904738\n",
      "        nan        nan        nan        nan 0.82792833 0.82829988\n",
      " 0.82869432 0.82818347 0.82800129 0.82952252 0.82820857 0.82802862\n",
      "        nan        nan        nan        nan 0.85312404 0.85287915\n",
      " 0.85333712 0.85298443 0.85101144 0.85095757 0.85010369 0.85137957\n",
      "        nan        nan        nan        nan 0.84247099 0.84465453\n",
      " 0.843812   0.84418708 0.8436468  0.84279903 0.84305243 0.84427262\n",
      "        nan        nan        nan        nan 0.83445041 0.83411036\n",
      " 0.83464449 0.83410002 0.83473813 0.834332   0.83383705 0.83473936]\n",
      "  warnings.warn(\n"
     ]
    },
    {
     "data": {
      "text/plain": [
       "{'bootstrap': True,\n",
       " 'max_depth': 30,\n",
       " 'max_features': 3,\n",
       " 'min_samples_leaf': 1,\n",
       " 'min_samples_split': 2,\n",
       " 'n_estimators': 600}"
      ]
     },
     "execution_count": 204,
     "metadata": {},
     "output_type": "execute_result"
    }
   ],
   "source": [
    "# Fit the grid search to the data\n",
    "grid_search.fit(X_train, y_train)\n",
    "grid_search.best_params_"
   ]
  },
  {
   "cell_type": "code",
   "execution_count": 205,
   "id": "d2fdc015-2d81-4ea3-af93-5d427f091a04",
   "metadata": {},
   "outputs": [],
   "source": [
    "best_grid = grid_search.best_estimator_\n"
   ]
  },
  {
   "cell_type": "code",
   "execution_count": 206,
   "id": "8f53621f-48a0-4ab8-8421-2bde60e1947e",
   "metadata": {},
   "outputs": [
    {
     "data": {
      "text/plain": [
       "RandomForestRegressor(max_depth=30, max_features=3, n_estimators=600)"
      ]
     },
     "execution_count": 206,
     "metadata": {},
     "output_type": "execute_result"
    }
   ],
   "source": [
    "best_grid "
   ]
  },
  {
   "cell_type": "code",
   "execution_count": 207,
   "id": "71f0a5c8-1813-4f1c-8208-96f71308d083",
   "metadata": {},
   "outputs": [],
   "source": [
    "def evaluate(model, test_features, test_labels):\n",
    "    predictions = model.predict(test_features)\n",
    "    errors = abs(predictions - test_labels)\n",
    "    mape = 100 * np.mean(errors / test_labels)\n",
    "    accuracy = 100 - mape\n",
    "    print('Model Performance')\n",
    "    print('Average Error: {:0.4f} %.'.format(np.mean(errors)))\n",
    "    print('Accuracy = {:0.2f}%.'.format(accuracy))\n",
    "    \n",
    "    return accuracy"
   ]
  },
  {
   "cell_type": "code",
   "execution_count": 208,
   "id": "23eae736-f1c3-4e0c-960f-f2c873d09a1c",
   "metadata": {},
   "outputs": [
    {
     "name": "stdout",
     "output_type": "stream",
     "text": [
      "Model Performance\n",
      "Average Error: 0.0557 %.\n",
      "Accuracy = 110.13%.\n"
     ]
    }
   ],
   "source": [
    "grid_accuracy = evaluate(best_grid,X_test, y_test)"
   ]
  },
  {
   "cell_type": "code",
   "execution_count": 209,
   "id": "21d0ec29-f339-4390-b501-f06d6dbdf9eb",
   "metadata": {},
   "outputs": [],
   "source": [
    "y_pred_r=best_grid.predict(X_test)"
   ]
  },
  {
   "cell_type": "code",
   "execution_count": 210,
   "id": "5a70eb5f-f8f7-42bb-a1b0-0207008b76e9",
   "metadata": {},
   "outputs": [
    {
     "name": "stdout",
     "output_type": "stream",
     "text": [
      "Mean Square Error      = 0.1864651341425772\n",
      "Root Mean Square Error = 0.43181608833226354\n",
      "Mean Absolute Error    = 0.05573386314948158\n",
      "Median Absolute Error  = 4.010680676458378e-15\n",
      "R^2                    = 0.812816170078472\n",
      "Adjusted R^2           = 0.8122037911365259\n"
     ]
    }
   ],
   "source": [
    "def print_metrics(y_true, y_predicted, n_parameters):\n",
    "    ## First compute R^2 and the adjusted R^2\n",
    "    r2 = sklm.r2_score(y_true, y_predicted)\n",
    "    r2_adj = r2 - (n_parameters - 1)/(y_true.shape[0] - n_parameters) * (1 - r2)\n",
    "    \n",
    "    ## Print the usual metrics and the R^2 values\n",
    "    print('Mean Square Error      = ' + str(sklm.mean_squared_error(y_true, y_predicted)))\n",
    "    print('Root Mean Square Error = ' + str(math.sqrt(sklm.mean_squared_error(y_true, y_predicted))))\n",
    "    print('Mean Absolute Error    = ' + str(sklm.mean_absolute_error(y_true, y_predicted)))\n",
    "    print('Median Absolute Error  = ' + str(sklm.median_absolute_error(y_true, y_predicted)))\n",
    "    print('R^2                    = ' + str(r2))\n",
    "    print('Adjusted R^2           = ' + str(r2_adj))\n",
    "\n",
    "print_metrics(y_test, y_pred_r, 4)"
   ]
  },
  {
   "cell_type": "code",
   "execution_count": null,
   "id": "60c02aad-f76e-4744-bd0f-6921d054f0c0",
   "metadata": {},
   "outputs": [],
   "source": []
  },
  {
   "cell_type": "markdown",
   "id": "81ad14d4-9171-421e-aeea-79c2720c724e",
   "metadata": {},
   "source": [
    "# Multi-Output Model with Tensorflow keras Functional API"
   ]
  },
  {
   "cell_type": "code",
   "execution_count": 174,
   "id": "96af34e3-e2cb-46a4-92b4-baecb5f7be1e",
   "metadata": {},
   "outputs": [
    {
     "name": "stdout",
     "output_type": "stream",
     "text": [
      "Requirement already satisfied: tensorflow in c:\\users\\eobasi\\anaconda3\\lib\\site-packages (2.8.0)\n",
      "Requirement already satisfied: opt-einsum>=2.3.2 in c:\\users\\eobasi\\anaconda3\\lib\\site-packages (from tensorflow) (3.3.0)\n",
      "Requirement already satisfied: termcolor>=1.1.0 in c:\\users\\eobasi\\anaconda3\\lib\\site-packages (from tensorflow) (1.1.0)\n",
      "Requirement already satisfied: grpcio<2.0,>=1.24.3 in c:\\users\\eobasi\\anaconda3\\lib\\site-packages (from tensorflow) (1.44.0)\n",
      "Requirement already satisfied: flatbuffers>=1.12 in c:\\users\\eobasi\\anaconda3\\lib\\site-packages (from tensorflow) (2.0)\n",
      "Requirement already satisfied: wrapt>=1.11.0 in c:\\users\\eobasi\\anaconda3\\lib\\site-packages (from tensorflow) (1.12.1)\n",
      "Requirement already satisfied: keras-preprocessing>=1.1.1 in c:\\users\\eobasi\\anaconda3\\lib\\site-packages (from tensorflow) (1.1.2)\n",
      "Requirement already satisfied: libclang>=9.0.1 in c:\\users\\eobasi\\anaconda3\\lib\\site-packages (from tensorflow) (13.0.0)\n",
      "Requirement already satisfied: protobuf>=3.9.2 in c:\\users\\eobasi\\anaconda3\\lib\\site-packages (from tensorflow) (3.19.4)\n",
      "Requirement already satisfied: tensorflow-io-gcs-filesystem>=0.23.1 in c:\\users\\eobasi\\anaconda3\\lib\\site-packages (from tensorflow) (0.24.0)\n",
      "Requirement already satisfied: keras<2.9,>=2.8.0rc0 in c:\\users\\eobasi\\anaconda3\\lib\\site-packages (from tensorflow) (2.8.0)\n",
      "Requirement already satisfied: h5py>=2.9.0 in c:\\users\\eobasi\\anaconda3\\lib\\site-packages (from tensorflow) (2.10.0)\n",
      "Requirement already satisfied: tf-estimator-nightly==2.8.0.dev2021122109 in c:\\users\\eobasi\\anaconda3\\lib\\site-packages (from tensorflow) (2.8.0.dev2021122109)\n",
      "Requirement already satisfied: numpy>=1.20 in c:\\users\\eobasi\\anaconda3\\lib\\site-packages (from tensorflow) (1.20.1)\n",
      "Requirement already satisfied: six>=1.12.0 in c:\\users\\eobasi\\anaconda3\\lib\\site-packages (from tensorflow) (1.15.0)\n",
      "Requirement already satisfied: google-pasta>=0.1.1 in c:\\users\\eobasi\\anaconda3\\lib\\site-packages (from tensorflow) (0.2.0)\n",
      "Requirement already satisfied: typing-extensions>=3.6.6 in c:\\users\\eobasi\\anaconda3\\lib\\site-packages (from tensorflow) (3.7.4.3)\n",
      "Requirement already satisfied: setuptools in c:\\users\\eobasi\\anaconda3\\lib\\site-packages (from tensorflow) (52.0.0.post20210125)\n",
      "Requirement already satisfied: gast>=0.2.1 in c:\\users\\eobasi\\anaconda3\\lib\\site-packages (from tensorflow) (0.5.3)\n",
      "Requirement already satisfied: astunparse>=1.6.0 in c:\\users\\eobasi\\anaconda3\\lib\\site-packages (from tensorflow) (1.6.3)\n",
      "Requirement already satisfied: tensorboard<2.9,>=2.8 in c:\\users\\eobasi\\anaconda3\\lib\\site-packages (from tensorflow) (2.8.0)\n",
      "Requirement already satisfied: absl-py>=0.4.0 in c:\\users\\eobasi\\anaconda3\\lib\\site-packages (from tensorflow) (1.0.0)\n",
      "Requirement already satisfied: wheel<1.0,>=0.23.0 in c:\\users\\eobasi\\anaconda3\\lib\\site-packages (from astunparse>=1.6.0->tensorflow) (0.36.2)\n",
      "Requirement already satisfied: werkzeug>=0.11.15 in c:\\users\\eobasi\\anaconda3\\lib\\site-packages (from tensorboard<2.9,>=2.8->tensorflow) (1.0.1)\n",
      "Requirement already satisfied: requests<3,>=2.21.0 in c:\\users\\eobasi\\anaconda3\\lib\\site-packages (from tensorboard<2.9,>=2.8->tensorflow) (2.25.1)\n",
      "Requirement already satisfied: tensorboard-data-server<0.7.0,>=0.6.0 in c:\\users\\eobasi\\anaconda3\\lib\\site-packages (from tensorboard<2.9,>=2.8->tensorflow) (0.6.1)\n",
      "Requirement already satisfied: markdown>=2.6.8 in c:\\users\\eobasi\\anaconda3\\lib\\site-packages (from tensorboard<2.9,>=2.8->tensorflow) (3.3.6)\n",
      "Requirement already satisfied: tensorboard-plugin-wit>=1.6.0 in c:\\users\\eobasi\\anaconda3\\lib\\site-packages (from tensorboard<2.9,>=2.8->tensorflow) (1.8.1)\n",
      "Requirement already satisfied: google-auth<3,>=1.6.3 in c:\\users\\eobasi\\anaconda3\\lib\\site-packages (from tensorboard<2.9,>=2.8->tensorflow) (2.6.2)\n",
      "Requirement already satisfied: google-auth-oauthlib<0.5,>=0.4.1 in c:\\users\\eobasi\\anaconda3\\lib\\site-packages (from tensorboard<2.9,>=2.8->tensorflow) (0.4.6)\n",
      "Requirement already satisfied: cachetools<6.0,>=2.0.0 in c:\\users\\eobasi\\anaconda3\\lib\\site-packages (from google-auth<3,>=1.6.3->tensorboard<2.9,>=2.8->tensorflow) (5.0.0)\n",
      "Requirement already satisfied: pyasn1-modules>=0.2.1 in c:\\users\\eobasi\\anaconda3\\lib\\site-packages (from google-auth<3,>=1.6.3->tensorboard<2.9,>=2.8->tensorflow) (0.2.8)\n",
      "Requirement already satisfied: rsa<5,>=3.1.4 in c:\\users\\eobasi\\anaconda3\\lib\\site-packages (from google-auth<3,>=1.6.3->tensorboard<2.9,>=2.8->tensorflow) (4.8)\n",
      "Requirement already satisfied: requests-oauthlib>=0.7.0 in c:\\users\\eobasi\\anaconda3\\lib\\site-packages (from google-auth-oauthlib<0.5,>=0.4.1->tensorboard<2.9,>=2.8->tensorflow) (1.3.1)\n",
      "Requirement already satisfied: importlib-metadata>=4.4 in c:\\users\\eobasi\\anaconda3\\lib\\site-packages (from markdown>=2.6.8->tensorboard<2.9,>=2.8->tensorflow) (4.11.3)\n",
      "Requirement already satisfied: zipp>=0.5 in c:\\users\\eobasi\\anaconda3\\lib\\site-packages (from importlib-metadata>=4.4->markdown>=2.6.8->tensorboard<2.9,>=2.8->tensorflow) (3.4.1)\n",
      "Requirement already satisfied: pyasn1<0.5.0,>=0.4.6 in c:\\users\\eobasi\\anaconda3\\lib\\site-packages (from pyasn1-modules>=0.2.1->google-auth<3,>=1.6.3->tensorboard<2.9,>=2.8->tensorflow) (0.4.8)\n",
      "Requirement already satisfied: certifi>=2017.4.17 in c:\\users\\eobasi\\anaconda3\\lib\\site-packages (from requests<3,>=2.21.0->tensorboard<2.9,>=2.8->tensorflow) (2020.12.5)\n",
      "Requirement already satisfied: chardet<5,>=3.0.2 in c:\\users\\eobasi\\anaconda3\\lib\\site-packages (from requests<3,>=2.21.0->tensorboard<2.9,>=2.8->tensorflow) (4.0.0)\n",
      "Requirement already satisfied: urllib3<1.27,>=1.21.1 in c:\\users\\eobasi\\anaconda3\\lib\\site-packages (from requests<3,>=2.21.0->tensorboard<2.9,>=2.8->tensorflow) (1.26.4)\n",
      "Requirement already satisfied: idna<3,>=2.5 in c:\\users\\eobasi\\anaconda3\\lib\\site-packages (from requests<3,>=2.21.0->tensorboard<2.9,>=2.8->tensorflow) (2.10)\n",
      "Requirement already satisfied: oauthlib>=3.0.0 in c:\\users\\eobasi\\anaconda3\\lib\\site-packages (from requests-oauthlib>=0.7.0->google-auth-oauthlib<0.5,>=0.4.1->tensorboard<2.9,>=2.8->tensorflow) (3.2.0)\n",
      "Note: you may need to restart the kernel to use updated packages.\n"
     ]
    }
   ],
   "source": [
    "pip install tensorflow"
   ]
  },
  {
   "cell_type": "code",
   "execution_count": 175,
   "id": "43e73948-7807-42c5-b876-c1af0611413f",
   "metadata": {},
   "outputs": [
    {
     "name": "stdout",
     "output_type": "stream",
     "text": [
      "Requirement already satisfied: keras in c:\\users\\eobasi\\anaconda3\\lib\\site-packages (2.8.0)\n",
      "Note: you may need to restart the kernel to use updated packages.\n"
     ]
    }
   ],
   "source": [
    "pip install keras "
   ]
  },
  {
   "cell_type": "code",
   "execution_count": 211,
   "id": "0c0dc59a-1a03-4d56-a9b7-a6d0403d3e64",
   "metadata": {},
   "outputs": [],
   "source": [
    "# Importing the libraries\n",
    "import pandas as pd\n",
    "import tensorflow as tf\n",
    "import numpy as np\n",
    "import matplotlib.pyplot as plt\n",
    "from tensorflow.keras.models import Model\n",
    "from tensorflow.keras.layers import Dense, Input\n",
    "from sklearn.model_selection import train_test_split\n"
   ]
  },
  {
   "cell_type": "code",
   "execution_count": 213,
   "id": "4c895787-9ff9-4bb3-a07a-cf7b281bbb7d",
   "metadata": {},
   "outputs": [],
   "source": [
    "data.drop('index',axis=1,inplace=True)"
   ]
  },
  {
   "cell_type": "code",
   "execution_count": 300,
   "id": "81276835-cf88-4af1-be76-e85d41f83966",
   "metadata": {},
   "outputs": [
    {
     "data": {
      "text/html": [
       "<div>\n",
       "<style scoped>\n",
       "    .dataframe tbody tr th:only-of-type {\n",
       "        vertical-align: middle;\n",
       "    }\n",
       "\n",
       "    .dataframe tbody tr th {\n",
       "        vertical-align: top;\n",
       "    }\n",
       "\n",
       "    .dataframe thead th {\n",
       "        text-align: right;\n",
       "    }\n",
       "</style>\n",
       "<table border=\"1\" class=\"dataframe\">\n",
       "  <thead>\n",
       "    <tr style=\"text-align: right;\">\n",
       "      <th></th>\n",
       "      <th>GR</th>\n",
       "      <th>ILD</th>\n",
       "      <th>Porosity</th>\n",
       "      <th>Avg. Depth</th>\n",
       "      <th>Tmax (°C)</th>\n",
       "      <th>PI</th>\n",
       "    </tr>\n",
       "  </thead>\n",
       "  <tbody>\n",
       "    <tr>\n",
       "      <th>0</th>\n",
       "      <td>113.312000</td>\n",
       "      <td>6.419200</td>\n",
       "      <td>20.160000</td>\n",
       "      <td>10557.2</td>\n",
       "      <td>444.00</td>\n",
       "      <td>0.02</td>\n",
       "    </tr>\n",
       "    <tr>\n",
       "      <th>1</th>\n",
       "      <td>123.569200</td>\n",
       "      <td>9.876200</td>\n",
       "      <td>17.310000</td>\n",
       "      <td>10677.4</td>\n",
       "      <td>445.00</td>\n",
       "      <td>0.08</td>\n",
       "    </tr>\n",
       "    <tr>\n",
       "      <th>2</th>\n",
       "      <td>143.963500</td>\n",
       "      <td>4.226100</td>\n",
       "      <td>8.480000</td>\n",
       "      <td>10162.0</td>\n",
       "      <td>436.00</td>\n",
       "      <td>0.13</td>\n",
       "    </tr>\n",
       "    <tr>\n",
       "      <th>3</th>\n",
       "      <td>117.457600</td>\n",
       "      <td>9.061900</td>\n",
       "      <td>20.760000</td>\n",
       "      <td>10690.7</td>\n",
       "      <td>443.00</td>\n",
       "      <td>0.03</td>\n",
       "    </tr>\n",
       "    <tr>\n",
       "      <th>4</th>\n",
       "      <td>113.312000</td>\n",
       "      <td>6.419200</td>\n",
       "      <td>20.160000</td>\n",
       "      <td>10557.2</td>\n",
       "      <td>444.00</td>\n",
       "      <td>0.02</td>\n",
       "    </tr>\n",
       "    <tr>\n",
       "      <th>...</th>\n",
       "      <td>...</td>\n",
       "      <td>...</td>\n",
       "      <td>...</td>\n",
       "      <td>...</td>\n",
       "      <td>...</td>\n",
       "      <td>...</td>\n",
       "    </tr>\n",
       "    <tr>\n",
       "      <th>9199</th>\n",
       "      <td>105.054811</td>\n",
       "      <td>9.725226</td>\n",
       "      <td>10.592800</td>\n",
       "      <td>9227.0</td>\n",
       "      <td>0.11</td>\n",
       "      <td>0.18</td>\n",
       "    </tr>\n",
       "    <tr>\n",
       "      <th>9200</th>\n",
       "      <td>113.135171</td>\n",
       "      <td>51.706493</td>\n",
       "      <td>9.700599</td>\n",
       "      <td>11170.0</td>\n",
       "      <td>450.00</td>\n",
       "      <td>0.48</td>\n",
       "    </tr>\n",
       "    <tr>\n",
       "      <th>9201</th>\n",
       "      <td>157.069571</td>\n",
       "      <td>30.067157</td>\n",
       "      <td>9.500998</td>\n",
       "      <td>11343.2</td>\n",
       "      <td>450.00</td>\n",
       "      <td>0.46</td>\n",
       "    </tr>\n",
       "    <tr>\n",
       "      <th>9202</th>\n",
       "      <td>144.028221</td>\n",
       "      <td>49.117105</td>\n",
       "      <td>7.704591</td>\n",
       "      <td>11255.5</td>\n",
       "      <td>450.00</td>\n",
       "      <td>0.29</td>\n",
       "    </tr>\n",
       "    <tr>\n",
       "      <th>9203</th>\n",
       "      <td>161.057408</td>\n",
       "      <td>30.067157</td>\n",
       "      <td>9.500998</td>\n",
       "      <td>11199.0</td>\n",
       "      <td>449.00</td>\n",
       "      <td>0.46</td>\n",
       "    </tr>\n",
       "  </tbody>\n",
       "</table>\n",
       "<p>9204 rows × 6 columns</p>\n",
       "</div>"
      ],
      "text/plain": [
       "              GR        ILD   Porosity  Avg. Depth  Tmax (°C)    PI\n",
       "0     113.312000   6.419200  20.160000     10557.2     444.00  0.02\n",
       "1     123.569200   9.876200  17.310000     10677.4     445.00  0.08\n",
       "2     143.963500   4.226100   8.480000     10162.0     436.00  0.13\n",
       "3     117.457600   9.061900  20.760000     10690.7     443.00  0.03\n",
       "4     113.312000   6.419200  20.160000     10557.2     444.00  0.02\n",
       "...          ...        ...        ...         ...        ...   ...\n",
       "9199  105.054811   9.725226  10.592800      9227.0       0.11  0.18\n",
       "9200  113.135171  51.706493   9.700599     11170.0     450.00  0.48\n",
       "9201  157.069571  30.067157   9.500998     11343.2     450.00  0.46\n",
       "9202  144.028221  49.117105   7.704591     11255.5     450.00  0.29\n",
       "9203  161.057408  30.067157   9.500998     11199.0     449.00  0.46\n",
       "\n",
       "[9204 rows x 6 columns]"
      ]
     },
     "execution_count": 300,
     "metadata": {},
     "output_type": "execute_result"
    }
   ],
   "source": [
    "data"
   ]
  },
  {
   "cell_type": "code",
   "execution_count": 301,
   "id": "272f684b-13ed-484c-b705-ea98eb80728c",
   "metadata": {},
   "outputs": [],
   "source": [
    "# Split the data into train and test with 80 train / 20 test\n",
    "train, test = train_test_split(data, test_size=0.2, random_state = 1)\n",
    "train, val = train_test_split(train, test_size=0.2, random_state = 1)\n"
   ]
  },
  {
   "cell_type": "code",
   "execution_count": 302,
   "id": "552af097-a389-40eb-bea9-c17cf977d689",
   "metadata": {},
   "outputs": [],
   "source": [
    "# Helper functions\n",
    "def norm(x):\n",
    "    return (x - train_stats['mean']) / train_stats['std']\n",
    "\n",
    "def format_output(data):\n",
    "    y1 = data.pop('Tmax (°C)')\n",
    "    y1 = np.array(y1)\n",
    "    y1=(y1-np.mean(y1))/np.std(y1)\n",
    "    y2 = data.pop('PI')\n",
    "    y2 = np.array(y2)\n",
    "    y2=(y2-np.mean(y2))/np.std(y2)\n",
    "    return y1, y2"
   ]
  },
  {
   "cell_type": "code",
   "execution_count": 303,
   "id": "8335f22d-41af-4210-9984-8dfff0ba94c6",
   "metadata": {},
   "outputs": [],
   "source": [
    "# Get Y1 and Y2 as the 2 outputs and format them as np arrays\n",
    "# PI- production index\n",
    "train_stats = train.describe()\n",
    "train_stats.pop('Tmax (°C)')\n",
    "train_stats.pop('PI')\n",
    "train_stats = train_stats.transpose()\n",
    "train_Y = format_output(train)\n",
    "test_Y = format_output(test)\n",
    "val_Y = format_output(val)"
   ]
  },
  {
   "cell_type": "code",
   "execution_count": null,
   "id": "d77ef778-08d1-46c2-998c-e0ec3a35f36f",
   "metadata": {},
   "outputs": [],
   "source": []
  },
  {
   "cell_type": "code",
   "execution_count": 304,
   "id": "140fa262-9bf1-4872-9bf1-a634e647de24",
   "metadata": {},
   "outputs": [],
   "source": [
    "# Normalize the training and test data\n",
    "norm_train_X = np.array(norm(train))\n",
    "norm_test_X = np.array(norm(test))\n",
    "norm_val_X = np.array(norm(val))"
   ]
  },
  {
   "cell_type": "code",
   "execution_count": 305,
   "id": "7ac4193b-a9c7-4676-b88e-8957881c2703",
   "metadata": {},
   "outputs": [],
   "source": [
    "def build_model():\n",
    "    # Define model layers.\n",
    "    input_layer = Input(shape=(len(train .columns),))\n",
    "    first_dense = Dense(units='128', activation='relu')(input_layer)\n",
    "    # Y1 output will be fed from the first dense\n",
    "    y1_output = Dense(units='1', name='Tmax_output')(first_dense)\n",
    "\n",
    "    second_dense = Dense(units='128', activation='relu')(first_dense)\n",
    "    # Y2 output will be fed from the second dense\n",
    "    y2_output = Dense(units='1', name='PI_output')(second_dense)\n",
    "\n",
    "    # Define the model with the input layer and a list of output layers\n",
    "    model = Model(inputs=input_layer, outputs=[y1_output, y2_output])\n",
    "\n",
    "    return model"
   ]
  },
  {
   "cell_type": "code",
   "execution_count": 307,
   "id": "00b33a2a-a840-41f3-ba1c-bff618531b1d",
   "metadata": {},
   "outputs": [],
   "source": [
    "model = build_model()\n",
    "\n",
    "# Specify the optimizer, and compile the model with loss functions for both outputs\n",
    "optimizer = tf.keras.optimizers.SGD(lr=0.001)\n",
    "model.compile(optimizer=optimizer,\n",
    "              loss={'Tmax_output': 'mse', 'PI_output': 'mse'},\n",
    "              metrics={'Tmax_output': tf.keras.metrics.RootMeanSquaredError(),\n",
    "                       'PI_output': tf.keras.metrics.RootMeanSquaredError()})"
   ]
  },
  {
   "cell_type": "code",
   "execution_count": 308,
   "id": "25e452e2-5dcb-4988-9aee-e331ede9403b",
   "metadata": {},
   "outputs": [
    {
     "name": "stdout",
     "output_type": "stream",
     "text": [
      "Epoch 1/100\n",
      "589/589 [==============================] - 2s 2ms/step - loss: 1.5450 - Tmax_output_loss: 1.0212 - PI_output_loss: 0.5239 - Tmax_output_root_mean_squared_error: 1.0105 - PI_output_root_mean_squared_error: 0.7238 - val_loss: 1.2566 - val_Tmax_output_loss: 0.9861 - val_PI_output_loss: 0.2705 - val_Tmax_output_root_mean_squared_error: 0.9930 - val_PI_output_root_mean_squared_error: 0.5201\n",
      "Epoch 2/100\n",
      "589/589 [==============================] - 1s 2ms/step - loss: 1.2327 - Tmax_output_loss: 0.9892 - PI_output_loss: 0.2436 - Tmax_output_root_mean_squared_error: 0.9946 - PI_output_root_mean_squared_error: 0.4935 - val_loss: 1.1844 - val_Tmax_output_loss: 0.9679 - val_PI_output_loss: 0.2165 - val_Tmax_output_root_mean_squared_error: 0.9838 - val_PI_output_root_mean_squared_error: 0.4653\n",
      "Epoch 3/100\n",
      "589/589 [==============================] - 1s 2ms/step - loss: 1.1904 - Tmax_output_loss: 0.9804 - PI_output_loss: 0.2100 - Tmax_output_root_mean_squared_error: 0.9902 - PI_output_root_mean_squared_error: 0.4582 - val_loss: 1.1482 - val_Tmax_output_loss: 0.9567 - val_PI_output_loss: 0.1914 - val_Tmax_output_root_mean_squared_error: 0.9781 - val_PI_output_root_mean_squared_error: 0.4375\n",
      "Epoch 4/100\n",
      "589/589 [==============================] - 1s 2ms/step - loss: 1.1653 - Tmax_output_loss: 0.9753 - PI_output_loss: 0.1900 - Tmax_output_root_mean_squared_error: 0.9876 - PI_output_root_mean_squared_error: 0.4359 - val_loss: 1.1253 - val_Tmax_output_loss: 0.9508 - val_PI_output_loss: 0.1745 - val_Tmax_output_root_mean_squared_error: 0.9751 - val_PI_output_root_mean_squared_error: 0.4177\n",
      "Epoch 5/100\n",
      "589/589 [==============================] - 1s 2ms/step - loss: 1.1481 - Tmax_output_loss: 0.9717 - PI_output_loss: 0.1763 - Tmax_output_root_mean_squared_error: 0.9858 - PI_output_root_mean_squared_error: 0.4199 - val_loss: 1.1095 - val_Tmax_output_loss: 0.9465 - val_PI_output_loss: 0.1630 - val_Tmax_output_root_mean_squared_error: 0.9729 - val_PI_output_root_mean_squared_error: 0.4037\n",
      "Epoch 6/100\n",
      "589/589 [==============================] - 1s 2ms/step - loss: 1.1347 - Tmax_output_loss: 0.9684 - PI_output_loss: 0.1663 - Tmax_output_root_mean_squared_error: 0.9841 - PI_output_root_mean_squared_error: 0.4078 - val_loss: 1.0988 - val_Tmax_output_loss: 0.9433 - val_PI_output_loss: 0.1555 - val_Tmax_output_root_mean_squared_error: 0.9713 - val_PI_output_root_mean_squared_error: 0.3943\n",
      "Epoch 7/100\n",
      "589/589 [==============================] - 1s 2ms/step - loss: 1.1250 - Tmax_output_loss: 0.9655 - PI_output_loss: 0.1594 - Tmax_output_root_mean_squared_error: 0.9826 - PI_output_root_mean_squared_error: 0.3993 - val_loss: 1.0889 - val_Tmax_output_loss: 0.9400 - val_PI_output_loss: 0.1489 - val_Tmax_output_root_mean_squared_error: 0.9695 - val_PI_output_root_mean_squared_error: 0.3858\n",
      "Epoch 8/100\n",
      "589/589 [==============================] - 1s 2ms/step - loss: 1.1172 - Tmax_output_loss: 0.9633 - PI_output_loss: 0.1539 - Tmax_output_root_mean_squared_error: 0.9815 - PI_output_root_mean_squared_error: 0.3923 - val_loss: 1.0805 - val_Tmax_output_loss: 0.9365 - val_PI_output_loss: 0.1440 - val_Tmax_output_root_mean_squared_error: 0.9677 - val_PI_output_root_mean_squared_error: 0.3795\n",
      "Epoch 9/100\n",
      "589/589 [==============================] - 1s 2ms/step - loss: 1.1110 - Tmax_output_loss: 0.9610 - PI_output_loss: 0.1500 - Tmax_output_root_mean_squared_error: 0.9803 - PI_output_root_mean_squared_error: 0.3874 - val_loss: 1.0751 - val_Tmax_output_loss: 0.9342 - val_PI_output_loss: 0.1409 - val_Tmax_output_root_mean_squared_error: 0.9666 - val_PI_output_root_mean_squared_error: 0.3753\n",
      "Epoch 10/100\n",
      "589/589 [==============================] - 1s 2ms/step - loss: 1.1062 - Tmax_output_loss: 0.9592 - PI_output_loss: 0.1470 - Tmax_output_root_mean_squared_error: 0.9794 - PI_output_root_mean_squared_error: 0.3834 - val_loss: 1.0693 - val_Tmax_output_loss: 0.9315 - val_PI_output_loss: 0.1378 - val_Tmax_output_root_mean_squared_error: 0.9651 - val_PI_output_root_mean_squared_error: 0.3713\n",
      "Epoch 11/100\n",
      "589/589 [==============================] - 1s 2ms/step - loss: 1.1019 - Tmax_output_loss: 0.9575 - PI_output_loss: 0.1444 - Tmax_output_root_mean_squared_error: 0.9785 - PI_output_root_mean_squared_error: 0.3800 - val_loss: 1.0653 - val_Tmax_output_loss: 0.9297 - val_PI_output_loss: 0.1356 - val_Tmax_output_root_mean_squared_error: 0.9642 - val_PI_output_root_mean_squared_error: 0.3682\n",
      "Epoch 12/100\n",
      "589/589 [==============================] - 1s 2ms/step - loss: 1.0980 - Tmax_output_loss: 0.9558 - PI_output_loss: 0.1422 - Tmax_output_root_mean_squared_error: 0.9777 - PI_output_root_mean_squared_error: 0.3770 - val_loss: 1.0619 - val_Tmax_output_loss: 0.9282 - val_PI_output_loss: 0.1336 - val_Tmax_output_root_mean_squared_error: 0.9635 - val_PI_output_root_mean_squared_error: 0.3655\n",
      "Epoch 13/100\n",
      "589/589 [==============================] - 1s 2ms/step - loss: 1.0940 - Tmax_output_loss: 0.9538 - PI_output_loss: 0.1402 - Tmax_output_root_mean_squared_error: 0.9766 - PI_output_root_mean_squared_error: 0.3745 - val_loss: 1.0601 - val_Tmax_output_loss: 0.9277 - val_PI_output_loss: 0.1324 - val_Tmax_output_root_mean_squared_error: 0.9632 - val_PI_output_root_mean_squared_error: 0.3639\n",
      "Epoch 14/100\n",
      "589/589 [==============================] - 1s 2ms/step - loss: 1.0912 - Tmax_output_loss: 0.9526 - PI_output_loss: 0.1386 - Tmax_output_root_mean_squared_error: 0.9760 - PI_output_root_mean_squared_error: 0.3723 - val_loss: 1.0545 - val_Tmax_output_loss: 0.9240 - val_PI_output_loss: 0.1304 - val_Tmax_output_root_mean_squared_error: 0.9613 - val_PI_output_root_mean_squared_error: 0.3612\n",
      "Epoch 15/100\n",
      "589/589 [==============================] - 1s 2ms/step - loss: 1.0880 - Tmax_output_loss: 0.9508 - PI_output_loss: 0.1372 - Tmax_output_root_mean_squared_error: 0.9751 - PI_output_root_mean_squared_error: 0.3705 - val_loss: 1.0524 - val_Tmax_output_loss: 0.9228 - val_PI_output_loss: 0.1295 - val_Tmax_output_root_mean_squared_error: 0.9606 - val_PI_output_root_mean_squared_error: 0.3599\n",
      "Epoch 16/100\n",
      "589/589 [==============================] - 1s 2ms/step - loss: 1.0850 - Tmax_output_loss: 0.9489 - PI_output_loss: 0.1361 - Tmax_output_root_mean_squared_error: 0.9741 - PI_output_root_mean_squared_error: 0.3689 - val_loss: 1.0498 - val_Tmax_output_loss: 0.9217 - val_PI_output_loss: 0.1281 - val_Tmax_output_root_mean_squared_error: 0.9601 - val_PI_output_root_mean_squared_error: 0.3579\n",
      "Epoch 17/100\n",
      "589/589 [==============================] - 1s 2ms/step - loss: 1.0824 - Tmax_output_loss: 0.9473 - PI_output_loss: 0.1351 - Tmax_output_root_mean_squared_error: 0.9733 - PI_output_root_mean_squared_error: 0.3676 - val_loss: 1.0471 - val_Tmax_output_loss: 0.9198 - val_PI_output_loss: 0.1273 - val_Tmax_output_root_mean_squared_error: 0.9591 - val_PI_output_root_mean_squared_error: 0.3568\n",
      "Epoch 18/100\n",
      "589/589 [==============================] - 1s 2ms/step - loss: 1.0798 - Tmax_output_loss: 0.9458 - PI_output_loss: 0.1340 - Tmax_output_root_mean_squared_error: 0.9725 - PI_output_root_mean_squared_error: 0.3660 - val_loss: 1.0447 - val_Tmax_output_loss: 0.9176 - val_PI_output_loss: 0.1271 - val_Tmax_output_root_mean_squared_error: 0.9579 - val_PI_output_root_mean_squared_error: 0.3565\n",
      "Epoch 19/100\n",
      "589/589 [==============================] - 1s 2ms/step - loss: 1.0770 - Tmax_output_loss: 0.9438 - PI_output_loss: 0.1331 - Tmax_output_root_mean_squared_error: 0.9715 - PI_output_root_mean_squared_error: 0.3649 - val_loss: 1.0423 - val_Tmax_output_loss: 0.9170 - val_PI_output_loss: 0.1253 - val_Tmax_output_root_mean_squared_error: 0.9576 - val_PI_output_root_mean_squared_error: 0.3540\n",
      "Epoch 20/100\n",
      "589/589 [==============================] - 1s 2ms/step - loss: 1.0751 - Tmax_output_loss: 0.9430 - PI_output_loss: 0.1320 - Tmax_output_root_mean_squared_error: 0.9711 - PI_output_root_mean_squared_error: 0.3634 - val_loss: 1.0395 - val_Tmax_output_loss: 0.9152 - val_PI_output_loss: 0.1243 - val_Tmax_output_root_mean_squared_error: 0.9567 - val_PI_output_root_mean_squared_error: 0.3525\n",
      "Epoch 21/100\n",
      "589/589 [==============================] - 1s 2ms/step - loss: 1.0727 - Tmax_output_loss: 0.9416 - PI_output_loss: 0.1311 - Tmax_output_root_mean_squared_error: 0.9704 - PI_output_root_mean_squared_error: 0.3621 - val_loss: 1.0376 - val_Tmax_output_loss: 0.9139 - val_PI_output_loss: 0.1237 - val_Tmax_output_root_mean_squared_error: 0.9560 - val_PI_output_root_mean_squared_error: 0.3517\n",
      "Epoch 22/100\n",
      "589/589 [==============================] - 1s 2ms/step - loss: 1.0706 - Tmax_output_loss: 0.9402 - PI_output_loss: 0.1304 - Tmax_output_root_mean_squared_error: 0.9696 - PI_output_root_mean_squared_error: 0.3611 - val_loss: 1.0360 - val_Tmax_output_loss: 0.9131 - val_PI_output_loss: 0.1230 - val_Tmax_output_root_mean_squared_error: 0.9555 - val_PI_output_root_mean_squared_error: 0.3507\n",
      "Epoch 23/100\n",
      "589/589 [==============================] - 1s 2ms/step - loss: 1.0676 - Tmax_output_loss: 0.9383 - PI_output_loss: 0.1293 - Tmax_output_root_mean_squared_error: 0.9687 - PI_output_root_mean_squared_error: 0.3596 - val_loss: 1.0329 - val_Tmax_output_loss: 0.9107 - val_PI_output_loss: 0.1222 - val_Tmax_output_root_mean_squared_error: 0.9543 - val_PI_output_root_mean_squared_error: 0.3496\n",
      "Epoch 24/100\n",
      "589/589 [==============================] - 1s 2ms/step - loss: 1.0663 - Tmax_output_loss: 0.9375 - PI_output_loss: 0.1288 - Tmax_output_root_mean_squared_error: 0.9683 - PI_output_root_mean_squared_error: 0.3589 - val_loss: 1.0304 - val_Tmax_output_loss: 0.9090 - val_PI_output_loss: 0.1214 - val_Tmax_output_root_mean_squared_error: 0.9534 - val_PI_output_root_mean_squared_error: 0.3484\n",
      "Epoch 25/100\n",
      "589/589 [==============================] - 1s 2ms/step - loss: 1.0642 - Tmax_output_loss: 0.9361 - PI_output_loss: 0.1281 - Tmax_output_root_mean_squared_error: 0.9675 - PI_output_root_mean_squared_error: 0.3579 - val_loss: 1.0282 - val_Tmax_output_loss: 0.9071 - val_PI_output_loss: 0.1211 - val_Tmax_output_root_mean_squared_error: 0.9524 - val_PI_output_root_mean_squared_error: 0.3480\n",
      "Epoch 26/100\n",
      "589/589 [==============================] - 1s 2ms/step - loss: 1.0619 - Tmax_output_loss: 0.9346 - PI_output_loss: 0.1273 - Tmax_output_root_mean_squared_error: 0.9667 - PI_output_root_mean_squared_error: 0.3568 - val_loss: 1.0257 - val_Tmax_output_loss: 0.9055 - val_PI_output_loss: 0.1202 - val_Tmax_output_root_mean_squared_error: 0.9516 - val_PI_output_root_mean_squared_error: 0.3467\n",
      "Epoch 27/100\n",
      "589/589 [==============================] - 1s 2ms/step - loss: 1.0599 - Tmax_output_loss: 0.9331 - PI_output_loss: 0.1268 - Tmax_output_root_mean_squared_error: 0.9660 - PI_output_root_mean_squared_error: 0.3561 - val_loss: 1.0238 - val_Tmax_output_loss: 0.9035 - val_PI_output_loss: 0.1203 - val_Tmax_output_root_mean_squared_error: 0.9505 - val_PI_output_root_mean_squared_error: 0.3468\n",
      "Epoch 28/100\n",
      "589/589 [==============================] - 1s 2ms/step - loss: 1.0586 - Tmax_output_loss: 0.9323 - PI_output_loss: 0.1263 - Tmax_output_root_mean_squared_error: 0.9656 - PI_output_root_mean_squared_error: 0.3554 - val_loss: 1.0220 - val_Tmax_output_loss: 0.9028 - val_PI_output_loss: 0.1192 - val_Tmax_output_root_mean_squared_error: 0.9502 - val_PI_output_root_mean_squared_error: 0.3453\n",
      "Epoch 29/100\n",
      "589/589 [==============================] - 1s 2ms/step - loss: 1.0559 - Tmax_output_loss: 0.9303 - PI_output_loss: 0.1256 - Tmax_output_root_mean_squared_error: 0.9645 - PI_output_root_mean_squared_error: 0.3544 - val_loss: 1.0208 - val_Tmax_output_loss: 0.9017 - val_PI_output_loss: 0.1191 - val_Tmax_output_root_mean_squared_error: 0.9496 - val_PI_output_root_mean_squared_error: 0.3451\n",
      "Epoch 30/100\n",
      "589/589 [==============================] - 1s 2ms/step - loss: 1.0542 - Tmax_output_loss: 0.9293 - PI_output_loss: 0.1249 - Tmax_output_root_mean_squared_error: 0.9640 - PI_output_root_mean_squared_error: 0.3534 - val_loss: 1.0199 - val_Tmax_output_loss: 0.9019 - val_PI_output_loss: 0.1179 - val_Tmax_output_root_mean_squared_error: 0.9497 - val_PI_output_root_mean_squared_error: 0.3434\n",
      "Epoch 31/100\n",
      "589/589 [==============================] - 1s 2ms/step - loss: 1.0523 - Tmax_output_loss: 0.9277 - PI_output_loss: 0.1245 - Tmax_output_root_mean_squared_error: 0.9632 - PI_output_root_mean_squared_error: 0.3529 - val_loss: 1.0167 - val_Tmax_output_loss: 0.8994 - val_PI_output_loss: 0.1173 - val_Tmax_output_root_mean_squared_error: 0.9484 - val_PI_output_root_mean_squared_error: 0.3425\n",
      "Epoch 32/100\n",
      "589/589 [==============================] - 1s 2ms/step - loss: 1.0507 - Tmax_output_loss: 0.9271 - PI_output_loss: 0.1236 - Tmax_output_root_mean_squared_error: 0.9628 - PI_output_root_mean_squared_error: 0.3516 - val_loss: 1.0129 - val_Tmax_output_loss: 0.8962 - val_PI_output_loss: 0.1167 - val_Tmax_output_root_mean_squared_error: 0.9467 - val_PI_output_root_mean_squared_error: 0.3416\n",
      "Epoch 33/100\n",
      "589/589 [==============================] - 1s 2ms/step - loss: 1.0491 - Tmax_output_loss: 0.9260 - PI_output_loss: 0.1231 - Tmax_output_root_mean_squared_error: 0.9623 - PI_output_root_mean_squared_error: 0.3508 - val_loss: 1.0113 - val_Tmax_output_loss: 0.8949 - val_PI_output_loss: 0.1164 - val_Tmax_output_root_mean_squared_error: 0.9460 - val_PI_output_root_mean_squared_error: 0.3411\n",
      "Epoch 34/100\n",
      "589/589 [==============================] - 1s 2ms/step - loss: 1.0471 - Tmax_output_loss: 0.9247 - PI_output_loss: 0.1224 - Tmax_output_root_mean_squared_error: 0.9616 - PI_output_root_mean_squared_error: 0.3499 - val_loss: 1.0125 - val_Tmax_output_loss: 0.8948 - val_PI_output_loss: 0.1176 - val_Tmax_output_root_mean_squared_error: 0.9460 - val_PI_output_root_mean_squared_error: 0.3430\n",
      "Epoch 35/100\n",
      "589/589 [==============================] - 1s 2ms/step - loss: 1.0452 - Tmax_output_loss: 0.9231 - PI_output_loss: 0.1222 - Tmax_output_root_mean_squared_error: 0.9608 - PI_output_root_mean_squared_error: 0.3495 - val_loss: 1.0072 - val_Tmax_output_loss: 0.8919 - val_PI_output_loss: 0.1154 - val_Tmax_output_root_mean_squared_error: 0.9444 - val_PI_output_root_mean_squared_error: 0.3396\n",
      "Epoch 36/100\n",
      "589/589 [==============================] - 1s 2ms/step - loss: 1.0440 - Tmax_output_loss: 0.9227 - PI_output_loss: 0.1214 - Tmax_output_root_mean_squared_error: 0.9606 - PI_output_root_mean_squared_error: 0.3484 - val_loss: 1.0063 - val_Tmax_output_loss: 0.8910 - val_PI_output_loss: 0.1153 - val_Tmax_output_root_mean_squared_error: 0.9439 - val_PI_output_root_mean_squared_error: 0.3396\n",
      "Epoch 37/100\n",
      "589/589 [==============================] - 1s 2ms/step - loss: 1.0415 - Tmax_output_loss: 0.9204 - PI_output_loss: 0.1210 - Tmax_output_root_mean_squared_error: 0.9594 - PI_output_root_mean_squared_error: 0.3479 - val_loss: 1.0056 - val_Tmax_output_loss: 0.8913 - val_PI_output_loss: 0.1143 - val_Tmax_output_root_mean_squared_error: 0.9441 - val_PI_output_root_mean_squared_error: 0.3382\n",
      "Epoch 38/100\n",
      "589/589 [==============================] - 1s 2ms/step - loss: 1.0407 - Tmax_output_loss: 0.9203 - PI_output_loss: 0.1204 - Tmax_output_root_mean_squared_error: 0.9593 - PI_output_root_mean_squared_error: 0.3470 - val_loss: 1.0039 - val_Tmax_output_loss: 0.8899 - val_PI_output_loss: 0.1140 - val_Tmax_output_root_mean_squared_error: 0.9434 - val_PI_output_root_mean_squared_error: 0.3376\n",
      "Epoch 39/100\n",
      "589/589 [==============================] - 1s 2ms/step - loss: 1.0388 - Tmax_output_loss: 0.9188 - PI_output_loss: 0.1200 - Tmax_output_root_mean_squared_error: 0.9585 - PI_output_root_mean_squared_error: 0.3464 - val_loss: 1.0039 - val_Tmax_output_loss: 0.8904 - val_PI_output_loss: 0.1136 - val_Tmax_output_root_mean_squared_error: 0.9436 - val_PI_output_root_mean_squared_error: 0.3370\n",
      "Epoch 40/100\n",
      "589/589 [==============================] - 1s 2ms/step - loss: 1.0373 - Tmax_output_loss: 0.9177 - PI_output_loss: 0.1196 - Tmax_output_root_mean_squared_error: 0.9580 - PI_output_root_mean_squared_error: 0.3458 - val_loss: 1.0010 - val_Tmax_output_loss: 0.8876 - val_PI_output_loss: 0.1134 - val_Tmax_output_root_mean_squared_error: 0.9421 - val_PI_output_root_mean_squared_error: 0.3368\n",
      "Epoch 41/100\n",
      "589/589 [==============================] - 1s 2ms/step - loss: 1.0354 - Tmax_output_loss: 0.9163 - PI_output_loss: 0.1191 - Tmax_output_root_mean_squared_error: 0.9572 - PI_output_root_mean_squared_error: 0.3451 - val_loss: 0.9971 - val_Tmax_output_loss: 0.8841 - val_PI_output_loss: 0.1130 - val_Tmax_output_root_mean_squared_error: 0.9402 - val_PI_output_root_mean_squared_error: 0.3361\n",
      "Epoch 42/100\n",
      "589/589 [==============================] - 1s 2ms/step - loss: 1.0337 - Tmax_output_loss: 0.9152 - PI_output_loss: 0.1185 - Tmax_output_root_mean_squared_error: 0.9567 - PI_output_root_mean_squared_error: 0.3442 - val_loss: 0.9995 - val_Tmax_output_loss: 0.8865 - val_PI_output_loss: 0.1131 - val_Tmax_output_root_mean_squared_error: 0.9415 - val_PI_output_root_mean_squared_error: 0.3363\n",
      "Epoch 43/100\n",
      "589/589 [==============================] - 1s 2ms/step - loss: 1.0320 - Tmax_output_loss: 0.9137 - PI_output_loss: 0.1183 - Tmax_output_root_mean_squared_error: 0.9559 - PI_output_root_mean_squared_error: 0.3440 - val_loss: 0.9952 - val_Tmax_output_loss: 0.8835 - val_PI_output_loss: 0.1117 - val_Tmax_output_root_mean_squared_error: 0.9399 - val_PI_output_root_mean_squared_error: 0.3342\n",
      "Epoch 44/100\n",
      "589/589 [==============================] - 1s 2ms/step - loss: 1.0309 - Tmax_output_loss: 0.9132 - PI_output_loss: 0.1177 - Tmax_output_root_mean_squared_error: 0.9556 - PI_output_root_mean_squared_error: 0.3431 - val_loss: 0.9921 - val_Tmax_output_loss: 0.8805 - val_PI_output_loss: 0.1115 - val_Tmax_output_root_mean_squared_error: 0.9384 - val_PI_output_root_mean_squared_error: 0.3340\n",
      "Epoch 45/100\n",
      "589/589 [==============================] - 1s 2ms/step - loss: 1.0291 - Tmax_output_loss: 0.9119 - PI_output_loss: 0.1172 - Tmax_output_root_mean_squared_error: 0.9549 - PI_output_root_mean_squared_error: 0.3423 - val_loss: 0.9932 - val_Tmax_output_loss: 0.8819 - val_PI_output_loss: 0.1113 - val_Tmax_output_root_mean_squared_error: 0.9391 - val_PI_output_root_mean_squared_error: 0.3337\n",
      "Epoch 46/100\n",
      "589/589 [==============================] - 1s 2ms/step - loss: 1.0281 - Tmax_output_loss: 0.9112 - PI_output_loss: 0.1169 - Tmax_output_root_mean_squared_error: 0.9546 - PI_output_root_mean_squared_error: 0.3418 - val_loss: 0.9884 - val_Tmax_output_loss: 0.8779 - val_PI_output_loss: 0.1104 - val_Tmax_output_root_mean_squared_error: 0.9370 - val_PI_output_root_mean_squared_error: 0.3323\n",
      "Epoch 47/100\n",
      "589/589 [==============================] - 1s 2ms/step - loss: 1.0258 - Tmax_output_loss: 0.9095 - PI_output_loss: 0.1164 - Tmax_output_root_mean_squared_error: 0.9537 - PI_output_root_mean_squared_error: 0.3411 - val_loss: 0.9895 - val_Tmax_output_loss: 0.8793 - val_PI_output_loss: 0.1102 - val_Tmax_output_root_mean_squared_error: 0.9377 - val_PI_output_root_mean_squared_error: 0.3319\n",
      "Epoch 48/100\n",
      "589/589 [==============================] - 1s 2ms/step - loss: 1.0247 - Tmax_output_loss: 0.9088 - PI_output_loss: 0.1159 - Tmax_output_root_mean_squared_error: 0.9533 - PI_output_root_mean_squared_error: 0.3404 - val_loss: 0.9886 - val_Tmax_output_loss: 0.8785 - val_PI_output_loss: 0.1101 - val_Tmax_output_root_mean_squared_error: 0.9373 - val_PI_output_root_mean_squared_error: 0.3317\n",
      "Epoch 49/100\n",
      "589/589 [==============================] - 1s 2ms/step - loss: 1.0226 - Tmax_output_loss: 0.9069 - PI_output_loss: 0.1157 - Tmax_output_root_mean_squared_error: 0.9523 - PI_output_root_mean_squared_error: 0.3401 - val_loss: 0.9871 - val_Tmax_output_loss: 0.8776 - val_PI_output_loss: 0.1096 - val_Tmax_output_root_mean_squared_error: 0.9368 - val_PI_output_root_mean_squared_error: 0.3310\n",
      "Epoch 50/100\n",
      "589/589 [==============================] - 1s 2ms/step - loss: 1.0215 - Tmax_output_loss: 0.9063 - PI_output_loss: 0.1152 - Tmax_output_root_mean_squared_error: 0.9520 - PI_output_root_mean_squared_error: 0.3394 - val_loss: 0.9873 - val_Tmax_output_loss: 0.8780 - val_PI_output_loss: 0.1092 - val_Tmax_output_root_mean_squared_error: 0.9370 - val_PI_output_root_mean_squared_error: 0.3305\n",
      "Epoch 51/100\n",
      "589/589 [==============================] - 1s 2ms/step - loss: 1.0201 - Tmax_output_loss: 0.9053 - PI_output_loss: 0.1149 - Tmax_output_root_mean_squared_error: 0.9514 - PI_output_root_mean_squared_error: 0.3389 - val_loss: 0.9818 - val_Tmax_output_loss: 0.8734 - val_PI_output_loss: 0.1085 - val_Tmax_output_root_mean_squared_error: 0.9345 - val_PI_output_root_mean_squared_error: 0.3293\n",
      "Epoch 52/100\n",
      "589/589 [==============================] - 1s 2ms/step - loss: 1.0183 - Tmax_output_loss: 0.9038 - PI_output_loss: 0.1144 - Tmax_output_root_mean_squared_error: 0.9507 - PI_output_root_mean_squared_error: 0.3383 - val_loss: 0.9811 - val_Tmax_output_loss: 0.8725 - val_PI_output_loss: 0.1086 - val_Tmax_output_root_mean_squared_error: 0.9341 - val_PI_output_root_mean_squared_error: 0.3295\n",
      "Epoch 53/100\n",
      "589/589 [==============================] - 1s 2ms/step - loss: 1.0172 - Tmax_output_loss: 0.9032 - PI_output_loss: 0.1139 - Tmax_output_root_mean_squared_error: 0.9504 - PI_output_root_mean_squared_error: 0.3375 - val_loss: 0.9780 - val_Tmax_output_loss: 0.8702 - val_PI_output_loss: 0.1078 - val_Tmax_output_root_mean_squared_error: 0.9328 - val_PI_output_root_mean_squared_error: 0.3284\n",
      "Epoch 54/100\n",
      "589/589 [==============================] - 1s 2ms/step - loss: 1.0152 - Tmax_output_loss: 0.9018 - PI_output_loss: 0.1135 - Tmax_output_root_mean_squared_error: 0.9496 - PI_output_root_mean_squared_error: 0.3369 - val_loss: 0.9746 - val_Tmax_output_loss: 0.8671 - val_PI_output_loss: 0.1076 - val_Tmax_output_root_mean_squared_error: 0.9312 - val_PI_output_root_mean_squared_error: 0.3280\n",
      "Epoch 55/100\n",
      "589/589 [==============================] - 1s 2ms/step - loss: 1.0129 - Tmax_output_loss: 0.9000 - PI_output_loss: 0.1130 - Tmax_output_root_mean_squared_error: 0.9487 - PI_output_root_mean_squared_error: 0.3361 - val_loss: 0.9731 - val_Tmax_output_loss: 0.8656 - val_PI_output_loss: 0.1075 - val_Tmax_output_root_mean_squared_error: 0.9304 - val_PI_output_root_mean_squared_error: 0.3279\n",
      "Epoch 56/100\n",
      "589/589 [==============================] - 1s 2ms/step - loss: 1.0123 - Tmax_output_loss: 0.8995 - PI_output_loss: 0.1128 - Tmax_output_root_mean_squared_error: 0.9484 - PI_output_root_mean_squared_error: 0.3359 - val_loss: 0.9746 - val_Tmax_output_loss: 0.8673 - val_PI_output_loss: 0.1073 - val_Tmax_output_root_mean_squared_error: 0.9313 - val_PI_output_root_mean_squared_error: 0.3275\n",
      "Epoch 57/100\n",
      "589/589 [==============================] - 1s 2ms/step - loss: 1.0103 - Tmax_output_loss: 0.8979 - PI_output_loss: 0.1124 - Tmax_output_root_mean_squared_error: 0.9476 - PI_output_root_mean_squared_error: 0.3352 - val_loss: 0.9703 - val_Tmax_output_loss: 0.8639 - val_PI_output_loss: 0.1063 - val_Tmax_output_root_mean_squared_error: 0.9295 - val_PI_output_root_mean_squared_error: 0.3261\n",
      "Epoch 58/100\n",
      "589/589 [==============================] - 1s 2ms/step - loss: 1.0086 - Tmax_output_loss: 0.8967 - PI_output_loss: 0.1119 - Tmax_output_root_mean_squared_error: 0.9469 - PI_output_root_mean_squared_error: 0.3345 - val_loss: 0.9697 - val_Tmax_output_loss: 0.8632 - val_PI_output_loss: 0.1065 - val_Tmax_output_root_mean_squared_error: 0.9291 - val_PI_output_root_mean_squared_error: 0.3264\n",
      "Epoch 59/100\n",
      "589/589 [==============================] - 1s 2ms/step - loss: 1.0063 - Tmax_output_loss: 0.8949 - PI_output_loss: 0.1115 - Tmax_output_root_mean_squared_error: 0.9460 - PI_output_root_mean_squared_error: 0.3339 - val_loss: 0.9694 - val_Tmax_output_loss: 0.8635 - val_PI_output_loss: 0.1059 - val_Tmax_output_root_mean_squared_error: 0.9292 - val_PI_output_root_mean_squared_error: 0.3254\n",
      "Epoch 60/100\n",
      "589/589 [==============================] - 1s 2ms/step - loss: 1.0055 - Tmax_output_loss: 0.8945 - PI_output_loss: 0.1110 - Tmax_output_root_mean_squared_error: 0.9458 - PI_output_root_mean_squared_error: 0.3332 - val_loss: 0.9665 - val_Tmax_output_loss: 0.8610 - val_PI_output_loss: 0.1055 - val_Tmax_output_root_mean_squared_error: 0.9279 - val_PI_output_root_mean_squared_error: 0.3248\n",
      "Epoch 61/100\n",
      "589/589 [==============================] - 1s 2ms/step - loss: 1.0033 - Tmax_output_loss: 0.8928 - PI_output_loss: 0.1106 - Tmax_output_root_mean_squared_error: 0.9449 - PI_output_root_mean_squared_error: 0.3325 - val_loss: 0.9678 - val_Tmax_output_loss: 0.8628 - val_PI_output_loss: 0.1050 - val_Tmax_output_root_mean_squared_error: 0.9289 - val_PI_output_root_mean_squared_error: 0.3240\n",
      "Epoch 62/100\n",
      "589/589 [==============================] - 1s 2ms/step - loss: 1.0018 - Tmax_output_loss: 0.8917 - PI_output_loss: 0.1101 - Tmax_output_root_mean_squared_error: 0.9443 - PI_output_root_mean_squared_error: 0.3318 - val_loss: 0.9672 - val_Tmax_output_loss: 0.8619 - val_PI_output_loss: 0.1054 - val_Tmax_output_root_mean_squared_error: 0.9284 - val_PI_output_root_mean_squared_error: 0.3246\n",
      "Epoch 63/100\n",
      "589/589 [==============================] - 1s 2ms/step - loss: 1.0006 - Tmax_output_loss: 0.8910 - PI_output_loss: 0.1096 - Tmax_output_root_mean_squared_error: 0.9439 - PI_output_root_mean_squared_error: 0.3311 - val_loss: 0.9647 - val_Tmax_output_loss: 0.8603 - val_PI_output_loss: 0.1044 - val_Tmax_output_root_mean_squared_error: 0.9275 - val_PI_output_root_mean_squared_error: 0.3231\n",
      "Epoch 64/100\n",
      "589/589 [==============================] - 1s 2ms/step - loss: 0.9990 - Tmax_output_loss: 0.8897 - PI_output_loss: 0.1094 - Tmax_output_root_mean_squared_error: 0.9432 - PI_output_root_mean_squared_error: 0.3307 - val_loss: 0.9633 - val_Tmax_output_loss: 0.8596 - val_PI_output_loss: 0.1037 - val_Tmax_output_root_mean_squared_error: 0.9271 - val_PI_output_root_mean_squared_error: 0.3220\n",
      "Epoch 65/100\n",
      "589/589 [==============================] - 1s 2ms/step - loss: 0.9969 - Tmax_output_loss: 0.8880 - PI_output_loss: 0.1088 - Tmax_output_root_mean_squared_error: 0.9424 - PI_output_root_mean_squared_error: 0.3299 - val_loss: 0.9620 - val_Tmax_output_loss: 0.8577 - val_PI_output_loss: 0.1043 - val_Tmax_output_root_mean_squared_error: 0.9261 - val_PI_output_root_mean_squared_error: 0.3229\n",
      "Epoch 66/100\n",
      "589/589 [==============================] - 1s 2ms/step - loss: 0.9950 - Tmax_output_loss: 0.8867 - PI_output_loss: 0.1084 - Tmax_output_root_mean_squared_error: 0.9416 - PI_output_root_mean_squared_error: 0.3292 - val_loss: 0.9572 - val_Tmax_output_loss: 0.8537 - val_PI_output_loss: 0.1035 - val_Tmax_output_root_mean_squared_error: 0.9240 - val_PI_output_root_mean_squared_error: 0.3217\n",
      "Epoch 67/100\n",
      "589/589 [==============================] - 1s 2ms/step - loss: 0.9935 - Tmax_output_loss: 0.8857 - PI_output_loss: 0.1078 - Tmax_output_root_mean_squared_error: 0.9411 - PI_output_root_mean_squared_error: 0.3283 - val_loss: 0.9579 - val_Tmax_output_loss: 0.8538 - val_PI_output_loss: 0.1041 - val_Tmax_output_root_mean_squared_error: 0.9240 - val_PI_output_root_mean_squared_error: 0.3226\n",
      "Epoch 68/100\n",
      "589/589 [==============================] - 1s 2ms/step - loss: 0.9920 - Tmax_output_loss: 0.8845 - PI_output_loss: 0.1074 - Tmax_output_root_mean_squared_error: 0.9405 - PI_output_root_mean_squared_error: 0.3278 - val_loss: 0.9578 - val_Tmax_output_loss: 0.8544 - val_PI_output_loss: 0.1034 - val_Tmax_output_root_mean_squared_error: 0.9243 - val_PI_output_root_mean_squared_error: 0.3216\n",
      "Epoch 69/100\n",
      "589/589 [==============================] - 1s 2ms/step - loss: 0.9904 - Tmax_output_loss: 0.8835 - PI_output_loss: 0.1070 - Tmax_output_root_mean_squared_error: 0.9399 - PI_output_root_mean_squared_error: 0.3271 - val_loss: 0.9505 - val_Tmax_output_loss: 0.8483 - val_PI_output_loss: 0.1023 - val_Tmax_output_root_mean_squared_error: 0.9210 - val_PI_output_root_mean_squared_error: 0.3198\n",
      "Epoch 70/100\n",
      "589/589 [==============================] - 1s 2ms/step - loss: 0.9888 - Tmax_output_loss: 0.8822 - PI_output_loss: 0.1066 - Tmax_output_root_mean_squared_error: 0.9393 - PI_output_root_mean_squared_error: 0.3265 - val_loss: 0.9534 - val_Tmax_output_loss: 0.8517 - val_PI_output_loss: 0.1018 - val_Tmax_output_root_mean_squared_error: 0.9229 - val_PI_output_root_mean_squared_error: 0.3190\n",
      "Epoch 71/100\n",
      "589/589 [==============================] - 1s 2ms/step - loss: 0.9872 - Tmax_output_loss: 0.8811 - PI_output_loss: 0.1061 - Tmax_output_root_mean_squared_error: 0.9387 - PI_output_root_mean_squared_error: 0.3257 - val_loss: 0.9501 - val_Tmax_output_loss: 0.8480 - val_PI_output_loss: 0.1020 - val_Tmax_output_root_mean_squared_error: 0.9209 - val_PI_output_root_mean_squared_error: 0.3194\n",
      "Epoch 72/100\n",
      "589/589 [==============================] - 1s 2ms/step - loss: 0.9858 - Tmax_output_loss: 0.8802 - PI_output_loss: 0.1056 - Tmax_output_root_mean_squared_error: 0.9382 - PI_output_root_mean_squared_error: 0.3250 - val_loss: 0.9504 - val_Tmax_output_loss: 0.8483 - val_PI_output_loss: 0.1021 - val_Tmax_output_root_mean_squared_error: 0.9210 - val_PI_output_root_mean_squared_error: 0.3196\n",
      "Epoch 73/100\n",
      "589/589 [==============================] - 1s 2ms/step - loss: 0.9837 - Tmax_output_loss: 0.8783 - PI_output_loss: 0.1054 - Tmax_output_root_mean_squared_error: 0.9372 - PI_output_root_mean_squared_error: 0.3247 - val_loss: 0.9469 - val_Tmax_output_loss: 0.8467 - val_PI_output_loss: 0.1003 - val_Tmax_output_root_mean_squared_error: 0.9201 - val_PI_output_root_mean_squared_error: 0.3167\n",
      "Epoch 74/100\n",
      "589/589 [==============================] - 1s 2ms/step - loss: 0.9831 - Tmax_output_loss: 0.8781 - PI_output_loss: 0.1050 - Tmax_output_root_mean_squared_error: 0.9371 - PI_output_root_mean_squared_error: 0.3240 - val_loss: 0.9457 - val_Tmax_output_loss: 0.8459 - val_PI_output_loss: 0.0998 - val_Tmax_output_root_mean_squared_error: 0.9197 - val_PI_output_root_mean_squared_error: 0.3159\n",
      "Epoch 75/100\n",
      "589/589 [==============================] - 1s 2ms/step - loss: 0.9815 - Tmax_output_loss: 0.8769 - PI_output_loss: 0.1046 - Tmax_output_root_mean_squared_error: 0.9364 - PI_output_root_mean_squared_error: 0.3234 - val_loss: 0.9434 - val_Tmax_output_loss: 0.8440 - val_PI_output_loss: 0.0995 - val_Tmax_output_root_mean_squared_error: 0.9187 - val_PI_output_root_mean_squared_error: 0.3154\n",
      "Epoch 76/100\n",
      "589/589 [==============================] - 1s 2ms/step - loss: 0.9792 - Tmax_output_loss: 0.8749 - PI_output_loss: 0.1043 - Tmax_output_root_mean_squared_error: 0.9354 - PI_output_root_mean_squared_error: 0.3229 - val_loss: 0.9436 - val_Tmax_output_loss: 0.8438 - val_PI_output_loss: 0.0997 - val_Tmax_output_root_mean_squared_error: 0.9186 - val_PI_output_root_mean_squared_error: 0.3158\n",
      "Epoch 77/100\n",
      "589/589 [==============================] - 1s 2ms/step - loss: 0.9776 - Tmax_output_loss: 0.8739 - PI_output_loss: 0.1038 - Tmax_output_root_mean_squared_error: 0.9348 - PI_output_root_mean_squared_error: 0.3221 - val_loss: 0.9389 - val_Tmax_output_loss: 0.8398 - val_PI_output_loss: 0.0992 - val_Tmax_output_root_mean_squared_error: 0.9164 - val_PI_output_root_mean_squared_error: 0.3149\n",
      "Epoch 78/100\n",
      "589/589 [==============================] - 1s 2ms/step - loss: 0.9763 - Tmax_output_loss: 0.8729 - PI_output_loss: 0.1034 - Tmax_output_root_mean_squared_error: 0.9343 - PI_output_root_mean_squared_error: 0.3216 - val_loss: 0.9354 - val_Tmax_output_loss: 0.8367 - val_PI_output_loss: 0.0986 - val_Tmax_output_root_mean_squared_error: 0.9147 - val_PI_output_root_mean_squared_error: 0.3141\n",
      "Epoch 79/100\n",
      "589/589 [==============================] - 1s 2ms/step - loss: 0.9734 - Tmax_output_loss: 0.8703 - PI_output_loss: 0.1031 - Tmax_output_root_mean_squared_error: 0.9329 - PI_output_root_mean_squared_error: 0.3211 - val_loss: 0.9430 - val_Tmax_output_loss: 0.8447 - val_PI_output_loss: 0.0983 - val_Tmax_output_root_mean_squared_error: 0.9191 - val_PI_output_root_mean_squared_error: 0.3135\n",
      "Epoch 80/100\n",
      "589/589 [==============================] - 1s 2ms/step - loss: 0.9729 - Tmax_output_loss: 0.8704 - PI_output_loss: 0.1025 - Tmax_output_root_mean_squared_error: 0.9329 - PI_output_root_mean_squared_error: 0.3202 - val_loss: 0.9345 - val_Tmax_output_loss: 0.8367 - val_PI_output_loss: 0.0978 - val_Tmax_output_root_mean_squared_error: 0.9147 - val_PI_output_root_mean_squared_error: 0.3127\n",
      "Epoch 81/100\n",
      "589/589 [==============================] - 1s 2ms/step - loss: 0.9719 - Tmax_output_loss: 0.8697 - PI_output_loss: 0.1022 - Tmax_output_root_mean_squared_error: 0.9326 - PI_output_root_mean_squared_error: 0.3197 - val_loss: 0.9327 - val_Tmax_output_loss: 0.8351 - val_PI_output_loss: 0.0976 - val_Tmax_output_root_mean_squared_error: 0.9139 - val_PI_output_root_mean_squared_error: 0.3124\n",
      "Epoch 82/100\n",
      "589/589 [==============================] - 1s 2ms/step - loss: 0.9697 - Tmax_output_loss: 0.8679 - PI_output_loss: 0.1018 - Tmax_output_root_mean_squared_error: 0.9316 - PI_output_root_mean_squared_error: 0.3190 - val_loss: 0.9317 - val_Tmax_output_loss: 0.8322 - val_PI_output_loss: 0.0995 - val_Tmax_output_root_mean_squared_error: 0.9123 - val_PI_output_root_mean_squared_error: 0.3155\n",
      "Epoch 83/100\n",
      "589/589 [==============================] - 1s 2ms/step - loss: 0.9692 - Tmax_output_loss: 0.8678 - PI_output_loss: 0.1014 - Tmax_output_root_mean_squared_error: 0.9315 - PI_output_root_mean_squared_error: 0.3184 - val_loss: 0.9287 - val_Tmax_output_loss: 0.8298 - val_PI_output_loss: 0.0990 - val_Tmax_output_root_mean_squared_error: 0.9109 - val_PI_output_root_mean_squared_error: 0.3146\n",
      "Epoch 84/100\n",
      "589/589 [==============================] - 1s 2ms/step - loss: 0.9664 - Tmax_output_loss: 0.8652 - PI_output_loss: 0.1012 - Tmax_output_root_mean_squared_error: 0.9302 - PI_output_root_mean_squared_error: 0.3181 - val_loss: 0.9275 - val_Tmax_output_loss: 0.8309 - val_PI_output_loss: 0.0966 - val_Tmax_output_root_mean_squared_error: 0.9115 - val_PI_output_root_mean_squared_error: 0.3108\n",
      "Epoch 85/100\n",
      "589/589 [==============================] - 1s 2ms/step - loss: 0.9657 - Tmax_output_loss: 0.8652 - PI_output_loss: 0.1006 - Tmax_output_root_mean_squared_error: 0.9301 - PI_output_root_mean_squared_error: 0.3171 - val_loss: 0.9291 - val_Tmax_output_loss: 0.8311 - val_PI_output_loss: 0.0980 - val_Tmax_output_root_mean_squared_error: 0.9117 - val_PI_output_root_mean_squared_error: 0.3130\n",
      "Epoch 86/100\n",
      "589/589 [==============================] - 1s 2ms/step - loss: 0.9648 - Tmax_output_loss: 0.8644 - PI_output_loss: 0.1004 - Tmax_output_root_mean_squared_error: 0.9297 - PI_output_root_mean_squared_error: 0.3168 - val_loss: 0.9242 - val_Tmax_output_loss: 0.8283 - val_PI_output_loss: 0.0958 - val_Tmax_output_root_mean_squared_error: 0.9101 - val_PI_output_root_mean_squared_error: 0.3096\n",
      "Epoch 87/100\n",
      "589/589 [==============================] - 1s 2ms/step - loss: 0.9624 - Tmax_output_loss: 0.8623 - PI_output_loss: 0.1000 - Tmax_output_root_mean_squared_error: 0.9286 - PI_output_root_mean_squared_error: 0.3163 - val_loss: 0.9233 - val_Tmax_output_loss: 0.8279 - val_PI_output_loss: 0.0954 - val_Tmax_output_root_mean_squared_error: 0.9099 - val_PI_output_root_mean_squared_error: 0.3089\n",
      "Epoch 88/100\n",
      "589/589 [==============================] - 1s 2ms/step - loss: 0.9606 - Tmax_output_loss: 0.8610 - PI_output_loss: 0.0996 - Tmax_output_root_mean_squared_error: 0.9279 - PI_output_root_mean_squared_error: 0.3156 - val_loss: 0.9263 - val_Tmax_output_loss: 0.8309 - val_PI_output_loss: 0.0954 - val_Tmax_output_root_mean_squared_error: 0.9115 - val_PI_output_root_mean_squared_error: 0.3088\n",
      "Epoch 89/100\n",
      "589/589 [==============================] - 1s 2ms/step - loss: 0.9595 - Tmax_output_loss: 0.8601 - PI_output_loss: 0.0993 - Tmax_output_root_mean_squared_error: 0.9274 - PI_output_root_mean_squared_error: 0.3152 - val_loss: 0.9239 - val_Tmax_output_loss: 0.8290 - val_PI_output_loss: 0.0949 - val_Tmax_output_root_mean_squared_error: 0.9105 - val_PI_output_root_mean_squared_error: 0.3081\n",
      "Epoch 90/100\n",
      "589/589 [==============================] - 1s 2ms/step - loss: 0.9586 - Tmax_output_loss: 0.8598 - PI_output_loss: 0.0988 - Tmax_output_root_mean_squared_error: 0.9272 - PI_output_root_mean_squared_error: 0.3143 - val_loss: 0.9208 - val_Tmax_output_loss: 0.8252 - val_PI_output_loss: 0.0956 - val_Tmax_output_root_mean_squared_error: 0.9084 - val_PI_output_root_mean_squared_error: 0.3093\n",
      "Epoch 91/100\n",
      "589/589 [==============================] - 1s 2ms/step - loss: 0.9566 - Tmax_output_loss: 0.8580 - PI_output_loss: 0.0986 - Tmax_output_root_mean_squared_error: 0.9263 - PI_output_root_mean_squared_error: 0.3140 - val_loss: 0.9152 - val_Tmax_output_loss: 0.8207 - val_PI_output_loss: 0.0945 - val_Tmax_output_root_mean_squared_error: 0.9060 - val_PI_output_root_mean_squared_error: 0.3074\n",
      "Epoch 92/100\n",
      "589/589 [==============================] - 1s 2ms/step - loss: 0.9555 - Tmax_output_loss: 0.8573 - PI_output_loss: 0.0982 - Tmax_output_root_mean_squared_error: 0.9259 - PI_output_root_mean_squared_error: 0.3133 - val_loss: 0.9178 - val_Tmax_output_loss: 0.8223 - val_PI_output_loss: 0.0955 - val_Tmax_output_root_mean_squared_error: 0.9068 - val_PI_output_root_mean_squared_error: 0.3090\n",
      "Epoch 93/100\n",
      "589/589 [==============================] - 1s 2ms/step - loss: 0.9533 - Tmax_output_loss: 0.8554 - PI_output_loss: 0.0979 - Tmax_output_root_mean_squared_error: 0.9249 - PI_output_root_mean_squared_error: 0.3129 - val_loss: 0.9142 - val_Tmax_output_loss: 0.8202 - val_PI_output_loss: 0.0940 - val_Tmax_output_root_mean_squared_error: 0.9056 - val_PI_output_root_mean_squared_error: 0.3066\n",
      "Epoch 94/100\n",
      "589/589 [==============================] - 1s 2ms/step - loss: 0.9523 - Tmax_output_loss: 0.8547 - PI_output_loss: 0.0976 - Tmax_output_root_mean_squared_error: 0.9245 - PI_output_root_mean_squared_error: 0.3124 - val_loss: 0.9135 - val_Tmax_output_loss: 0.8199 - val_PI_output_loss: 0.0936 - val_Tmax_output_root_mean_squared_error: 0.9055 - val_PI_output_root_mean_squared_error: 0.3059\n",
      "Epoch 95/100\n",
      "589/589 [==============================] - 1s 2ms/step - loss: 0.9503 - Tmax_output_loss: 0.8533 - PI_output_loss: 0.0969 - Tmax_output_root_mean_squared_error: 0.9238 - PI_output_root_mean_squared_error: 0.3113 - val_loss: 0.9136 - val_Tmax_output_loss: 0.8205 - val_PI_output_loss: 0.0932 - val_Tmax_output_root_mean_squared_error: 0.9058 - val_PI_output_root_mean_squared_error: 0.3052\n",
      "Epoch 96/100\n",
      "589/589 [==============================] - 1s 2ms/step - loss: 0.9490 - Tmax_output_loss: 0.8522 - PI_output_loss: 0.0968 - Tmax_output_root_mean_squared_error: 0.9231 - PI_output_root_mean_squared_error: 0.3112 - val_loss: 0.9066 - val_Tmax_output_loss: 0.8139 - val_PI_output_loss: 0.0927 - val_Tmax_output_root_mean_squared_error: 0.9022 - val_PI_output_root_mean_squared_error: 0.3045\n",
      "Epoch 97/100\n",
      "589/589 [==============================] - 1s 2ms/step - loss: 0.9479 - Tmax_output_loss: 0.8513 - PI_output_loss: 0.0965 - Tmax_output_root_mean_squared_error: 0.9227 - PI_output_root_mean_squared_error: 0.3107 - val_loss: 0.9072 - val_Tmax_output_loss: 0.8148 - val_PI_output_loss: 0.0925 - val_Tmax_output_root_mean_squared_error: 0.9027 - val_PI_output_root_mean_squared_error: 0.3041\n",
      "Epoch 98/100\n",
      "589/589 [==============================] - 1s 2ms/step - loss: 0.9461 - Tmax_output_loss: 0.8501 - PI_output_loss: 0.0960 - Tmax_output_root_mean_squared_error: 0.9220 - PI_output_root_mean_squared_error: 0.3099 - val_loss: 0.9086 - val_Tmax_output_loss: 0.8157 - val_PI_output_loss: 0.0929 - val_Tmax_output_root_mean_squared_error: 0.9032 - val_PI_output_root_mean_squared_error: 0.3048\n",
      "Epoch 99/100\n",
      "589/589 [==============================] - 1s 2ms/step - loss: 0.9437 - Tmax_output_loss: 0.8480 - PI_output_loss: 0.0957 - Tmax_output_root_mean_squared_error: 0.9209 - PI_output_root_mean_squared_error: 0.3094 - val_loss: 0.9098 - val_Tmax_output_loss: 0.8179 - val_PI_output_loss: 0.0920 - val_Tmax_output_root_mean_squared_error: 0.9044 - val_PI_output_root_mean_squared_error: 0.3033\n",
      "Epoch 100/100\n",
      "589/589 [==============================] - 1s 2ms/step - loss: 0.9420 - Tmax_output_loss: 0.8465 - PI_output_loss: 0.0955 - Tmax_output_root_mean_squared_error: 0.9201 - PI_output_root_mean_squared_error: 0.3090 - val_loss: 0.9038 - val_Tmax_output_loss: 0.8123 - val_PI_output_loss: 0.0915 - val_Tmax_output_root_mean_squared_error: 0.9013 - val_PI_output_root_mean_squared_error: 0.3025\n"
     ]
    }
   ],
   "source": [
    "# Train the model for 200 epochs\n",
    "history = model.fit(norm_train_X, train_Y,\n",
    "                    epochs=100, batch_size=10, validation_data=(norm_test_X, test_Y))"
   ]
  },
  {
   "cell_type": "code",
   "execution_count": 309,
   "id": "5b50eb03-6298-4406-a8d0-4585c4d8bcd5",
   "metadata": {},
   "outputs": [
    {
     "name": "stdout",
     "output_type": "stream",
     "text": [
      "47/47 [==============================] - 0s 1ms/step - loss: 0.9312 - Tmax_output_loss: 0.8364 - PI_output_loss: 0.0948 - Tmax_output_root_mean_squared_error: 0.9146 - PI_output_root_mean_squared_error: 0.3079\n",
      "\n",
      "loss: 0.9312143921852112\n",
      "Tmax_loss: 0.8364405035972595\n",
      "PI_loss: 0.09477365761995316\n",
      "Tmax_rmse: 0.914571225643158\n",
      "PI_rmse: 0.3078533113002777\n"
     ]
    }
   ],
   "source": [
    "# Test the model and print loss and rmse for both outputs\n",
    "loss, Y1_loss, Y2_loss, Y1_rmse, Y2_rmse = model.evaluate(x=norm_val_X, y=val_Y)\n",
    "\n",
    "print()\n",
    "print(f'loss: {loss}')\n",
    "print(f'Tmax_loss: {Y1_loss}')\n",
    "print(f'PI_loss: {Y2_loss}')\n",
    "print(f'Tmax_rmse: {Y1_rmse}')\n",
    "print(f'PI_rmse: {Y2_rmse}')"
   ]
  },
  {
   "cell_type": "code",
   "execution_count": 310,
   "id": "73032c50-42ce-4f40-8b2d-edcaa5b7dce6",
   "metadata": {},
   "outputs": [],
   "source": [
    "def plot_diff(y_true, y_pred, title=''):\n",
    "    plt.scatter(y_true, y_pred)\n",
    "    plt.title(title)\n",
    "    plt.xlabel('True Values')\n",
    "    plt.ylabel('Predictions')\n",
    "    plt.axis('equal')\n",
    "    plt.axis('square')\n",
    "    plt.xlim(plt.xlim())\n",
    "    plt.ylim(plt.ylim())\n",
    "    plt.plot([-100, 100], [-100, 100])\n",
    "    plt.show()\n",
    "\n",
    "\n",
    "def plot_metrics(metric_name, title, ylim=5):\n",
    "    plt.title(title)\n",
    "    plt.ylim(0, ylim)\n",
    "    plt.plot(history.history[metric_name], color='blue', label=metric_name)\n",
    "    plt.plot(history.history['val_' + metric_name], color='green', label='val_' + metric_name)\n",
    "    plt.show()"
   ]
  },
  {
   "cell_type": "code",
   "execution_count": 311,
   "id": "9cb21b9a-5d34-46b0-97f4-444584e5ff76",
   "metadata": {},
   "outputs": [
    {
     "data": {
      "image/png": "[encoded data removed]",
      "text/plain": [
       "<Figure size 432x288 with 1 Axes>"
      ]
     },
     "metadata": {
      "needs_background": "light"
     },
     "output_type": "display_data"
    },
    {
     "data": {
      "image/png": "[encoded data removed]",
      "text/plain": [
       "<Figure size 432x288 with 1 Axes>"
      ]
     },
     "metadata": {
      "needs_background": "light"
     },
     "output_type": "display_data"
    }
   ],
   "source": [
    "# Run predict\n",
    "Y_pred = model.predict(norm_test_X)\n",
    "price_pred = Y_pred[0]\n",
    "ptratio_pred = Y_pred[1]\n",
    "\n",
    "plot_diff(test_Y[0], Y_pred[0], title='Tmax')\n",
    "plot_diff(test_Y[1], Y_pred[1], title='PI')"
   ]
  },
  {
   "cell_type": "code",
   "execution_count": 312,
   "id": "fb848b33-fbeb-4414-9c91-a174544190e5",
   "metadata": {},
   "outputs": [],
   "source": [
    "def plot_metrics1(metric_name, title, ylim=5):\n",
    "    plt.title(title)\n",
    "    plt.ylim(0.9, ylim)\n",
    "    plt.plot(history.history[metric_name], color='blue', label=metric_name)\n",
    "    plt.plot(history.history['val_' + metric_name], color='green', label='val_' + metric_name)\n",
    "    plt.show()"
   ]
  },
  {
   "cell_type": "code",
   "execution_count": 318,
   "id": "5c30d779-60f0-423a-a012-3ab66fbf0524",
   "metadata": {},
   "outputs": [
    {
     "data": {
      "image/png": "[encoded data removed]",
      "text/plain": [
       "<Figure size 432x288 with 1 Axes>"
      ]
     },
     "metadata": {
      "needs_background": "light"
     },
     "output_type": "display_data"
    },
    {
     "data": {
      "image/png": "[encoded data removed]",
      "text/plain": [
       "<Figure size 432x288 with 1 Axes>"
      ]
     },
     "metadata": {
      "needs_background": "light"
     },
     "output_type": "display_data"
    }
   ],
   "source": [
    "# Plot RMSE\n",
    "plot_metrics1(metric_name='Tmax_output_root_mean_squared_error', title='Tmax RMSE',ylim=1.0)\n",
    "plot_metrics(metric_name='PI_output_root_mean_squared_error', title='PI RMSE', ylim=1)"
   ]
  },
  {
   "cell_type": "code",
   "execution_count": 323,
   "id": "8d586f45-4b58-4623-b1a9-ee6d8ca89248",
   "metadata": {},
   "outputs": [
    {
     "data": {
      "image/png": "[encoded data removed]",
      "text/plain": [
       "<Figure size 432x288 with 1 Axes>"
      ]
     },
     "metadata": {
      "needs_background": "light"
     },
     "output_type": "display_data"
    },
    {
     "data": {
      "image/png": "[encoded data removed]",
      "text/plain": [
       "<Figure size 432x288 with 1 Axes>"
      ]
     },
     "metadata": {
      "needs_background": "light"
     },
     "output_type": "display_data"
    }
   ],
   "source": [
    "# Plot loss\n",
    "plot_metrics(metric_name='Tmax_output_loss', title='Tmax LOSS', ylim=1.2)\n",
    "plot_metrics(metric_name='PI_output_loss', title='PI LOSS', ylim=0.6)"
   ]
  },
  {
   "cell_type": "code",
   "execution_count": null,
   "id": "d17bfaa3-b091-4a48-b00f-aeb3566298e1",
   "metadata": {},
   "outputs": [],
   "source": []
  },
  {
   "cell_type": "code",
   "execution_count": null,
   "id": "d4802214-1806-4619-9fad-442ec1a94dbb",
   "metadata": {},
   "outputs": [],
   "source": []
  },
  {
   "cell_type": "code",
   "execution_count": null,
   "id": "48ff1753-3ab8-47fa-ae88-22184e218e72",
   "metadata": {},
   "outputs": [],
   "source": []
  },
  {
   "cell_type": "code",
   "execution_count": 47,
   "id": "48dcbda1-7061-48b7-a874-042a2cae6716",
   "metadata": {},
   "outputs": [
    {
     "data": {
      "text/html": [
       "<div>\n",
       "<style scoped>\n",
       "    .dataframe tbody tr th:only-of-type {\n",
       "        vertical-align: middle;\n",
       "    }\n",
       "\n",
       "    .dataframe tbody tr th {\n",
       "        vertical-align: top;\n",
       "    }\n",
       "\n",
       "    .dataframe thead th {\n",
       "        text-align: right;\n",
       "    }\n",
       "</style>\n",
       "<table border=\"1\" class=\"dataframe\">\n",
       "  <thead>\n",
       "    <tr style=\"text-align: right;\">\n",
       "      <th></th>\n",
       "      <th>GR</th>\n",
       "      <th>ILD</th>\n",
       "      <th>Porosity</th>\n",
       "      <th>Avg. Depth</th>\n",
       "      <th>Tmax (°C)</th>\n",
       "      <th>PI</th>\n",
       "    </tr>\n",
       "  </thead>\n",
       "  <tbody>\n",
       "    <tr>\n",
       "      <th>count</th>\n",
       "      <td>1750.000000</td>\n",
       "      <td>1750.000000</td>\n",
       "      <td>1750.000000</td>\n",
       "      <td>1750.000000</td>\n",
       "      <td>1750.000000</td>\n",
       "      <td>1750.000000</td>\n",
       "    </tr>\n",
       "    <tr>\n",
       "      <th>mean</th>\n",
       "      <td>143.806626</td>\n",
       "      <td>31.313746</td>\n",
       "      <td>13.901927</td>\n",
       "      <td>10706.628657</td>\n",
       "      <td>440.253503</td>\n",
       "      <td>0.182834</td>\n",
       "    </tr>\n",
       "    <tr>\n",
       "      <th>std</th>\n",
       "      <td>33.179701</td>\n",
       "      <td>63.028174</td>\n",
       "      <td>5.497715</td>\n",
       "      <td>732.592466</td>\n",
       "      <td>47.628065</td>\n",
       "      <td>0.165555</td>\n",
       "    </tr>\n",
       "    <tr>\n",
       "      <th>min</th>\n",
       "      <td>31.991913</td>\n",
       "      <td>2.571900</td>\n",
       "      <td>5.607974</td>\n",
       "      <td>8364.000000</td>\n",
       "      <td>0.070000</td>\n",
       "      <td>0.010000</td>\n",
       "    </tr>\n",
       "    <tr>\n",
       "      <th>25%</th>\n",
       "      <td>127.805315</td>\n",
       "      <td>9.806300</td>\n",
       "      <td>8.480000</td>\n",
       "      <td>10607.800000</td>\n",
       "      <td>441.000000</td>\n",
       "      <td>0.030000</td>\n",
       "    </tr>\n",
       "    <tr>\n",
       "      <th>50%</th>\n",
       "      <td>142.788603</td>\n",
       "      <td>17.120700</td>\n",
       "      <td>12.720000</td>\n",
       "      <td>10649.700000</td>\n",
       "      <td>444.000000</td>\n",
       "      <td>0.130000</td>\n",
       "    </tr>\n",
       "    <tr>\n",
       "      <th>75%</th>\n",
       "      <td>157.683500</td>\n",
       "      <td>28.973155</td>\n",
       "      <td>19.100000</td>\n",
       "      <td>11183.900000</td>\n",
       "      <td>450.000000</td>\n",
       "      <td>0.360000</td>\n",
       "    </tr>\n",
       "    <tr>\n",
       "      <th>max</th>\n",
       "      <td>267.666300</td>\n",
       "      <td>380.210596</td>\n",
       "      <td>28.940000</td>\n",
       "      <td>12679.500000</td>\n",
       "      <td>463.000000</td>\n",
       "      <td>0.480000</td>\n",
       "    </tr>\n",
       "  </tbody>\n",
       "</table>\n",
       "</div>"
      ],
      "text/plain": [
       "                GR          ILD     Porosity    Avg. Depth    Tmax (°C)  \\\n",
       "count  1750.000000  1750.000000  1750.000000   1750.000000  1750.000000   \n",
       "mean    143.806626    31.313746    13.901927  10706.628657   440.253503   \n",
       "std      33.179701    63.028174     5.497715    732.592466    47.628065   \n",
       "min      31.991913     2.571900     5.607974   8364.000000     0.070000   \n",
       "25%     127.805315     9.806300     8.480000  10607.800000   441.000000   \n",
       "50%     142.788603    17.120700    12.720000  10649.700000   444.000000   \n",
       "75%     157.683500    28.973155    19.100000  11183.900000   450.000000   \n",
       "max     267.666300   380.210596    28.940000  12679.500000   463.000000   \n",
       "\n",
       "                PI  \n",
       "count  1750.000000  \n",
       "mean      0.182834  \n",
       "std       0.165555  \n",
       "min       0.010000  \n",
       "25%       0.030000  \n",
       "50%       0.130000  \n",
       "75%       0.360000  \n",
       "max       0.480000  "
      ]
     },
     "execution_count": 47,
     "metadata": {},
     "output_type": "execute_result"
    }
   ],
   "source": [
    "train_stats"
   ]
  },
  {
   "cell_type": "code",
   "execution_count": 48,
   "id": "fe1b0820-e2d5-4ecb-9b2b-0edac8bb56a4",
   "metadata": {},
   "outputs": [
    {
     "data": {
      "text/html": [
       "<div>\n",
       "<style scoped>\n",
       "    .dataframe tbody tr th:only-of-type {\n",
       "        vertical-align: middle;\n",
       "    }\n",
       "\n",
       "    .dataframe tbody tr th {\n",
       "        vertical-align: top;\n",
       "    }\n",
       "\n",
       "    .dataframe thead th {\n",
       "        text-align: right;\n",
       "    }\n",
       "</style>\n",
       "<table border=\"1\" class=\"dataframe\">\n",
       "  <thead>\n",
       "    <tr style=\"text-align: right;\">\n",
       "      <th></th>\n",
       "      <th>count</th>\n",
       "      <th>mean</th>\n",
       "      <th>std</th>\n",
       "      <th>min</th>\n",
       "      <th>25%</th>\n",
       "      <th>50%</th>\n",
       "      <th>75%</th>\n",
       "      <th>max</th>\n",
       "    </tr>\n",
       "  </thead>\n",
       "  <tbody>\n",
       "    <tr>\n",
       "      <th>GR</th>\n",
       "      <td>1750.0</td>\n",
       "      <td>143.806626</td>\n",
       "      <td>33.179701</td>\n",
       "      <td>31.991913</td>\n",
       "      <td>127.805315</td>\n",
       "      <td>142.788603</td>\n",
       "      <td>157.683500</td>\n",
       "      <td>267.666300</td>\n",
       "    </tr>\n",
       "    <tr>\n",
       "      <th>ILD</th>\n",
       "      <td>1750.0</td>\n",
       "      <td>31.313746</td>\n",
       "      <td>63.028174</td>\n",
       "      <td>2.571900</td>\n",
       "      <td>9.806300</td>\n",
       "      <td>17.120700</td>\n",
       "      <td>28.973155</td>\n",
       "      <td>380.210596</td>\n",
       "    </tr>\n",
       "    <tr>\n",
       "      <th>Porosity</th>\n",
       "      <td>1750.0</td>\n",
       "      <td>13.901927</td>\n",
       "      <td>5.497715</td>\n",
       "      <td>5.607974</td>\n",
       "      <td>8.480000</td>\n",
       "      <td>12.720000</td>\n",
       "      <td>19.100000</td>\n",
       "      <td>28.940000</td>\n",
       "    </tr>\n",
       "    <tr>\n",
       "      <th>Avg. Depth</th>\n",
       "      <td>1750.0</td>\n",
       "      <td>10706.628657</td>\n",
       "      <td>732.592466</td>\n",
       "      <td>8364.000000</td>\n",
       "      <td>10607.800000</td>\n",
       "      <td>10649.700000</td>\n",
       "      <td>11183.900000</td>\n",
       "      <td>12679.500000</td>\n",
       "    </tr>\n",
       "    <tr>\n",
       "      <th>Tmax (°C)</th>\n",
       "      <td>1750.0</td>\n",
       "      <td>440.253503</td>\n",
       "      <td>47.628065</td>\n",
       "      <td>0.070000</td>\n",
       "      <td>441.000000</td>\n",
       "      <td>444.000000</td>\n",
       "      <td>450.000000</td>\n",
       "      <td>463.000000</td>\n",
       "    </tr>\n",
       "    <tr>\n",
       "      <th>PI</th>\n",
       "      <td>1750.0</td>\n",
       "      <td>0.182834</td>\n",
       "      <td>0.165555</td>\n",
       "      <td>0.010000</td>\n",
       "      <td>0.030000</td>\n",
       "      <td>0.130000</td>\n",
       "      <td>0.360000</td>\n",
       "      <td>0.480000</td>\n",
       "    </tr>\n",
       "  </tbody>\n",
       "</table>\n",
       "</div>"
      ],
      "text/plain": [
       "             count          mean         std          min           25%  \\\n",
       "GR          1750.0    143.806626   33.179701    31.991913    127.805315   \n",
       "ILD         1750.0     31.313746   63.028174     2.571900      9.806300   \n",
       "Porosity    1750.0     13.901927    5.497715     5.607974      8.480000   \n",
       "Avg. Depth  1750.0  10706.628657  732.592466  8364.000000  10607.800000   \n",
       "Tmax (°C)   1750.0    440.253503   47.628065     0.070000    441.000000   \n",
       "PI          1750.0      0.182834    0.165555     0.010000      0.030000   \n",
       "\n",
       "                     50%           75%           max  \n",
       "GR            142.788603    157.683500    267.666300  \n",
       "ILD            17.120700     28.973155    380.210596  \n",
       "Porosity       12.720000     19.100000     28.940000  \n",
       "Avg. Depth  10649.700000  11183.900000  12679.500000  \n",
       "Tmax (°C)     444.000000    450.000000    463.000000  \n",
       "PI              0.130000      0.360000      0.480000  "
      ]
     },
     "execution_count": 48,
     "metadata": {},
     "output_type": "execute_result"
    }
   ],
   "source": [
    "train_stats.transpose()"
   ]
  },
  {
   "cell_type": "code",
   "execution_count": 230,
   "id": "efdc71be-6d1a-46eb-a628-27f1e6f08cd8",
   "metadata": {},
   "outputs": [],
   "source": [
    "import pickle"
   ]
  },
  {
   "cell_type": "code",
   "execution_count": 239,
   "id": "4457effb-32d6-4b40-836a-48bfb33f6315",
   "metadata": {},
   "outputs": [],
   "source": [
    "filename='Tmax_PI1.sav'\n",
    "pickle.dump(regr_rf,open(filename,'wb'))"
   ]
  },
  {
   "cell_type": "code",
   "execution_count": 324,
   "id": "7504929a-4480-4b58-8516-771402782fce",
   "metadata": {},
   "outputs": [],
   "source": [
    "y_predictions=model.predict(norm_test_X)"
   ]
  },
  {
   "cell_type": "code",
   "execution_count": 325,
   "id": "26c9767f-cfd5-479c-b7b1-7984af6ca837",
   "metadata": {},
   "outputs": [
    {
     "data": {
      "text/plain": [
       "[array([[ 0.01051672],\n",
       "        [-0.08806721],\n",
       "        [ 0.36558375],\n",
       "        ...,\n",
       "        [ 0.03207631],\n",
       "        [ 0.06979439],\n",
       "        [-0.00174955]], dtype=float32),\n",
       " array([[-0.94597137],\n",
       "        [-0.90989643],\n",
       "        [-0.3650254 ],\n",
       "        ...,\n",
       "        [-0.93232095],\n",
       "        [-0.89801896],\n",
       "        [-0.04650116]], dtype=float32)]"
      ]
     },
     "execution_count": 325,
     "metadata": {},
     "output_type": "execute_result"
    }
   ],
   "source": [
    "y_predictions"
   ]
  },
  {
   "cell_type": "code",
   "execution_count": 297,
   "id": "b57608e9-a8ac-456e-82c7-ca200d263b3a",
   "metadata": {},
   "outputs": [],
   "source": [
    "first=y_predictions[0]\n",
    "second=y_predictions[1]"
   ]
  },
  {
   "cell_type": "code",
   "execution_count": 327,
   "id": "7c2e0141-47d5-4c88-85a4-44577c5fe979",
   "metadata": {},
   "outputs": [
    {
     "name": "stdout",
     "output_type": "stream",
     "text": [
      "Mean Square Error      = 0.8122691562120343\n",
      "Root Mean Square Error = 0.9012597606750422\n",
      "Mean Absolute Error    = 0.24420883501141355\n",
      "Median Absolute Error  = 0.09635873995495436\n",
      "R^2                    = 0.18773084378796567\n"
     ]
    }
   ],
   "source": [
    "def print_metrics(y_true, y_predicted, n_parameters):\n",
    "    ## First compute R^2 and the adjusted R^2\n",
    "    r2 = sklm.r2_score(y_true, y_predicted)\n",
    "    #r2_adj = r2 - (n_parameters - 1)/(y_true.shape[0] - n_parameters) * (1 - r2)\n",
    "    \n",
    "    ## Print the usual metrics and the R^2 values\n",
    "    print('Mean Square Error      = ' + str(sklm.mean_squared_error(y_true, y_predicted)))\n",
    "    print('Root Mean Square Error = ' + str(math.sqrt(sklm.mean_squared_error(y_true, y_predicted))))\n",
    "    print('Mean Absolute Error    = ' + str(sklm.mean_absolute_error(y_true, y_predicted)))\n",
    "    print('Median Absolute Error  = ' + str(sklm.median_absolute_error(y_true, y_predicted)))\n",
    "    print('R^2                    = ' + str(r2))\n",
    "    #print('Adjusted R^2           = ' + str(r2_adj))\n",
    "   \n",
    "\n",
    "print_metrics(test_Y[0], y_predictions[0], 4)"
   ]
  },
  {
   "cell_type": "code",
   "execution_count": null,
   "id": "900bbea8-fe2f-48b3-8e69-5ca965b90e5b",
   "metadata": {},
   "outputs": [],
   "source": []
  },
  {
   "cell_type": "code",
   "execution_count": null,
   "id": "e5ff7b11-5207-4eff-8cbf-7f3575ab5eaa",
   "metadata": {},
   "outputs": [],
   "source": []
  },
  {
   "cell_type": "code",
   "execution_count": null,
   "id": "7ae914f0-96d5-4ab7-85cb-af0154abb692",
   "metadata": {},
   "outputs": [],
   "source": []
  },
  {
   "cell_type": "code",
   "execution_count": null,
   "id": "87b29f6a-2735-4729-bf81-22c0c5e4cb16",
   "metadata": {},
   "outputs": [],
   "source": []
  },
  {
   "cell_type": "code",
   "execution_count": null,
   "id": "112bee58-7193-41a1-850a-9b8354184233",
   "metadata": {},
   "outputs": [],
   "source": []
  },
  {
   "cell_type": "code",
   "execution_count": null,
   "id": "177578e2-456b-43e2-8085-5836c2a65f05",
   "metadata": {},
   "outputs": [],
   "source": []
  },
  {
   "cell_type": "code",
   "execution_count": null,
   "id": "e0e1dac3-df4c-483f-9009-2f66847f39e0",
   "metadata": {},
   "outputs": [],
   "source": []
  },
  {
   "cell_type": "code",
   "execution_count": null,
   "id": "26f14546-b938-4f8f-8a0c-5fa3eaeeea7e",
   "metadata": {},
   "outputs": [],
   "source": []
  },
  {
   "cell_type": "code",
   "execution_count": null,
   "id": "0d0e0785-40ab-49d8-a170-303c2a9ca450",
   "metadata": {},
   "outputs": [],
   "source": []
  },
  {
   "cell_type": "code",
   "execution_count": null,
   "id": "60ff0b8c-4cab-4bb0-b440-0b10bf069165",
   "metadata": {},
   "outputs": [],
   "source": []
  },
  {
   "cell_type": "code",
   "execution_count": null,
   "id": "31b86ff7-7745-45b1-a97f-d925fffd0038",
   "metadata": {},
   "outputs": [],
   "source": []
  },
  {
   "cell_type": "code",
   "execution_count": null,
   "id": "5778c127-a8c7-4472-8bb5-1b08575cc121",
   "metadata": {},
   "outputs": [],
   "source": []
  },
  {
   "cell_type": "markdown",
   "id": "49c247be-3bc1-4121-9ecb-a74a94281156",
   "metadata": {},
   "source": [
    "## saving TOC Model"
   ]
  },
  {
   "cell_type": "code",
   "execution_count": 240,
   "id": "ccb6ca57-1514-4a02-898a-62a47c797a60",
   "metadata": {},
   "outputs": [
    {
     "name": "stdout",
     "output_type": "stream",
     "text": [
      "INFO:tensorflow:Assets written to: ./PowderRiverSweetspots/assets\n"
     ]
    }
   ],
   "source": [
    "model.save('./PowderRiverSweetspots1/', save_format='tf')\n"
   ]
  },
  {
   "cell_type": "code",
   "execution_count": 241,
   "id": "cdf02a48-c40b-4d13-88f4-8f7d7e494f90",
   "metadata": {},
   "outputs": [],
   "source": [
    "loaded_model = tf.keras.models.load_model('./PowderRiverSweetspots/')"
   ]
  },
  {
   "cell_type": "code",
   "execution_count": 243,
   "id": "36e54e79-0dcd-4701-8d4e-4d56571aaa11",
   "metadata": {},
   "outputs": [],
   "source": [
    "# Run predict with restored model\n",
    "predictions = loaded_model.predict(norm_test_X)\n",
    "Tmax_pred = predictions[0]\n",
    "PI_pred = predictions[1]"
   ]
  },
  {
   "cell_type": "code",
   "execution_count": 244,
   "id": "c2a3146f-bc2d-4dc3-8e2d-d95b54410c36",
   "metadata": {},
   "outputs": [
    {
     "data": {
      "text/plain": [
       "array([[ 0.00813064],\n",
       "       [-0.11706318],\n",
       "       [ 0.3859629 ],\n",
       "       ...,\n",
       "       [-0.02391331],\n",
       "       [ 0.12691142],\n",
       "       [-0.05316591]], dtype=float32)"
      ]
     },
     "execution_count": 244,
     "metadata": {},
     "output_type": "execute_result"
    }
   ],
   "source": [
    "Tmax_pred "
   ]
  },
  {
   "cell_type": "code",
   "execution_count": 245,
   "id": "d1310734-27f3-422d-87cd-ae26830cb1df",
   "metadata": {},
   "outputs": [
    {
     "data": {
      "text/plain": [
       "array([[-0.96920043],\n",
       "       [-0.8733179 ],\n",
       "       [-0.2536039 ],\n",
       "       ...,\n",
       "       [-0.90727717],\n",
       "       [-0.89308727],\n",
       "       [-0.13365468]], dtype=float32)"
      ]
     },
     "execution_count": 245,
     "metadata": {},
     "output_type": "execute_result"
    }
   ],
   "source": [
    "PI_pred"
   ]
  },
  {
   "cell_type": "code",
   "execution_count": 258,
   "id": "9670b55f-1b21-4422-a400-13a0324ab12e",
   "metadata": {},
   "outputs": [
    {
     "ename": "ValueError",
     "evalue": "cannot reshape array of size 1841 into shape (4)",
     "output_type": "error",
     "traceback": [
      "\u001b[1;31m---------------------------------------------------------------------------\u001b[0m",
      "\u001b[1;31mValueError\u001b[0m                                Traceback (most recent call last)",
      "\u001b[1;32m<ipython-input-258-f3ccb86706f1>\u001b[0m in \u001b[0;36m<module>\u001b[1;34m\u001b[0m\n\u001b[1;32m----> 1\u001b[1;33m \u001b[0mscaler\u001b[0m\u001b[1;33m.\u001b[0m\u001b[0minverse_transform\u001b[0m\u001b[1;33m(\u001b[0m\u001b[0mTmax_pred\u001b[0m\u001b[1;33m.\u001b[0m\u001b[0mreshape\u001b[0m\u001b[1;33m(\u001b[0m\u001b[1;33m-\u001b[0m\u001b[1;36m1\u001b[0m\u001b[1;33m,\u001b[0m\u001b[1;36m4\u001b[0m\u001b[1;33m)\u001b[0m\u001b[1;33m)\u001b[0m\u001b[1;33m\u001b[0m\u001b[1;33m\u001b[0m\u001b[0m\n\u001b[0m",
      "\u001b[1;31mValueError\u001b[0m: cannot reshape array of size 1841 into shape (4)"
     ]
    }
   ],
   "source": [
    "scaler.inverse_transform(Tmax_pred.reshape(-1,4))"
   ]
  },
  {
   "cell_type": "code",
   "execution_count": 253,
   "id": "45a9fa98-f52d-4aeb-bebc-e58ee35367e2",
   "metadata": {},
   "outputs": [
    {
     "name": "stdout",
     "output_type": "stream",
     "text": [
      "Built-in mutable sequence.\n",
      "\n",
      "If no argument is given, the constructor creates a new empty list.\n",
      "The argument must be an iterable if specified.\n"
     ]
    }
   ],
   "source": [
    "np.info(predictions)"
   ]
  },
  {
   "cell_type": "code",
   "execution_count": 332,
   "id": "fa87d7a7-a117-4683-940f-de3d66c403a3",
   "metadata": {},
   "outputs": [],
   "source": [
    "anothermethod=data.drop(['PI','Tmax (°C)'],axis=1)"
   ]
  },
  {
   "cell_type": "code",
   "execution_count": 333,
   "id": "eff4c991-5485-42ea-baad-3ee02e5012ad",
   "metadata": {},
   "outputs": [
    {
     "data": {
      "text/html": [
       "<div>\n",
       "<style scoped>\n",
       "    .dataframe tbody tr th:only-of-type {\n",
       "        vertical-align: middle;\n",
       "    }\n",
       "\n",
       "    .dataframe tbody tr th {\n",
       "        vertical-align: top;\n",
       "    }\n",
       "\n",
       "    .dataframe thead th {\n",
       "        text-align: right;\n",
       "    }\n",
       "</style>\n",
       "<table border=\"1\" class=\"dataframe\">\n",
       "  <thead>\n",
       "    <tr style=\"text-align: right;\">\n",
       "      <th></th>\n",
       "      <th>GR</th>\n",
       "      <th>ILD</th>\n",
       "      <th>Porosity</th>\n",
       "      <th>Avg. Depth</th>\n",
       "    </tr>\n",
       "  </thead>\n",
       "  <tbody>\n",
       "    <tr>\n",
       "      <th>0</th>\n",
       "      <td>113.312000</td>\n",
       "      <td>6.419200</td>\n",
       "      <td>20.160000</td>\n",
       "      <td>10557.2</td>\n",
       "    </tr>\n",
       "    <tr>\n",
       "      <th>1</th>\n",
       "      <td>123.569200</td>\n",
       "      <td>9.876200</td>\n",
       "      <td>17.310000</td>\n",
       "      <td>10677.4</td>\n",
       "    </tr>\n",
       "    <tr>\n",
       "      <th>2</th>\n",
       "      <td>143.963500</td>\n",
       "      <td>4.226100</td>\n",
       "      <td>8.480000</td>\n",
       "      <td>10162.0</td>\n",
       "    </tr>\n",
       "    <tr>\n",
       "      <th>3</th>\n",
       "      <td>117.457600</td>\n",
       "      <td>9.061900</td>\n",
       "      <td>20.760000</td>\n",
       "      <td>10690.7</td>\n",
       "    </tr>\n",
       "    <tr>\n",
       "      <th>4</th>\n",
       "      <td>113.312000</td>\n",
       "      <td>6.419200</td>\n",
       "      <td>20.160000</td>\n",
       "      <td>10557.2</td>\n",
       "    </tr>\n",
       "    <tr>\n",
       "      <th>...</th>\n",
       "      <td>...</td>\n",
       "      <td>...</td>\n",
       "      <td>...</td>\n",
       "      <td>...</td>\n",
       "    </tr>\n",
       "    <tr>\n",
       "      <th>9199</th>\n",
       "      <td>105.054811</td>\n",
       "      <td>9.725226</td>\n",
       "      <td>10.592800</td>\n",
       "      <td>9227.0</td>\n",
       "    </tr>\n",
       "    <tr>\n",
       "      <th>9200</th>\n",
       "      <td>113.135171</td>\n",
       "      <td>51.706493</td>\n",
       "      <td>9.700599</td>\n",
       "      <td>11170.0</td>\n",
       "    </tr>\n",
       "    <tr>\n",
       "      <th>9201</th>\n",
       "      <td>157.069571</td>\n",
       "      <td>30.067157</td>\n",
       "      <td>9.500998</td>\n",
       "      <td>11343.2</td>\n",
       "    </tr>\n",
       "    <tr>\n",
       "      <th>9202</th>\n",
       "      <td>144.028221</td>\n",
       "      <td>49.117105</td>\n",
       "      <td>7.704591</td>\n",
       "      <td>11255.5</td>\n",
       "    </tr>\n",
       "    <tr>\n",
       "      <th>9203</th>\n",
       "      <td>161.057408</td>\n",
       "      <td>30.067157</td>\n",
       "      <td>9.500998</td>\n",
       "      <td>11199.0</td>\n",
       "    </tr>\n",
       "  </tbody>\n",
       "</table>\n",
       "<p>9204 rows × 4 columns</p>\n",
       "</div>"
      ],
      "text/plain": [
       "              GR        ILD   Porosity  Avg. Depth\n",
       "0     113.312000   6.419200  20.160000     10557.2\n",
       "1     123.569200   9.876200  17.310000     10677.4\n",
       "2     143.963500   4.226100   8.480000     10162.0\n",
       "3     117.457600   9.061900  20.760000     10690.7\n",
       "4     113.312000   6.419200  20.160000     10557.2\n",
       "...          ...        ...        ...         ...\n",
       "9199  105.054811   9.725226  10.592800      9227.0\n",
       "9200  113.135171  51.706493   9.700599     11170.0\n",
       "9201  157.069571  30.067157   9.500998     11343.2\n",
       "9202  144.028221  49.117105   7.704591     11255.5\n",
       "9203  161.057408  30.067157   9.500998     11199.0\n",
       "\n",
       "[9204 rows x 4 columns]"
      ]
     },
     "execution_count": 333,
     "metadata": {},
     "output_type": "execute_result"
    }
   ],
   "source": [
    "anothermethod"
   ]
  },
  {
   "cell_type": "code",
   "execution_count": 336,
   "id": "223e4355-05c3-4262-aa53-b0d3e4033843",
   "metadata": {},
   "outputs": [],
   "source": [
    "X=scaler.fit_transform(anothermethod)\n",
    "y=data['Tmax (°C)']"
   ]
  },
  {
   "cell_type": "code",
   "execution_count": 335,
   "id": "9445eb68-5035-4c5f-b378-ef4b088b0df5",
   "metadata": {},
   "outputs": [],
   "source": [
    "from xgboost import XGBRegressor"
   ]
  },
  {
   "cell_type": "code",
   "execution_count": 337,
   "id": "32655ea3-5a1e-46c1-8c7a-4719c4fec047",
   "metadata": {},
   "outputs": [],
   "source": [
    "X_train, X_test, y_train, y_test = ms.train_test_split(X, y, test_size=0.2, random_state=42)"
   ]
  },
  {
   "cell_type": "code",
   "execution_count": 338,
   "id": "ce1c98b5-339e-4c28-8b1a-b4fc929172a4",
   "metadata": {},
   "outputs": [],
   "source": [
    "eval_set = [(X_test, y_test)]"
   ]
  },
  {
   "cell_type": "code",
   "execution_count": 350,
   "id": "80cc69f6-b149-46c3-9cf2-cbdc4dcc5c2f",
   "metadata": {},
   "outputs": [],
   "source": [
    "modelXgb = XGBRegressor()"
   ]
  },
  {
   "cell_type": "code",
   "execution_count": 351,
   "id": "0cb00ca4-9e78-4766-9c1d-52e66abee23c",
   "metadata": {},
   "outputs": [
    {
     "data": {
      "text/plain": [
       "XGBRegressor(base_score=0.5, booster='gbtree', colsample_bylevel=1,\n",
       "             colsample_bynode=1, colsample_bytree=1, enable_categorical=False,\n",
       "             gamma=0, gpu_id=-1, importance_type=None,\n",
       "             interaction_constraints='', learning_rate=0.300000012,\n",
       "             max_delta_step=0, max_depth=6, min_child_weight=1, missing=nan,\n",
       "             monotone_constraints='()', n_estimators=100, n_jobs=8,\n",
       "             num_parallel_tree=1, predictor='auto', random_state=0, reg_alpha=0,\n",
       "             reg_lambda=1, scale_pos_weight=1, subsample=1, tree_method='exact',\n",
       "             validate_parameters=1, verbosity=None)"
      ]
     },
     "execution_count": 351,
     "metadata": {},
     "output_type": "execute_result"
    }
   ],
   "source": [
    "modelXgb.fit(X_train, y_train,eval_metric=\"error\",eval_set=eval_set,verbose=False)"
   ]
  },
  {
   "cell_type": "code",
   "execution_count": 352,
   "id": "226d0818-d684-44ae-a0cb-de2581f3026a",
   "metadata": {},
   "outputs": [],
   "source": [
    "y_predictions=modelXgb.predict(X_test)\n",
    "y_predictedTrain=modelXgb.predict(X_train)"
   ]
  },
  {
   "cell_type": "code",
   "execution_count": 353,
   "id": "06f9b254-b317-4542-a950-7b77df105806",
   "metadata": {},
   "outputs": [
    {
     "name": "stdout",
     "output_type": "stream",
     "text": [
      "Model Performance\n",
      "Average Error: 3.1986 %.\n",
      "Accuracy = -809.64%.\n",
      "Accuracy: -809.64%\n"
     ]
    }
   ],
   "source": [
    "accuracy = evaluate(modelXgb, X_test, y_test)\n",
    "\n",
    "print(\"Accuracy: %.2f%%\" % (accuracy ))"
   ]
  },
  {
   "cell_type": "code",
   "execution_count": 354,
   "id": "98c677d4-4407-4466-9ac0-261140e0574e",
   "metadata": {},
   "outputs": [
    {
     "name": "stdout",
     "output_type": "stream",
     "text": [
      "Mean Square Error      = 810.5254643148783\n",
      "Root Mean Square Error = 28.469728911861424\n",
      "Mean Absolute Error    = 3.198566025352264\n",
      "Median Absolute Error  = 0.117645263671875\n",
      "R^2                    = 0.679463215692332\n",
      "R^2 train              = 0.9500553098096873\n",
      "Adjusted R^2           = 0.6789397478899787\n"
     ]
    }
   ],
   "source": [
    "def print_metrics(y_true, y_predicted,y_predictedTrain,y_train,n_parameters):\n",
    "    ## First compute R^2 and the adjusted R^2\n",
    "    r2 = sklm.r2_score(y_true, y_predicted)\n",
    "    r2train = sklm.r2_score(y_train, y_predictedTrain)\n",
    "    r2_adj = r2 - (n_parameters - 1)/(y_true.shape[0] - n_parameters) * (1 - r2)\n",
    "    r2_adjT = r2train - (n_parameters - 1)/(y_true.shape[0] - n_parameters) * (1 -  r2train)\n",
    "    ## Print the usual metrics and the R^2 values\n",
    "    print('Mean Square Error      = ' + str(sklm.mean_squared_error(y_true, y_predicted)))\n",
    "    print('Root Mean Square Error = ' + str(math.sqrt(sklm.mean_squared_error(y_true, y_predicted))))\n",
    "    print('Mean Absolute Error    = ' + str(sklm.mean_absolute_error(y_true, y_predicted)))\n",
    "    print('Median Absolute Error  = ' + str(sklm.median_absolute_error(y_true, y_predicted)))\n",
    "    print('R^2                    = ' + str(r2))\n",
    "    print('R^2 train              = ' + str(r2_adjT))\n",
    "    print('Adjusted R^2           = ' + str(r2_adj))\n",
    "\n",
    "print_metrics(y_test, y_predictions,y_predictedTrain,y_train, 4)"
   ]
  },
  {
   "cell_type": "code",
   "execution_count": 344,
   "id": "2f95caba-43c8-476f-b197-6954b23215e7",
   "metadata": {},
   "outputs": [],
   "source": [
    "from sklearn.ensemble import RandomForestRegressor"
   ]
  },
  {
   "cell_type": "code",
   "execution_count": 345,
   "id": "629ea478-6d04-40c5-bca1-8312309d733f",
   "metadata": {},
   "outputs": [],
   "source": [
    "rf=RandomForestRegressor(random_state=42)"
   ]
  },
  {
   "cell_type": "code",
   "execution_count": 346,
   "id": "15b474a8-adb6-484b-a853-e4b542ac55d0",
   "metadata": {},
   "outputs": [],
   "source": [
    "rfModel=rf.fit(X_train,y_train)"
   ]
  },
  {
   "cell_type": "code",
   "execution_count": 412,
   "id": "81428070-d8db-4b36-88b7-78775c302d73",
   "metadata": {},
   "outputs": [],
   "source": [
    "y_pred_r=rfModel.predict(X_test)"
   ]
  },
  {
   "cell_type": "code",
   "execution_count": 348,
   "id": "bc496d86-a396-473f-a465-55a5542f7ae8",
   "metadata": {},
   "outputs": [
    {
     "name": "stdout",
     "output_type": "stream",
     "text": [
      "Mean Square Error      = 795.9458947707216\n",
      "Root Mean Square Error = 28.212513088534344\n",
      "Mean Absolute Error    = 3.143591920836906\n",
      "Median Absolute Error  = 0.0\n",
      "R^2                    = 0.6852289671017886\n",
      "Adjusted R^2           = 0.6847149153333103\n"
     ]
    }
   ],
   "source": [
    "def print_metrics(y_true, y_predicted, n_parameters):\n",
    "    ## First compute R^2 and the adjusted R^2\n",
    "    r2 = sklm.r2_score(y_true, y_predicted)\n",
    "    r2_adj = r2 - (n_parameters - 1)/(y_true.shape[0] - n_parameters) * (1 - r2)\n",
    "    \n",
    "    ## Print the usual metrics and the R^2 values\n",
    "    print('Mean Square Error      = ' + str(sklm.mean_squared_error(y_true, y_predicted)))\n",
    "    print('Root Mean Square Error = ' + str(math.sqrt(sklm.mean_squared_error(y_true, y_predicted))))\n",
    "    print('Mean Absolute Error    = ' + str(sklm.mean_absolute_error(y_true, y_predicted)))\n",
    "    print('Median Absolute Error  = ' + str(sklm.median_absolute_error(y_true, y_predicted)))\n",
    "    print('R^2                    = ' + str(r2))\n",
    "    print('Adjusted R^2           = ' + str(r2_adj))\n",
    "   \n",
    "\n",
    "print_metrics(y_test, y_pred_r, 4)"
   ]
  },
  {
   "cell_type": "code",
   "execution_count": 349,
   "id": "df32bca3-8ee2-484a-86c7-5931ed8f9546",
   "metadata": {},
   "outputs": [
    {
     "data": {
      "text/plain": [
       "0.7038855898329304"
      ]
     },
     "execution_count": 349,
     "metadata": {},
     "output_type": "execute_result"
    }
   ],
   "source": [
    "lm = rfModel\n",
    "scores1 = cross_val_score(lm, X_train, y_train, scoring='r2', cv=10)\n",
    "scores1.mean()"
   ]
  },
  {
   "cell_type": "code",
   "execution_count": 355,
   "id": "acc53018-e6fc-449a-91af-fb04a775901f",
   "metadata": {},
   "outputs": [],
   "source": [
    "from sklearn.model_selection import GridSearchCV\n",
    "# Create the parameter grid based on the results of random search \n",
    "param_grid = {\n",
    "    'bootstrap': [True],\n",
    "    'max_depth': [10, 30, 40, 50],\n",
    "    'max_features': [2, 3],\n",
    "    'min_samples_leaf': [1, 2, 3],\n",
    "    'min_samples_split': [0, 2, 4],\n",
    "    'n_estimators': [600, 800, 1500, 2000]\n",
    "}\n",
    "# Create a based model\n",
    "rf = RandomForestRegressor()\n",
    "# Instantiate the grid search model\n",
    "grid_search = GridSearchCV(estimator = rf, param_grid = param_grid, \n",
    "                          cv = 3, n_jobs = -1, verbose = 2) "
   ]
  },
  {
   "cell_type": "code",
   "execution_count": 356,
   "id": "2885a36b-8111-4696-8c93-15961e33d0a7",
   "metadata": {},
   "outputs": [
    {
     "name": "stdout",
     "output_type": "stream",
     "text": [
      "Fitting 3 folds for each of 288 candidates, totalling 864 fits\n"
     ]
    },
    {
     "name": "stderr",
     "output_type": "stream",
     "text": [
      "C:\\Users\\eobasi\\Anaconda3\\lib\\site-packages\\sklearn\\model_selection\\_validation.py:372: FitFailedWarning: \n",
      "288 fits failed out of a total of 864.\n",
      "The score on these train-test partitions for these parameters will be set to nan.\n",
      "If these failures are not expected, you can try to debug them by setting error_score='raise'.\n",
      "\n",
      "Below are more details about the failures:\n",
      "--------------------------------------------------------------------------------\n",
      "288 fits failed with the following error:\n",
      "Traceback (most recent call last):\n",
      "  File \"C:\\Users\\eobasi\\Anaconda3\\lib\\site-packages\\sklearn\\model_selection\\_validation.py\", line 680, in _fit_and_score\n",
      "    estimator.fit(X_train, y_train, **fit_params)\n",
      "  File \"C:\\Users\\eobasi\\Anaconda3\\lib\\site-packages\\sklearn\\ensemble\\_forest.py\", line 450, in fit\n",
      "    trees = Parallel(\n",
      "  File \"C:\\Users\\eobasi\\Anaconda3\\lib\\site-packages\\joblib\\parallel.py\", line 1041, in __call__\n",
      "    if self.dispatch_one_batch(iterator):\n",
      "  File \"C:\\Users\\eobasi\\Anaconda3\\lib\\site-packages\\joblib\\parallel.py\", line 859, in dispatch_one_batch\n",
      "    self._dispatch(tasks)\n",
      "  File \"C:\\Users\\eobasi\\Anaconda3\\lib\\site-packages\\joblib\\parallel.py\", line 777, in _dispatch\n",
      "    job = self._backend.apply_async(batch, callback=cb)\n",
      "  File \"C:\\Users\\eobasi\\Anaconda3\\lib\\site-packages\\joblib\\_parallel_backends.py\", line 208, in apply_async\n",
      "    result = ImmediateResult(func)\n",
      "  File \"C:\\Users\\eobasi\\Anaconda3\\lib\\site-packages\\joblib\\_parallel_backends.py\", line 572, in __init__\n",
      "    self.results = batch()\n",
      "  File \"C:\\Users\\eobasi\\Anaconda3\\lib\\site-packages\\joblib\\parallel.py\", line 262, in __call__\n",
      "    return [func(*args, **kwargs)\n",
      "  File \"C:\\Users\\eobasi\\Anaconda3\\lib\\site-packages\\joblib\\parallel.py\", line 262, in <listcomp>\n",
      "    return [func(*args, **kwargs)\n",
      "  File \"C:\\Users\\eobasi\\Anaconda3\\lib\\site-packages\\sklearn\\utils\\fixes.py\", line 216, in __call__\n",
      "    return self.function(*args, **kwargs)\n",
      "  File \"C:\\Users\\eobasi\\Anaconda3\\lib\\site-packages\\sklearn\\ensemble\\_forest.py\", line 185, in _parallel_build_trees\n",
      "    tree.fit(X, y, sample_weight=curr_sample_weight, check_input=False)\n",
      "  File \"C:\\Users\\eobasi\\Anaconda3\\lib\\site-packages\\sklearn\\tree\\_classes.py\", line 1315, in fit\n",
      "    super().fit(\n",
      "  File \"C:\\Users\\eobasi\\Anaconda3\\lib\\site-packages\\sklearn\\tree\\_classes.py\", line 250, in fit\n",
      "    raise ValueError(\n",
      "ValueError: min_samples_split must be an integer greater than 1 or a float in (0.0, 1.0]; got the integer 0\n",
      "\n",
      "  warnings.warn(some_fits_failed_message, FitFailedWarning)\n",
      "C:\\Users\\eobasi\\Anaconda3\\lib\\site-packages\\sklearn\\model_selection\\_search.py:969: UserWarning: One or more of the test scores are non-finite: [       nan        nan        nan        nan 0.72466286 0.7266104\n",
      " 0.72681656 0.72823609 0.72534871 0.72774576 0.72804135 0.72758343\n",
      "        nan        nan        nan        nan 0.71622883 0.71375148\n",
      " 0.71392901 0.71406708 0.71403825 0.71436589 0.71491916 0.71487355\n",
      "        nan        nan        nan        nan 0.69924294 0.70017597\n",
      " 0.69955845 0.6990859  0.69943218 0.69890368 0.69939363 0.69897433\n",
      "        nan        nan        nan        nan 0.73270483 0.73106363\n",
      " 0.73236506 0.73245124 0.73124369 0.73139063 0.73117701 0.73265631\n",
      "        nan        nan        nan        nan 0.7269864  0.72531309\n",
      " 0.72476019 0.72625858 0.7266901  0.72523181 0.72560864 0.72632978\n",
      "        nan        nan        nan        nan 0.71446923 0.71745708\n",
      " 0.7148724  0.71465686 0.71595536 0.7148849  0.71538207 0.71549357\n",
      "        nan        nan        nan        nan 0.7279716  0.72375067\n",
      " 0.72548423 0.72655014 0.72614831 0.72725632 0.72609169 0.72704521\n",
      "        nan        nan        nan        nan 0.71277291 0.71237021\n",
      " 0.71326117 0.71364945 0.7131473  0.71361382 0.71443237 0.71414773\n",
      "        nan        nan        nan        nan 0.69623016 0.69892401\n",
      " 0.69781964 0.69943594 0.69905742 0.69933119 0.69937668 0.69866751\n",
      "        nan        nan        nan        nan 0.72862587 0.7295406\n",
      " 0.73000447 0.72904671 0.73042431 0.7313444  0.73076346 0.73192863\n",
      "        nan        nan        nan        nan 0.72510775 0.72547661\n",
      " 0.72481264 0.7247911  0.72469174 0.72505313 0.72467984 0.72500406\n",
      "        nan        nan        nan        nan 0.71615393 0.71572386\n",
      " 0.71409049 0.71448438 0.71265442 0.71539347 0.71415113 0.71418351\n",
      "        nan        nan        nan        nan 0.72458008 0.72494227\n",
      " 0.72535132 0.72711045 0.72903538 0.726918   0.72574295 0.72556752\n",
      "        nan        nan        nan        nan 0.71199045 0.71288142\n",
      " 0.71399751 0.71345311 0.71381118 0.71328535 0.71374154 0.71421986\n",
      "        nan        nan        nan        nan 0.69788972 0.69855728\n",
      " 0.69812528 0.69916205 0.69944442 0.69620001 0.69864586 0.69803053\n",
      "        nan        nan        nan        nan 0.72918264 0.73170003\n",
      " 0.73081    0.73163149 0.73151569 0.73097475 0.73238299 0.73096136\n",
      "        nan        nan        nan        nan 0.72627278 0.72707392\n",
      " 0.72606014 0.72468879 0.7235363  0.72466537 0.72571589 0.72509123\n",
      "        nan        nan        nan        nan 0.71459722 0.71687543\n",
      " 0.71463113 0.71441846 0.71558467 0.7156045  0.71579857 0.71485515\n",
      "        nan        nan        nan        nan 0.72607775 0.72609314\n",
      " 0.72471208 0.72671442 0.72807025 0.72711345 0.72535151 0.72636855\n",
      "        nan        nan        nan        nan 0.71487722 0.71280889\n",
      " 0.71341674 0.7136324  0.71345925 0.71423248 0.71319384 0.71332493\n",
      "        nan        nan        nan        nan 0.69712959 0.69653037\n",
      " 0.69802085 0.69904909 0.69834134 0.69883419 0.69739882 0.69734737\n",
      "        nan        nan        nan        nan 0.73108648 0.73147112\n",
      " 0.72975007 0.73008294 0.7303229  0.73001813 0.73073318 0.73054187\n",
      "        nan        nan        nan        nan 0.72482054 0.72618747\n",
      " 0.72477334 0.72516361 0.72536246 0.72608754 0.72600425 0.72501844\n",
      "        nan        nan        nan        nan 0.71565543 0.71261692\n",
      " 0.7147176  0.71493743 0.71487916 0.71667891 0.71516737 0.71481501]\n",
      "  warnings.warn(\n"
     ]
    },
    {
     "data": {
      "text/plain": [
       "{'bootstrap': True,\n",
       " 'max_depth': 10,\n",
       " 'max_features': 3,\n",
       " 'min_samples_leaf': 1,\n",
       " 'min_samples_split': 2,\n",
       " 'n_estimators': 600}"
      ]
     },
     "execution_count": 356,
     "metadata": {},
     "output_type": "execute_result"
    }
   ],
   "source": [
    "# Fit the grid search to the data\n",
    "grid_search.fit(X_train, y_train)\n",
    "grid_search.best_params_"
   ]
  },
  {
   "cell_type": "code",
   "execution_count": 357,
   "id": "f51211a5-5eb8-4a33-9c47-85106e80bae9",
   "metadata": {},
   "outputs": [
    {
     "name": "stdout",
     "output_type": "stream",
     "text": [
      "Model Performance\n",
      "Average Error: 3.7457 %.\n",
      "Accuracy = -1021.12%.\n"
     ]
    }
   ],
   "source": [
    "best_grid = grid_search.best_estimator_\n",
    "grid_accuracy = evaluate(best_grid,X_test, y_test)"
   ]
  },
  {
   "cell_type": "code",
   "execution_count": 359,
   "id": "88f03f81-2092-4564-8344-790a6c27dc91",
   "metadata": {},
   "outputs": [],
   "source": [
    "y_pred_r=best_grid.predict(X_test)"
   ]
  },
  {
   "cell_type": "code",
   "execution_count": 360,
   "id": "296ddba0-82fd-44d6-9b62-394e12e4f611",
   "metadata": {},
   "outputs": [
    {
     "name": "stdout",
     "output_type": "stream",
     "text": [
      "Mean Square Error      = 762.3589431285586\n",
      "Root Mean Square Error = 27.61084828701499\n",
      "Mean Absolute Error    = 3.745708666275164\n",
      "Median Absolute Error  = 0.5727399104474671\n",
      "R^2                    = 0.6985115275493821\n",
      "Adjusted R^2           = 0.698019167496387\n"
     ]
    }
   ],
   "source": [
    "def print_metrics(y_true, y_predicted, n_parameters):\n",
    "    ## First compute R^2 and the adjusted R^2\n",
    "    r2 = sklm.r2_score(y_true, y_predicted)\n",
    "    r2_adj = r2 - (n_parameters - 1)/(y_true.shape[0] - n_parameters) * (1 - r2)\n",
    "    \n",
    "    ## Print the usual metrics and the R^2 values\n",
    "    print('Mean Square Error      = ' + str(sklm.mean_squared_error(y_true, y_predicted)))\n",
    "    print('Root Mean Square Error = ' + str(math.sqrt(sklm.mean_squared_error(y_true, y_predicted))))\n",
    "    print('Mean Absolute Error    = ' + str(sklm.mean_absolute_error(y_true, y_predicted)))\n",
    "    print('Median Absolute Error  = ' + str(sklm.median_absolute_error(y_true, y_predicted)))\n",
    "    print('R^2                    = ' + str(r2))\n",
    "    print('Adjusted R^2           = ' + str(r2_adj))\n",
    "\n",
    "print_metrics(y_test, y_pred_r, 4)"
   ]
  },
  {
   "cell_type": "code",
   "execution_count": 361,
   "id": "5908a9ff-2b3a-4f57-8ebc-f75bd55f6f9d",
   "metadata": {},
   "outputs": [
    {
     "data": {
      "text/plain": [
       "SVR()"
      ]
     },
     "execution_count": 361,
     "metadata": {},
     "output_type": "execute_result"
    }
   ],
   "source": [
    "from sklearn.svm import SVR\n",
    "regrassor = SVR(kernel = 'rbf')\n",
    "regrassor.fit(X_train, y_train)"
   ]
  },
  {
   "cell_type": "code",
   "execution_count": 364,
   "id": "3e0fd950-ce3f-4899-98a2-b30c700ec393",
   "metadata": {},
   "outputs": [],
   "source": [
    "from sklearn.pipeline import make_pipeline\n",
    "from sklearn.ensemble import GradientBoostingRegressor\n",
    "from sklearn.decomposition import PCA\n",
    "from sklearn.metrics import mean_squared_error"
   ]
  },
  {
   "cell_type": "code",
   "execution_count": 365,
   "id": "bf28702d-664c-4896-92a0-abf3c58a0980",
   "metadata": {},
   "outputs": [],
   "source": [
    "gbr_params = {'n_estimators': 1000,\n",
    "          'max_depth': 3,\n",
    "          'min_samples_split': 5,\n",
    "          'learning_rate': 0.01,\n",
    "          'loss': 'ls'}\n"
   ]
  },
  {
   "cell_type": "code",
   "execution_count": 366,
   "id": "a487a62c-4f4a-4ffe-9418-435b80a139ae",
   "metadata": {},
   "outputs": [],
   "source": [
    "gbr = GradientBoostingRegressor(**gbr_params)"
   ]
  },
  {
   "cell_type": "code",
   "execution_count": 367,
   "id": "1bb15ce8-c23d-4552-96ef-aee5ceda9a18",
   "metadata": {},
   "outputs": [
    {
     "name": "stderr",
     "output_type": "stream",
     "text": [
      "C:\\Users\\eobasi\\Anaconda3\\lib\\site-packages\\sklearn\\ensemble\\_gb.py:286: FutureWarning: The loss 'ls' was deprecated in v1.0 and will be removed in version 1.2. Use 'squared_error' which is equivalent.\n",
      "  warnings.warn(\n"
     ]
    },
    {
     "data": {
      "text/plain": [
       "GradientBoostingRegressor(learning_rate=0.01, loss='ls', min_samples_split=5,\n",
       "                          n_estimators=1000)"
      ]
     },
     "execution_count": 367,
     "metadata": {},
     "output_type": "execute_result"
    }
   ],
   "source": [
    "gbr.fit(X_train, y_train)"
   ]
  },
  {
   "cell_type": "code",
   "execution_count": 368,
   "id": "d2a26e8c-47de-4f91-9d9e-0b2e1b26f4c5",
   "metadata": {},
   "outputs": [
    {
     "name": "stdout",
     "output_type": "stream",
     "text": [
      "Model Accuracy: 0.669\n"
     ]
    }
   ],
   "source": [
    "print(\"Model Accuracy: %.3f\" % gbr.score(X_test, y_test))"
   ]
  },
  {
   "cell_type": "code",
   "execution_count": 370,
   "id": "2f023a9d-7285-4aee-b6c0-64f9ffd8f3aa",
   "metadata": {},
   "outputs": [],
   "source": [
    "input_shape = [X_train.shape[1]]"
   ]
  },
  {
   "cell_type": "code",
   "execution_count": 404,
   "id": "5706b8ac-d481-4cc5-894d-a61e3bfeba6b",
   "metadata": {},
   "outputs": [
    {
     "name": "stdout",
     "output_type": "stream",
     "text": [
      "Model: \"sequential_65\"\n",
      "_________________________________________________________________\n",
      " Layer (type)                Output Shape              Param #   \n",
      "=================================================================\n",
      " dense_151 (Dense)           (None, 104)               520       \n",
      "                                                                 \n",
      " dense_152 (Dense)           (None, 104)               10920     \n",
      "                                                                 \n",
      " dense_153 (Dense)           (None, 1)                 105       \n",
      "                                                                 \n",
      "=================================================================\n",
      "Total params: 11,545\n",
      "Trainable params: 11,545\n",
      "Non-trainable params: 0\n",
      "_________________________________________________________________\n"
     ]
    }
   ],
   "source": [
    "model11 = tf.keras.Sequential([\n",
    "\n",
    "\ttf.keras.layers.Dense(units=104, activation='relu',\n",
    "\t\t\t\t\t\tinput_shape=input_shape),\n",
    "\ttf.keras.layers.Dense(units=104, activation='relu'),\n",
    "\ttf.keras.layers.Dense(units=1)\n",
    "])\n",
    "model11.summary()\n"
   ]
  },
  {
   "cell_type": "code",
   "execution_count": 405,
   "id": "e451626f-c1c2-4c11-b398-05b3d9586b93",
   "metadata": {},
   "outputs": [],
   "source": [
    "# adam optimizer works pretty well for\n",
    "# all kinds of problems and is a good starting point\n",
    "model11.compile(optimizer='adam',\n",
    "\t\t\t\n",
    "\t\t\t# MAE error is good for\n",
    "\t\t\t# numerical predictions\n",
    "\t\t\tloss='mae')\n"
   ]
  },
  {
   "cell_type": "code",
   "execution_count": 406,
   "id": "646afb1f-2bd8-4dec-9eb6-6b8468d74b52",
   "metadata": {},
   "outputs": [
    {
     "name": "stdout",
     "output_type": "stream",
     "text": [
      "Epoch 1/300\n",
      "29/29 [==============================] - 1s 12ms/step - loss: 438.6595 - val_loss: 436.3202\n",
      "Epoch 2/300\n",
      "29/29 [==============================] - 0s 4ms/step - loss: 433.1953 - val_loss: 427.3350\n",
      "Epoch 3/300\n",
      "29/29 [==============================] - 0s 4ms/step - loss: 418.8956 - val_loss: 405.6407\n",
      "Epoch 4/300\n",
      "29/29 [==============================] - 0s 3ms/step - loss: 387.7549 - val_loss: 362.4848\n",
      "Epoch 5/300\n",
      "29/29 [==============================] - 0s 3ms/step - loss: 330.4146 - val_loss: 287.9952\n",
      "Epoch 6/300\n",
      "29/29 [==============================] - 0s 3ms/step - loss: 237.9212 - val_loss: 180.1284\n",
      "Epoch 7/300\n",
      "29/29 [==============================] - 0s 3ms/step - loss: 133.5349 - val_loss: 90.4933\n",
      "Epoch 8/300\n",
      "29/29 [==============================] - 0s 3ms/step - loss: 73.5583 - val_loss: 63.2603\n",
      "Epoch 9/300\n",
      "29/29 [==============================] - 0s 3ms/step - loss: 60.9818 - val_loss: 55.9670\n",
      "Epoch 10/300\n",
      "29/29 [==============================] - 0s 3ms/step - loss: 54.7600 - val_loss: 51.1290\n",
      "Epoch 11/300\n",
      "29/29 [==============================] - 0s 3ms/step - loss: 50.0592 - val_loss: 47.0671\n",
      "Epoch 12/300\n",
      "29/29 [==============================] - 0s 3ms/step - loss: 45.8748 - val_loss: 43.2820\n",
      "Epoch 13/300\n",
      "29/29 [==============================] - 0s 3ms/step - loss: 42.0288 - val_loss: 39.7720\n",
      "Epoch 14/300\n",
      "29/29 [==============================] - 0s 3ms/step - loss: 38.4512 - val_loss: 36.4784\n",
      "Epoch 15/300\n",
      "29/29 [==============================] - 0s 4ms/step - loss: 35.1088 - val_loss: 33.3456\n",
      "Epoch 16/300\n",
      "29/29 [==============================] - 0s 4ms/step - loss: 31.9115 - val_loss: 30.4004\n",
      "Epoch 17/300\n",
      "29/29 [==============================] - 0s 4ms/step - loss: 28.7842 - val_loss: 27.3058\n",
      "Epoch 18/300\n",
      "29/29 [==============================] - 0s 4ms/step - loss: 25.6585 - val_loss: 24.4081\n",
      "Epoch 19/300\n",
      "29/29 [==============================] - 0s 4ms/step - loss: 22.8099 - val_loss: 21.7508\n",
      "Epoch 20/300\n",
      "29/29 [==============================] - 0s 4ms/step - loss: 20.3334 - val_loss: 19.6071\n",
      "Epoch 21/300\n",
      "29/29 [==============================] - 0s 3ms/step - loss: 18.0328 - val_loss: 17.5285\n",
      "Epoch 22/300\n",
      "29/29 [==============================] - 0s 3ms/step - loss: 16.0565 - val_loss: 15.6193\n",
      "Epoch 23/300\n",
      "29/29 [==============================] - 0s 3ms/step - loss: 14.3471 - val_loss: 14.2542\n",
      "Epoch 24/300\n",
      "29/29 [==============================] - 0s 3ms/step - loss: 12.9740 - val_loss: 12.9190\n",
      "Epoch 25/300\n",
      "29/29 [==============================] - 0s 4ms/step - loss: 11.8011 - val_loss: 11.9333\n",
      "Epoch 26/300\n",
      "29/29 [==============================] - 0s 4ms/step - loss: 10.8544 - val_loss: 11.0425\n",
      "Epoch 27/300\n",
      "29/29 [==============================] - 0s 3ms/step - loss: 10.0436 - val_loss: 10.2950\n",
      "Epoch 28/300\n",
      "29/29 [==============================] - 0s 4ms/step - loss: 9.3855 - val_loss: 9.5884\n",
      "Epoch 29/300\n",
      "29/29 [==============================] - 0s 3ms/step - loss: 8.8230 - val_loss: 9.2130\n",
      "Epoch 30/300\n",
      "29/29 [==============================] - 0s 3ms/step - loss: 8.4960 - val_loss: 8.8069\n",
      "Epoch 31/300\n",
      "29/29 [==============================] - 0s 3ms/step - loss: 8.2356 - val_loss: 8.7379\n",
      "Epoch 32/300\n",
      "29/29 [==============================] - 0s 3ms/step - loss: 8.0628 - val_loss: 8.5593\n",
      "Epoch 33/300\n",
      "29/29 [==============================] - 0s 4ms/step - loss: 7.9354 - val_loss: 8.3210\n",
      "Epoch 34/300\n",
      "29/29 [==============================] - 0s 4ms/step - loss: 7.7949 - val_loss: 8.2716\n",
      "Epoch 35/300\n",
      "29/29 [==============================] - 0s 3ms/step - loss: 7.7300 - val_loss: 8.1548\n",
      "Epoch 36/300\n",
      "29/29 [==============================] - 0s 3ms/step - loss: 7.6327 - val_loss: 8.0468\n",
      "Epoch 37/300\n",
      "29/29 [==============================] - 0s 3ms/step - loss: 7.5518 - val_loss: 7.9836\n",
      "Epoch 38/300\n",
      "29/29 [==============================] - 0s 3ms/step - loss: 7.5159 - val_loss: 7.9246\n",
      "Epoch 39/300\n",
      "29/29 [==============================] - 0s 3ms/step - loss: 7.4713 - val_loss: 7.9155\n",
      "Epoch 40/300\n",
      "29/29 [==============================] - 0s 3ms/step - loss: 7.4449 - val_loss: 7.9501\n",
      "Epoch 41/300\n",
      "29/29 [==============================] - 0s 3ms/step - loss: 7.4375 - val_loss: 7.8259\n",
      "Epoch 42/300\n",
      "29/29 [==============================] - 0s 4ms/step - loss: 7.3633 - val_loss: 7.9107\n",
      "Epoch 43/300\n",
      "29/29 [==============================] - 0s 3ms/step - loss: 7.3713 - val_loss: 7.8122\n",
      "Epoch 44/300\n",
      "29/29 [==============================] - 0s 4ms/step - loss: 7.3526 - val_loss: 7.8612\n",
      "Epoch 45/300\n",
      "29/29 [==============================] - 0s 3ms/step - loss: 7.3707 - val_loss: 7.8330\n",
      "Epoch 46/300\n",
      "29/29 [==============================] - 0s 3ms/step - loss: 7.3309 - val_loss: 7.7513\n",
      "Epoch 47/300\n",
      "29/29 [==============================] - 0s 3ms/step - loss: 7.2945 - val_loss: 7.8184\n",
      "Epoch 48/300\n",
      "29/29 [==============================] - 0s 3ms/step - loss: 7.3236 - val_loss: 7.7225\n",
      "Epoch 49/300\n",
      "29/29 [==============================] - 0s 3ms/step - loss: 7.3286 - val_loss: 7.8340\n",
      "Epoch 50/300\n",
      "29/29 [==============================] - 0s 3ms/step - loss: 7.3341 - val_loss: 7.8310\n",
      "Epoch 51/300\n",
      "29/29 [==============================] - 0s 3ms/step - loss: 7.2736 - val_loss: 7.7128\n",
      "Epoch 52/300\n",
      "29/29 [==============================] - 0s 3ms/step - loss: 7.2634 - val_loss: 7.7968\n",
      "Epoch 53/300\n",
      "29/29 [==============================] - 0s 3ms/step - loss: 7.2711 - val_loss: 7.7772\n",
      "Epoch 54/300\n",
      "29/29 [==============================] - 0s 3ms/step - loss: 7.3061 - val_loss: 7.7182\n",
      "Epoch 55/300\n",
      "29/29 [==============================] - 0s 3ms/step - loss: 7.2576 - val_loss: 7.7413\n",
      "Epoch 56/300\n",
      "29/29 [==============================] - 0s 3ms/step - loss: 7.2645 - val_loss: 7.7044\n",
      "Epoch 57/300\n",
      "29/29 [==============================] - 0s 3ms/step - loss: 7.2387 - val_loss: 7.7770\n",
      "Epoch 58/300\n",
      "29/29 [==============================] - 0s 3ms/step - loss: 7.2591 - val_loss: 7.6998\n",
      "Epoch 59/300\n",
      "29/29 [==============================] - 0s 3ms/step - loss: 7.2091 - val_loss: 7.7234\n",
      "Epoch 60/300\n",
      "29/29 [==============================] - 0s 3ms/step - loss: 7.3159 - val_loss: 7.7456\n",
      "Epoch 61/300\n",
      "29/29 [==============================] - 0s 3ms/step - loss: 7.2896 - val_loss: 7.6671\n",
      "Epoch 62/300\n",
      "29/29 [==============================] - 0s 3ms/step - loss: 7.2324 - val_loss: 7.6763\n",
      "Epoch 63/300\n",
      "29/29 [==============================] - 0s 3ms/step - loss: 7.2023 - val_loss: 7.6692\n",
      "Epoch 64/300\n",
      "29/29 [==============================] - 0s 3ms/step - loss: 7.1954 - val_loss: 7.6925\n",
      "Epoch 65/300\n",
      "29/29 [==============================] - 0s 3ms/step - loss: 7.2151 - val_loss: 7.6658\n",
      "Epoch 66/300\n",
      "29/29 [==============================] - 0s 3ms/step - loss: 7.2505 - val_loss: 7.6742\n",
      "Epoch 67/300\n",
      "29/29 [==============================] - 0s 3ms/step - loss: 7.2045 - val_loss: 7.6797\n",
      "Epoch 68/300\n",
      "29/29 [==============================] - 0s 3ms/step - loss: 7.1807 - val_loss: 7.6462\n",
      "Epoch 69/300\n",
      "29/29 [==============================] - 0s 3ms/step - loss: 7.2025 - val_loss: 7.6416\n",
      "Epoch 70/300\n",
      "29/29 [==============================] - 0s 3ms/step - loss: 7.1906 - val_loss: 7.6896\n",
      "Epoch 71/300\n",
      "29/29 [==============================] - 0s 3ms/step - loss: 7.2093 - val_loss: 7.6968\n",
      "Epoch 72/300\n",
      "29/29 [==============================] - 0s 3ms/step - loss: 7.1838 - val_loss: 7.6703\n",
      "Epoch 73/300\n",
      "29/29 [==============================] - 0s 3ms/step - loss: 7.1789 - val_loss: 7.6457\n",
      "Epoch 74/300\n",
      "29/29 [==============================] - 0s 3ms/step - loss: 7.1964 - val_loss: 7.6667\n",
      "Epoch 75/300\n",
      "29/29 [==============================] - 0s 3ms/step - loss: 7.1919 - val_loss: 7.7517\n",
      "Epoch 76/300\n",
      "29/29 [==============================] - 0s 3ms/step - loss: 7.1979 - val_loss: 7.8198\n",
      "Epoch 77/300\n",
      "29/29 [==============================] - 0s 3ms/step - loss: 7.1995 - val_loss: 7.6673\n",
      "Epoch 78/300\n",
      "29/29 [==============================] - 0s 3ms/step - loss: 7.1627 - val_loss: 7.6736\n",
      "Epoch 79/300\n",
      "29/29 [==============================] - 0s 3ms/step - loss: 7.1854 - val_loss: 7.6422\n",
      "Epoch 80/300\n",
      "29/29 [==============================] - 0s 3ms/step - loss: 7.1643 - val_loss: 7.6452\n",
      "Epoch 81/300\n",
      "29/29 [==============================] - 0s 3ms/step - loss: 7.1978 - val_loss: 7.6137\n",
      "Epoch 82/300\n",
      "29/29 [==============================] - 0s 3ms/step - loss: 7.2094 - val_loss: 7.6883\n",
      "Epoch 83/300\n",
      "29/29 [==============================] - 0s 3ms/step - loss: 7.2062 - val_loss: 7.6600\n",
      "Epoch 84/300\n",
      "29/29 [==============================] - 0s 3ms/step - loss: 7.1600 - val_loss: 7.6342\n",
      "Epoch 85/300\n",
      "29/29 [==============================] - 0s 4ms/step - loss: 7.1857 - val_loss: 7.6337\n",
      "Epoch 86/300\n",
      "29/29 [==============================] - 0s 3ms/step - loss: 7.1691 - val_loss: 7.6133\n",
      "Epoch 87/300\n",
      "29/29 [==============================] - 0s 3ms/step - loss: 7.1620 - val_loss: 7.6564\n",
      "Epoch 88/300\n",
      "29/29 [==============================] - 0s 3ms/step - loss: 7.1743 - val_loss: 7.6537\n",
      "Epoch 89/300\n",
      "29/29 [==============================] - 0s 3ms/step - loss: 7.1689 - val_loss: 7.7238\n",
      "Epoch 90/300\n",
      "29/29 [==============================] - 0s 3ms/step - loss: 7.1672 - val_loss: 7.6368\n",
      "Epoch 91/300\n",
      "29/29 [==============================] - 0s 3ms/step - loss: 7.1667 - val_loss: 7.6976\n",
      "Epoch 92/300\n",
      "29/29 [==============================] - 0s 3ms/step - loss: 7.1609 - val_loss: 7.6226\n",
      "Epoch 93/300\n",
      "29/29 [==============================] - 0s 3ms/step - loss: 7.1572 - val_loss: 7.6709\n",
      "Epoch 94/300\n",
      "29/29 [==============================] - 0s 3ms/step - loss: 7.1750 - val_loss: 7.6107\n",
      "Epoch 95/300\n",
      "29/29 [==============================] - 0s 3ms/step - loss: 7.1692 - val_loss: 7.6726\n",
      "Epoch 96/300\n",
      "29/29 [==============================] - 0s 3ms/step - loss: 7.2039 - val_loss: 7.7685\n",
      "Epoch 97/300\n",
      "29/29 [==============================] - 0s 3ms/step - loss: 7.1793 - val_loss: 7.5896\n",
      "Epoch 98/300\n",
      "29/29 [==============================] - 0s 3ms/step - loss: 7.1542 - val_loss: 7.6123\n",
      "Epoch 99/300\n",
      "29/29 [==============================] - 0s 3ms/step - loss: 7.1484 - val_loss: 7.6415\n",
      "Epoch 100/300\n",
      "29/29 [==============================] - 0s 3ms/step - loss: 7.1496 - val_loss: 7.6546\n",
      "Epoch 101/300\n",
      "29/29 [==============================] - 0s 3ms/step - loss: 7.1612 - val_loss: 7.8175\n",
      "Epoch 102/300\n",
      "29/29 [==============================] - 0s 3ms/step - loss: 7.2363 - val_loss: 7.7390\n",
      "Epoch 103/300\n",
      "29/29 [==============================] - 0s 3ms/step - loss: 7.2161 - val_loss: 7.6691\n",
      "Epoch 104/300\n",
      "29/29 [==============================] - 0s 3ms/step - loss: 7.1384 - val_loss: 7.6503\n",
      "Epoch 105/300\n",
      "29/29 [==============================] - 0s 3ms/step - loss: 7.1545 - val_loss: 7.6496\n",
      "Epoch 106/300\n",
      "29/29 [==============================] - 0s 3ms/step - loss: 7.1637 - val_loss: 7.6811\n",
      "Epoch 107/300\n",
      "29/29 [==============================] - 0s 3ms/step - loss: 7.1913 - val_loss: 7.6166\n",
      "Epoch 108/300\n",
      "29/29 [==============================] - 0s 3ms/step - loss: 7.1955 - val_loss: 7.6836\n",
      "Epoch 109/300\n",
      "29/29 [==============================] - 0s 3ms/step - loss: 7.1525 - val_loss: 7.6672\n",
      "Epoch 110/300\n",
      "29/29 [==============================] - 0s 3ms/step - loss: 7.1491 - val_loss: 7.6964\n",
      "Epoch 111/300\n",
      "29/29 [==============================] - 0s 3ms/step - loss: 7.2207 - val_loss: 7.6787\n",
      "Epoch 112/300\n",
      "29/29 [==============================] - 0s 3ms/step - loss: 7.1661 - val_loss: 7.6906\n",
      "Epoch 113/300\n",
      "29/29 [==============================] - 0s 3ms/step - loss: 7.1144 - val_loss: 7.6084\n",
      "Epoch 114/300\n",
      "29/29 [==============================] - 0s 3ms/step - loss: 7.1232 - val_loss: 7.6776\n",
      "Epoch 115/300\n",
      "29/29 [==============================] - 0s 3ms/step - loss: 7.1199 - val_loss: 7.6438\n",
      "Epoch 116/300\n",
      "29/29 [==============================] - 0s 3ms/step - loss: 7.1177 - val_loss: 7.5809\n",
      "Epoch 117/300\n",
      "29/29 [==============================] - 0s 3ms/step - loss: 7.0939 - val_loss: 7.5820\n",
      "Epoch 118/300\n",
      "29/29 [==============================] - 0s 3ms/step - loss: 7.1344 - val_loss: 7.6175\n",
      "Epoch 119/300\n",
      "29/29 [==============================] - 0s 3ms/step - loss: 7.1571 - val_loss: 7.7258\n",
      "Epoch 120/300\n",
      "29/29 [==============================] - 0s 3ms/step - loss: 7.2143 - val_loss: 7.6391\n",
      "Epoch 121/300\n",
      "29/29 [==============================] - 0s 3ms/step - loss: 7.1209 - val_loss: 7.6206\n",
      "Epoch 122/300\n",
      "29/29 [==============================] - 0s 3ms/step - loss: 7.1302 - val_loss: 7.7060\n",
      "Epoch 123/300\n",
      "29/29 [==============================] - 0s 3ms/step - loss: 7.1612 - val_loss: 7.6092\n",
      "Epoch 124/300\n",
      "29/29 [==============================] - 0s 4ms/step - loss: 7.1102 - val_loss: 7.6199\n",
      "Epoch 125/300\n",
      "29/29 [==============================] - 0s 3ms/step - loss: 7.1431 - val_loss: 7.5930\n",
      "Epoch 126/300\n",
      "29/29 [==============================] - 0s 3ms/step - loss: 7.1409 - val_loss: 7.5948\n",
      "Epoch 127/300\n",
      "29/29 [==============================] - 0s 3ms/step - loss: 7.1367 - val_loss: 7.6627\n",
      "Epoch 128/300\n",
      "29/29 [==============================] - 0s 3ms/step - loss: 7.1335 - val_loss: 7.6911\n",
      "Epoch 129/300\n",
      "29/29 [==============================] - 0s 3ms/step - loss: 7.1664 - val_loss: 7.9450\n",
      "Epoch 130/300\n",
      "29/29 [==============================] - 0s 3ms/step - loss: 7.1882 - val_loss: 7.6778\n",
      "Epoch 131/300\n",
      "29/29 [==============================] - 0s 3ms/step - loss: 7.1565 - val_loss: 7.6062\n",
      "Epoch 132/300\n",
      "29/29 [==============================] - 0s 3ms/step - loss: 7.1021 - val_loss: 7.6776\n",
      "Epoch 133/300\n",
      "29/29 [==============================] - 0s 3ms/step - loss: 7.1480 - val_loss: 7.6207\n",
      "Epoch 134/300\n",
      "29/29 [==============================] - 0s 3ms/step - loss: 7.1166 - val_loss: 7.6580\n",
      "Epoch 135/300\n",
      "29/29 [==============================] - 0s 3ms/step - loss: 7.1068 - val_loss: 7.6307\n",
      "Epoch 136/300\n",
      "29/29 [==============================] - 0s 3ms/step - loss: 7.0962 - val_loss: 7.5814\n",
      "Epoch 137/300\n",
      "29/29 [==============================] - 0s 3ms/step - loss: 7.1361 - val_loss: 7.6263\n",
      "Epoch 138/300\n",
      "29/29 [==============================] - 0s 3ms/step - loss: 7.1384 - val_loss: 7.5983\n",
      "Epoch 139/300\n",
      "29/29 [==============================] - 0s 3ms/step - loss: 7.0996 - val_loss: 7.5869\n",
      "Epoch 140/300\n",
      "29/29 [==============================] - 0s 3ms/step - loss: 7.1016 - val_loss: 7.6384\n",
      "Epoch 141/300\n",
      "29/29 [==============================] - 0s 3ms/step - loss: 7.1269 - val_loss: 7.6638\n",
      "Epoch 142/300\n",
      "29/29 [==============================] - 0s 3ms/step - loss: 7.1135 - val_loss: 7.6343\n",
      "Epoch 143/300\n",
      "29/29 [==============================] - 0s 3ms/step - loss: 7.1204 - val_loss: 7.5995\n",
      "Epoch 144/300\n",
      "29/29 [==============================] - 0s 3ms/step - loss: 7.1067 - val_loss: 7.6604\n",
      "Epoch 145/300\n",
      "29/29 [==============================] - 0s 3ms/step - loss: 7.1365 - val_loss: 7.6643\n",
      "Epoch 146/300\n",
      "29/29 [==============================] - 0s 3ms/step - loss: 7.0979 - val_loss: 7.5611\n",
      "Epoch 147/300\n",
      "29/29 [==============================] - 0s 3ms/step - loss: 7.0975 - val_loss: 7.6231\n",
      "Epoch 148/300\n",
      "29/29 [==============================] - 0s 3ms/step - loss: 7.0980 - val_loss: 7.6256\n",
      "Epoch 149/300\n",
      "29/29 [==============================] - 0s 3ms/step - loss: 7.0987 - val_loss: 7.6919\n",
      "Epoch 150/300\n",
      "29/29 [==============================] - 0s 3ms/step - loss: 7.1161 - val_loss: 7.6016\n",
      "Epoch 151/300\n",
      "29/29 [==============================] - 0s 3ms/step - loss: 7.0950 - val_loss: 7.6092\n",
      "Epoch 152/300\n",
      "29/29 [==============================] - 0s 3ms/step - loss: 7.0874 - val_loss: 7.5901\n",
      "Epoch 153/300\n",
      "29/29 [==============================] - 0s 3ms/step - loss: 7.0895 - val_loss: 7.5862\n",
      "Epoch 154/300\n",
      "29/29 [==============================] - 0s 3ms/step - loss: 7.0885 - val_loss: 7.5848\n",
      "Epoch 155/300\n",
      "29/29 [==============================] - 0s 3ms/step - loss: 7.1059 - val_loss: 7.6299\n",
      "Epoch 156/300\n",
      "29/29 [==============================] - 0s 3ms/step - loss: 7.1147 - val_loss: 7.5982\n",
      "Epoch 157/300\n",
      "29/29 [==============================] - 0s 3ms/step - loss: 7.1098 - val_loss: 7.6821\n",
      "Epoch 158/300\n",
      "29/29 [==============================] - 0s 3ms/step - loss: 7.0979 - val_loss: 7.5859\n",
      "Epoch 159/300\n",
      "29/29 [==============================] - 0s 3ms/step - loss: 7.1341 - val_loss: 7.7049\n",
      "Epoch 160/300\n",
      "29/29 [==============================] - 0s 3ms/step - loss: 7.1259 - val_loss: 7.7126\n",
      "Epoch 161/300\n",
      "29/29 [==============================] - 0s 3ms/step - loss: 7.1008 - val_loss: 7.6760\n",
      "Epoch 162/300\n",
      "29/29 [==============================] - 0s 3ms/step - loss: 7.1386 - val_loss: 7.6913\n",
      "Epoch 163/300\n",
      "29/29 [==============================] - 0s 3ms/step - loss: 7.1102 - val_loss: 7.6064\n",
      "Epoch 164/300\n",
      "29/29 [==============================] - 0s 3ms/step - loss: 7.0916 - val_loss: 7.5508\n",
      "Epoch 165/300\n",
      "29/29 [==============================] - 0s 3ms/step - loss: 7.0778 - val_loss: 7.6619\n",
      "Epoch 166/300\n",
      "29/29 [==============================] - 0s 3ms/step - loss: 7.1607 - val_loss: 7.6468\n",
      "Epoch 167/300\n",
      "29/29 [==============================] - 0s 3ms/step - loss: 7.1162 - val_loss: 7.5361\n",
      "Epoch 168/300\n",
      "29/29 [==============================] - 0s 3ms/step - loss: 7.0810 - val_loss: 7.6000\n",
      "Epoch 169/300\n",
      "29/29 [==============================] - 0s 3ms/step - loss: 7.0899 - val_loss: 7.6051\n",
      "Epoch 170/300\n",
      "29/29 [==============================] - 0s 3ms/step - loss: 7.0825 - val_loss: 7.5679\n",
      "Epoch 171/300\n",
      "29/29 [==============================] - 0s 3ms/step - loss: 7.0907 - val_loss: 7.5806\n",
      "Epoch 172/300\n",
      "29/29 [==============================] - 0s 3ms/step - loss: 7.0815 - val_loss: 7.5637\n",
      "Epoch 173/300\n",
      "29/29 [==============================] - 0s 3ms/step - loss: 7.0703 - val_loss: 7.5744\n",
      "Epoch 174/300\n",
      "29/29 [==============================] - 0s 3ms/step - loss: 7.0901 - val_loss: 7.5416\n",
      "Epoch 175/300\n",
      "29/29 [==============================] - 0s 3ms/step - loss: 7.1100 - val_loss: 7.5400\n",
      "Epoch 176/300\n",
      "29/29 [==============================] - 0s 3ms/step - loss: 7.0794 - val_loss: 7.6300\n",
      "Epoch 177/300\n",
      "29/29 [==============================] - 0s 3ms/step - loss: 7.0937 - val_loss: 7.5328\n",
      "Epoch 178/300\n",
      "29/29 [==============================] - 0s 3ms/step - loss: 7.0839 - val_loss: 7.7010\n",
      "Epoch 179/300\n",
      "29/29 [==============================] - 0s 3ms/step - loss: 7.1250 - val_loss: 7.6035\n",
      "Epoch 180/300\n",
      "29/29 [==============================] - 0s 3ms/step - loss: 7.0689 - val_loss: 7.5859\n",
      "Epoch 181/300\n",
      "29/29 [==============================] - 0s 3ms/step - loss: 7.0974 - val_loss: 7.6258\n",
      "Epoch 182/300\n",
      "29/29 [==============================] - 0s 3ms/step - loss: 7.1044 - val_loss: 7.5790\n",
      "Epoch 183/300\n",
      "29/29 [==============================] - 0s 3ms/step - loss: 7.0984 - val_loss: 7.6990\n",
      "Epoch 184/300\n",
      "29/29 [==============================] - 0s 3ms/step - loss: 7.1326 - val_loss: 7.6615\n",
      "Epoch 185/300\n",
      "29/29 [==============================] - 0s 3ms/step - loss: 7.0981 - val_loss: 7.6238\n",
      "Epoch 186/300\n",
      "29/29 [==============================] - 0s 4ms/step - loss: 7.1114 - val_loss: 7.6578\n",
      "Epoch 187/300\n",
      "29/29 [==============================] - 0s 4ms/step - loss: 7.0918 - val_loss: 7.6200\n",
      "Epoch 188/300\n",
      "29/29 [==============================] - 0s 4ms/step - loss: 7.0700 - val_loss: 7.5861\n",
      "Epoch 189/300\n",
      "29/29 [==============================] - 0s 4ms/step - loss: 7.0543 - val_loss: 7.5764\n",
      "Epoch 190/300\n",
      "29/29 [==============================] - 0s 4ms/step - loss: 7.0626 - val_loss: 7.5536\n",
      "Epoch 191/300\n",
      "29/29 [==============================] - 0s 4ms/step - loss: 7.0585 - val_loss: 7.5413\n",
      "Epoch 192/300\n",
      "29/29 [==============================] - 0s 4ms/step - loss: 7.0682 - val_loss: 7.6150\n",
      "Epoch 193/300\n",
      "29/29 [==============================] - 0s 3ms/step - loss: 7.0553 - val_loss: 7.5269\n",
      "Epoch 194/300\n",
      "29/29 [==============================] - 0s 4ms/step - loss: 7.0833 - val_loss: 7.5953\n",
      "Epoch 195/300\n",
      "29/29 [==============================] - 0s 4ms/step - loss: 7.0681 - val_loss: 7.6252\n",
      "Epoch 196/300\n",
      "29/29 [==============================] - 0s 4ms/step - loss: 7.0567 - val_loss: 7.5322\n",
      "Epoch 197/300\n",
      "29/29 [==============================] - 0s 4ms/step - loss: 7.0660 - val_loss: 7.5574\n",
      "Epoch 198/300\n",
      "29/29 [==============================] - 0s 3ms/step - loss: 7.0990 - val_loss: 7.6642\n",
      "Epoch 199/300\n",
      "29/29 [==============================] - 0s 3ms/step - loss: 7.0850 - val_loss: 7.5643\n",
      "Epoch 200/300\n",
      "29/29 [==============================] - 0s 3ms/step - loss: 7.0822 - val_loss: 7.5781\n",
      "Epoch 201/300\n",
      "29/29 [==============================] - 0s 3ms/step - loss: 7.0470 - val_loss: 7.6090\n",
      "Epoch 202/300\n",
      "29/29 [==============================] - 0s 3ms/step - loss: 7.0568 - val_loss: 7.6364\n",
      "Epoch 203/300\n",
      "29/29 [==============================] - 0s 3ms/step - loss: 7.0580 - val_loss: 7.5890\n",
      "Epoch 204/300\n",
      "29/29 [==============================] - 0s 3ms/step - loss: 7.0518 - val_loss: 7.5909\n",
      "Epoch 205/300\n",
      "29/29 [==============================] - 0s 3ms/step - loss: 7.0944 - val_loss: 7.5246\n",
      "Epoch 206/300\n",
      "29/29 [==============================] - 0s 3ms/step - loss: 7.0627 - val_loss: 7.5381\n",
      "Epoch 207/300\n",
      "29/29 [==============================] - 0s 3ms/step - loss: 7.0575 - val_loss: 7.5316\n",
      "Epoch 208/300\n",
      "29/29 [==============================] - 0s 4ms/step - loss: 7.0366 - val_loss: 7.5444\n",
      "Epoch 209/300\n",
      "29/29 [==============================] - 0s 3ms/step - loss: 7.1147 - val_loss: 7.8647\n",
      "Epoch 210/300\n",
      "29/29 [==============================] - 0s 3ms/step - loss: 7.1862 - val_loss: 7.5632\n",
      "Epoch 211/300\n",
      "29/29 [==============================] - 0s 3ms/step - loss: 7.0592 - val_loss: 7.6188\n",
      "Epoch 212/300\n",
      "29/29 [==============================] - 0s 3ms/step - loss: 7.1024 - val_loss: 7.5933\n",
      "Epoch 213/300\n",
      "29/29 [==============================] - 0s 3ms/step - loss: 7.0286 - val_loss: 7.5696\n",
      "Epoch 214/300\n",
      "29/29 [==============================] - 0s 3ms/step - loss: 7.0413 - val_loss: 7.5270\n",
      "Epoch 215/300\n",
      "29/29 [==============================] - 0s 3ms/step - loss: 6.9969 - val_loss: 7.5356\n",
      "Epoch 216/300\n",
      "29/29 [==============================] - 0s 3ms/step - loss: 7.0296 - val_loss: 7.5133\n",
      "Epoch 217/300\n",
      "29/29 [==============================] - 0s 3ms/step - loss: 7.0373 - val_loss: 7.5847\n",
      "Epoch 218/300\n",
      "29/29 [==============================] - 0s 3ms/step - loss: 7.0495 - val_loss: 7.6122\n",
      "Epoch 219/300\n",
      "29/29 [==============================] - 0s 3ms/step - loss: 7.0600 - val_loss: 7.5536\n",
      "Epoch 220/300\n",
      "29/29 [==============================] - 0s 3ms/step - loss: 7.0359 - val_loss: 7.5176\n",
      "Epoch 221/300\n",
      "29/29 [==============================] - 0s 3ms/step - loss: 7.0139 - val_loss: 7.5131\n",
      "Epoch 222/300\n",
      "29/29 [==============================] - 0s 3ms/step - loss: 7.0289 - val_loss: 7.6370\n",
      "Epoch 223/300\n",
      "29/29 [==============================] - 0s 3ms/step - loss: 7.1154 - val_loss: 7.5912\n",
      "Epoch 224/300\n",
      "29/29 [==============================] - 0s 3ms/step - loss: 7.0581 - val_loss: 7.5204\n",
      "Epoch 225/300\n",
      "29/29 [==============================] - 0s 3ms/step - loss: 7.0234 - val_loss: 7.6227\n",
      "Epoch 226/300\n",
      "29/29 [==============================] - 0s 3ms/step - loss: 7.0534 - val_loss: 7.5479\n",
      "Epoch 227/300\n",
      "29/29 [==============================] - 0s 3ms/step - loss: 7.0386 - val_loss: 7.5027\n",
      "Epoch 228/300\n",
      "29/29 [==============================] - 0s 3ms/step - loss: 7.0425 - val_loss: 7.5758\n",
      "Epoch 229/300\n",
      "29/29 [==============================] - 0s 3ms/step - loss: 7.0333 - val_loss: 7.5106\n",
      "Epoch 230/300\n",
      "29/29 [==============================] - 0s 3ms/step - loss: 7.0160 - val_loss: 7.5322\n",
      "Epoch 231/300\n",
      "29/29 [==============================] - 0s 3ms/step - loss: 6.9965 - val_loss: 7.5670\n",
      "Epoch 232/300\n",
      "29/29 [==============================] - 0s 3ms/step - loss: 7.0160 - val_loss: 7.5919\n",
      "Epoch 233/300\n",
      "29/29 [==============================] - 0s 3ms/step - loss: 7.0321 - val_loss: 7.5207\n",
      "Epoch 234/300\n",
      "29/29 [==============================] - 0s 3ms/step - loss: 7.0574 - val_loss: 7.5777\n",
      "Epoch 235/300\n",
      "29/29 [==============================] - 0s 3ms/step - loss: 7.0050 - val_loss: 7.4882\n",
      "Epoch 236/300\n",
      "29/29 [==============================] - 0s 3ms/step - loss: 6.9883 - val_loss: 7.5785\n",
      "Epoch 237/300\n",
      "29/29 [==============================] - 0s 3ms/step - loss: 6.9964 - val_loss: 7.6061\n",
      "Epoch 238/300\n",
      "29/29 [==============================] - 0s 3ms/step - loss: 7.0143 - val_loss: 7.5901\n",
      "Epoch 239/300\n",
      "29/29 [==============================] - 0s 3ms/step - loss: 7.0291 - val_loss: 7.5018\n",
      "Epoch 240/300\n",
      "29/29 [==============================] - 0s 3ms/step - loss: 6.9940 - val_loss: 7.5341\n",
      "Epoch 241/300\n",
      "29/29 [==============================] - 0s 3ms/step - loss: 6.9952 - val_loss: 7.5230\n",
      "Epoch 242/300\n",
      "29/29 [==============================] - 0s 3ms/step - loss: 6.9796 - val_loss: 7.4996\n",
      "Epoch 243/300\n",
      "29/29 [==============================] - 0s 3ms/step - loss: 6.9878 - val_loss: 7.4666\n",
      "Epoch 244/300\n",
      "29/29 [==============================] - 0s 3ms/step - loss: 6.9793 - val_loss: 7.4996\n",
      "Epoch 245/300\n",
      "29/29 [==============================] - 0s 3ms/step - loss: 7.0259 - val_loss: 7.5817\n",
      "Epoch 246/300\n",
      "29/29 [==============================] - 0s 3ms/step - loss: 7.0140 - val_loss: 7.6787\n",
      "Epoch 247/300\n",
      "29/29 [==============================] - 0s 3ms/step - loss: 6.9920 - val_loss: 7.4916\n",
      "Epoch 248/300\n",
      "29/29 [==============================] - 0s 3ms/step - loss: 6.9743 - val_loss: 7.5035\n",
      "Epoch 249/300\n",
      "29/29 [==============================] - 0s 3ms/step - loss: 6.9697 - val_loss: 7.4672\n",
      "Epoch 250/300\n",
      "29/29 [==============================] - 0s 3ms/step - loss: 6.9948 - val_loss: 7.4780\n",
      "Epoch 251/300\n",
      "29/29 [==============================] - 0s 3ms/step - loss: 7.0128 - val_loss: 7.5099\n",
      "Epoch 252/300\n",
      "29/29 [==============================] - 0s 3ms/step - loss: 6.9896 - val_loss: 7.4728\n",
      "Epoch 253/300\n",
      "29/29 [==============================] - 0s 3ms/step - loss: 6.9910 - val_loss: 7.5678\n",
      "Epoch 254/300\n",
      "29/29 [==============================] - 0s 3ms/step - loss: 6.9695 - val_loss: 7.4886\n",
      "Epoch 255/300\n",
      "29/29 [==============================] - 0s 3ms/step - loss: 7.0069 - val_loss: 7.5031\n",
      "Epoch 256/300\n",
      "29/29 [==============================] - 0s 3ms/step - loss: 6.9700 - val_loss: 7.5149\n",
      "Epoch 257/300\n",
      "29/29 [==============================] - 0s 3ms/step - loss: 6.9704 - val_loss: 7.4902\n",
      "Epoch 258/300\n",
      "29/29 [==============================] - 0s 3ms/step - loss: 6.9660 - val_loss: 7.4872\n",
      "Epoch 259/300\n",
      "29/29 [==============================] - 0s 3ms/step - loss: 6.9828 - val_loss: 7.6085\n",
      "Epoch 260/300\n",
      "29/29 [==============================] - 0s 3ms/step - loss: 6.9828 - val_loss: 7.5116\n",
      "Epoch 261/300\n",
      "29/29 [==============================] - 0s 3ms/step - loss: 6.9842 - val_loss: 7.4798\n",
      "Epoch 262/300\n",
      "29/29 [==============================] - 0s 3ms/step - loss: 6.9966 - val_loss: 7.5327\n",
      "Epoch 263/300\n",
      "29/29 [==============================] - 0s 3ms/step - loss: 6.9641 - val_loss: 7.5148\n",
      "Epoch 264/300\n",
      "29/29 [==============================] - 0s 3ms/step - loss: 6.9521 - val_loss: 7.4912\n",
      "Epoch 265/300\n",
      "29/29 [==============================] - 0s 3ms/step - loss: 6.9894 - val_loss: 7.5146\n",
      "Epoch 266/300\n",
      "29/29 [==============================] - 0s 4ms/step - loss: 6.9924 - val_loss: 7.4701\n",
      "Epoch 267/300\n",
      "29/29 [==============================] - 0s 3ms/step - loss: 6.9519 - val_loss: 7.4714\n",
      "Epoch 268/300\n",
      "29/29 [==============================] - 0s 4ms/step - loss: 6.9794 - val_loss: 7.4429\n",
      "Epoch 269/300\n",
      "29/29 [==============================] - 0s 3ms/step - loss: 6.9399 - val_loss: 7.4996\n",
      "Epoch 270/300\n",
      "29/29 [==============================] - 0s 3ms/step - loss: 6.9908 - val_loss: 7.4928\n",
      "Epoch 271/300\n",
      "29/29 [==============================] - 0s 3ms/step - loss: 6.9481 - val_loss: 7.4790\n",
      "Epoch 272/300\n",
      "29/29 [==============================] - 0s 3ms/step - loss: 6.9422 - val_loss: 7.5134\n",
      "Epoch 273/300\n",
      "29/29 [==============================] - 0s 3ms/step - loss: 6.9825 - val_loss: 7.5488\n",
      "Epoch 274/300\n",
      "29/29 [==============================] - 0s 3ms/step - loss: 6.9410 - val_loss: 7.5044\n",
      "Epoch 275/300\n",
      "29/29 [==============================] - 0s 3ms/step - loss: 6.9966 - val_loss: 7.5473\n",
      "Epoch 276/300\n",
      "29/29 [==============================] - 0s 3ms/step - loss: 6.9513 - val_loss: 7.4656\n",
      "Epoch 277/300\n",
      "29/29 [==============================] - 0s 3ms/step - loss: 6.9453 - val_loss: 7.4572\n",
      "Epoch 278/300\n",
      "29/29 [==============================] - 0s 3ms/step - loss: 6.9787 - val_loss: 7.5353\n",
      "Epoch 279/300\n",
      "29/29 [==============================] - 0s 3ms/step - loss: 6.9667 - val_loss: 7.5365\n",
      "Epoch 280/300\n",
      "29/29 [==============================] - 0s 3ms/step - loss: 6.9255 - val_loss: 7.4572\n",
      "Epoch 281/300\n",
      "29/29 [==============================] - 0s 3ms/step - loss: 6.9416 - val_loss: 7.4683\n",
      "Epoch 282/300\n",
      "29/29 [==============================] - 0s 3ms/step - loss: 6.9511 - val_loss: 7.4922\n",
      "Epoch 283/300\n",
      "29/29 [==============================] - 0s 3ms/step - loss: 6.9665 - val_loss: 7.4408\n",
      "Epoch 284/300\n",
      "29/29 [==============================] - 0s 3ms/step - loss: 6.9822 - val_loss: 7.4914\n",
      "Epoch 285/300\n",
      "29/29 [==============================] - 0s 3ms/step - loss: 6.9369 - val_loss: 7.4363\n",
      "Epoch 286/300\n",
      "29/29 [==============================] - 0s 3ms/step - loss: 6.9199 - val_loss: 7.5007\n",
      "Epoch 287/300\n",
      "29/29 [==============================] - 0s 3ms/step - loss: 6.9740 - val_loss: 7.5116\n",
      "Epoch 288/300\n",
      "29/29 [==============================] - 0s 3ms/step - loss: 6.9695 - val_loss: 7.5393\n",
      "Epoch 289/300\n",
      "29/29 [==============================] - 0s 3ms/step - loss: 6.9146 - val_loss: 7.4666\n",
      "Epoch 290/300\n",
      "29/29 [==============================] - 0s 5ms/step - loss: 6.9460 - val_loss: 7.4821\n",
      "Epoch 291/300\n",
      "29/29 [==============================] - 0s 3ms/step - loss: 6.9759 - val_loss: 7.6466\n",
      "Epoch 292/300\n",
      "29/29 [==============================] - 0s 3ms/step - loss: 6.9909 - val_loss: 7.5463\n",
      "Epoch 293/300\n",
      "29/29 [==============================] - 0s 3ms/step - loss: 6.9632 - val_loss: 7.4776\n",
      "Epoch 294/300\n",
      "29/29 [==============================] - 0s 3ms/step - loss: 6.9786 - val_loss: 7.5930\n",
      "Epoch 295/300\n",
      "29/29 [==============================] - 0s 3ms/step - loss: 6.9945 - val_loss: 7.5503\n",
      "Epoch 296/300\n",
      "29/29 [==============================] - 0s 3ms/step - loss: 6.9179 - val_loss: 7.4928\n",
      "Epoch 297/300\n",
      "29/29 [==============================] - 0s 3ms/step - loss: 7.0113 - val_loss: 7.4764\n",
      "Epoch 298/300\n",
      "29/29 [==============================] - 0s 3ms/step - loss: 6.9232 - val_loss: 7.4364\n",
      "Epoch 299/300\n",
      "29/29 [==============================] - 0s 3ms/step - loss: 6.9213 - val_loss: 7.4485\n",
      "Epoch 300/300\n",
      "29/29 [==============================] - 0s 3ms/step - loss: 6.9184 - val_loss: 7.4305\n"
     ]
    }
   ],
   "source": [
    "losses = model11.fit(X_train, y_train,\n",
    "\n",
    "\t\t\t\tvalidation_data=(X_test, y_test),\n",
    "\t\t\t\t\t\n",
    "\t\t\t\t# it will use 'batch_size' number\n",
    "\t\t\t\t# of examples per example\n",
    "\t\t\t\tbatch_size=256,\n",
    "\t\t\t\tepochs=300, # total epoch\n",
    "\n",
    "\t\t\t\t)\n"
   ]
  },
  {
   "cell_type": "code",
   "execution_count": 407,
   "id": "388a7c82-f1af-42a4-9a61-3f89d4be5bbc",
   "metadata": {},
   "outputs": [],
   "source": [
    "# this will pass the first 3 rows of features\n",
    "# of our data as input to make predictions\n",
    "pred=model11.predict(X_test)\n"
   ]
  },
  {
   "cell_type": "code",
   "execution_count": 408,
   "id": "5161a52a-f460-4d31-9fca-857a48a463e4",
   "metadata": {},
   "outputs": [
    {
     "data": {
      "text/plain": [
       "<AxesSubplot:>"
      ]
     },
     "execution_count": 408,
     "metadata": {},
     "output_type": "execute_result"
    },
    {
     "data": {
      "image/png": "[encoded data removed]",
      "text/plain": [
       "<Figure size 432x288 with 1 Axes>"
      ]
     },
     "metadata": {
      "needs_background": "light"
     },
     "output_type": "display_data"
    }
   ],
   "source": [
    "loss_df = pd.DataFrame(losses.history)\n",
    "\n",
    "# history stores the loss/val\n",
    "# loss in each epoch\n",
    "\n",
    "# loss_df is a dataframe which\n",
    "# contains the losses so we can\n",
    "# plot it to visualize our model training\n",
    "loss_df.loc[:,['loss','val_loss']].plot()\n"
   ]
  },
  {
   "cell_type": "code",
   "execution_count": 409,
   "id": "35a96af5-51f4-4e1a-b5f9-6221cedc2023",
   "metadata": {},
   "outputs": [
    {
     "name": "stdout",
     "output_type": "stream",
     "text": [
      "Mean Square Error      = 2514.614150434862\n",
      "Root Mean Square Error = 50.14592855292304\n",
      "Mean Absolute Error    = 7.430501712962767\n",
      "Median Absolute Error  = 0.869293212890625\n",
      "R^2                    = 0.005550881444215006\n",
      "Adjusted R^2           = 0.00392684913301884\n"
     ]
    }
   ],
   "source": [
    "def print_metrics(y_true, y_predicted, n_parameters):\n",
    "    ## First compute R^2 and the adjusted R^2\n",
    "    r2 = sklm.r2_score(y_true, y_predicted)\n",
    "    r2_adj = r2 - (n_parameters - 1)/(y_true.shape[0] - n_parameters) * (1 - r2)\n",
    "    \n",
    "    ## Print the usual metrics and the R^2 values\n",
    "    print('Mean Square Error      = ' + str(sklm.mean_squared_error(y_true, y_predicted)))\n",
    "    print('Root Mean Square Error = ' + str(math.sqrt(sklm.mean_squared_error(y_true, y_predicted))))\n",
    "    print('Mean Absolute Error    = ' + str(sklm.mean_absolute_error(y_true, y_predicted)))\n",
    "    print('Median Absolute Error  = ' + str(sklm.median_absolute_error(y_true, y_predicted)))\n",
    "    print('R^2                    = ' + str(r2))\n",
    "    print('Adjusted R^2           = ' + str(r2_adj))\n",
    "\n",
    "print_metrics(y_test,pred, 4)"
   ]
  },
  {
   "cell_type": "code",
   "execution_count": 416,
   "id": "088bed31-ecab-4e84-8ce9-b59154c8824b",
   "metadata": {},
   "outputs": [
    {
     "data": {
      "text/plain": [
       "(1841,)"
      ]
     },
     "execution_count": 416,
     "metadata": {},
     "output_type": "execute_result"
    }
   ],
   "source": [
    "y_pred_r.shape"
   ]
  },
  {
   "cell_type": "code",
   "execution_count": 415,
   "id": "d0627936-2170-4da1-83df-903593c73dbe",
   "metadata": {},
   "outputs": [
    {
     "data": {
      "text/plain": [
       "(1841,)"
      ]
     },
     "execution_count": 415,
     "metadata": {},
     "output_type": "execute_result"
    }
   ],
   "source": [
    "y_test.shape"
   ]
  },
  {
   "cell_type": "code",
   "execution_count": null,
   "id": "9faf5df9-ed00-462d-8e3d-e76c31ac2406",
   "metadata": {},
   "outputs": [],
   "source": []
  }
 ],
 "metadata": {
  "kernelspec": {
   "display_name": "Python 3 (ipykernel)",
   "language": "python",
   "name": "python3"
  },
  "language_info": {
   "codemirror_mode": {
    "name": "ipython",
    "version": 3
   },
   "file_extension": ".py",
   "mimetype": "text/x-python",
   "name": "python",
   "nbconvert_exporter": "python",
   "pygments_lexer": "ipython3",
   "version": "3.11.4"
  }
 },
 "nbformat": 4,
 "nbformat_minor": 5
}
