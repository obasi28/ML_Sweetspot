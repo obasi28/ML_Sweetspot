{
 "cells": [
  {
   "cell_type": "markdown",
   "id": "0fc41ed4-e538-4591-ac5f-a0b98df7aaeb",
   "metadata": {},
   "source": [
    "# Case 1 model in predicting TOC - Linear Regression"
   ]
  },
  {
   "cell_type": "markdown",
   "id": "c458d289-9d82-42ed-afeb-c04ebcd8f97c",
   "metadata": {},
   "source": [
    "## loading the Libraries and Dataset"
   ]
  },
  {
   "cell_type": "code",
   "execution_count": 1,
   "id": "29ad873c-1e5c-4eaf-a75d-f3fa07cabae5",
   "metadata": {},
   "outputs": [],
   "source": [
    "import pandas as pd\n",
    "from sklearn import preprocessing\n",
    "import sklearn.model_selection as ms\n",
    "from sklearn import linear_model\n",
    "import sklearn.metrics as sklm\n",
    "import numpy as np\n",
    "import numpy.random as nr\n",
    "import matplotlib.pyplot as plt\n",
    "import seaborn as sns\n",
    "import scipy.stats as ss\n",
    "import math\n",
    "\n",
    "%matplotlib inline"
   ]
  },
  {
   "cell_type": "code",
   "execution_count": 2,
   "id": "500f53a8-2373-4f11-a137-e9982270d8f4",
   "metadata": {},
   "outputs": [],
   "source": [
    "coreDataPrepared=pd.read_csv('CoredataTmax.csv')"
   ]
  },
  {
   "cell_type": "code",
   "execution_count": 3,
   "id": "2e7ac1e8-74bf-4d9a-9301-a6765d5debbe",
   "metadata": {},
   "outputs": [
    {
     "data": {
      "text/html": [
       "<div>\n",
       "<style scoped>\n",
       "    .dataframe tbody tr th:only-of-type {\n",
       "        vertical-align: middle;\n",
       "    }\n",
       "\n",
       "    .dataframe tbody tr th {\n",
       "        vertical-align: top;\n",
       "    }\n",
       "\n",
       "    .dataframe thead th {\n",
       "        text-align: right;\n",
       "    }\n",
       "</style>\n",
       "<table border=\"1\" class=\"dataframe\">\n",
       "  <thead>\n",
       "    <tr style=\"text-align: right;\">\n",
       "      <th></th>\n",
       "      <th>Well</th>\n",
       "      <th>CRC Lib #</th>\n",
       "      <th>Formation</th>\n",
       "      <th>Sample Type</th>\n",
       "      <th>GR</th>\n",
       "      <th>ILD</th>\n",
       "      <th>Porosity</th>\n",
       "      <th>HCl Reaction</th>\n",
       "      <th>Avg. Depth</th>\n",
       "      <th>Leco TOC (%)</th>\n",
       "      <th>S1</th>\n",
       "      <th>S2</th>\n",
       "      <th>S3</th>\n",
       "      <th>Tmax (°C)</th>\n",
       "      <th>HI</th>\n",
       "      <th>OI</th>\n",
       "      <th>S1+S2</th>\n",
       "      <th>PI</th>\n",
       "    </tr>\n",
       "  </thead>\n",
       "  <tbody>\n",
       "    <tr>\n",
       "      <th>0</th>\n",
       "      <td>Buffalo Gap Federal 35-1</td>\n",
       "      <td>T120</td>\n",
       "      <td>MWRY</td>\n",
       "      <td>core</td>\n",
       "      <td>230.484523</td>\n",
       "      <td>11.470472</td>\n",
       "      <td>9.500998</td>\n",
       "      <td>1</td>\n",
       "      <td>11145.1</td>\n",
       "      <td>0.55</td>\n",
       "      <td>NaN</td>\n",
       "      <td>NaN</td>\n",
       "      <td>NaN</td>\n",
       "      <td>NaN</td>\n",
       "      <td>NaN</td>\n",
       "      <td>NaN</td>\n",
       "      <td>0.0</td>\n",
       "      <td>NaN</td>\n",
       "    </tr>\n",
       "    <tr>\n",
       "      <th>1</th>\n",
       "      <td>Buffalo Gap Federal 35-1</td>\n",
       "      <td>T120</td>\n",
       "      <td>MWRY</td>\n",
       "      <td>core</td>\n",
       "      <td>230.484523</td>\n",
       "      <td>11.470472</td>\n",
       "      <td>9.500998</td>\n",
       "      <td>1</td>\n",
       "      <td>11145.1</td>\n",
       "      <td>0.55</td>\n",
       "      <td>NaN</td>\n",
       "      <td>NaN</td>\n",
       "      <td>NaN</td>\n",
       "      <td>NaN</td>\n",
       "      <td>NaN</td>\n",
       "      <td>NaN</td>\n",
       "      <td>0.0</td>\n",
       "      <td>NaN</td>\n",
       "    </tr>\n",
       "    <tr>\n",
       "      <th>2</th>\n",
       "      <td>Buffalo Gap Federal 35-1</td>\n",
       "      <td>T120</td>\n",
       "      <td>MWRY</td>\n",
       "      <td>core</td>\n",
       "      <td>230.484523</td>\n",
       "      <td>11.470472</td>\n",
       "      <td>9.500998</td>\n",
       "      <td>1</td>\n",
       "      <td>11145.1</td>\n",
       "      <td>0.55</td>\n",
       "      <td>NaN</td>\n",
       "      <td>NaN</td>\n",
       "      <td>NaN</td>\n",
       "      <td>NaN</td>\n",
       "      <td>NaN</td>\n",
       "      <td>NaN</td>\n",
       "      <td>0.0</td>\n",
       "      <td>NaN</td>\n",
       "    </tr>\n",
       "    <tr>\n",
       "      <th>3</th>\n",
       "      <td>Buffalo Gap Federal 35-1</td>\n",
       "      <td>T120</td>\n",
       "      <td>MWRY</td>\n",
       "      <td>core</td>\n",
       "      <td>230.484523</td>\n",
       "      <td>11.470472</td>\n",
       "      <td>9.500998</td>\n",
       "      <td>1</td>\n",
       "      <td>11145.1</td>\n",
       "      <td>0.55</td>\n",
       "      <td>NaN</td>\n",
       "      <td>NaN</td>\n",
       "      <td>NaN</td>\n",
       "      <td>NaN</td>\n",
       "      <td>NaN</td>\n",
       "      <td>NaN</td>\n",
       "      <td>0.0</td>\n",
       "      <td>NaN</td>\n",
       "    </tr>\n",
       "    <tr>\n",
       "      <th>4</th>\n",
       "      <td>Buffalo Gap Federal 35-1</td>\n",
       "      <td>T120</td>\n",
       "      <td>MWRY</td>\n",
       "      <td>core</td>\n",
       "      <td>230.484523</td>\n",
       "      <td>11.470472</td>\n",
       "      <td>9.500998</td>\n",
       "      <td>1</td>\n",
       "      <td>11145.1</td>\n",
       "      <td>0.55</td>\n",
       "      <td>NaN</td>\n",
       "      <td>NaN</td>\n",
       "      <td>NaN</td>\n",
       "      <td>NaN</td>\n",
       "      <td>NaN</td>\n",
       "      <td>NaN</td>\n",
       "      <td>0.0</td>\n",
       "      <td>NaN</td>\n",
       "    </tr>\n",
       "  </tbody>\n",
       "</table>\n",
       "</div>"
      ],
      "text/plain": [
       "                       Well CRC Lib # Formation Sample Type          GR  \\\n",
       "0  Buffalo Gap Federal 35-1      T120      MWRY        core  230.484523   \n",
       "1  Buffalo Gap Federal 35-1      T120      MWRY        core  230.484523   \n",
       "2  Buffalo Gap Federal 35-1      T120      MWRY        core  230.484523   \n",
       "3  Buffalo Gap Federal 35-1      T120      MWRY        core  230.484523   \n",
       "4  Buffalo Gap Federal 35-1      T120      MWRY        core  230.484523   \n",
       "\n",
       "         ILD  Porosity  HCl Reaction  Avg. Depth  Leco TOC (%)  S1   S2   S3  \\\n",
       "0  11.470472  9.500998             1     11145.1          0.55  NaN  NaN NaN   \n",
       "1  11.470472  9.500998             1     11145.1          0.55  NaN  NaN NaN   \n",
       "2  11.470472  9.500998             1     11145.1          0.55  NaN  NaN NaN   \n",
       "3  11.470472  9.500998             1     11145.1          0.55  NaN  NaN NaN   \n",
       "4  11.470472  9.500998             1     11145.1          0.55  NaN  NaN NaN   \n",
       "\n",
       "   Tmax (°C)  HI  OI  S1+S2  PI  \n",
       "0        NaN NaN NaN    0.0 NaN  \n",
       "1        NaN NaN NaN    0.0 NaN  \n",
       "2        NaN NaN NaN    0.0 NaN  \n",
       "3        NaN NaN NaN    0.0 NaN  \n",
       "4        NaN NaN NaN    0.0 NaN  "
      ]
     },
     "execution_count": 3,
     "metadata": {},
     "output_type": "execute_result"
    }
   ],
   "source": [
    "coreDataPrepared.head()"
   ]
  },
  {
   "cell_type": "code",
   "execution_count": 4,
   "id": "9be66b5f-99e6-4e70-ba2b-1e31d0fc2bfb",
   "metadata": {},
   "outputs": [],
   "source": [
    "data=coreDataPrepared[['GR','ILD','Porosity','Avg. Depth','Leco TOC (%)']]"
   ]
  },
  {
   "cell_type": "code",
   "execution_count": 5,
   "id": "6ef86bc2-d747-466b-af22-62063f447a91",
   "metadata": {},
   "outputs": [
    {
     "name": "stderr",
     "output_type": "stream",
     "text": [
      "<ipython-input-5-f1116dacf2bb>:1: SettingWithCopyWarning: \n",
      "A value is trying to be set on a copy of a slice from a DataFrame\n",
      "\n",
      "See the caveats in the documentation: https://pandas.pydata.org/pandas-docs/stable/user_guide/indexing.html#returning-a-view-versus-a-copy\n",
      "  data.dropna(inplace=True)\n"
     ]
    }
   ],
   "source": [
    "data.dropna(inplace=True)"
   ]
  },
  {
   "cell_type": "code",
   "execution_count": 6,
   "id": "609167aa-df30-4332-a149-74c893a950a2",
   "metadata": {},
   "outputs": [],
   "source": [
    "data=data[data['Porosity']<31]\n",
    "data=data[(data['Avg. Depth']>7000)&(data['ILD']<400)&(data['Leco TOC (%)']<10)]\n",
    "data.reset_index(inplace=True)"
   ]
  },
  {
   "cell_type": "code",
   "execution_count": 7,
   "id": "a3f3195e-8c7a-44f5-bb68-c69aa5e815ce",
   "metadata": {},
   "outputs": [
    {
     "data": {
      "text/html": [
       "<div>\n",
       "<style scoped>\n",
       "    .dataframe tbody tr th:only-of-type {\n",
       "        vertical-align: middle;\n",
       "    }\n",
       "\n",
       "    .dataframe tbody tr th {\n",
       "        vertical-align: top;\n",
       "    }\n",
       "\n",
       "    .dataframe thead th {\n",
       "        text-align: right;\n",
       "    }\n",
       "</style>\n",
       "<table border=\"1\" class=\"dataframe\">\n",
       "  <thead>\n",
       "    <tr style=\"text-align: right;\">\n",
       "      <th></th>\n",
       "      <th>index</th>\n",
       "      <th>GR</th>\n",
       "      <th>ILD</th>\n",
       "      <th>Porosity</th>\n",
       "      <th>Avg. Depth</th>\n",
       "      <th>Leco TOC (%)</th>\n",
       "    </tr>\n",
       "  </thead>\n",
       "  <tbody>\n",
       "    <tr>\n",
       "      <th>0</th>\n",
       "      <td>0</td>\n",
       "      <td>230.484523</td>\n",
       "      <td>11.470472</td>\n",
       "      <td>9.500998</td>\n",
       "      <td>11145.1</td>\n",
       "      <td>0.55</td>\n",
       "    </tr>\n",
       "    <tr>\n",
       "      <th>1</th>\n",
       "      <td>1</td>\n",
       "      <td>230.484523</td>\n",
       "      <td>11.470472</td>\n",
       "      <td>9.500998</td>\n",
       "      <td>11145.1</td>\n",
       "      <td>0.55</td>\n",
       "    </tr>\n",
       "    <tr>\n",
       "      <th>2</th>\n",
       "      <td>2</td>\n",
       "      <td>230.484523</td>\n",
       "      <td>11.470472</td>\n",
       "      <td>9.500998</td>\n",
       "      <td>11145.1</td>\n",
       "      <td>0.55</td>\n",
       "    </tr>\n",
       "    <tr>\n",
       "      <th>3</th>\n",
       "      <td>3</td>\n",
       "      <td>230.484523</td>\n",
       "      <td>11.470472</td>\n",
       "      <td>9.500998</td>\n",
       "      <td>11145.1</td>\n",
       "      <td>0.55</td>\n",
       "    </tr>\n",
       "    <tr>\n",
       "      <th>4</th>\n",
       "      <td>4</td>\n",
       "      <td>230.484523</td>\n",
       "      <td>11.470472</td>\n",
       "      <td>9.500998</td>\n",
       "      <td>11145.1</td>\n",
       "      <td>0.55</td>\n",
       "    </tr>\n",
       "    <tr>\n",
       "      <th>...</th>\n",
       "      <td>...</td>\n",
       "      <td>...</td>\n",
       "      <td>...</td>\n",
       "      <td>...</td>\n",
       "      <td>...</td>\n",
       "      <td>...</td>\n",
       "    </tr>\n",
       "    <tr>\n",
       "      <th>9850</th>\n",
       "      <td>9995</td>\n",
       "      <td>105.054811</td>\n",
       "      <td>9.725226</td>\n",
       "      <td>10.592800</td>\n",
       "      <td>9227.0</td>\n",
       "      <td>2.30</td>\n",
       "    </tr>\n",
       "    <tr>\n",
       "      <th>9851</th>\n",
       "      <td>9996</td>\n",
       "      <td>113.135171</td>\n",
       "      <td>51.706493</td>\n",
       "      <td>9.700599</td>\n",
       "      <td>11170.0</td>\n",
       "      <td>1.83</td>\n",
       "    </tr>\n",
       "    <tr>\n",
       "      <th>9852</th>\n",
       "      <td>9997</td>\n",
       "      <td>157.069571</td>\n",
       "      <td>30.067157</td>\n",
       "      <td>9.500998</td>\n",
       "      <td>11343.2</td>\n",
       "      <td>1.77</td>\n",
       "    </tr>\n",
       "    <tr>\n",
       "      <th>9853</th>\n",
       "      <td>9998</td>\n",
       "      <td>144.028221</td>\n",
       "      <td>49.117105</td>\n",
       "      <td>7.704591</td>\n",
       "      <td>11255.5</td>\n",
       "      <td>2.61</td>\n",
       "    </tr>\n",
       "    <tr>\n",
       "      <th>9854</th>\n",
       "      <td>9999</td>\n",
       "      <td>161.057408</td>\n",
       "      <td>30.067157</td>\n",
       "      <td>9.500998</td>\n",
       "      <td>11199.0</td>\n",
       "      <td>1.77</td>\n",
       "    </tr>\n",
       "  </tbody>\n",
       "</table>\n",
       "<p>9855 rows × 6 columns</p>\n",
       "</div>"
      ],
      "text/plain": [
       "      index          GR        ILD   Porosity  Avg. Depth  Leco TOC (%)\n",
       "0         0  230.484523  11.470472   9.500998     11145.1          0.55\n",
       "1         1  230.484523  11.470472   9.500998     11145.1          0.55\n",
       "2         2  230.484523  11.470472   9.500998     11145.1          0.55\n",
       "3         3  230.484523  11.470472   9.500998     11145.1          0.55\n",
       "4         4  230.484523  11.470472   9.500998     11145.1          0.55\n",
       "...     ...         ...        ...        ...         ...           ...\n",
       "9850   9995  105.054811   9.725226  10.592800      9227.0          2.30\n",
       "9851   9996  113.135171  51.706493   9.700599     11170.0          1.83\n",
       "9852   9997  157.069571  30.067157   9.500998     11343.2          1.77\n",
       "9853   9998  144.028221  49.117105   7.704591     11255.5          2.61\n",
       "9854   9999  161.057408  30.067157   9.500998     11199.0          1.77\n",
       "\n",
       "[9855 rows x 6 columns]"
      ]
     },
     "execution_count": 7,
     "metadata": {},
     "output_type": "execute_result"
    }
   ],
   "source": [
    "data"
   ]
  },
  {
   "cell_type": "code",
   "execution_count": 8,
   "id": "11ebbcd9-8054-4dc0-b356-885e4698ac1a",
   "metadata": {},
   "outputs": [],
   "source": [
    "data.drop(['index'],axis=1,inplace=True)\n"
   ]
  },
  {
   "cell_type": "code",
   "execution_count": 9,
   "id": "56bbed28-68bd-42fa-853e-a2825d62ef20",
   "metadata": {},
   "outputs": [
    {
     "data": {
      "text/html": [
       "<div>\n",
       "<style scoped>\n",
       "    .dataframe tbody tr th:only-of-type {\n",
       "        vertical-align: middle;\n",
       "    }\n",
       "\n",
       "    .dataframe tbody tr th {\n",
       "        vertical-align: top;\n",
       "    }\n",
       "\n",
       "    .dataframe thead th {\n",
       "        text-align: right;\n",
       "    }\n",
       "</style>\n",
       "<table border=\"1\" class=\"dataframe\">\n",
       "  <thead>\n",
       "    <tr style=\"text-align: right;\">\n",
       "      <th></th>\n",
       "      <th>GR</th>\n",
       "      <th>ILD</th>\n",
       "      <th>Porosity</th>\n",
       "      <th>Avg. Depth</th>\n",
       "      <th>Leco TOC (%)</th>\n",
       "    </tr>\n",
       "  </thead>\n",
       "  <tbody>\n",
       "    <tr>\n",
       "      <th>0</th>\n",
       "      <td>230.484523</td>\n",
       "      <td>11.470472</td>\n",
       "      <td>9.500998</td>\n",
       "      <td>11145.1</td>\n",
       "      <td>0.55</td>\n",
       "    </tr>\n",
       "    <tr>\n",
       "      <th>1</th>\n",
       "      <td>230.484523</td>\n",
       "      <td>11.470472</td>\n",
       "      <td>9.500998</td>\n",
       "      <td>11145.1</td>\n",
       "      <td>0.55</td>\n",
       "    </tr>\n",
       "    <tr>\n",
       "      <th>2</th>\n",
       "      <td>230.484523</td>\n",
       "      <td>11.470472</td>\n",
       "      <td>9.500998</td>\n",
       "      <td>11145.1</td>\n",
       "      <td>0.55</td>\n",
       "    </tr>\n",
       "    <tr>\n",
       "      <th>3</th>\n",
       "      <td>230.484523</td>\n",
       "      <td>11.470472</td>\n",
       "      <td>9.500998</td>\n",
       "      <td>11145.1</td>\n",
       "      <td>0.55</td>\n",
       "    </tr>\n",
       "    <tr>\n",
       "      <th>4</th>\n",
       "      <td>230.484523</td>\n",
       "      <td>11.470472</td>\n",
       "      <td>9.500998</td>\n",
       "      <td>11145.1</td>\n",
       "      <td>0.55</td>\n",
       "    </tr>\n",
       "    <tr>\n",
       "      <th>...</th>\n",
       "      <td>...</td>\n",
       "      <td>...</td>\n",
       "      <td>...</td>\n",
       "      <td>...</td>\n",
       "      <td>...</td>\n",
       "    </tr>\n",
       "    <tr>\n",
       "      <th>9850</th>\n",
       "      <td>105.054811</td>\n",
       "      <td>9.725226</td>\n",
       "      <td>10.592800</td>\n",
       "      <td>9227.0</td>\n",
       "      <td>2.30</td>\n",
       "    </tr>\n",
       "    <tr>\n",
       "      <th>9851</th>\n",
       "      <td>113.135171</td>\n",
       "      <td>51.706493</td>\n",
       "      <td>9.700599</td>\n",
       "      <td>11170.0</td>\n",
       "      <td>1.83</td>\n",
       "    </tr>\n",
       "    <tr>\n",
       "      <th>9852</th>\n",
       "      <td>157.069571</td>\n",
       "      <td>30.067157</td>\n",
       "      <td>9.500998</td>\n",
       "      <td>11343.2</td>\n",
       "      <td>1.77</td>\n",
       "    </tr>\n",
       "    <tr>\n",
       "      <th>9853</th>\n",
       "      <td>144.028221</td>\n",
       "      <td>49.117105</td>\n",
       "      <td>7.704591</td>\n",
       "      <td>11255.5</td>\n",
       "      <td>2.61</td>\n",
       "    </tr>\n",
       "    <tr>\n",
       "      <th>9854</th>\n",
       "      <td>161.057408</td>\n",
       "      <td>30.067157</td>\n",
       "      <td>9.500998</td>\n",
       "      <td>11199.0</td>\n",
       "      <td>1.77</td>\n",
       "    </tr>\n",
       "  </tbody>\n",
       "</table>\n",
       "<p>9855 rows × 5 columns</p>\n",
       "</div>"
      ],
      "text/plain": [
       "              GR        ILD   Porosity  Avg. Depth  Leco TOC (%)\n",
       "0     230.484523  11.470472   9.500998     11145.1          0.55\n",
       "1     230.484523  11.470472   9.500998     11145.1          0.55\n",
       "2     230.484523  11.470472   9.500998     11145.1          0.55\n",
       "3     230.484523  11.470472   9.500998     11145.1          0.55\n",
       "4     230.484523  11.470472   9.500998     11145.1          0.55\n",
       "...          ...        ...        ...         ...           ...\n",
       "9850  105.054811   9.725226  10.592800      9227.0          2.30\n",
       "9851  113.135171  51.706493   9.700599     11170.0          1.83\n",
       "9852  157.069571  30.067157   9.500998     11343.2          1.77\n",
       "9853  144.028221  49.117105   7.704591     11255.5          2.61\n",
       "9854  161.057408  30.067157   9.500998     11199.0          1.77\n",
       "\n",
       "[9855 rows x 5 columns]"
      ]
     },
     "execution_count": 9,
     "metadata": {},
     "output_type": "execute_result"
    }
   ],
   "source": [
    "data"
   ]
  },
  {
   "cell_type": "code",
   "execution_count": 10,
   "id": "7ca79da8-5815-4730-a605-681903bcbcb0",
   "metadata": {},
   "outputs": [],
   "source": [
    "X=data.drop(['Leco TOC (%)'],axis=1)\n",
    "y=data['Leco TOC (%)']"
   ]
  },
  {
   "cell_type": "code",
   "execution_count": 11,
   "id": "0e782344-93db-45fb-990c-3ba0e2338328",
   "metadata": {},
   "outputs": [
    {
     "data": {
      "text/html": [
       "<div>\n",
       "<style scoped>\n",
       "    .dataframe tbody tr th:only-of-type {\n",
       "        vertical-align: middle;\n",
       "    }\n",
       "\n",
       "    .dataframe tbody tr th {\n",
       "        vertical-align: top;\n",
       "    }\n",
       "\n",
       "    .dataframe thead th {\n",
       "        text-align: right;\n",
       "    }\n",
       "</style>\n",
       "<table border=\"1\" class=\"dataframe\">\n",
       "  <thead>\n",
       "    <tr style=\"text-align: right;\">\n",
       "      <th></th>\n",
       "      <th>GR</th>\n",
       "      <th>ILD</th>\n",
       "      <th>Porosity</th>\n",
       "      <th>Avg. Depth</th>\n",
       "    </tr>\n",
       "  </thead>\n",
       "  <tbody>\n",
       "    <tr>\n",
       "      <th>0</th>\n",
       "      <td>230.484523</td>\n",
       "      <td>11.470472</td>\n",
       "      <td>9.500998</td>\n",
       "      <td>11145.1</td>\n",
       "    </tr>\n",
       "    <tr>\n",
       "      <th>1</th>\n",
       "      <td>230.484523</td>\n",
       "      <td>11.470472</td>\n",
       "      <td>9.500998</td>\n",
       "      <td>11145.1</td>\n",
       "    </tr>\n",
       "    <tr>\n",
       "      <th>2</th>\n",
       "      <td>230.484523</td>\n",
       "      <td>11.470472</td>\n",
       "      <td>9.500998</td>\n",
       "      <td>11145.1</td>\n",
       "    </tr>\n",
       "    <tr>\n",
       "      <th>3</th>\n",
       "      <td>230.484523</td>\n",
       "      <td>11.470472</td>\n",
       "      <td>9.500998</td>\n",
       "      <td>11145.1</td>\n",
       "    </tr>\n",
       "    <tr>\n",
       "      <th>4</th>\n",
       "      <td>230.484523</td>\n",
       "      <td>11.470472</td>\n",
       "      <td>9.500998</td>\n",
       "      <td>11145.1</td>\n",
       "    </tr>\n",
       "    <tr>\n",
       "      <th>...</th>\n",
       "      <td>...</td>\n",
       "      <td>...</td>\n",
       "      <td>...</td>\n",
       "      <td>...</td>\n",
       "    </tr>\n",
       "    <tr>\n",
       "      <th>9850</th>\n",
       "      <td>105.054811</td>\n",
       "      <td>9.725226</td>\n",
       "      <td>10.592800</td>\n",
       "      <td>9227.0</td>\n",
       "    </tr>\n",
       "    <tr>\n",
       "      <th>9851</th>\n",
       "      <td>113.135171</td>\n",
       "      <td>51.706493</td>\n",
       "      <td>9.700599</td>\n",
       "      <td>11170.0</td>\n",
       "    </tr>\n",
       "    <tr>\n",
       "      <th>9852</th>\n",
       "      <td>157.069571</td>\n",
       "      <td>30.067157</td>\n",
       "      <td>9.500998</td>\n",
       "      <td>11343.2</td>\n",
       "    </tr>\n",
       "    <tr>\n",
       "      <th>9853</th>\n",
       "      <td>144.028221</td>\n",
       "      <td>49.117105</td>\n",
       "      <td>7.704591</td>\n",
       "      <td>11255.5</td>\n",
       "    </tr>\n",
       "    <tr>\n",
       "      <th>9854</th>\n",
       "      <td>161.057408</td>\n",
       "      <td>30.067157</td>\n",
       "      <td>9.500998</td>\n",
       "      <td>11199.0</td>\n",
       "    </tr>\n",
       "  </tbody>\n",
       "</table>\n",
       "<p>9855 rows × 4 columns</p>\n",
       "</div>"
      ],
      "text/plain": [
       "              GR        ILD   Porosity  Avg. Depth\n",
       "0     230.484523  11.470472   9.500998     11145.1\n",
       "1     230.484523  11.470472   9.500998     11145.1\n",
       "2     230.484523  11.470472   9.500998     11145.1\n",
       "3     230.484523  11.470472   9.500998     11145.1\n",
       "4     230.484523  11.470472   9.500998     11145.1\n",
       "...          ...        ...        ...         ...\n",
       "9850  105.054811   9.725226  10.592800      9227.0\n",
       "9851  113.135171  51.706493   9.700599     11170.0\n",
       "9852  157.069571  30.067157   9.500998     11343.2\n",
       "9853  144.028221  49.117105   7.704591     11255.5\n",
       "9854  161.057408  30.067157   9.500998     11199.0\n",
       "\n",
       "[9855 rows x 4 columns]"
      ]
     },
     "execution_count": 11,
     "metadata": {},
     "output_type": "execute_result"
    }
   ],
   "source": [
    "X"
   ]
  },
  {
   "cell_type": "code",
   "execution_count": null,
   "id": "2a2591ed-7d85-45f4-8d72-5b9450868d13",
   "metadata": {},
   "outputs": [],
   "source": []
  },
  {
   "cell_type": "code",
   "execution_count": null,
   "id": "7f535479-4e35-49d2-a8c0-111216e3323c",
   "metadata": {},
   "outputs": [],
   "source": []
  },
  {
   "cell_type": "code",
   "execution_count": null,
   "id": "3d7c18ee-a93d-44c0-8389-76cd4220cd65",
   "metadata": {},
   "outputs": [],
   "source": []
  },
  {
   "cell_type": "code",
   "execution_count": null,
   "id": "004f28d4-7ebe-4fc4-9fb8-a4c102253132",
   "metadata": {},
   "outputs": [],
   "source": []
  },
  {
   "cell_type": "code",
   "execution_count": 12,
   "id": "14c5c216-a361-4fb6-93f6-0ca0548bfb3e",
   "metadata": {},
   "outputs": [
    {
     "data": {
      "text/plain": [
       "<AxesSubplot:>"
      ]
     },
     "execution_count": 12,
     "metadata": {},
     "output_type": "execute_result"
    },
    {
     "data": {
      "image/png": "[encoded data removed]",
      "text/plain": [
       "<Figure size 432x288 with 2 Axes>"
      ]
     },
     "metadata": {
      "needs_background": "light"
     },
     "output_type": "display_data"
    }
   ],
   "source": [
    "sns.heatmap(data.corr())"
   ]
  },
  {
   "cell_type": "markdown",
   "id": "b9abf91c-d07c-4ac1-81cb-e7af5b96d30a",
   "metadata": {},
   "source": [
    "### splitting the datasets into training and testing "
   ]
  },
  {
   "cell_type": "code",
   "execution_count": 12,
   "id": "bed84202-b9f9-43de-8dbe-c2d7777d2440",
   "metadata": {},
   "outputs": [],
   "source": [
    "X_train, X_test, y_train, y_test = ms.train_test_split(X, y, test_size=0.2, random_state=42)"
   ]
  },
  {
   "cell_type": "markdown",
   "id": "c36536ab-2271-4b4c-829c-1cbf2324302f",
   "metadata": {},
   "source": [
    "### Rescaling the Model"
   ]
  },
  {
   "cell_type": "code",
   "execution_count": 13,
   "id": "aba29803-2c4e-4909-9aa3-34b566fdfa29",
   "metadata": {},
   "outputs": [],
   "source": [
    "scaler = preprocessing.StandardScaler()"
   ]
  },
  {
   "cell_type": "code",
   "execution_count": 14,
   "id": "2e08c007-b8a1-4f8d-a6ee-e7b428ab17db",
   "metadata": {},
   "outputs": [],
   "source": [
    "X=scaler.fit_transform(X)"
   ]
  },
  {
   "cell_type": "code",
   "execution_count": 15,
   "id": "bf5aa0fa-b744-4433-b1bb-594ee1e08d7b",
   "metadata": {},
   "outputs": [],
   "source": [
    "X_train, X_test, y_train, y_test = ms.train_test_split(X, y, test_size=0.2, random_state=42)"
   ]
  },
  {
   "cell_type": "markdown",
   "id": "78c39d95-fd3f-4ab2-99ad-5dfc33765685",
   "metadata": {},
   "source": [
    "### training the model"
   ]
  },
  {
   "cell_type": "code",
   "execution_count": 16,
   "id": "6c6d2e8a-d923-451f-ab5a-05ac0be22743",
   "metadata": {},
   "outputs": [
    {
     "data": {
      "text/plain": [
       "LinearRegression()"
      ]
     },
     "execution_count": 16,
     "metadata": {},
     "output_type": "execute_result"
    }
   ],
   "source": [
    "lin_mod = linear_model.LinearRegression(fit_intercept = True)\n",
    "lin_mod.fit(X_train, y_train)"
   ]
  },
  {
   "cell_type": "code",
   "execution_count": 17,
   "id": "b991f977-5bf7-423a-8cc8-241df141f5e7",
   "metadata": {},
   "outputs": [
    {
     "name": "stdout",
     "output_type": "stream",
     "text": [
      "1.9141052025124239\n",
      "[-0.07723833 -0.20673254  0.34523808 -0.06731246]\n"
     ]
    }
   ],
   "source": [
    "print(lin_mod.intercept_)\n",
    "print(lin_mod.coef_)"
   ]
  },
  {
   "cell_type": "markdown",
   "id": "36c84464-a4ea-4a0a-8700-e0830922a804",
   "metadata": {},
   "source": [
    "### Evaluate the model"
   ]
  },
  {
   "cell_type": "code",
   "execution_count": 18,
   "id": "d1d54e73-7313-45b3-9848-6234aeec4244",
   "metadata": {},
   "outputs": [
    {
     "name": "stdout",
     "output_type": "stream",
     "text": [
      "Mean Square Error      = 0.5478775653470621\n",
      "Root Mean Square Error = 0.7401875203940297\n",
      "Mean Absolute Error    = 0.5604930120022467\n",
      "Median Absolute Error  = 0.394282601468499\n",
      "R^2                    = 0.24112300728141467\n",
      "Adjusted R^2           = 0.23996559448113214\n"
     ]
    }
   ],
   "source": [
    "def print_metrics(y_true, y_predicted, n_parameters):\n",
    "    ## First compute R^2 and the adjusted R^2\n",
    "    r2 = sklm.r2_score(y_true, y_predicted)\n",
    "    r2_adj = r2 - (n_parameters - 1)/(y_true.shape[0] - n_parameters) * (1 - r2)\n",
    "    \n",
    "    ## Print the usual metrics and the R^2 values\n",
    "    print('Mean Square Error      = ' + str(sklm.mean_squared_error(y_true, y_predicted)))\n",
    "    print('Root Mean Square Error = ' + str(math.sqrt(sklm.mean_squared_error(y_true, y_predicted))))\n",
    "    print('Mean Absolute Error    = ' + str(sklm.mean_absolute_error(y_true, y_predicted)))\n",
    "    print('Median Absolute Error  = ' + str(sklm.median_absolute_error(y_true, y_predicted)))\n",
    "    print('R^2                    = ' + str(r2))\n",
    "    print('Adjusted R^2           = ' + str(r2_adj))\n",
    "   \n",
    "y_score = lin_mod.predict(X_test) \n",
    "print_metrics(y_test, y_score, 4)   "
   ]
  },
  {
   "cell_type": "code",
   "execution_count": 19,
   "id": "af296097-3a15-4ea8-b025-94ce3734a70b",
   "metadata": {},
   "outputs": [
    {
     "data": {
      "text/plain": [
       "array([[-0.24206427,  4.72879428, -0.36771097, -2.84239672],\n",
       "       [-0.22713661, -0.42421697,  0.58284071, -0.37375148],\n",
       "       [-0.40390066, -0.11864246, -0.85600547,  0.43612134],\n",
       "       ...,\n",
       "       [ 0.55706721, -0.3405133 ,  0.84193034, -0.12788281],\n",
       "       [-0.19580099,  5.41106469, -0.48793067, -2.84441534],\n",
       "       [ 0.18644449,  0.13970566, -0.94842213,  0.6523835 ]])"
      ]
     },
     "execution_count": 19,
     "metadata": {},
     "output_type": "execute_result"
    }
   ],
   "source": [
    "X_train"
   ]
  },
  {
   "cell_type": "markdown",
   "id": "d0cc3e2d-a84b-40f1-a507-a0c410d29c00",
   "metadata": {},
   "source": [
    "## Other Models -Random Forest Regressor "
   ]
  },
  {
   "cell_type": "code",
   "execution_count": 20,
   "id": "d6ffaadf-cd34-4565-87df-5a0d6c889d23",
   "metadata": {},
   "outputs": [],
   "source": [
    "from sklearn.ensemble import RandomForestRegressor"
   ]
  },
  {
   "cell_type": "code",
   "execution_count": 21,
   "id": "b9d1d212-a75b-483c-9c25-28b5bf0b5c9f",
   "metadata": {},
   "outputs": [],
   "source": [
    "rf=RandomForestRegressor(random_state=42)"
   ]
  },
  {
   "cell_type": "code",
   "execution_count": 22,
   "id": "08e36902-7472-4315-9336-4c4893b70e87",
   "metadata": {},
   "outputs": [],
   "source": [
    "rfModel=rf.fit(X_train,y_train)"
   ]
  },
  {
   "cell_type": "code",
   "execution_count": 23,
   "id": "906cf83c-55e1-4d2e-bb16-b71aeda81c7c",
   "metadata": {},
   "outputs": [],
   "source": [
    "#Do predictions"
   ]
  },
  {
   "cell_type": "code",
   "execution_count": 24,
   "id": "b084bb75-ec52-46af-8263-78d14ac682ec",
   "metadata": {},
   "outputs": [],
   "source": [
    "y_pred_r=rfModel.predict(X_test)"
   ]
  },
  {
   "cell_type": "markdown",
   "id": "a0fde816-4778-41e6-9b7c-3bb1665c3e7f",
   "metadata": {},
   "source": [
    "### Model Evaluation"
   ]
  },
  {
   "cell_type": "code",
   "execution_count": 25,
   "id": "4b415777-3f81-43f5-9b64-dbc166e181da",
   "metadata": {},
   "outputs": [
    {
     "name": "stdout",
     "output_type": "stream",
     "text": [
      "Mean Square Error      = 0.08768816860201056\n",
      "Root Mean Square Error = 0.29612188132931105\n",
      "Mean Absolute Error    = 0.09285991219902497\n",
      "Median Absolute Error  = 0.008612947708187768\n",
      "R^2                    = 0.878541232759658\n",
      "Adjusted R^2           = 0.8783559880714419\n"
     ]
    }
   ],
   "source": [
    "def print_metrics(y_true, y_predicted, n_parameters):\n",
    "    ## First compute R^2 and the adjusted R^2\n",
    "    r2 = sklm.r2_score(y_true, y_predicted)\n",
    "    r2_adj = r2 - (n_parameters - 1)/(y_true.shape[0] - n_parameters) * (1 - r2)\n",
    "    \n",
    "    ## Print the usual metrics and the R^2 values\n",
    "    print('Mean Square Error      = ' + str(sklm.mean_squared_error(y_true, y_predicted)))\n",
    "    print('Root Mean Square Error = ' + str(math.sqrt(sklm.mean_squared_error(y_true, y_predicted))))\n",
    "    print('Mean Absolute Error    = ' + str(sklm.mean_absolute_error(y_true, y_predicted)))\n",
    "    print('Median Absolute Error  = ' + str(sklm.median_absolute_error(y_true, y_predicted)))\n",
    "    print('R^2                    = ' + str(r2))\n",
    "    print('Adjusted R^2           = ' + str(r2_adj))\n",
    "   \n",
    "\n",
    "print_metrics(y_test, y_pred_r, 4)"
   ]
  },
  {
   "cell_type": "markdown",
   "id": "ba8887ef-58ae-43a3-8db2-2639278c1a99",
   "metadata": {},
   "source": [
    "### Optimization Model techniques"
   ]
  },
  {
   "cell_type": "markdown",
   "id": "4ea17bb1-23d7-44da-a44a-8e6cc27f34c4",
   "metadata": {},
   "source": [
    "#### Cross Validation in sklearn"
   ]
  },
  {
   "cell_type": "markdown",
   "id": "fe8b5dda-1cf7-4745-9683-b9a8cac1af8b",
   "metadata": {},
   "source": [
    "##### Using K-Fold CV"
   ]
  },
  {
   "cell_type": "code",
   "execution_count": 26,
   "id": "cf0a5ce7-376c-43ce-ab62-1eadfb59343d",
   "metadata": {},
   "outputs": [],
   "source": [
    "import numpy as np\n",
    "import pandas as pd\n",
    "import matplotlib.pyplot as plt \n",
    "import seaborn as sns\n",
    "import re\n",
    "\n",
    "import sklearn\n",
    "from sklearn.model_selection import train_test_split\n",
    "from sklearn.preprocessing import MinMaxScaler\n",
    "from sklearn.preprocessing import PolynomialFeatures\n",
    "from sklearn.preprocessing import scale\n",
    "from sklearn.feature_selection import RFE\n",
    "from sklearn.linear_model import LinearRegression\n",
    "from sklearn.model_selection import cross_val_score\n",
    "from sklearn.model_selection import KFold\n",
    "from sklearn.model_selection import GridSearchCV\n",
    "from sklearn.pipeline import make_pipeline"
   ]
  },
  {
   "cell_type": "code",
   "execution_count": 27,
   "id": "264b32d4-0caf-4ab3-8167-04788d3e85d0",
   "metadata": {},
   "outputs": [
    {
     "data": {
      "text/plain": [
       "0.8774518489456341"
      ]
     },
     "execution_count": 27,
     "metadata": {},
     "output_type": "execute_result"
    }
   ],
   "source": [
    "lm = rfModel\n",
    "scores = cross_val_score(lm, X_train, y_train, scoring='r2', cv=10)\n",
    "scores.mean()"
   ]
  },
  {
   "cell_type": "markdown",
   "id": "798fb430-1a08-40dc-96a4-e0098121d5d8",
   "metadata": {},
   "source": [
    "### 2.Hyperparameter Tuning Using Grid Search Cross-Validation\n",
    "\n",
    "A common use of cross-validation is for tuning hyperparameters of a model. The most common technique is what is called grid search cross-validation."
   ]
  },
  {
   "cell_type": "code",
   "execution_count": 28,
   "id": "e196c3c7-f1fe-4a28-a155-ec4a89edb177",
   "metadata": {},
   "outputs": [
    {
     "data": {
      "text/plain": [
       "(7884, 4)"
      ]
     },
     "execution_count": 28,
     "metadata": {},
     "output_type": "execute_result"
    }
   ],
   "source": [
    "X_train.shape"
   ]
  },
  {
   "cell_type": "code",
   "execution_count": 29,
   "id": "bc4eb7de-aebb-449b-8f5a-5177ed9d6cb8",
   "metadata": {},
   "outputs": [
    {
     "name": "stdout",
     "output_type": "stream",
     "text": [
      "Fitting 10 folds for each of 4 candidates, totalling 40 fits\n"
     ]
    },
    {
     "data": {
      "text/plain": [
       "GridSearchCV(cv=KFold(n_splits=10, random_state=100, shuffle=True),\n",
       "             estimator=RFE(estimator=RandomForestRegressor(random_state=42)),\n",
       "             param_grid=[{'n_features_to_select': [1, 2, 3, 4]}],\n",
       "             return_train_score=True, scoring='r2', verbose=1)"
      ]
     },
     "execution_count": 29,
     "metadata": {},
     "output_type": "execute_result"
    }
   ],
   "source": [
    "# step-1: create a cross-validation scheme\n",
    "folds = KFold(n_splits = 10, shuffle = True, random_state = 100)\n",
    "\n",
    "# step-2: specify range of hyperparameters to tune\n",
    "hyper_params = [{'n_features_to_select': list(range(1, 5))}]\n",
    "\n",
    "\n",
    "# step-3: perform grid search\n",
    "# 3.1 specify model\n",
    "lm = rfModel\n",
    "lm.fit(X_train, y_train)\n",
    "rfe = RFE(lm)             \n",
    "\n",
    "# 3.2 call GridSearchCV()\n",
    "model_cv = GridSearchCV(estimator = rfe, \n",
    "                        param_grid = hyper_params, \n",
    "                        scoring= 'r2', \n",
    "                        cv = folds, \n",
    "                        verbose = 1,\n",
    "                        return_train_score=True)      \n",
    "\n",
    "# fit the model\n",
    "model_cv.fit(X_train, y_train)                  "
   ]
  },
  {
   "cell_type": "code",
   "execution_count": 30,
   "id": "5b9366e1-7ce9-4f64-9705-bca3bbbb3e56",
   "metadata": {},
   "outputs": [
    {
     "data": {
      "text/html": [
       "<div>\n",
       "<style scoped>\n",
       "    .dataframe tbody tr th:only-of-type {\n",
       "        vertical-align: middle;\n",
       "    }\n",
       "\n",
       "    .dataframe tbody tr th {\n",
       "        vertical-align: top;\n",
       "    }\n",
       "\n",
       "    .dataframe thead th {\n",
       "        text-align: right;\n",
       "    }\n",
       "</style>\n",
       "<table border=\"1\" class=\"dataframe\">\n",
       "  <thead>\n",
       "    <tr style=\"text-align: right;\">\n",
       "      <th></th>\n",
       "      <th>mean_fit_time</th>\n",
       "      <th>std_fit_time</th>\n",
       "      <th>mean_score_time</th>\n",
       "      <th>std_score_time</th>\n",
       "      <th>param_n_features_to_select</th>\n",
       "      <th>params</th>\n",
       "      <th>split0_test_score</th>\n",
       "      <th>split1_test_score</th>\n",
       "      <th>split2_test_score</th>\n",
       "      <th>split3_test_score</th>\n",
       "      <th>...</th>\n",
       "      <th>split2_train_score</th>\n",
       "      <th>split3_train_score</th>\n",
       "      <th>split4_train_score</th>\n",
       "      <th>split5_train_score</th>\n",
       "      <th>split6_train_score</th>\n",
       "      <th>split7_train_score</th>\n",
       "      <th>split8_train_score</th>\n",
       "      <th>split9_train_score</th>\n",
       "      <th>mean_train_score</th>\n",
       "      <th>std_train_score</th>\n",
       "    </tr>\n",
       "  </thead>\n",
       "  <tbody>\n",
       "    <tr>\n",
       "      <th>0</th>\n",
       "      <td>1.846116</td>\n",
       "      <td>0.066145</td>\n",
       "      <td>0.014663</td>\n",
       "      <td>0.001267</td>\n",
       "      <td>1</td>\n",
       "      <td>{'n_features_to_select': 1}</td>\n",
       "      <td>0.925603</td>\n",
       "      <td>0.871898</td>\n",
       "      <td>0.895783</td>\n",
       "      <td>0.883014</td>\n",
       "      <td>...</td>\n",
       "      <td>0.925618</td>\n",
       "      <td>0.924543</td>\n",
       "      <td>0.925100</td>\n",
       "      <td>0.925474</td>\n",
       "      <td>0.929102</td>\n",
       "      <td>0.925488</td>\n",
       "      <td>0.928200</td>\n",
       "      <td>0.924850</td>\n",
       "      <td>0.926357</td>\n",
       "      <td>0.001956</td>\n",
       "    </tr>\n",
       "    <tr>\n",
       "      <th>1</th>\n",
       "      <td>1.527070</td>\n",
       "      <td>0.053852</td>\n",
       "      <td>0.016757</td>\n",
       "      <td>0.001828</td>\n",
       "      <td>2</td>\n",
       "      <td>{'n_features_to_select': 2}</td>\n",
       "      <td>0.904315</td>\n",
       "      <td>0.868476</td>\n",
       "      <td>0.889623</td>\n",
       "      <td>0.899061</td>\n",
       "      <td>...</td>\n",
       "      <td>0.956718</td>\n",
       "      <td>0.956925</td>\n",
       "      <td>0.956558</td>\n",
       "      <td>0.957833</td>\n",
       "      <td>0.958362</td>\n",
       "      <td>0.956901</td>\n",
       "      <td>0.959004</td>\n",
       "      <td>0.958058</td>\n",
       "      <td>0.957867</td>\n",
       "      <td>0.001429</td>\n",
       "    </tr>\n",
       "    <tr>\n",
       "      <th>2</th>\n",
       "      <td>1.110472</td>\n",
       "      <td>0.030597</td>\n",
       "      <td>0.017449</td>\n",
       "      <td>0.001422</td>\n",
       "      <td>3</td>\n",
       "      <td>{'n_features_to_select': 3}</td>\n",
       "      <td>0.882963</td>\n",
       "      <td>0.869944</td>\n",
       "      <td>0.878250</td>\n",
       "      <td>0.901707</td>\n",
       "      <td>...</td>\n",
       "      <td>0.956658</td>\n",
       "      <td>0.957071</td>\n",
       "      <td>0.956828</td>\n",
       "      <td>0.958030</td>\n",
       "      <td>0.958000</td>\n",
       "      <td>0.957264</td>\n",
       "      <td>0.959325</td>\n",
       "      <td>0.957939</td>\n",
       "      <td>0.957994</td>\n",
       "      <td>0.001407</td>\n",
       "    </tr>\n",
       "    <tr>\n",
       "      <th>3</th>\n",
       "      <td>0.601500</td>\n",
       "      <td>0.030600</td>\n",
       "      <td>0.017368</td>\n",
       "      <td>0.000790</td>\n",
       "      <td>4</td>\n",
       "      <td>{'n_features_to_select': 4}</td>\n",
       "      <td>0.891243</td>\n",
       "      <td>0.867149</td>\n",
       "      <td>0.844272</td>\n",
       "      <td>0.889972</td>\n",
       "      <td>...</td>\n",
       "      <td>0.956761</td>\n",
       "      <td>0.956733</td>\n",
       "      <td>0.956869</td>\n",
       "      <td>0.957615</td>\n",
       "      <td>0.957714</td>\n",
       "      <td>0.956870</td>\n",
       "      <td>0.958959</td>\n",
       "      <td>0.957335</td>\n",
       "      <td>0.957690</td>\n",
       "      <td>0.001295</td>\n",
       "    </tr>\n",
       "  </tbody>\n",
       "</table>\n",
       "<p>4 rows × 31 columns</p>\n",
       "</div>"
      ],
      "text/plain": [
       "   mean_fit_time  std_fit_time  mean_score_time  std_score_time  \\\n",
       "0       1.846116      0.066145         0.014663        0.001267   \n",
       "1       1.527070      0.053852         0.016757        0.001828   \n",
       "2       1.110472      0.030597         0.017449        0.001422   \n",
       "3       0.601500      0.030600         0.017368        0.000790   \n",
       "\n",
       "  param_n_features_to_select                       params  split0_test_score  \\\n",
       "0                          1  {'n_features_to_select': 1}           0.925603   \n",
       "1                          2  {'n_features_to_select': 2}           0.904315   \n",
       "2                          3  {'n_features_to_select': 3}           0.882963   \n",
       "3                          4  {'n_features_to_select': 4}           0.891243   \n",
       "\n",
       "   split1_test_score  split2_test_score  split3_test_score  ...  \\\n",
       "0           0.871898           0.895783           0.883014  ...   \n",
       "1           0.868476           0.889623           0.899061  ...   \n",
       "2           0.869944           0.878250           0.901707  ...   \n",
       "3           0.867149           0.844272           0.889972  ...   \n",
       "\n",
       "   split2_train_score  split3_train_score  split4_train_score  \\\n",
       "0            0.925618            0.924543            0.925100   \n",
       "1            0.956718            0.956925            0.956558   \n",
       "2            0.956658            0.957071            0.956828   \n",
       "3            0.956761            0.956733            0.956869   \n",
       "\n",
       "   split5_train_score  split6_train_score  split7_train_score  \\\n",
       "0            0.925474            0.929102            0.925488   \n",
       "1            0.957833            0.958362            0.956901   \n",
       "2            0.958030            0.958000            0.957264   \n",
       "3            0.957615            0.957714            0.956870   \n",
       "\n",
       "   split8_train_score  split9_train_score  mean_train_score  std_train_score  \n",
       "0            0.928200            0.924850          0.926357         0.001956  \n",
       "1            0.959004            0.958058          0.957867         0.001429  \n",
       "2            0.959325            0.957939          0.957994         0.001407  \n",
       "3            0.958959            0.957335          0.957690         0.001295  \n",
       "\n",
       "[4 rows x 31 columns]"
      ]
     },
     "execution_count": 30,
     "metadata": {},
     "output_type": "execute_result"
    }
   ],
   "source": [
    "# cv results\n",
    "cv_results = pd.DataFrame(model_cv.cv_results_)\n",
    "cv_results"
   ]
  },
  {
   "cell_type": "code",
   "execution_count": 31,
   "id": "9618ac08-7411-413a-8e23-8fbe2c86f691",
   "metadata": {},
   "outputs": [
    {
     "data": {
      "text/plain": [
       "0    0.898220\n",
       "1    0.889317\n",
       "2    0.883319\n",
       "3    0.877657\n",
       "Name: mean_test_score, dtype: float64"
      ]
     },
     "execution_count": 31,
     "metadata": {},
     "output_type": "execute_result"
    }
   ],
   "source": [
    "cv_results[\"mean_test_score\"]"
   ]
  },
  {
   "cell_type": "code",
   "execution_count": 32,
   "id": "df8f89b7-13be-4c4a-a593-a54d7be9e1f9",
   "metadata": {},
   "outputs": [
    {
     "data": {
      "text/plain": [
       "0    0.926357\n",
       "1    0.957867\n",
       "2    0.957994\n",
       "3    0.957690\n",
       "Name: mean_train_score, dtype: float64"
      ]
     },
     "execution_count": 32,
     "metadata": {},
     "output_type": "execute_result"
    }
   ],
   "source": [
    "cv_results[\"mean_train_score\"]"
   ]
  },
  {
   "cell_type": "code",
   "execution_count": 33,
   "id": "3c3137ff-f509-4703-9a61-f2453671ca21",
   "metadata": {},
   "outputs": [
    {
     "data": {
      "text/plain": [
       "<matplotlib.legend.Legend at 0x258063e8280>"
      ]
     },
     "execution_count": 33,
     "metadata": {},
     "output_type": "execute_result"
    },
    {
     "data": {
      "image/png": "[encoded data removed]",
      "text/plain": [
       "<Figure size 720x432 with 1 Axes>"
      ]
     },
     "metadata": {
      "needs_background": "light"
     },
     "output_type": "display_data"
    }
   ],
   "source": [
    "# plotting cv results\n",
    "plt.figure(figsize=(10,6))\n",
    "\n",
    "plt.plot(cv_results[\"param_n_features_to_select\"], cv_results[\"mean_test_score\"])\n",
    "plt.plot(cv_results[\"param_n_features_to_select\"], cv_results[\"mean_train_score\"])\n",
    "plt.xlabel('number of features')\n",
    "plt.ylabel('r-squared')\n",
    "plt.title(\"Optimal Number of Features\")\n",
    "plt.legend(['test score', 'train score'], loc='upper left')"
   ]
  },
  {
   "cell_type": "code",
   "execution_count": 34,
   "id": "f1101efa-1223-4ee5-8e57-e9c06cb05aab",
   "metadata": {},
   "outputs": [
    {
     "name": "stdout",
     "output_type": "stream",
     "text": [
      "0.878541232759658\n"
     ]
    }
   ],
   "source": [
    "# final model\n",
    "n_features_optimal = 2\n",
    "\n",
    "lm1 = rfModel\n",
    "lm1.fit(X_train, y_train)\n",
    "\n",
    "rfe1 = RFE(lm1, n_features_to_select=n_features_optimal)             \n",
    "rfe1 = rfe.fit(X_train, y_train)\n",
    "\n",
    "\n",
    "y_pred1 = lm.predict(X_test)\n",
    "r21 = sklearn.metrics.r2_score(y_test, y_pred1)\n",
    "print(r21)"
   ]
  },
  {
   "cell_type": "markdown",
   "id": "3e6447f1-1492-4794-ae43-3906cafff5e9",
   "metadata": {},
   "source": [
    "### Random Hyperparameter Grid"
   ]
  },
  {
   "cell_type": "code",
   "execution_count": 35,
   "id": "7bc69ec0-d65a-4957-8828-944d9835d787",
   "metadata": {},
   "outputs": [
    {
     "name": "stdout",
     "output_type": "stream",
     "text": [
      "{'bootstrap': [True, False],\n",
      " 'max_depth': [10, 20, 30, 40, 50, 60, 70, 80, 90, 100, 110, None],\n",
      " 'max_features': ['auto', 'sqrt'],\n",
      " 'min_samples_leaf': [1, 2, 4],\n",
      " 'min_samples_split': [2, 5, 10],\n",
      " 'n_estimators': [200, 400, 600, 800, 1000, 1200, 1400, 1600, 1800, 2000]}\n"
     ]
    }
   ],
   "source": [
    "from sklearn.model_selection import RandomizedSearchCV\n",
    "from pprint import pprint\n",
    "# Number of trees in random forest\n",
    "n_estimators = [int(x) for x in np.linspace(start = 200, stop = 2000, num = 10)]\n",
    "# Number of features to consider at every split\n",
    "max_features = ['auto', 'sqrt']\n",
    "# Maximum number of levels in tree\n",
    "max_depth = [int(x) for x in np.linspace(10, 110, num = 11)]\n",
    "max_depth.append(None)\n",
    "# Minimum number of samples required to split a node\n",
    "min_samples_split = [2, 5, 10]\n",
    "# Minimum number of samples required at each leaf node\n",
    "min_samples_leaf = [1, 2, 4]\n",
    "# Method of selecting samples for training each tree\n",
    "bootstrap = [True, False]\n",
    "# Create the random grid\n",
    "random_grid = {'n_estimators': n_estimators,\n",
    "               'max_features': max_features,\n",
    "               'max_depth': max_depth,\n",
    "               'min_samples_split': min_samples_split,\n",
    "               'min_samples_leaf': min_samples_leaf,\n",
    "               'bootstrap': bootstrap}\n",
    "pprint(random_grid)"
   ]
  },
  {
   "cell_type": "markdown",
   "id": "3933ce87-2e78-46dc-b3cf-97daa94aaa5e",
   "metadata": {},
   "source": [
    "#### Random Search training"
   ]
  },
  {
   "cell_type": "code",
   "execution_count": 36,
   "id": "35c845b2-6a94-47b7-9f47-f6c8599c09a9",
   "metadata": {},
   "outputs": [
    {
     "name": "stdout",
     "output_type": "stream",
     "text": [
      "Fitting 3 folds for each of 100 candidates, totalling 300 fits\n"
     ]
    },
    {
     "data": {
      "text/plain": [
       "RandomizedSearchCV(cv=3, estimator=RandomForestRegressor(), n_iter=100,\n",
       "                   n_jobs=-1,\n",
       "                   param_distributions={'bootstrap': [True, False],\n",
       "                                        'max_depth': [10, 20, 30, 40, 50, 60,\n",
       "                                                      70, 80, 90, 100, 110,\n",
       "                                                      None],\n",
       "                                        'max_features': ['auto', 'sqrt'],\n",
       "                                        'min_samples_leaf': [1, 2, 4],\n",
       "                                        'min_samples_split': [2, 5, 10],\n",
       "                                        'n_estimators': [200, 400, 600, 800,\n",
       "                                                         1000, 1200, 1400, 1600,\n",
       "                                                         1800, 2000]},\n",
       "                   random_state=42, verbose=2)"
      ]
     },
     "execution_count": 36,
     "metadata": {},
     "output_type": "execute_result"
    }
   ],
   "source": [
    "# Use the random grid to search for best hyperparameters\n",
    "# First create the base model to tune\n",
    "rf = RandomForestRegressor()\n",
    "# Random search of parameters, using 3 fold cross validation, \n",
    "# search across 100 different combinations, and use all available cores\n",
    "rf_random = RandomizedSearchCV(estimator = rf, param_distributions = random_grid, n_iter = 100, cv = 3, verbose=2, random_state=42, n_jobs = -1)\n",
    "# Fit the random search model\n",
    "rf_random.fit(X_train,y_train)"
   ]
  },
  {
   "cell_type": "markdown",
   "id": "a1ff9457-1fad-4d75-938b-83c82463b553",
   "metadata": {},
   "source": [
    "We can view the best parameters from fitting the random search:"
   ]
  },
  {
   "cell_type": "code",
   "execution_count": 37,
   "id": "c89c0636-d0b6-488c-8f07-47c8f4b9204e",
   "metadata": {},
   "outputs": [
    {
     "data": {
      "text/plain": [
       "{'n_estimators': 1000,\n",
       " 'min_samples_split': 5,\n",
       " 'min_samples_leaf': 2,\n",
       " 'max_features': 'sqrt',\n",
       " 'max_depth': 100,\n",
       " 'bootstrap': False}"
      ]
     },
     "execution_count": 37,
     "metadata": {},
     "output_type": "execute_result"
    }
   ],
   "source": [
    "rf_random.best_params_\n"
   ]
  },
  {
   "cell_type": "markdown",
   "id": "57450571-04af-4a52-9d4f-778f6a71a694",
   "metadata": {},
   "source": [
    "From these results, we should be able to narrow the range of values for each hyperparameter."
   ]
  },
  {
   "cell_type": "markdown",
   "id": "27772a97-b5d9-4cac-889a-3030c4ecbf3d",
   "metadata": {},
   "source": [
    "### Evaluate Random Search"
   ]
  },
  {
   "cell_type": "code",
   "execution_count": 38,
   "id": "1ff16594-aed4-46c2-b6a8-8ab9252bb386",
   "metadata": {},
   "outputs": [],
   "source": [
    "def evaluate(model, test_features, test_labels):\n",
    "    predictions = model.predict(test_features)\n",
    "    errors = abs(predictions - test_labels)\n",
    "    mape = 100 * np.mean(errors / test_labels)\n",
    "    accuracy = 100 - mape\n",
    "    print('Model Performance')\n",
    "    print('Average Error: {:0.4f} %.'.format(np.mean(errors)))\n",
    "    print('Accuracy = {:0.2f}%.'.format(accuracy))\n",
    "    \n",
    "    return accuracy"
   ]
  },
  {
   "cell_type": "code",
   "execution_count": 39,
   "id": "dab7866c-57e6-488f-b012-a4f4619904b7",
   "metadata": {},
   "outputs": [
    {
     "data": {
      "text/plain": [
       "RandomForestRegressor(random_state=42)"
      ]
     },
     "execution_count": 39,
     "metadata": {},
     "output_type": "execute_result"
    }
   ],
   "source": [
    "base_model = RandomForestRegressor(n_estimators = 100, random_state = 42)\n",
    "base_model.fit(X_train, y_train)"
   ]
  },
  {
   "cell_type": "code",
   "execution_count": 40,
   "id": "6cec9a2f-d9dd-42d1-9b10-63455946c3bd",
   "metadata": {},
   "outputs": [
    {
     "data": {
      "text/plain": [
       "array([[-0.24206427,  4.72879428, -0.36771097, -2.84239672],\n",
       "       [-0.22713661, -0.42421697,  0.58284071, -0.37375148],\n",
       "       [-0.40390066, -0.11864246, -0.85600547,  0.43612134],\n",
       "       ...,\n",
       "       [ 0.55706721, -0.3405133 ,  0.84193034, -0.12788281],\n",
       "       [-0.19580099,  5.41106469, -0.48793067, -2.84441534],\n",
       "       [ 0.18644449,  0.13970566, -0.94842213,  0.6523835 ]])"
      ]
     },
     "execution_count": 40,
     "metadata": {},
     "output_type": "execute_result"
    }
   ],
   "source": [
    "X_train"
   ]
  },
  {
   "cell_type": "code",
   "execution_count": 41,
   "id": "e91330b7-846d-4a55-945f-a69dcf80ec94",
   "metadata": {},
   "outputs": [
    {
     "name": "stdout",
     "output_type": "stream",
     "text": [
      "Model Performance\n",
      "Average Error: 0.0929 %.\n",
      "Accuracy = 93.38%.\n"
     ]
    }
   ],
   "source": [
    "base_accuracy = evaluate(base_model, X_test, y_test)"
   ]
  },
  {
   "cell_type": "code",
   "execution_count": 42,
   "id": "8eea87a3-471e-4edc-9339-d1e1ff857b77",
   "metadata": {},
   "outputs": [
    {
     "name": "stdout",
     "output_type": "stream",
     "text": [
      "Model Performance\n",
      "Average Error: 0.1029 %.\n",
      "Accuracy = 92.46%.\n"
     ]
    }
   ],
   "source": [
    "best_random = rf_random.best_estimator_\n",
    "random_accuracy = evaluate(best_random, X_test, y_test)"
   ]
  },
  {
   "cell_type": "code",
   "execution_count": null,
   "id": "818ac013-cb60-44a5-9629-3e0f65329e1b",
   "metadata": {},
   "outputs": [],
   "source": []
  },
  {
   "cell_type": "markdown",
   "id": "5c6c817d-605f-4f30-b8f4-46b6c4649027",
   "metadata": {},
   "source": [
    "### Grid Search with Cross Validation"
   ]
  },
  {
   "cell_type": "code",
   "execution_count": 43,
   "id": "bb08f03c-4816-4cde-9ac7-403b406b6f10",
   "metadata": {},
   "outputs": [],
   "source": [
    "from sklearn.model_selection import GridSearchCV\n",
    "# Create the parameter grid based on the results of random search \n",
    "param_grid = {\n",
    "    'bootstrap': [True],\n",
    "    'max_depth': [10, 30, 40, 50],\n",
    "    'max_features': [2, 3],\n",
    "    'min_samples_leaf': [1, 2, 3],\n",
    "    'min_samples_split': [0, 2, 4],\n",
    "    'n_estimators': [600, 800, 1500, 2000]\n",
    "}\n",
    "# Create a based model\n",
    "rf = RandomForestRegressor()\n",
    "# Instantiate the grid search model\n",
    "grid_search = GridSearchCV(estimator = rf, param_grid = param_grid, \n",
    "                          cv = 3, n_jobs = -1, verbose = 2)"
   ]
  },
  {
   "cell_type": "markdown",
   "id": "4fd9abf7-e67e-4f9b-8f6b-d8c470e7a653",
   "metadata": {},
   "source": [
    "This will try out 1 * 4 * 2 * 3 * 3 * 4 = 288 combinations of settings. We can fit the model, display the best hyperparameters, and evaluate performance:"
   ]
  },
  {
   "cell_type": "code",
   "execution_count": 44,
   "id": "da18f012-a1d1-49bc-b509-66797499620b",
   "metadata": {},
   "outputs": [
    {
     "name": "stdout",
     "output_type": "stream",
     "text": [
      "Fitting 3 folds for each of 288 candidates, totalling 864 fits\n"
     ]
    },
    {
     "name": "stderr",
     "output_type": "stream",
     "text": [
      "C:\\Users\\eobasi\\Anaconda3\\lib\\site-packages\\sklearn\\model_selection\\_validation.py:372: FitFailedWarning: \n",
      "288 fits failed out of a total of 864.\n",
      "The score on these train-test partitions for these parameters will be set to nan.\n",
      "If these failures are not expected, you can try to debug them by setting error_score='raise'.\n",
      "\n",
      "Below are more details about the failures:\n",
      "--------------------------------------------------------------------------------\n",
      "288 fits failed with the following error:\n",
      "Traceback (most recent call last):\n",
      "  File \"C:\\Users\\eobasi\\Anaconda3\\lib\\site-packages\\sklearn\\model_selection\\_validation.py\", line 680, in _fit_and_score\n",
      "    estimator.fit(X_train, y_train, **fit_params)\n",
      "  File \"C:\\Users\\eobasi\\Anaconda3\\lib\\site-packages\\sklearn\\ensemble\\_forest.py\", line 450, in fit\n",
      "    trees = Parallel(\n",
      "  File \"C:\\Users\\eobasi\\Anaconda3\\lib\\site-packages\\joblib\\parallel.py\", line 1041, in __call__\n",
      "    if self.dispatch_one_batch(iterator):\n",
      "  File \"C:\\Users\\eobasi\\Anaconda3\\lib\\site-packages\\joblib\\parallel.py\", line 859, in dispatch_one_batch\n",
      "    self._dispatch(tasks)\n",
      "  File \"C:\\Users\\eobasi\\Anaconda3\\lib\\site-packages\\joblib\\parallel.py\", line 777, in _dispatch\n",
      "    job = self._backend.apply_async(batch, callback=cb)\n",
      "  File \"C:\\Users\\eobasi\\Anaconda3\\lib\\site-packages\\joblib\\_parallel_backends.py\", line 208, in apply_async\n",
      "    result = ImmediateResult(func)\n",
      "  File \"C:\\Users\\eobasi\\Anaconda3\\lib\\site-packages\\joblib\\_parallel_backends.py\", line 572, in __init__\n",
      "    self.results = batch()\n",
      "  File \"C:\\Users\\eobasi\\Anaconda3\\lib\\site-packages\\joblib\\parallel.py\", line 262, in __call__\n",
      "    return [func(*args, **kwargs)\n",
      "  File \"C:\\Users\\eobasi\\Anaconda3\\lib\\site-packages\\joblib\\parallel.py\", line 262, in <listcomp>\n",
      "    return [func(*args, **kwargs)\n",
      "  File \"C:\\Users\\eobasi\\Anaconda3\\lib\\site-packages\\sklearn\\utils\\fixes.py\", line 216, in __call__\n",
      "    return self.function(*args, **kwargs)\n",
      "  File \"C:\\Users\\eobasi\\Anaconda3\\lib\\site-packages\\sklearn\\ensemble\\_forest.py\", line 185, in _parallel_build_trees\n",
      "    tree.fit(X, y, sample_weight=curr_sample_weight, check_input=False)\n",
      "  File \"C:\\Users\\eobasi\\Anaconda3\\lib\\site-packages\\sklearn\\tree\\_classes.py\", line 1315, in fit\n",
      "    super().fit(\n",
      "  File \"C:\\Users\\eobasi\\Anaconda3\\lib\\site-packages\\sklearn\\tree\\_classes.py\", line 250, in fit\n",
      "    raise ValueError(\n",
      "ValueError: min_samples_split must be an integer greater than 1 or a float in (0.0, 1.0]; got the integer 0\n",
      "\n",
      "  warnings.warn(some_fits_failed_message, FitFailedWarning)\n",
      "C:\\Users\\eobasi\\Anaconda3\\lib\\site-packages\\sklearn\\model_selection\\_search.py:969: UserWarning: One or more of the test scores are non-finite: [       nan        nan        nan        nan 0.87429267 0.874527\n",
      " 0.87430761 0.87442431 0.87477431 0.87410677 0.87421342 0.87460996\n",
      "        nan        nan        nan        nan 0.87396647 0.8737922\n",
      " 0.87396563 0.87420255 0.87364849 0.87411654 0.8742569  0.87418929\n",
      "        nan        nan        nan        nan 0.86979273 0.8701979\n",
      " 0.87010992 0.87079322 0.86991835 0.87040839 0.87070568 0.87055671\n",
      "        nan        nan        nan        nan 0.87383058 0.87315561\n",
      " 0.87352901 0.87342647 0.87326745 0.87348422 0.87358492 0.87341885\n",
      "        nan        nan        nan        nan 0.87331697 0.8733603\n",
      " 0.87415297 0.87376714 0.87322104 0.87370981 0.87375546 0.87393563\n",
      "        nan        nan        nan        nan 0.87032725 0.87029581\n",
      " 0.87032091 0.87018483 0.87060378 0.87045854 0.87057393 0.87016868\n",
      "        nan        nan        nan        nan 0.885215   0.88539685\n",
      " 0.88525313 0.88531409 0.88630884 0.8855366  0.88618777 0.88579298\n",
      "        nan        nan        nan        nan 0.88545957 0.88539542\n",
      " 0.88546106 0.88563407 0.88536762 0.8854798  0.88538377 0.88546206\n",
      "        nan        nan        nan        nan 0.88079504 0.88149433\n",
      " 0.88119631 0.8812     0.88128774 0.88094837 0.88124909 0.88123826\n",
      "        nan        nan        nan        nan 0.88297796 0.88356917\n",
      " 0.88332236 0.88351542 0.88454417 0.88427934 0.88394598 0.88407057\n",
      "        nan        nan        nan        nan 0.88438124 0.88458768\n",
      " 0.88483187 0.88479065 0.88483997 0.88444676 0.88503152 0.88499977\n",
      "        nan        nan        nan        nan 0.88047829 0.88067483\n",
      " 0.88054116 0.88079436 0.88075677 0.88033534 0.88071611 0.88104022\n",
      "        nan        nan        nan        nan 0.88487365 0.88495949\n",
      " 0.88521758 0.885221   0.88572985 0.88596153 0.88608277 0.8862078\n",
      "        nan        nan        nan        nan 0.88535467 0.8860022\n",
      " 0.88589651 0.88546816 0.88574119 0.88537969 0.88562023 0.88576065\n",
      "        nan        nan        nan        nan 0.88121965 0.88126969\n",
      " 0.88103539 0.88136249 0.88071816 0.88175311 0.8810313  0.88104164\n",
      "        nan        nan        nan        nan 0.8837845  0.88344292\n",
      " 0.88349505 0.88343275 0.8841369  0.88494786 0.88467095 0.88439502\n",
      "        nan        nan        nan        nan 0.88463279 0.88463833\n",
      " 0.88469036 0.88479165 0.88486414 0.88516898 0.88462852 0.88501548\n",
      "        nan        nan        nan        nan 0.88085918 0.88035253\n",
      " 0.88072376 0.88065963 0.88089305 0.88062706 0.88061793 0.88089408\n",
      "        nan        nan        nan        nan 0.88522215 0.88555472\n",
      " 0.88499492 0.88513229 0.88574345 0.88567191 0.88614948 0.88583974\n",
      "        nan        nan        nan        nan 0.8848529  0.88534832\n",
      " 0.8854711  0.88561586 0.88604169 0.88563334 0.88571872 0.88568203\n",
      "        nan        nan        nan        nan 0.88085068 0.88088347\n",
      " 0.88152362 0.88123943 0.8820246  0.88116663 0.88143823 0.88110434\n",
      "        nan        nan        nan        nan 0.88329568 0.88324166\n",
      " 0.88336384 0.88315872 0.88387611 0.88414725 0.88414945 0.88425987\n",
      "        nan        nan        nan        nan 0.88489733 0.88497477\n",
      " 0.8844464  0.88456461 0.88483344 0.88468292 0.88492212 0.8849073\n",
      "        nan        nan        nan        nan 0.88122212 0.8805244\n",
      " 0.88057076 0.88080793 0.88073329 0.88057332 0.88067974 0.88084156]\n",
      "  warnings.warn(\n"
     ]
    },
    {
     "data": {
      "text/plain": [
       "{'bootstrap': True,\n",
       " 'max_depth': 30,\n",
       " 'max_features': 2,\n",
       " 'min_samples_leaf': 1,\n",
       " 'min_samples_split': 4,\n",
       " 'n_estimators': 600}"
      ]
     },
     "execution_count": 44,
     "metadata": {},
     "output_type": "execute_result"
    }
   ],
   "source": [
    "# Fit the grid search to the data\n",
    "grid_search.fit(X_train, y_train)\n",
    "grid_search.best_params_"
   ]
  },
  {
   "cell_type": "code",
   "execution_count": 45,
   "id": "4c2aff00-2090-4d87-a911-03cd0406c982",
   "metadata": {},
   "outputs": [
    {
     "name": "stdout",
     "output_type": "stream",
     "text": [
      "Model Performance\n",
      "Average Error: 0.0962 %.\n",
      "Accuracy = 92.91%.\n"
     ]
    }
   ],
   "source": [
    "best_grid = grid_search.best_estimator_\n",
    "grid_accuracy = evaluate(best_grid,X_test, y_test)"
   ]
  },
  {
   "cell_type": "code",
   "execution_count": 46,
   "id": "e6a486b0-b3e4-4cb2-a17d-4b83df68fe0a",
   "metadata": {},
   "outputs": [],
   "source": [
    "y_pred_r=best_grid.predict(X_test)"
   ]
  },
  {
   "cell_type": "code",
   "execution_count": 47,
   "id": "8664e224-e3f6-438e-9b5b-301fae8ef0f5",
   "metadata": {},
   "outputs": [
    {
     "name": "stdout",
     "output_type": "stream",
     "text": [
      "Mean Square Error      = 0.09084178095230883\n",
      "Root Mean Square Error = 0.3013997029731596\n",
      "Mean Absolute Error    = 0.09623465534095\n",
      "Median Absolute Error  = 0.009615629305345763\n",
      "R^2                    = 0.8741730965044738\n",
      "Adjusted R^2           = 0.8739811896867379\n"
     ]
    }
   ],
   "source": [
    "def print_metrics(y_true, y_predicted, n_parameters):\n",
    "    ## First compute R^2 and the adjusted R^2\n",
    "    r2 = sklm.r2_score(y_true, y_predicted)\n",
    "    r2_adj = r2 - (n_parameters - 1)/(y_true.shape[0] - n_parameters) * (1 - r2)\n",
    "    \n",
    "    ## Print the usual metrics and the R^2 values\n",
    "    print('Mean Square Error      = ' + str(sklm.mean_squared_error(y_true, y_predicted)))\n",
    "    print('Root Mean Square Error = ' + str(math.sqrt(sklm.mean_squared_error(y_true, y_predicted))))\n",
    "    print('Mean Absolute Error    = ' + str(sklm.mean_absolute_error(y_true, y_predicted)))\n",
    "    print('Median Absolute Error  = ' + str(sklm.median_absolute_error(y_true, y_predicted)))\n",
    "    print('R^2                    = ' + str(r2))\n",
    "    print('Adjusted R^2           = ' + str(r2_adj))\n",
    "\n",
    "print_metrics(y_test, y_pred_r, 4)"
   ]
  },
  {
   "cell_type": "markdown",
   "id": "095db380-e4d0-439b-bd6e-57a6ad72dba1",
   "metadata": {},
   "source": [
    "### Applying Support vector regression"
   ]
  },
  {
   "cell_type": "markdown",
   "id": "eb42e0ce-4929-4a51-a23e-a35b35c2dc93",
   "metadata": {},
   "source": [
    "#### feature Scaling:"
   ]
  },
  {
   "cell_type": "code",
   "execution_count": 39,
   "id": "90afbea4-1dec-4ac3-96b6-447922a3647b",
   "metadata": {},
   "outputs": [],
   "source": [
    "scaler = preprocessing.StandardScaler()"
   ]
  },
  {
   "cell_type": "code",
   "execution_count": 40,
   "id": "9c330f53-5474-4eeb-bd80-dc0590f1ceae",
   "metadata": {},
   "outputs": [
    {
     "ename": "ValueError",
     "evalue": "Expected 2D array, got 1D array instead:\narray=[1.94 1.52 1.84 ... 1.65 1.52 2.2 ].\nReshape your data either using array.reshape(-1, 1) if your data has a single feature or array.reshape(1, -1) if it contains a single sample.",
     "output_type": "error",
     "traceback": [
      "\u001b[1;31m---------------------------------------------------------------------------\u001b[0m",
      "\u001b[1;31mValueError\u001b[0m                                Traceback (most recent call last)",
      "\u001b[1;32m<ipython-input-40-238826264287>\u001b[0m in \u001b[0;36m<module>\u001b[1;34m\u001b[0m\n\u001b[1;32m----> 1\u001b[1;33m \u001b[0my_train\u001b[0m\u001b[1;33m=\u001b[0m\u001b[0mscaler\u001b[0m\u001b[1;33m.\u001b[0m\u001b[0mfit_transform\u001b[0m\u001b[1;33m(\u001b[0m\u001b[0my_train\u001b[0m\u001b[1;33m)\u001b[0m\u001b[1;33m\u001b[0m\u001b[1;33m\u001b[0m\u001b[0m\n\u001b[0m\u001b[0;32m      2\u001b[0m \u001b[0my_test\u001b[0m\u001b[1;33m=\u001b[0m\u001b[0mscaler\u001b[0m\u001b[1;33m.\u001b[0m\u001b[0mfit_transform\u001b[0m\u001b[1;33m(\u001b[0m\u001b[0my_test\u001b[0m\u001b[1;33m)\u001b[0m\u001b[1;33m\u001b[0m\u001b[1;33m\u001b[0m\u001b[0m\n",
      "\u001b[1;32m~\\Anaconda3\\lib\\site-packages\\sklearn\\base.py\u001b[0m in \u001b[0;36mfit_transform\u001b[1;34m(self, X, y, **fit_params)\u001b[0m\n\u001b[0;32m    697\u001b[0m         \u001b[1;32mif\u001b[0m \u001b[0my\u001b[0m \u001b[1;32mis\u001b[0m \u001b[1;32mNone\u001b[0m\u001b[1;33m:\u001b[0m\u001b[1;33m\u001b[0m\u001b[1;33m\u001b[0m\u001b[0m\n\u001b[0;32m    698\u001b[0m             \u001b[1;31m# fit method of arity 1 (unsupervised transformation)\u001b[0m\u001b[1;33m\u001b[0m\u001b[1;33m\u001b[0m\u001b[1;33m\u001b[0m\u001b[0m\n\u001b[1;32m--> 699\u001b[1;33m             \u001b[1;32mreturn\u001b[0m \u001b[0mself\u001b[0m\u001b[1;33m.\u001b[0m\u001b[0mfit\u001b[0m\u001b[1;33m(\u001b[0m\u001b[0mX\u001b[0m\u001b[1;33m,\u001b[0m \u001b[1;33m**\u001b[0m\u001b[0mfit_params\u001b[0m\u001b[1;33m)\u001b[0m\u001b[1;33m.\u001b[0m\u001b[0mtransform\u001b[0m\u001b[1;33m(\u001b[0m\u001b[0mX\u001b[0m\u001b[1;33m)\u001b[0m\u001b[1;33m\u001b[0m\u001b[1;33m\u001b[0m\u001b[0m\n\u001b[0m\u001b[0;32m    700\u001b[0m         \u001b[1;32melse\u001b[0m\u001b[1;33m:\u001b[0m\u001b[1;33m\u001b[0m\u001b[1;33m\u001b[0m\u001b[0m\n\u001b[0;32m    701\u001b[0m             \u001b[1;31m# fit method of arity 2 (supervised transformation)\u001b[0m\u001b[1;33m\u001b[0m\u001b[1;33m\u001b[0m\u001b[1;33m\u001b[0m\u001b[0m\n",
      "\u001b[1;32m~\\Anaconda3\\lib\\site-packages\\sklearn\\preprocessing\\_data.py\u001b[0m in \u001b[0;36mfit\u001b[1;34m(self, X, y, sample_weight)\u001b[0m\n\u001b[0;32m    728\u001b[0m         \u001b[1;31m# Reset internal state before fitting\u001b[0m\u001b[1;33m\u001b[0m\u001b[1;33m\u001b[0m\u001b[1;33m\u001b[0m\u001b[0m\n\u001b[0;32m    729\u001b[0m         \u001b[0mself\u001b[0m\u001b[1;33m.\u001b[0m\u001b[0m_reset\u001b[0m\u001b[1;33m(\u001b[0m\u001b[1;33m)\u001b[0m\u001b[1;33m\u001b[0m\u001b[1;33m\u001b[0m\u001b[0m\n\u001b[1;32m--> 730\u001b[1;33m         \u001b[1;32mreturn\u001b[0m \u001b[0mself\u001b[0m\u001b[1;33m.\u001b[0m\u001b[0mpartial_fit\u001b[0m\u001b[1;33m(\u001b[0m\u001b[0mX\u001b[0m\u001b[1;33m,\u001b[0m \u001b[0my\u001b[0m\u001b[1;33m,\u001b[0m \u001b[0msample_weight\u001b[0m\u001b[1;33m)\u001b[0m\u001b[1;33m\u001b[0m\u001b[1;33m\u001b[0m\u001b[0m\n\u001b[0m\u001b[0;32m    731\u001b[0m \u001b[1;33m\u001b[0m\u001b[0m\n\u001b[0;32m    732\u001b[0m     \u001b[1;32mdef\u001b[0m \u001b[0mpartial_fit\u001b[0m\u001b[1;33m(\u001b[0m\u001b[0mself\u001b[0m\u001b[1;33m,\u001b[0m \u001b[0mX\u001b[0m\u001b[1;33m,\u001b[0m \u001b[0my\u001b[0m\u001b[1;33m=\u001b[0m\u001b[1;32mNone\u001b[0m\u001b[1;33m,\u001b[0m \u001b[0msample_weight\u001b[0m\u001b[1;33m=\u001b[0m\u001b[1;32mNone\u001b[0m\u001b[1;33m)\u001b[0m\u001b[1;33m:\u001b[0m\u001b[1;33m\u001b[0m\u001b[1;33m\u001b[0m\u001b[0m\n",
      "\u001b[1;32m~\\Anaconda3\\lib\\site-packages\\sklearn\\preprocessing\\_data.py\u001b[0m in \u001b[0;36mpartial_fit\u001b[1;34m(self, X, y, sample_weight)\u001b[0m\n\u001b[0;32m    764\u001b[0m         \"\"\"\n\u001b[0;32m    765\u001b[0m         \u001b[0mfirst_call\u001b[0m \u001b[1;33m=\u001b[0m \u001b[1;32mnot\u001b[0m \u001b[0mhasattr\u001b[0m\u001b[1;33m(\u001b[0m\u001b[0mself\u001b[0m\u001b[1;33m,\u001b[0m \u001b[1;34m\"n_samples_seen_\"\u001b[0m\u001b[1;33m)\u001b[0m\u001b[1;33m\u001b[0m\u001b[1;33m\u001b[0m\u001b[0m\n\u001b[1;32m--> 766\u001b[1;33m         X = self._validate_data(X, accept_sparse=('csr', 'csc'),\n\u001b[0m\u001b[0;32m    767\u001b[0m                                 \u001b[0mestimator\u001b[0m\u001b[1;33m=\u001b[0m\u001b[0mself\u001b[0m\u001b[1;33m,\u001b[0m \u001b[0mdtype\u001b[0m\u001b[1;33m=\u001b[0m\u001b[0mFLOAT_DTYPES\u001b[0m\u001b[1;33m,\u001b[0m\u001b[1;33m\u001b[0m\u001b[1;33m\u001b[0m\u001b[0m\n\u001b[0;32m    768\u001b[0m                                 force_all_finite='allow-nan', reset=first_call)\n",
      "\u001b[1;32m~\\Anaconda3\\lib\\site-packages\\sklearn\\base.py\u001b[0m in \u001b[0;36m_validate_data\u001b[1;34m(self, X, y, reset, validate_separately, **check_params)\u001b[0m\n\u001b[0;32m    419\u001b[0m             \u001b[0mout\u001b[0m \u001b[1;33m=\u001b[0m \u001b[0mX\u001b[0m\u001b[1;33m\u001b[0m\u001b[1;33m\u001b[0m\u001b[0m\n\u001b[0;32m    420\u001b[0m         \u001b[1;32melif\u001b[0m \u001b[0misinstance\u001b[0m\u001b[1;33m(\u001b[0m\u001b[0my\u001b[0m\u001b[1;33m,\u001b[0m \u001b[0mstr\u001b[0m\u001b[1;33m)\u001b[0m \u001b[1;32mand\u001b[0m \u001b[0my\u001b[0m \u001b[1;33m==\u001b[0m \u001b[1;34m'no_validation'\u001b[0m\u001b[1;33m:\u001b[0m\u001b[1;33m\u001b[0m\u001b[1;33m\u001b[0m\u001b[0m\n\u001b[1;32m--> 421\u001b[1;33m             \u001b[0mX\u001b[0m \u001b[1;33m=\u001b[0m \u001b[0mcheck_array\u001b[0m\u001b[1;33m(\u001b[0m\u001b[0mX\u001b[0m\u001b[1;33m,\u001b[0m \u001b[1;33m**\u001b[0m\u001b[0mcheck_params\u001b[0m\u001b[1;33m)\u001b[0m\u001b[1;33m\u001b[0m\u001b[1;33m\u001b[0m\u001b[0m\n\u001b[0m\u001b[0;32m    422\u001b[0m             \u001b[0mout\u001b[0m \u001b[1;33m=\u001b[0m \u001b[0mX\u001b[0m\u001b[1;33m\u001b[0m\u001b[1;33m\u001b[0m\u001b[0m\n\u001b[0;32m    423\u001b[0m         \u001b[1;32melse\u001b[0m\u001b[1;33m:\u001b[0m\u001b[1;33m\u001b[0m\u001b[1;33m\u001b[0m\u001b[0m\n",
      "\u001b[1;32m~\\Anaconda3\\lib\\site-packages\\sklearn\\utils\\validation.py\u001b[0m in \u001b[0;36minner_f\u001b[1;34m(*args, **kwargs)\u001b[0m\n\u001b[0;32m     61\u001b[0m             \u001b[0mextra_args\u001b[0m \u001b[1;33m=\u001b[0m \u001b[0mlen\u001b[0m\u001b[1;33m(\u001b[0m\u001b[0margs\u001b[0m\u001b[1;33m)\u001b[0m \u001b[1;33m-\u001b[0m \u001b[0mlen\u001b[0m\u001b[1;33m(\u001b[0m\u001b[0mall_args\u001b[0m\u001b[1;33m)\u001b[0m\u001b[1;33m\u001b[0m\u001b[1;33m\u001b[0m\u001b[0m\n\u001b[0;32m     62\u001b[0m             \u001b[1;32mif\u001b[0m \u001b[0mextra_args\u001b[0m \u001b[1;33m<=\u001b[0m \u001b[1;36m0\u001b[0m\u001b[1;33m:\u001b[0m\u001b[1;33m\u001b[0m\u001b[1;33m\u001b[0m\u001b[0m\n\u001b[1;32m---> 63\u001b[1;33m                 \u001b[1;32mreturn\u001b[0m \u001b[0mf\u001b[0m\u001b[1;33m(\u001b[0m\u001b[1;33m*\u001b[0m\u001b[0margs\u001b[0m\u001b[1;33m,\u001b[0m \u001b[1;33m**\u001b[0m\u001b[0mkwargs\u001b[0m\u001b[1;33m)\u001b[0m\u001b[1;33m\u001b[0m\u001b[1;33m\u001b[0m\u001b[0m\n\u001b[0m\u001b[0;32m     64\u001b[0m \u001b[1;33m\u001b[0m\u001b[0m\n\u001b[0;32m     65\u001b[0m             \u001b[1;31m# extra_args > 0\u001b[0m\u001b[1;33m\u001b[0m\u001b[1;33m\u001b[0m\u001b[1;33m\u001b[0m\u001b[0m\n",
      "\u001b[1;32m~\\Anaconda3\\lib\\site-packages\\sklearn\\utils\\validation.py\u001b[0m in \u001b[0;36mcheck_array\u001b[1;34m(array, accept_sparse, accept_large_sparse, dtype, order, copy, force_all_finite, ensure_2d, allow_nd, ensure_min_samples, ensure_min_features, estimator)\u001b[0m\n\u001b[0;32m    635\u001b[0m             \u001b[1;31m# If input is 1D raise error\u001b[0m\u001b[1;33m\u001b[0m\u001b[1;33m\u001b[0m\u001b[1;33m\u001b[0m\u001b[0m\n\u001b[0;32m    636\u001b[0m             \u001b[1;32mif\u001b[0m \u001b[0marray\u001b[0m\u001b[1;33m.\u001b[0m\u001b[0mndim\u001b[0m \u001b[1;33m==\u001b[0m \u001b[1;36m1\u001b[0m\u001b[1;33m:\u001b[0m\u001b[1;33m\u001b[0m\u001b[1;33m\u001b[0m\u001b[0m\n\u001b[1;32m--> 637\u001b[1;33m                 raise ValueError(\n\u001b[0m\u001b[0;32m    638\u001b[0m                     \u001b[1;34m\"Expected 2D array, got 1D array instead:\\narray={}.\\n\"\u001b[0m\u001b[1;33m\u001b[0m\u001b[1;33m\u001b[0m\u001b[0m\n\u001b[0;32m    639\u001b[0m                     \u001b[1;34m\"Reshape your data either using array.reshape(-1, 1) if \"\u001b[0m\u001b[1;33m\u001b[0m\u001b[1;33m\u001b[0m\u001b[0m\n",
      "\u001b[1;31mValueError\u001b[0m: Expected 2D array, got 1D array instead:\narray=[1.94 1.52 1.84 ... 1.65 1.52 2.2 ].\nReshape your data either using array.reshape(-1, 1) if your data has a single feature or array.reshape(1, -1) if it contains a single sample."
     ]
    }
   ],
   "source": [
    "y_train=scaler.fit_transform(y_train)\n",
    "y_test=scaler.fit_transform(y_test)"
   ]
  },
  {
   "cell_type": "markdown",
   "id": "baac4ca5-e6ea-4c29-90f3-57cb29189247",
   "metadata": {},
   "source": [
    "#### Training the dataset:"
   ]
  },
  {
   "cell_type": "code",
   "execution_count": 48,
   "id": "92a14d49-498e-404a-9b32-63b5b511daed",
   "metadata": {},
   "outputs": [
    {
     "data": {
      "text/plain": [
       "SVR()"
      ]
     },
     "execution_count": 48,
     "metadata": {},
     "output_type": "execute_result"
    }
   ],
   "source": [
    "from sklearn.svm import SVR\n",
    "regrassor = SVR(kernel = 'rbf')\n",
    "regrassor.fit(X_train, y_train)"
   ]
  },
  {
   "cell_type": "markdown",
   "id": "65e42321-5a06-4496-8a70-8688a46c4941",
   "metadata": {},
   "source": [
    "#### Predicting the result:"
   ]
  },
  {
   "cell_type": "code",
   "execution_count": 49,
   "id": "1dec51de-cf2f-44dc-a0ed-aac0ed072700",
   "metadata": {},
   "outputs": [],
   "source": [
    "y_pred = regrassor.predict(X_test)\n"
   ]
  },
  {
   "cell_type": "code",
   "execution_count": 50,
   "id": "6e135a5a-da12-40dc-9d7c-d6cb2c554a94",
   "metadata": {},
   "outputs": [
    {
     "name": "stdout",
     "output_type": "stream",
     "text": [
      "Mean Square Error      = 0.3527759308233721\n",
      "Root Mean Square Error = 0.5939494345677686\n",
      "Mean Absolute Error    = 0.4130565808697232\n",
      "Median Absolute Error  = 0.2560773013788298\n",
      "R^2                    = 0.5113624750866504\n",
      "Adjusted R^2           = 0.5106172221254202\n"
     ]
    }
   ],
   "source": [
    "def print_metrics(y_true, y_predicted, n_parameters):\n",
    "    ## First compute R^2 and the adjusted R^2\n",
    "    r2 = sklm.r2_score(y_true, y_predicted)\n",
    "    r2_adj = r2 - (n_parameters - 1)/(y_true.shape[0] - n_parameters) * (1 - r2)\n",
    "    \n",
    "    ## Print the usual metrics and the R^2 values\n",
    "    print('Mean Square Error      = ' + str(sklm.mean_squared_error(y_true, y_predicted)))\n",
    "    print('Root Mean Square Error = ' + str(math.sqrt(sklm.mean_squared_error(y_true, y_predicted))))\n",
    "    print('Mean Absolute Error    = ' + str(sklm.mean_absolute_error(y_true, y_predicted)))\n",
    "    print('Median Absolute Error  = ' + str(sklm.median_absolute_error(y_true, y_predicted)))\n",
    "    print('R^2                    = ' + str(r2))\n",
    "    print('Adjusted R^2           = ' + str(r2_adj))\n",
    "\n",
    "print_metrics(y_test, y_pred, 4)"
   ]
  },
  {
   "cell_type": "markdown",
   "id": "d1ec2d34-d616-4498-9284-c8e2a8308d77",
   "metadata": {},
   "source": [
    "### Gradient Boosting Algorithms"
   ]
  },
  {
   "cell_type": "code",
   "execution_count": 51,
   "id": "eca8f921-0089-4052-ab6c-65e4259f1702",
   "metadata": {},
   "outputs": [],
   "source": [
    "from sklearn.pipeline import make_pipeline\n",
    "from sklearn.ensemble import GradientBoostingRegressor\n",
    "from sklearn.decomposition import PCA\n",
    "from sklearn.metrics import mean_squared_error"
   ]
  },
  {
   "cell_type": "code",
   "execution_count": 52,
   "id": "a35a8eb4-002c-448e-9d93-20aea184230f",
   "metadata": {},
   "outputs": [],
   "source": [
    "gbr_params = {'n_estimators': 1000,\n",
    "          'max_depth': 3,\n",
    "          'min_samples_split': 5,\n",
    "          'learning_rate': 0.01,\n",
    "          'loss': 'ls'}\n"
   ]
  },
  {
   "cell_type": "code",
   "execution_count": 53,
   "id": "86fbd026-8785-4273-a302-704fef6ca2d9",
   "metadata": {},
   "outputs": [],
   "source": [
    "gbr = GradientBoostingRegressor(**gbr_params)"
   ]
  },
  {
   "cell_type": "code",
   "execution_count": 54,
   "id": "17a711ea-d739-4ee3-bbf9-e5693af98fcc",
   "metadata": {},
   "outputs": [
    {
     "name": "stderr",
     "output_type": "stream",
     "text": [
      "C:\\Users\\eobasi\\Anaconda3\\lib\\site-packages\\sklearn\\ensemble\\_gb.py:286: FutureWarning: The loss 'ls' was deprecated in v1.0 and will be removed in version 1.2. Use 'squared_error' which is equivalent.\n",
      "  warnings.warn(\n"
     ]
    },
    {
     "data": {
      "text/plain": [
       "GradientBoostingRegressor(learning_rate=0.01, loss='ls', min_samples_split=5,\n",
       "                          n_estimators=1000)"
      ]
     },
     "execution_count": 54,
     "metadata": {},
     "output_type": "execute_result"
    }
   ],
   "source": [
    "gbr.fit(X_train, y_train)"
   ]
  },
  {
   "cell_type": "markdown",
   "id": "8c9a0242-5f88-4c54-9917-6e3eab8515ff",
   "metadata": {},
   "source": [
    "#### Model Evaluation"
   ]
  },
  {
   "cell_type": "code",
   "execution_count": 55,
   "id": "5a1615dc-1ef8-4e51-a005-c575a036c18a",
   "metadata": {},
   "outputs": [
    {
     "name": "stdout",
     "output_type": "stream",
     "text": [
      "Model Accuracy: 0.756\n"
     ]
    }
   ],
   "source": [
    "print(\"Model Accuracy: %.3f\" % gbr.score(X_test, y_test))"
   ]
  },
  {
   "cell_type": "markdown",
   "id": "f458f483-2b04-42ad-9d4a-1ea57d6939ee",
   "metadata": {},
   "source": [
    "##### Determine the Features Importance"
   ]
  },
  {
   "cell_type": "code",
   "execution_count": 56,
   "id": "a2a3609b-8196-4a32-9df4-f9102748932e",
   "metadata": {},
   "outputs": [
    {
     "data": {
      "image/png": "[encoded data removed]",
      "text/plain": [
       "<Figure size 576x576 with 1 Axes>"
      ]
     },
     "metadata": {
      "needs_background": "light"
     },
     "output_type": "display_data"
    }
   ],
   "source": [
    "import numpy as np\n",
    "import matplotlib.pyplot as plt\n",
    "from sklearn.inspection import permutation_importance\n",
    "#\n",
    "# Get Feature importance data using feature_importances_ attribute\n",
    "#\n",
    "feature_importance =base_model.feature_importances_\n",
    "sorted_idx = np.argsort(feature_importance)\n",
    "pos = np.arange(sorted_idx.shape[0]) + .5\n",
    "fig = plt.figure(figsize=(8, 8))\n",
    "plt.barh(pos, feature_importance[sorted_idx], align='center')\n",
    "plt.yticks(pos, np.array(data.columns)[sorted_idx])\n",
    "plt.title('Feature Importance (MDI)')\n",
    "result = permutation_importance(gbr, X_test, y_test, n_repeats=10,\n",
    "                                random_state=42, n_jobs=2)\n",
    "sorted_idx = result.importances_mean.argsort()\n",
    "fig.tight_layout()\n",
    "plt.show()"
   ]
  },
  {
   "cell_type": "code",
   "execution_count": 57,
   "id": "56947471-23fb-4e39-8c0f-d7aa73f1014a",
   "metadata": {},
   "outputs": [
    {
     "data": {
      "text/html": [
       "<div>\n",
       "<style scoped>\n",
       "    .dataframe tbody tr th:only-of-type {\n",
       "        vertical-align: middle;\n",
       "    }\n",
       "\n",
       "    .dataframe tbody tr th {\n",
       "        vertical-align: top;\n",
       "    }\n",
       "\n",
       "    .dataframe thead th {\n",
       "        text-align: right;\n",
       "    }\n",
       "</style>\n",
       "<table border=\"1\" class=\"dataframe\">\n",
       "  <thead>\n",
       "    <tr style=\"text-align: right;\">\n",
       "      <th></th>\n",
       "      <th>GR</th>\n",
       "      <th>ILD</th>\n",
       "      <th>Porosity</th>\n",
       "      <th>Avg. Depth</th>\n",
       "      <th>Leco TOC (%)</th>\n",
       "    </tr>\n",
       "  </thead>\n",
       "  <tbody>\n",
       "    <tr>\n",
       "      <th>0</th>\n",
       "      <td>230.484523</td>\n",
       "      <td>11.470472</td>\n",
       "      <td>9.500998</td>\n",
       "      <td>11145.1</td>\n",
       "      <td>0.55</td>\n",
       "    </tr>\n",
       "    <tr>\n",
       "      <th>1</th>\n",
       "      <td>230.484523</td>\n",
       "      <td>11.470472</td>\n",
       "      <td>9.500998</td>\n",
       "      <td>11145.1</td>\n",
       "      <td>0.55</td>\n",
       "    </tr>\n",
       "    <tr>\n",
       "      <th>2</th>\n",
       "      <td>230.484523</td>\n",
       "      <td>11.470472</td>\n",
       "      <td>9.500998</td>\n",
       "      <td>11145.1</td>\n",
       "      <td>0.55</td>\n",
       "    </tr>\n",
       "    <tr>\n",
       "      <th>3</th>\n",
       "      <td>230.484523</td>\n",
       "      <td>11.470472</td>\n",
       "      <td>9.500998</td>\n",
       "      <td>11145.1</td>\n",
       "      <td>0.55</td>\n",
       "    </tr>\n",
       "    <tr>\n",
       "      <th>4</th>\n",
       "      <td>230.484523</td>\n",
       "      <td>11.470472</td>\n",
       "      <td>9.500998</td>\n",
       "      <td>11145.1</td>\n",
       "      <td>0.55</td>\n",
       "    </tr>\n",
       "    <tr>\n",
       "      <th>...</th>\n",
       "      <td>...</td>\n",
       "      <td>...</td>\n",
       "      <td>...</td>\n",
       "      <td>...</td>\n",
       "      <td>...</td>\n",
       "    </tr>\n",
       "    <tr>\n",
       "      <th>9850</th>\n",
       "      <td>105.054811</td>\n",
       "      <td>9.725226</td>\n",
       "      <td>10.592800</td>\n",
       "      <td>9227.0</td>\n",
       "      <td>2.30</td>\n",
       "    </tr>\n",
       "    <tr>\n",
       "      <th>9851</th>\n",
       "      <td>113.135171</td>\n",
       "      <td>51.706493</td>\n",
       "      <td>9.700599</td>\n",
       "      <td>11170.0</td>\n",
       "      <td>1.83</td>\n",
       "    </tr>\n",
       "    <tr>\n",
       "      <th>9852</th>\n",
       "      <td>157.069571</td>\n",
       "      <td>30.067157</td>\n",
       "      <td>9.500998</td>\n",
       "      <td>11343.2</td>\n",
       "      <td>1.77</td>\n",
       "    </tr>\n",
       "    <tr>\n",
       "      <th>9853</th>\n",
       "      <td>144.028221</td>\n",
       "      <td>49.117105</td>\n",
       "      <td>7.704591</td>\n",
       "      <td>11255.5</td>\n",
       "      <td>2.61</td>\n",
       "    </tr>\n",
       "    <tr>\n",
       "      <th>9854</th>\n",
       "      <td>161.057408</td>\n",
       "      <td>30.067157</td>\n",
       "      <td>9.500998</td>\n",
       "      <td>11199.0</td>\n",
       "      <td>1.77</td>\n",
       "    </tr>\n",
       "  </tbody>\n",
       "</table>\n",
       "<p>9855 rows × 5 columns</p>\n",
       "</div>"
      ],
      "text/plain": [
       "              GR        ILD   Porosity  Avg. Depth  Leco TOC (%)\n",
       "0     230.484523  11.470472   9.500998     11145.1          0.55\n",
       "1     230.484523  11.470472   9.500998     11145.1          0.55\n",
       "2     230.484523  11.470472   9.500998     11145.1          0.55\n",
       "3     230.484523  11.470472   9.500998     11145.1          0.55\n",
       "4     230.484523  11.470472   9.500998     11145.1          0.55\n",
       "...          ...        ...        ...         ...           ...\n",
       "9850  105.054811   9.725226  10.592800      9227.0          2.30\n",
       "9851  113.135171  51.706493   9.700599     11170.0          1.83\n",
       "9852  157.069571  30.067157   9.500998     11343.2          1.77\n",
       "9853  144.028221  49.117105   7.704591     11255.5          2.61\n",
       "9854  161.057408  30.067157   9.500998     11199.0          1.77\n",
       "\n",
       "[9855 rows x 5 columns]"
      ]
     },
     "execution_count": 57,
     "metadata": {},
     "output_type": "execute_result"
    }
   ],
   "source": [
    "data"
   ]
  },
  {
   "cell_type": "markdown",
   "id": "356d6343-a128-439b-93d2-6cc76381ea91",
   "metadata": {},
   "source": [
    "##### Assessing the Training & Test Deviance"
   ]
  },
  {
   "cell_type": "code",
   "execution_count": 58,
   "id": "f8566bde-960a-475a-b2d6-9c2258a338ba",
   "metadata": {},
   "outputs": [
    {
     "data": {
      "image/png": "[encoded data removed]",
      "text/plain": [
       "<Figure size 576x576 with 1 Axes>"
      ]
     },
     "metadata": {
      "needs_background": "light"
     },
     "output_type": "display_data"
    }
   ],
   "source": [
    "test_score = np.zeros((gbr_params['n_estimators'],), dtype=np.float64)\n",
    "for i, y_pred in enumerate(gbr.staged_predict(X_test)):\n",
    "    test_score[i] = gbr.loss_(y_test, y_pred)\n",
    " \n",
    "fig = plt.figure(figsize=(8, 8))\n",
    "plt.subplot(1, 1, 1)\n",
    "plt.title('Deviance')\n",
    "plt.plot(np.arange(gbr_params['n_estimators']) + 1, gbr.train_score_, 'b-',\n",
    "         label='Training Set Deviance')\n",
    "plt.plot(np.arange(gbr_params['n_estimators']) + 1, test_score, 'r-',\n",
    "         label='Test Set Deviance')\n",
    "plt.legend(loc='upper right')\n",
    "plt.xlabel('Boosting Iterations')\n",
    "plt.ylabel('Deviance')\n",
    "fig.tight_layout()\n",
    "plt.show()"
   ]
  },
  {
   "cell_type": "markdown",
   "id": "f3b6dbad-9139-4ea3-8096-7137cfbb0cee",
   "metadata": {},
   "source": [
    "### Xgboosting and  bayesian optimization"
   ]
  },
  {
   "cell_type": "code",
   "execution_count": null,
   "id": "d76c3ed0-f91f-4a29-bace-96d789ea1d77",
   "metadata": {},
   "outputs": [],
   "source": [
    "pip install xgboost"
   ]
  },
  {
   "cell_type": "code",
   "execution_count": 59,
   "id": "31b4a57d-af23-4162-9372-c2ec33c91c9b",
   "metadata": {},
   "outputs": [
    {
     "name": "stdout",
     "output_type": "stream",
     "text": [
      "1.5.2\n"
     ]
    }
   ],
   "source": [
    "# check xgboost version\n",
    "import xgboost as xg\n",
    "print(xg.__version__)\n"
   ]
  },
  {
   "cell_type": "code",
   "execution_count": 16,
   "id": "cba582d9-56e9-4dc0-a300-3a67abfc8081",
   "metadata": {},
   "outputs": [],
   "source": [
    "from xgboost import XGBRegressor"
   ]
  },
  {
   "cell_type": "code",
   "execution_count": 17,
   "id": "1b1bd3e0-d6f7-4d2c-b2c2-aa32ee9dfad1",
   "metadata": {},
   "outputs": [],
   "source": [
    "eval_set = [(X_test, y_test)]"
   ]
  },
  {
   "cell_type": "code",
   "execution_count": 18,
   "id": "1fd20016-2228-47ef-881f-6b91bf145580",
   "metadata": {},
   "outputs": [],
   "source": [
    "model = XGBRegressor(max_depth=14,learning_rate=0.0500000012,min_child_weight=5,n_estimators=500,subsample=0.5,)"
   ]
  },
  {
   "cell_type": "code",
   "execution_count": 19,
   "id": "8e5f3972-a380-4048-ab12-abd07b325905",
   "metadata": {},
   "outputs": [
    {
     "name": "stderr",
     "output_type": "stream",
     "text": [
      "C:\\Users\\eobasi\\Anaconda3\\lib\\site-packages\\xgboost\\sklearn.py:793: UserWarning: `eval_metric` in `fit` method is deprecated for better compatibility with scikit-learn, use `eval_metric` in constructor or`set_params` instead.\n",
      "  warnings.warn(\n"
     ]
    },
    {
     "data": {
      "text/html": [
       "<style>#sk-container-id-1 {color: black;background-color: white;}#sk-container-id-1 pre{padding: 0;}#sk-container-id-1 div.sk-toggleable {background-color: white;}#sk-container-id-1 label.sk-toggleable__label {cursor: pointer;display: block;width: 100%;margin-bottom: 0;padding: 0.3em;box-sizing: border-box;text-align: center;}#sk-container-id-1 label.sk-toggleable__label-arrow:before {content: \"▸\";float: left;margin-right: 0.25em;color: #696969;}#sk-container-id-1 label.sk-toggleable__label-arrow:hover:before {color: black;}#sk-container-id-1 div.sk-estimator:hover label.sk-toggleable__label-arrow:before {color: black;}#sk-container-id-1 div.sk-toggleable__content {max-height: 0;max-width: 0;overflow: hidden;text-align: left;background-color: #f0f8ff;}#sk-container-id-1 div.sk-toggleable__content pre {margin: 0.2em;color: black;border-radius: 0.25em;background-color: #f0f8ff;}#sk-container-id-1 input.sk-toggleable__control:checked~div.sk-toggleable__content {max-height: 200px;max-width: 100%;overflow: auto;}#sk-container-id-1 input.sk-toggleable__control:checked~label.sk-toggleable__label-arrow:before {content: \"▾\";}#sk-container-id-1 div.sk-estimator input.sk-toggleable__control:checked~label.sk-toggleable__label {background-color: #d4ebff;}#sk-container-id-1 div.sk-label input.sk-toggleable__control:checked~label.sk-toggleable__label {background-color: #d4ebff;}#sk-container-id-1 input.sk-hidden--visually {border: 0;clip: rect(1px 1px 1px 1px);clip: rect(1px, 1px, 1px, 1px);height: 1px;margin: -1px;overflow: hidden;padding: 0;position: absolute;width: 1px;}#sk-container-id-1 div.sk-estimator {font-family: monospace;background-color: #f0f8ff;border: 1px dotted black;border-radius: 0.25em;box-sizing: border-box;margin-bottom: 0.5em;}#sk-container-id-1 div.sk-estimator:hover {background-color: #d4ebff;}#sk-container-id-1 div.sk-parallel-item::after {content: \"\";width: 100%;border-bottom: 1px solid gray;flex-grow: 1;}#sk-container-id-1 div.sk-label:hover label.sk-toggleable__label {background-color: #d4ebff;}#sk-container-id-1 div.sk-serial::before {content: \"\";position: absolute;border-left: 1px solid gray;box-sizing: border-box;top: 0;bottom: 0;left: 50%;z-index: 0;}#sk-container-id-1 div.sk-serial {display: flex;flex-direction: column;align-items: center;background-color: white;padding-right: 0.2em;padding-left: 0.2em;position: relative;}#sk-container-id-1 div.sk-item {position: relative;z-index: 1;}#sk-container-id-1 div.sk-parallel {display: flex;align-items: stretch;justify-content: center;background-color: white;position: relative;}#sk-container-id-1 div.sk-item::before, #sk-container-id-1 div.sk-parallel-item::before {content: \"\";position: absolute;border-left: 1px solid gray;box-sizing: border-box;top: 0;bottom: 0;left: 50%;z-index: -1;}#sk-container-id-1 div.sk-parallel-item {display: flex;flex-direction: column;z-index: 1;position: relative;background-color: white;}#sk-container-id-1 div.sk-parallel-item:first-child::after {align-self: flex-end;width: 50%;}#sk-container-id-1 div.sk-parallel-item:last-child::after {align-self: flex-start;width: 50%;}#sk-container-id-1 div.sk-parallel-item:only-child::after {width: 0;}#sk-container-id-1 div.sk-dashed-wrapped {border: 1px dashed gray;margin: 0 0.4em 0.5em 0.4em;box-sizing: border-box;padding-bottom: 0.4em;background-color: white;}#sk-container-id-1 div.sk-label label {font-family: monospace;font-weight: bold;display: inline-block;line-height: 1.2em;}#sk-container-id-1 div.sk-label-container {text-align: center;}#sk-container-id-1 div.sk-container {/* jupyter's `normalize.less` sets `[hidden] { display: none; }` but bootstrap.min.css set `[hidden] { display: none !important; }` so we also need the `!important` here to be able to override the default hidden behavior on the sphinx rendered scikit-learn.org. See: https://github.com/scikit-learn/scikit-learn/issues/21755 */display: inline-block !important;position: relative;}#sk-container-id-1 div.sk-text-repr-fallback {display: none;}</style><div id=\"sk-container-id-1\" class=\"sk-top-container\"><div class=\"sk-text-repr-fallback\"><pre>XGBRegressor(base_score=0.5, booster=&#x27;gbtree&#x27;, callbacks=None,\n",
       "             colsample_bylevel=1, colsample_bynode=1, colsample_bytree=1,\n",
       "             early_stopping_rounds=None, enable_categorical=False,\n",
       "             eval_metric=None, gamma=0, gpu_id=-1, grow_policy=&#x27;depthwise&#x27;,\n",
       "             importance_type=None, interaction_constraints=&#x27;&#x27;,\n",
       "             learning_rate=0.0500000012, max_bin=256, max_cat_to_onehot=4,\n",
       "             max_delta_step=0, max_depth=14, max_leaves=0, min_child_weight=5,\n",
       "             missing=nan, monotone_constraints=&#x27;()&#x27;, n_estimators=500, n_jobs=0,\n",
       "             num_parallel_tree=1, predictor=&#x27;auto&#x27;, random_state=0, reg_alpha=0,\n",
       "             reg_lambda=1, ...)</pre><b>In a Jupyter environment, please rerun this cell to show the HTML representation or trust the notebook. <br />On GitHub, the HTML representation is unable to render, please try loading this page with nbviewer.org.</b></div><div class=\"sk-container\" hidden><div class=\"sk-item\"><div class=\"sk-estimator sk-toggleable\"><input class=\"sk-toggleable__control sk-hidden--visually\" id=\"sk-estimator-id-1\" type=\"checkbox\" checked><label for=\"sk-estimator-id-1\" class=\"sk-toggleable__label sk-toggleable__label-arrow\">XGBRegressor</label><div class=\"sk-toggleable__content\"><pre>XGBRegressor(base_score=0.5, booster=&#x27;gbtree&#x27;, callbacks=None,\n",
       "             colsample_bylevel=1, colsample_bynode=1, colsample_bytree=1,\n",
       "             early_stopping_rounds=None, enable_categorical=False,\n",
       "             eval_metric=None, gamma=0, gpu_id=-1, grow_policy=&#x27;depthwise&#x27;,\n",
       "             importance_type=None, interaction_constraints=&#x27;&#x27;,\n",
       "             learning_rate=0.0500000012, max_bin=256, max_cat_to_onehot=4,\n",
       "             max_delta_step=0, max_depth=14, max_leaves=0, min_child_weight=5,\n",
       "             missing=nan, monotone_constraints=&#x27;()&#x27;, n_estimators=500, n_jobs=0,\n",
       "             num_parallel_tree=1, predictor=&#x27;auto&#x27;, random_state=0, reg_alpha=0,\n",
       "             reg_lambda=1, ...)</pre></div></div></div></div></div>"
      ],
      "text/plain": [
       "XGBRegressor(base_score=0.5, booster='gbtree', callbacks=None,\n",
       "             colsample_bylevel=1, colsample_bynode=1, colsample_bytree=1,\n",
       "             early_stopping_rounds=None, enable_categorical=False,\n",
       "             eval_metric=None, gamma=0, gpu_id=-1, grow_policy='depthwise',\n",
       "             importance_type=None, interaction_constraints='',\n",
       "             learning_rate=0.0500000012, max_bin=256, max_cat_to_onehot=4,\n",
       "             max_delta_step=0, max_depth=14, max_leaves=0, min_child_weight=5,\n",
       "             missing=nan, monotone_constraints='()', n_estimators=500, n_jobs=0,\n",
       "             num_parallel_tree=1, predictor='auto', random_state=0, reg_alpha=0,\n",
       "             reg_lambda=1, ...)"
      ]
     },
     "execution_count": 19,
     "metadata": {},
     "output_type": "execute_result"
    }
   ],
   "source": [
    "model.fit(X_train, y_train,eval_metric=\"error\",eval_set=eval_set,verbose=False)"
   ]
  },
  {
   "cell_type": "code",
   "execution_count": 20,
   "id": "dbbff320-3bd7-4ba8-85ab-90c54f3780da",
   "metadata": {},
   "outputs": [],
   "source": [
    "y_predictions=model.predict(X_test)\n",
    "y_predictedTrain=model.predict(X_train)"
   ]
  },
  {
   "cell_type": "code",
   "execution_count": 21,
   "id": "b5d0077d-6d31-45d7-a9c0-ea552f95b455",
   "metadata": {},
   "outputs": [
    {
     "ename": "NameError",
     "evalue": "name 'evaluate' is not defined",
     "output_type": "error",
     "traceback": [
      "\u001b[1;31m---------------------------------------------------------------------------\u001b[0m",
      "\u001b[1;31mNameError\u001b[0m                                 Traceback (most recent call last)",
      "\u001b[1;32m<ipython-input-21-15757485c6e2>\u001b[0m in \u001b[0;36m<module>\u001b[1;34m\u001b[0m\n\u001b[1;32m----> 1\u001b[1;33m \u001b[0maccuracy\u001b[0m \u001b[1;33m=\u001b[0m \u001b[0mevaluate\u001b[0m\u001b[1;33m(\u001b[0m\u001b[0mmodel\u001b[0m\u001b[1;33m,\u001b[0m \u001b[0mX_test\u001b[0m\u001b[1;33m,\u001b[0m \u001b[0my_test\u001b[0m\u001b[1;33m)\u001b[0m\u001b[1;33m\u001b[0m\u001b[1;33m\u001b[0m\u001b[0m\n\u001b[0m\u001b[0;32m      2\u001b[0m \u001b[1;33m\u001b[0m\u001b[0m\n\u001b[0;32m      3\u001b[0m \u001b[0mprint\u001b[0m\u001b[1;33m(\u001b[0m\u001b[1;34m\"Accuracy: %.2f%%\"\u001b[0m \u001b[1;33m%\u001b[0m \u001b[1;33m(\u001b[0m\u001b[0maccuracy\u001b[0m \u001b[1;33m)\u001b[0m\u001b[1;33m)\u001b[0m\u001b[1;33m\u001b[0m\u001b[1;33m\u001b[0m\u001b[0m\n",
      "\u001b[1;31mNameError\u001b[0m: name 'evaluate' is not defined"
     ]
    }
   ],
   "source": [
    "accuracy = evaluate(model, X_test, y_test)\n",
    "\n",
    "print(\"Accuracy: %.2f%%\" % (accuracy ))"
   ]
  },
  {
   "cell_type": "markdown",
   "id": "b4a08734-bcdb-4504-99de-2788c2151d81",
   "metadata": {},
   "source": [
    "### evaluate models"
   ]
  },
  {
   "cell_type": "code",
   "execution_count": 22,
   "id": "39aa8d7e-78e3-45f2-8268-b67c404f57d6",
   "metadata": {},
   "outputs": [
    {
     "name": "stdout",
     "output_type": "stream",
     "text": [
      "Mean Square Error      = 0.08035962195006655\n",
      "Root Mean Square Error = 0.2834777274320975\n",
      "Mean Absolute Error    = 0.08703700218933721\n",
      "Median Absolute Error  = 0.011476602554321147\n",
      "R^2                    = 0.8886921602587647\n",
      "R^2 train              = 0.9649348069388646\n",
      "Adjusted R^2           = 0.8885223974121843\n"
     ]
    }
   ],
   "source": [
    "def print_metrics(y_true, y_predicted,y_predictedTrain,y_train,n_parameters):\n",
    "    ## First compute R^2 and the adjusted R^2\n",
    "    r2 = sklm.r2_score(y_true, y_predicted)\n",
    "    r2train = sklm.r2_score(y_train, y_predictedTrain)\n",
    "    r2_adj = r2 - (n_parameters - 1)/(y_true.shape[0] - n_parameters) * (1 - r2)\n",
    "    r2_adjT = r2train - (n_parameters - 1)/(y_true.shape[0] - n_parameters) * (1 -  r2train)\n",
    "    ## Print the usual metrics and the R^2 values\n",
    "    print('Mean Square Error      = ' + str(sklm.mean_squared_error(y_true, y_predicted)))\n",
    "    print('Root Mean Square Error = ' + str(math.sqrt(sklm.mean_squared_error(y_true, y_predicted))))\n",
    "    print('Mean Absolute Error    = ' + str(sklm.mean_absolute_error(y_true, y_predicted)))\n",
    "    print('Median Absolute Error  = ' + str(sklm.median_absolute_error(y_true, y_predicted)))\n",
    "    print('R^2                    = ' + str(r2))\n",
    "    print('R^2 train              = ' + str(r2_adjT))\n",
    "    print('Adjusted R^2           = ' + str(r2_adj))\n",
    "\n",
    "print_metrics(y_test, y_predictions,y_predictedTrain,y_train, 4)"
   ]
  },
  {
   "cell_type": "code",
   "execution_count": 67,
   "id": "7fc17fd4-e0bf-4fdd-a515-eaffc3911581",
   "metadata": {},
   "outputs": [
    {
     "data": {
      "text/plain": [
       "array([0.8597427 , 0.87906289, 0.91611495, 0.91695412, 0.89565398,\n",
       "       0.92033404, 0.88243967, 0.93534925, 0.9171774 , 0.83254918])"
      ]
     },
     "execution_count": 67,
     "metadata": {},
     "output_type": "execute_result"
    }
   ],
   "source": [
    "lm = model\n",
    "scores = cross_val_score(lm, X_train, y_train, scoring='r2', cv=10)\n",
    "scores"
   ]
  },
  {
   "cell_type": "code",
   "execution_count": 68,
   "id": "be39374c-802d-4376-bba6-898ee4176b44",
   "metadata": {},
   "outputs": [
    {
     "data": {
      "text/plain": [
       "0.8955378171427839"
      ]
     },
     "execution_count": 68,
     "metadata": {},
     "output_type": "execute_result"
    }
   ],
   "source": [
    "scores.mean()"
   ]
  },
  {
   "cell_type": "code",
   "execution_count": 69,
   "id": "7164e7d1-900d-4484-8be0-d751324cf42f",
   "metadata": {},
   "outputs": [
    {
     "name": "stdout",
     "output_type": "stream",
     "text": [
      "Fitting 10 folds for each of 4 candidates, totalling 40 fits\n"
     ]
    },
    {
     "data": {
      "text/plain": [
       "GridSearchCV(cv=KFold(n_splits=10, random_state=100, shuffle=True),\n",
       "             estimator=RFE(estimator=XGBRegressor(base_score=0.5,\n",
       "                                                  booster='gbtree',\n",
       "                                                  colsample_bylevel=1,\n",
       "                                                  colsample_bynode=1,\n",
       "                                                  colsample_bytree=1,\n",
       "                                                  enable_categorical=False,\n",
       "                                                  gamma=0, gpu_id=-1,\n",
       "                                                  importance_type=None,\n",
       "                                                  interaction_constraints='',\n",
       "                                                  learning_rate=0.0500000012,\n",
       "                                                  max_delta_step=0,\n",
       "                                                  max_depth=14,\n",
       "                                                  min_child_weight=5,\n",
       "                                                  missing=nan,\n",
       "                                                  monotone_constraints='()',\n",
       "                                                  n_estimators=500, n_jobs=8,\n",
       "                                                  num_parallel_tree=1,\n",
       "                                                  predictor='auto',\n",
       "                                                  random_state=0, reg_alpha=0,\n",
       "                                                  reg_lambda=1,\n",
       "                                                  scale_pos_weight=1,\n",
       "                                                  subsample=0.5,\n",
       "                                                  tree_method='exact',\n",
       "                                                  validate_parameters=1,\n",
       "                                                  verbosity=None)),\n",
       "             param_grid=[{'n_features_to_select': [1, 2, 3, 4]}],\n",
       "             return_train_score=True, scoring='r2', verbose=1)"
      ]
     },
     "execution_count": 69,
     "metadata": {},
     "output_type": "execute_result"
    }
   ],
   "source": [
    "# step-1: create a cross-validation scheme\n",
    "folds = KFold(n_splits = 10, shuffle = True, random_state = 100)\n",
    "\n",
    "# step-2: specify range of hyperparameters to tune\n",
    "hyper_params = [{'n_features_to_select': list(range(1, 5))}]\n",
    "\n",
    "\n",
    "# step-3: perform grid search\n",
    "# 3.1 specify model\n",
    "lm = model\n",
    "lm.fit(X_train, y_train)\n",
    "rfe = RFE(lm)             \n",
    "\n",
    "# 3.2 call GridSearchCV()\n",
    "model_cv = GridSearchCV(estimator = rfe, \n",
    "                        param_grid = hyper_params, \n",
    "                        scoring= 'r2', \n",
    "                        cv = folds, \n",
    "                        verbose = 1,\n",
    "                        return_train_score=True)      \n",
    "\n",
    "# fit the model\n",
    "model_cv.fit(X_train, y_train)                  "
   ]
  },
  {
   "cell_type": "code",
   "execution_count": 70,
   "id": "807e7c91-77ce-4561-9e76-cf76d756f7ee",
   "metadata": {},
   "outputs": [
    {
     "data": {
      "text/html": [
       "<div>\n",
       "<style scoped>\n",
       "    .dataframe tbody tr th:only-of-type {\n",
       "        vertical-align: middle;\n",
       "    }\n",
       "\n",
       "    .dataframe tbody tr th {\n",
       "        vertical-align: top;\n",
       "    }\n",
       "\n",
       "    .dataframe thead th {\n",
       "        text-align: right;\n",
       "    }\n",
       "</style>\n",
       "<table border=\"1\" class=\"dataframe\">\n",
       "  <thead>\n",
       "    <tr style=\"text-align: right;\">\n",
       "      <th></th>\n",
       "      <th>mean_fit_time</th>\n",
       "      <th>std_fit_time</th>\n",
       "      <th>mean_score_time</th>\n",
       "      <th>std_score_time</th>\n",
       "      <th>param_n_features_to_select</th>\n",
       "      <th>params</th>\n",
       "      <th>split0_test_score</th>\n",
       "      <th>split1_test_score</th>\n",
       "      <th>split2_test_score</th>\n",
       "      <th>split3_test_score</th>\n",
       "      <th>...</th>\n",
       "      <th>split2_train_score</th>\n",
       "      <th>split3_train_score</th>\n",
       "      <th>split4_train_score</th>\n",
       "      <th>split5_train_score</th>\n",
       "      <th>split6_train_score</th>\n",
       "      <th>split7_train_score</th>\n",
       "      <th>split8_train_score</th>\n",
       "      <th>split9_train_score</th>\n",
       "      <th>mean_train_score</th>\n",
       "      <th>std_train_score</th>\n",
       "    </tr>\n",
       "  </thead>\n",
       "  <tbody>\n",
       "    <tr>\n",
       "      <th>0</th>\n",
       "      <td>13.954730</td>\n",
       "      <td>0.485940</td>\n",
       "      <td>0.010469</td>\n",
       "      <td>0.001497</td>\n",
       "      <td>1</td>\n",
       "      <td>{'n_features_to_select': 1}</td>\n",
       "      <td>0.922859</td>\n",
       "      <td>0.870704</td>\n",
       "      <td>0.892978</td>\n",
       "      <td>0.876850</td>\n",
       "      <td>...</td>\n",
       "      <td>0.923096</td>\n",
       "      <td>0.920655</td>\n",
       "      <td>0.920448</td>\n",
       "      <td>0.921222</td>\n",
       "      <td>0.927310</td>\n",
       "      <td>0.921650</td>\n",
       "      <td>0.923620</td>\n",
       "      <td>0.920794</td>\n",
       "      <td>0.922557</td>\n",
       "      <td>0.002293</td>\n",
       "    </tr>\n",
       "    <tr>\n",
       "      <th>1</th>\n",
       "      <td>10.551020</td>\n",
       "      <td>0.438418</td>\n",
       "      <td>0.011465</td>\n",
       "      <td>0.002149</td>\n",
       "      <td>2</td>\n",
       "      <td>{'n_features_to_select': 2}</td>\n",
       "      <td>0.916026</td>\n",
       "      <td>0.877940</td>\n",
       "      <td>0.909952</td>\n",
       "      <td>0.908172</td>\n",
       "      <td>...</td>\n",
       "      <td>0.961489</td>\n",
       "      <td>0.961453</td>\n",
       "      <td>0.960314</td>\n",
       "      <td>0.962246</td>\n",
       "      <td>0.962601</td>\n",
       "      <td>0.961504</td>\n",
       "      <td>0.963629</td>\n",
       "      <td>0.961333</td>\n",
       "      <td>0.962133</td>\n",
       "      <td>0.001509</td>\n",
       "    </tr>\n",
       "    <tr>\n",
       "      <th>2</th>\n",
       "      <td>7.121975</td>\n",
       "      <td>0.202259</td>\n",
       "      <td>0.011864</td>\n",
       "      <td>0.001439</td>\n",
       "      <td>3</td>\n",
       "      <td>{'n_features_to_select': 3}</td>\n",
       "      <td>0.903481</td>\n",
       "      <td>0.872629</td>\n",
       "      <td>0.905597</td>\n",
       "      <td>0.909553</td>\n",
       "      <td>...</td>\n",
       "      <td>0.963070</td>\n",
       "      <td>0.963616</td>\n",
       "      <td>0.962305</td>\n",
       "      <td>0.964188</td>\n",
       "      <td>0.963902</td>\n",
       "      <td>0.963139</td>\n",
       "      <td>0.965458</td>\n",
       "      <td>0.963476</td>\n",
       "      <td>0.963976</td>\n",
       "      <td>0.001535</td>\n",
       "    </tr>\n",
       "    <tr>\n",
       "      <th>3</th>\n",
       "      <td>3.692534</td>\n",
       "      <td>0.153838</td>\n",
       "      <td>0.012466</td>\n",
       "      <td>0.002196</td>\n",
       "      <td>4</td>\n",
       "      <td>{'n_features_to_select': 4}</td>\n",
       "      <td>0.906539</td>\n",
       "      <td>0.870778</td>\n",
       "      <td>0.889197</td>\n",
       "      <td>0.899280</td>\n",
       "      <td>...</td>\n",
       "      <td>0.964453</td>\n",
       "      <td>0.964808</td>\n",
       "      <td>0.963752</td>\n",
       "      <td>0.965722</td>\n",
       "      <td>0.965455</td>\n",
       "      <td>0.964343</td>\n",
       "      <td>0.966798</td>\n",
       "      <td>0.964953</td>\n",
       "      <td>0.965370</td>\n",
       "      <td>0.001497</td>\n",
       "    </tr>\n",
       "  </tbody>\n",
       "</table>\n",
       "<p>4 rows × 31 columns</p>\n",
       "</div>"
      ],
      "text/plain": [
       "   mean_fit_time  std_fit_time  mean_score_time  std_score_time  \\\n",
       "0      13.954730      0.485940         0.010469        0.001497   \n",
       "1      10.551020      0.438418         0.011465        0.002149   \n",
       "2       7.121975      0.202259         0.011864        0.001439   \n",
       "3       3.692534      0.153838         0.012466        0.002196   \n",
       "\n",
       "  param_n_features_to_select                       params  split0_test_score  \\\n",
       "0                          1  {'n_features_to_select': 1}           0.922859   \n",
       "1                          2  {'n_features_to_select': 2}           0.916026   \n",
       "2                          3  {'n_features_to_select': 3}           0.903481   \n",
       "3                          4  {'n_features_to_select': 4}           0.906539   \n",
       "\n",
       "   split1_test_score  split2_test_score  split3_test_score  ...  \\\n",
       "0           0.870704           0.892978           0.876850  ...   \n",
       "1           0.877940           0.909952           0.908172  ...   \n",
       "2           0.872629           0.905597           0.909553  ...   \n",
       "3           0.870778           0.889197           0.899280  ...   \n",
       "\n",
       "   split2_train_score  split3_train_score  split4_train_score  \\\n",
       "0            0.923096            0.920655            0.920448   \n",
       "1            0.961489            0.961453            0.960314   \n",
       "2            0.963070            0.963616            0.962305   \n",
       "3            0.964453            0.964808            0.963752   \n",
       "\n",
       "   split5_train_score  split6_train_score  split7_train_score  \\\n",
       "0            0.921222            0.927310            0.921650   \n",
       "1            0.962246            0.962601            0.961504   \n",
       "2            0.964188            0.963902            0.963139   \n",
       "3            0.965722            0.965455            0.964343   \n",
       "\n",
       "   split8_train_score  split9_train_score  mean_train_score  std_train_score  \n",
       "0            0.923620            0.920794          0.922557         0.002293  \n",
       "1            0.963629            0.961333          0.962133         0.001509  \n",
       "2            0.965458            0.963476          0.963976         0.001535  \n",
       "3            0.966798            0.964953          0.965370         0.001497  \n",
       "\n",
       "[4 rows x 31 columns]"
      ]
     },
     "execution_count": 70,
     "metadata": {},
     "output_type": "execute_result"
    }
   ],
   "source": [
    "# cv results\n",
    "cv_results = pd.DataFrame(model_cv.cv_results_)\n",
    "cv_results"
   ]
  },
  {
   "cell_type": "code",
   "execution_count": 71,
   "id": "3717c701-dd7c-4fc0-aae6-fbe6963a58d6",
   "metadata": {},
   "outputs": [
    {
     "data": {
      "text/plain": [
       "<matplotlib.legend.Legend at 0x2581b9d61f0>"
      ]
     },
     "execution_count": 71,
     "metadata": {},
     "output_type": "execute_result"
    },
    {
     "data": {
      "image/png": "[encoded data removed]",
      "text/plain": [
       "<Figure size 1152x432 with 1 Axes>"
      ]
     },
     "metadata": {
      "needs_background": "light"
     },
     "output_type": "display_data"
    }
   ],
   "source": [
    "# plotting cv results\n",
    "plt.figure(figsize=(16,6))\n",
    "\n",
    "plt.plot(cv_results[\"param_n_features_to_select\"], cv_results[\"mean_test_score\"])\n",
    "plt.plot(cv_results[\"param_n_features_to_select\"], cv_results[\"mean_train_score\"])\n",
    "plt.xlabel('number of features')\n",
    "plt.ylabel('r-squared')\n",
    "plt.title(\"Optimal Number of Features\")\n",
    "plt.legend(['test score', 'train score'], loc='upper left')"
   ]
  },
  {
   "cell_type": "code",
   "execution_count": 72,
   "id": "9942dcb7-7c72-41b5-a1e1-d5560a00fe5e",
   "metadata": {},
   "outputs": [
    {
     "name": "stdout",
     "output_type": "stream",
     "text": [
      "Fitting 10 folds for each of 4 candidates, totalling 40 fits\n",
      "0.8899780653439936\n"
     ]
    }
   ],
   "source": [
    "# final model\n",
    "n_features_optimal = 4\n",
    "\n",
    "lm1 = model_cv\n",
    "lm1.fit(X_train, y_train)\n",
    "\n",
    "rfe1 = RFE(lm1, n_features_to_select=n_features_optimal)             \n",
    "rfe1 = rfe.fit(X_train, y_train)\n",
    "\n",
    "\n",
    "y_pred1 = rfe1.predict(X_test)\n",
    "r21 = sklearn.metrics.r2_score(y_test, y_pred1)\n",
    "print(r21)"
   ]
  },
  {
   "cell_type": "code",
   "execution_count": null,
   "id": "6e6a36ac-febf-4b3f-b13e-a99d2c24933b",
   "metadata": {},
   "outputs": [],
   "source": []
  },
  {
   "cell_type": "code",
   "execution_count": null,
   "id": "14606950-6e79-41be-b502-11bee62d8832",
   "metadata": {},
   "outputs": [],
   "source": []
  },
  {
   "cell_type": "code",
   "execution_count": null,
   "id": "f92d5166-f691-4e56-bef2-70e9a4f35d55",
   "metadata": {},
   "outputs": [],
   "source": []
  },
  {
   "cell_type": "code",
   "execution_count": 73,
   "id": "add68613-cc77-463c-a9f5-0f37184eb4c8",
   "metadata": {},
   "outputs": [],
   "source": [
    "Original=pd.read_csv('TrainingDataTOC.csv')"
   ]
  },
  {
   "cell_type": "code",
   "execution_count": null,
   "id": "d652a3f3-3ff4-49d5-abea-ec58b89a9c14",
   "metadata": {},
   "outputs": [],
   "source": []
  },
  {
   "cell_type": "code",
   "execution_count": null,
   "id": "b03d2dc7-e1c0-42c7-af9e-fdf945545a6c",
   "metadata": {},
   "outputs": [],
   "source": []
  },
  {
   "cell_type": "code",
   "execution_count": null,
   "id": "a2f16d98-f89a-4ebe-892c-9e809b37c855",
   "metadata": {},
   "outputs": [],
   "source": []
  },
  {
   "cell_type": "code",
   "execution_count": null,
   "id": "fa0c1349-7401-4095-ba81-d98cff2e243e",
   "metadata": {},
   "outputs": [],
   "source": []
  },
  {
   "cell_type": "code",
   "execution_count": null,
   "id": "779a30fd-460a-437c-9ec9-2f90ce1d4b55",
   "metadata": {},
   "outputs": [],
   "source": []
  },
  {
   "cell_type": "code",
   "execution_count": null,
   "id": "6622e178-08f1-4469-b77e-9e73169f6b59",
   "metadata": {},
   "outputs": [],
   "source": []
  },
  {
   "cell_type": "code",
   "execution_count": 97,
   "id": "d59204d1-ad83-4e63-9010-bb9a3dfb90f3",
   "metadata": {},
   "outputs": [],
   "source": [
    "Original=Original[['GR','ILD','Porosity','Avg. Depth','Leco TOC (%)']]\n",
    "Original=Original[Original['Leco TOC (%)']<10]\n",
    "Original=Original[Original['Porosity']<31]\n",
    "Original=Original[(Original['Avg. Depth']>7000)&(Original['Leco TOC (%)']<10)&(Original['ILD']<400)]\n",
    "Original=Original[Original['ILD']<300]"
   ]
  },
  {
   "cell_type": "code",
   "execution_count": 98,
   "id": "e61df668-5e3d-4a78-ae91-926dabbf0121",
   "metadata": {},
   "outputs": [],
   "source": [
    "X=Original.drop(['Leco TOC (%)'],axis=1)"
   ]
  },
  {
   "cell_type": "code",
   "execution_count": 76,
   "id": "03cbb719-d98c-41c2-8ad2-02940eb47901",
   "metadata": {},
   "outputs": [
    {
     "ename": "NameError",
     "evalue": "name 'xgb' is not defined",
     "output_type": "error",
     "traceback": [
      "\u001b[1;31m---------------------------------------------------------------------------\u001b[0m",
      "\u001b[1;31mNameError\u001b[0m                                 Traceback (most recent call last)",
      "\u001b[1;32m<ipython-input-76-a88384ab51e3>\u001b[0m in \u001b[0;36m<module>\u001b[1;34m\u001b[0m\n\u001b[1;32m----> 1\u001b[1;33m \u001b[0mxgb\u001b[0m\u001b[1;33m.\u001b[0m\u001b[0mDMatrix\u001b[0m\u001b[1;33m(\u001b[0m\u001b[0mX\u001b[0m\u001b[1;33m)\u001b[0m\u001b[1;33m\u001b[0m\u001b[1;33m\u001b[0m\u001b[0m\n\u001b[0m",
      "\u001b[1;31mNameError\u001b[0m: name 'xgb' is not defined"
     ]
    }
   ],
   "source": [
    "xgb.DMatrix(X)"
   ]
  },
  {
   "cell_type": "code",
   "execution_count": 99,
   "id": "638f2d10-9e68-4b6a-951c-9dfebfd1ef81",
   "metadata": {},
   "outputs": [
    {
     "data": {
      "text/html": [
       "<div>\n",
       "<style scoped>\n",
       "    .dataframe tbody tr th:only-of-type {\n",
       "        vertical-align: middle;\n",
       "    }\n",
       "\n",
       "    .dataframe tbody tr th {\n",
       "        vertical-align: top;\n",
       "    }\n",
       "\n",
       "    .dataframe thead th {\n",
       "        text-align: right;\n",
       "    }\n",
       "</style>\n",
       "<table border=\"1\" class=\"dataframe\">\n",
       "  <thead>\n",
       "    <tr style=\"text-align: right;\">\n",
       "      <th></th>\n",
       "      <th>GR</th>\n",
       "      <th>ILD</th>\n",
       "      <th>Porosity</th>\n",
       "      <th>Avg. Depth</th>\n",
       "      <th>Leco TOC (%)</th>\n",
       "      <th>TOC_Predicted</th>\n",
       "    </tr>\n",
       "  </thead>\n",
       "  <tbody>\n",
       "    <tr>\n",
       "      <th>0</th>\n",
       "      <td>120.992756</td>\n",
       "      <td>17.895352</td>\n",
       "      <td>6.406021</td>\n",
       "      <td>11029.70</td>\n",
       "      <td>1.90</td>\n",
       "      <td>1.555975</td>\n",
       "    </tr>\n",
       "    <tr>\n",
       "      <th>1</th>\n",
       "      <td>130.195254</td>\n",
       "      <td>23.630048</td>\n",
       "      <td>8.799609</td>\n",
       "      <td>11074.70</td>\n",
       "      <td>1.68</td>\n",
       "      <td>1.707557</td>\n",
       "    </tr>\n",
       "    <tr>\n",
       "      <th>2</th>\n",
       "      <td>138.980399</td>\n",
       "      <td>38.257813</td>\n",
       "      <td>9.401198</td>\n",
       "      <td>11154.60</td>\n",
       "      <td>0.68</td>\n",
       "      <td>0.714855</td>\n",
       "    </tr>\n",
       "    <tr>\n",
       "      <th>3</th>\n",
       "      <td>132.187212</td>\n",
       "      <td>51.405548</td>\n",
       "      <td>10.000000</td>\n",
       "      <td>11161.50</td>\n",
       "      <td>2.89</td>\n",
       "      <td>1.800262</td>\n",
       "    </tr>\n",
       "    <tr>\n",
       "      <th>4</th>\n",
       "      <td>142.613492</td>\n",
       "      <td>44.098333</td>\n",
       "      <td>7.704591</td>\n",
       "      <td>11225.15</td>\n",
       "      <td>2.61</td>\n",
       "      <td>1.714930</td>\n",
       "    </tr>\n",
       "    <tr>\n",
       "      <th>...</th>\n",
       "      <td>...</td>\n",
       "      <td>...</td>\n",
       "      <td>...</td>\n",
       "      <td>...</td>\n",
       "      <td>...</td>\n",
       "      <td>...</td>\n",
       "    </tr>\n",
       "    <tr>\n",
       "      <th>181</th>\n",
       "      <td>185.618159</td>\n",
       "      <td>11.099048</td>\n",
       "      <td>13.012418</td>\n",
       "      <td>8404.00</td>\n",
       "      <td>2.53</td>\n",
       "      <td>0.980814</td>\n",
       "    </tr>\n",
       "    <tr>\n",
       "      <th>182</th>\n",
       "      <td>187.314835</td>\n",
       "      <td>4.984635</td>\n",
       "      <td>15.640731</td>\n",
       "      <td>8407.00</td>\n",
       "      <td>5.78</td>\n",
       "      <td>0.381343</td>\n",
       "    </tr>\n",
       "    <tr>\n",
       "      <th>183</th>\n",
       "      <td>142.960501</td>\n",
       "      <td>8.684094</td>\n",
       "      <td>9.510496</td>\n",
       "      <td>8105.00</td>\n",
       "      <td>0.48</td>\n",
       "      <td>1.190168</td>\n",
       "    </tr>\n",
       "    <tr>\n",
       "      <th>186</th>\n",
       "      <td>122.672031</td>\n",
       "      <td>5.202351</td>\n",
       "      <td>18.448286</td>\n",
       "      <td>8227.00</td>\n",
       "      <td>5.23</td>\n",
       "      <td>1.443606</td>\n",
       "    </tr>\n",
       "    <tr>\n",
       "      <th>187</th>\n",
       "      <td>111.375163</td>\n",
       "      <td>6.591240</td>\n",
       "      <td>6.302167</td>\n",
       "      <td>8239.50</td>\n",
       "      <td>1.47</td>\n",
       "      <td>1.685338</td>\n",
       "    </tr>\n",
       "  </tbody>\n",
       "</table>\n",
       "<p>170 rows × 6 columns</p>\n",
       "</div>"
      ],
      "text/plain": [
       "             GR        ILD   Porosity  Avg. Depth  Leco TOC (%)  TOC_Predicted\n",
       "0    120.992756  17.895352   6.406021    11029.70          1.90       1.555975\n",
       "1    130.195254  23.630048   8.799609    11074.70          1.68       1.707557\n",
       "2    138.980399  38.257813   9.401198    11154.60          0.68       0.714855\n",
       "3    132.187212  51.405548  10.000000    11161.50          2.89       1.800262\n",
       "4    142.613492  44.098333   7.704591    11225.15          2.61       1.714930\n",
       "..          ...        ...        ...         ...           ...            ...\n",
       "181  185.618159  11.099048  13.012418     8404.00          2.53       0.980814\n",
       "182  187.314835   4.984635  15.640731     8407.00          5.78       0.381343\n",
       "183  142.960501   8.684094   9.510496     8105.00          0.48       1.190168\n",
       "186  122.672031   5.202351  18.448286     8227.00          5.23       1.443606\n",
       "187  111.375163   6.591240   6.302167     8239.50          1.47       1.685338\n",
       "\n",
       "[170 rows x 6 columns]"
      ]
     },
     "execution_count": 99,
     "metadata": {},
     "output_type": "execute_result"
    }
   ],
   "source": [
    "X=scaler.fit_transform(X)\n",
    "Original_TOC=rfe1.predict(X)\n",
    "Original['TOC_Predicted']=Original_TOC\n",
    "Original"
   ]
  },
  {
   "cell_type": "code",
   "execution_count": 103,
   "id": "88d2ee45-a90d-4035-840f-9d01abbc73d4",
   "metadata": {},
   "outputs": [],
   "source": [
    "z=Original.sample(100)"
   ]
  },
  {
   "cell_type": "code",
   "execution_count": 104,
   "id": "0759a52d-8a97-4b90-93ad-ac02ee447874",
   "metadata": {},
   "outputs": [
    {
     "name": "stdout",
     "output_type": "stream",
     "text": [
      "Mean Square Error      = 1.2979596741371433\n",
      "Root Mean Square Error = 1.1392803316730888\n",
      "Mean Absolute Error    = 0.7976235771656037\n",
      "Median Absolute Error  = 0.6362275648117064\n",
      "R^2                    = -0.42348742127970684\n",
      "Adjusted R^2           = -0.46797140319469765\n"
     ]
    }
   ],
   "source": [
    "def print_metrics(y_true, y_predicted, n_parameters):\n",
    "    ## First compute R^2 and the adjusted R^2\n",
    "    r2 = sklm.r2_score(y_true, y_predicted)\n",
    "    r2_adj = r2 - (n_parameters - 1)/(y_true.shape[0] - n_parameters) * (1 - r2)\n",
    "    \n",
    "    ## Print the usual metrics and the R^2 values\n",
    "    print('Mean Square Error      = ' + str(sklm.mean_squared_error(y_true, y_predicted)))\n",
    "    print('Root Mean Square Error = ' + str(math.sqrt(sklm.mean_squared_error(y_true, y_predicted))))\n",
    "    print('Mean Absolute Error    = ' + str(sklm.mean_absolute_error(y_true, y_predicted)))\n",
    "    print('Median Absolute Error  = ' + str(sklm.median_absolute_error(y_true, y_predicted)))\n",
    "    print('R^2                    = ' + str(r2))\n",
    "    print('Adjusted R^2           = ' + str(r2_adj))\n",
    "\n",
    "print_metrics(z['Leco TOC (%)'], z['TOC_Predicted'], 4)"
   ]
  },
  {
   "cell_type": "code",
   "execution_count": 24,
   "id": "b30239cf-1aa3-4693-9265-7af95760327a",
   "metadata": {},
   "outputs": [],
   "source": [
    "import matplotlib as mpl"
   ]
  },
  {
   "cell_type": "code",
   "execution_count": 30,
   "id": "35f1015e-ad06-4ecf-ad70-292a190a0b72",
   "metadata": {},
   "outputs": [
    {
     "data": {
      "image/png": "[encoded data removed]",
      "text/plain": [
       "<Figure size 432x432 with 1 Axes>"
      ]
     },
     "metadata": {
      "needs_background": "light"
     },
     "output_type": "display_data"
    }
   ],
   "source": [
    "mpl.rcParams['font.family'] = 'Avenir'\n",
    "plt.rcParams['font.size'] = 14\n",
    "plt.rcParams['axes.linewidth'] = 1.5\n",
    "plt.figure(figsize=(6,6))\n",
    "sns.regplot(y_test, y_predictions,color='blue',line_kws={'color': 'red'},ci=100)\n",
    "plt.text(1,5,'MSE=0.08')\n",
    "plt.text(1,4.8,'R2=0.89')\n",
    "plt.xlabel('TOC_measured %')\n",
    "plt.ylabel('TOC_Predicted %')\n",
    "#plt.title('Model_evaluation')\n",
    "plt.savefig('xgboost.png',bbox_inches='tight',dpi=300, )\n",
    "plt.show()\n",
    "#sns.scatterplot(y_test, y_pred1)"
   ]
  },
  {
   "cell_type": "markdown",
   "id": "b43c8ebf-ee30-4da6-8e8f-6391a4a264f0",
   "metadata": {},
   "source": [
    "## LightGBM Regressor"
   ]
  },
  {
   "cell_type": "code",
   "execution_count": 368,
   "id": "46656a75-e10e-4556-91aa-d4320aa7f657",
   "metadata": {},
   "outputs": [
    {
     "name": "stdout",
     "output_type": "stream",
     "text": [
      "Collecting lightgbm\n",
      "  Downloading lightgbm-3.3.2-py3-none-win_amd64.whl (1.0 MB)\n",
      "Requirement already satisfied: scikit-learn!=0.22.0 in c:\\users\\eobasi\\anaconda3\\lib\\site-packages (from lightgbm) (0.24.1)\n",
      "Requirement already satisfied: scipy in c:\\users\\eobasi\\anaconda3\\lib\\site-packages (from lightgbm) (1.6.2)\n",
      "Requirement already satisfied: wheel in c:\\users\\eobasi\\anaconda3\\lib\\site-packages (from lightgbm) (0.36.2)\n",
      "Requirement already satisfied: numpy in c:\\users\\eobasi\\anaconda3\\lib\\site-packages (from lightgbm) (1.20.1)\n",
      "Requirement already satisfied: threadpoolctl>=2.0.0 in c:\\users\\eobasi\\anaconda3\\lib\\site-packages (from scikit-learn!=0.22.0->lightgbm) (2.1.0)\n",
      "Requirement already satisfied: joblib>=0.11 in c:\\users\\eobasi\\anaconda3\\lib\\site-packages (from scikit-learn!=0.22.0->lightgbm) (1.0.1)\n",
      "Installing collected packages: lightgbm\n",
      "Successfully installed lightgbm-3.3.2\n",
      "Note: you may need to restart the kernel to use updated packages.\n"
     ]
    }
   ],
   "source": [
    "pip install lightgbm"
   ]
  },
  {
   "cell_type": "code",
   "execution_count": 88,
   "id": "d934a520-ccd1-4503-95f0-dfb3b47c8114",
   "metadata": {},
   "outputs": [],
   "source": [
    "import lightgbm as lgb"
   ]
  },
  {
   "cell_type": "code",
   "execution_count": 89,
   "id": "1efdf70c-478d-4be9-90cf-4dd7e7dccd07",
   "metadata": {},
   "outputs": [],
   "source": [
    "dtrain = lgb.Dataset(data=X_train, label=y_train)\n",
    "\n",
    "def hyp_lgbm(num_leaves, feature_fraction, bagging_fraction, max_depth, min_split_gain, min_child_weight):\n",
    "      \n",
    "        params = {'application':'regression','num_iterations': 5000,\n",
    "                  'learning_rate':0.05, 'early_stopping_round':50,\n",
    "                  'metric':'l1'} # Default parameters\n",
    "        params[\"num_leaves\"] = int(round(num_leaves))\n",
    "        params['feature_fraction'] = max(min(feature_fraction, 1), 0)\n",
    "        params['bagging_fraction'] = max(min(bagging_fraction, 1), 0)\n",
    "        params['max_depth'] = int(round(max_depth))\n",
    "        params['min_split_gain'] = min_split_gain\n",
    "        params['min_child_weight'] = min_child_weight\n",
    "        cv_result = lgb.cv(params, dtrain, nfold=5, seed=random_seed, stratified=False, verbose_eval =None, metrics=['l1'])\n",
    "        \n",
    "        return -np.min(cv_result['l1-mean'])\n",
    "        "
   ]
  },
  {
   "cell_type": "code",
   "execution_count": 90,
   "id": "ad29fd44-191e-4b40-b433-9c3deaf2ef21",
   "metadata": {},
   "outputs": [],
   "source": [
    "from lightgbm import LGBMRegressor"
   ]
  },
  {
   "cell_type": "code",
   "execution_count": 91,
   "id": "8dfbf21a-c412-4608-a22f-265a0fcce8ec",
   "metadata": {},
   "outputs": [],
   "source": [
    "model3=LGBMRegressor()\n",
    "model3.fit(X_train,y_train)\n",
    "predict3=model3.predict(X_test)"
   ]
  },
  {
   "cell_type": "code",
   "execution_count": 92,
   "id": "d7a1ef62-c5e6-4944-bb23-5d551d4ea267",
   "metadata": {},
   "outputs": [
    {
     "name": "stdout",
     "output_type": "stream",
     "text": [
      "Mean Square Error      = 0.08910698393942132\n",
      "Root Mean Square Error = 0.2985079294414494\n",
      "Mean Absolute Error    = 0.11341998954007768\n",
      "Median Absolute Error  = 0.03208032846281794\n",
      "R^2                    = 0.8765760011375251\n",
      "R^2 train              = 0.9649348069388646\n",
      "Adjusted R^2           = 0.8763877591463775\n"
     ]
    }
   ],
   "source": [
    "def print_metrics(y_true, y_predicted,y_predictedTrain,y_train,n_parameters):\n",
    "    ## First compute R^2 and the adjusted R^2\n",
    "    r2 = sklm.r2_score(y_true, y_predicted)\n",
    "    r2train = sklm.r2_score(y_train, y_predictedTrain)\n",
    "    r2_adj = r2 - (n_parameters - 1)/(y_true.shape[0] - n_parameters) * (1 - r2)\n",
    "    r2_adjT = r2train - (n_parameters - 1)/(y_true.shape[0] - n_parameters) * (1 -  r2train)\n",
    "    ## Print the usual metrics and the R^2 values\n",
    "    print('Mean Square Error      = ' + str(sklm.mean_squared_error(y_true, y_predicted)))\n",
    "    print('Root Mean Square Error = ' + str(math.sqrt(sklm.mean_squared_error(y_true, y_predicted))))\n",
    "    print('Mean Absolute Error    = ' + str(sklm.mean_absolute_error(y_true, y_predicted)))\n",
    "    print('Median Absolute Error  = ' + str(sklm.median_absolute_error(y_true, y_predicted)))\n",
    "    print('R^2                    = ' + str(r2))\n",
    "    print('R^2 train              = ' + str(r2_adjT))\n",
    "    print('Adjusted R^2           = ' + str(r2_adj))\n",
    "\n",
    "print_metrics(y_test, predict3,y_predictedTrain,y_train, 4)"
   ]
  },
  {
   "cell_type": "code",
   "execution_count": null,
   "id": "219f6628-0de8-4314-88fe-0236962f3cd4",
   "metadata": {},
   "outputs": [],
   "source": []
  },
  {
   "cell_type": "code",
   "execution_count": null,
   "id": "1b28eb56-4ba8-4b08-a445-55085f4b4058",
   "metadata": {},
   "outputs": [],
   "source": []
  },
  {
   "cell_type": "code",
   "execution_count": null,
   "id": "af42c0bb-74f7-4515-ad0c-d28b24f18af0",
   "metadata": {},
   "outputs": [],
   "source": []
  },
  {
   "cell_type": "code",
   "execution_count": null,
   "id": "49fd9441-607b-42a8-9c45-cb791bde8af6",
   "metadata": {},
   "outputs": [],
   "source": []
  },
  {
   "cell_type": "code",
   "execution_count": null,
   "id": "ef458046-5e69-4065-a9b9-a7f408b16983",
   "metadata": {},
   "outputs": [],
   "source": []
  },
  {
   "cell_type": "code",
   "execution_count": null,
   "id": "ff690748-f92d-41ce-8888-186a3483281a",
   "metadata": {},
   "outputs": [],
   "source": []
  },
  {
   "cell_type": "code",
   "execution_count": null,
   "id": "ebab6f6e-4441-4a58-86b8-8eabc74f2e44",
   "metadata": {},
   "outputs": [],
   "source": []
  },
  {
   "cell_type": "code",
   "execution_count": null,
   "id": "76dae2c5-01af-462f-bbf5-f3cab0fa6a98",
   "metadata": {},
   "outputs": [],
   "source": []
  },
  {
   "cell_type": "code",
   "execution_count": null,
   "id": "298ef304-935d-43de-b463-e30973b72ec4",
   "metadata": {},
   "outputs": [],
   "source": []
  },
  {
   "cell_type": "code",
   "execution_count": null,
   "id": "fc9fc3e4-ea37-4db6-bf3a-f396ff3a3190",
   "metadata": {},
   "outputs": [],
   "source": []
  },
  {
   "cell_type": "code",
   "execution_count": null,
   "id": "c99bc596-c4c0-49cf-ae21-a4b433d9bee2",
   "metadata": {},
   "outputs": [],
   "source": []
  },
  {
   "cell_type": "code",
   "execution_count": null,
   "id": "a0f017e7-0ff7-429d-b813-4086b2cbfe27",
   "metadata": {},
   "outputs": [],
   "source": []
  },
  {
   "cell_type": "code",
   "execution_count": null,
   "id": "e3db5c73-0ddc-4146-b98e-638a00089ca1",
   "metadata": {},
   "outputs": [],
   "source": []
  },
  {
   "cell_type": "code",
   "execution_count": 110,
   "id": "2dabd64f-7b4c-454a-9122-c01a70613a81",
   "metadata": {},
   "outputs": [
    {
     "data": {
      "image/png": "[encoded data removed]",
      "text/plain": [
       "<Figure size 576x576 with 1 Axes>"
      ]
     },
     "metadata": {
      "needs_background": "light"
     },
     "output_type": "display_data"
    }
   ],
   "source": [
    "import numpy as np\n",
    "import matplotlib.pyplot as plt\n",
    "from sklearn.inspection import permutation_importance\n",
    "#\n",
    "# Get Feature importance data using feature_importances_ attribute\n",
    "#\n",
    "feature_importance =model.feature_importances_\n",
    "sorted_idx = np.argsort(feature_importance)\n",
    "pos = np.arange(sorted_idx.shape[0]) + .5\n",
    "fig = plt.figure(figsize=(8, 8))\n",
    "plt.barh(pos, feature_importance[sorted_idx], align='center')\n",
    "plt.yticks(pos, np.array(data.columns)[sorted_idx])\n",
    "plt.title('Feature Importance (MDI)')\n",
    "result = permutation_importance(lm1, X_test, y_test, n_repeats=10,\n",
    "                                random_state=42, n_jobs=2)\n",
    "sorted_idx = result.importances_mean.argsort()\n",
    "fig.tight_layout()\n",
    "plt.show()"
   ]
  },
  {
   "cell_type": "markdown",
   "id": "cc2c3f6e-79f6-46fd-bb94-b7067b7f311d",
   "metadata": {},
   "source": [
    "#### Bayesian Optimization of XGBoost Parameters"
   ]
  },
  {
   "cell_type": "code",
   "execution_count": 59,
   "id": "e0cefd12-7bc3-469c-91ff-844e0a02dd4f",
   "metadata": {},
   "outputs": [],
   "source": [
    "from __future__ import print_function\n",
    "\n",
    "import numpy as np\n",
    "import pandas as pd\n",
    "import gc\n",
    "import warnings\n",
    "\n",
    "from bayes_opt import BayesianOptimization\n",
    "\n",
    "from sklearn.model_selection import cross_val_score, StratifiedKFold, StratifiedShuffleSplit\n",
    "from sklearn.metrics import log_loss, matthews_corrcoef, roc_auc_score\n",
    "from sklearn.preprocessing import MinMaxScaler\n",
    "import xgboost as xgb\n",
    "import contextlib            "
   ]
  },
  {
   "cell_type": "code",
   "execution_count": 60,
   "id": "b5bba4e7-8860-41a6-872a-0cab4e21cd1b",
   "metadata": {},
   "outputs": [],
   "source": [
    "def XGB_CV(\n",
    "          max_depth,\n",
    "          gamma,\n",
    "          min_child_weight,\n",
    "          max_delta_step,\n",
    "          subsample,\n",
    "          colsample_bytree\n",
    "         ):\n",
    "\n",
    "    global AUCbest\n",
    "    global ITERbest\n",
    "    \n",
    "    paramt = {\n",
    "              'booster' : 'gbtree',\n",
    "              'max_depth' : int(max_depth),\n",
    "              'gamma' : gamma,\n",
    "              'eta' : 0.1,\n",
    "              'objective' : 'binary:logistic',\n",
    "              'nthread' : 4,\n",
    "              'silent' : True,\n",
    "              'eval_metric': 'auc',\n",
    "              'subsample' : max(min(subsample, 1), 0),\n",
    "              'colsample_bytree' : max(min(colsample_bytree, 1), 0),\n",
    "              'min_child_weight' : min_child_weight,\n",
    "              'max_delta_step' : int(max_delta_step),\n",
    "              'seed' : 1001\n",
    "              }\n",
    "\n",
    "    folds = 5\n",
    "    cv_score = 0\n",
    "\n",
    "    print(\"\\n Search parameters (%d-fold validation):\\n %s\" % (folds, paramt), file=log_file )\n",
    "    log_file.flush()\n",
    "\n",
    "    xgbc = xgb.cv(\n",
    "                    paramt,\n",
    "                    dtrain,\n",
    "                    num_boost_round = 20000,\n",
    "                    stratified = False,\n",
    "                    nfold = folds,\n",
    "                    #verbose_eval = 10,\n",
    "                    early_stopping_rounds = 100,\n",
    "                    metrics = 'rmse',\n",
    "                    show_stdv = True\n",
    "               )\n",
    "    val_score = xgbc['test-auc-mean'].iloc[-1]\n",
    "    train_score = xgbc['train-auc-mean'].iloc[-1]\n",
    "    print(' Stopped after %d iterations with train-auc = %f val-auc = %f ( diff = %f ) train-gini = %f val-gini = %f' % ( len(xgbc), train_score, val_score, (train_score - val_score), (train_score*2-1),\n",
    "    (val_score*2-1)) )\n",
    "    if ( val_score > AUCbest ):\n",
    "        AUCbest = val_score\n",
    "        ITERbest = len(xgbc)\n",
    "\n",
    "    return (val_score*2) - 1"
   ]
  },
  {
   "cell_type": "code",
   "execution_count": 61,
   "id": "4593e2a6-e5c9-49f7-8254-1c961ceeb279",
   "metadata": {},
   "outputs": [],
   "source": [
    "log_file = open('Porto-AUC-5fold-XGB-run-01-v1-full.log', 'a')\n",
    "AUCbest = -1.\n",
    "ITERbest = 0"
   ]
  },
  {
   "cell_type": "code",
   "execution_count": 62,
   "id": "7986937b-aecb-47fe-8eeb-65da4b8a7d49",
   "metadata": {},
   "outputs": [],
   "source": [
    "dtrain = xgb.DMatrix(X_train, label = y_train)"
   ]
  },
  {
   "cell_type": "code",
   "execution_count": 63,
   "id": "5f98cd7d-f686-472a-bb42-a7e187f7500f",
   "metadata": {},
   "outputs": [],
   "source": [
    "XGB_BO = BayesianOptimization(XGB_CV, {\n",
    "                                     'max_depth': (2, 12),\n",
    "                                     'gamma': (0.001, 10.0),\n",
    "                                     'min_child_weight': (0, 20),\n",
    "                                     'max_delta_step': (0, 10),\n",
    "                                     'subsample': (0.4, 1.0),\n",
    "                                     'colsample_bytree' :(0.4, 1.0)\n",
    "                                    })"
   ]
  },
  {
   "cell_type": "code",
   "execution_count": 64,
   "id": "6ac67d56-8e4a-4427-be3d-fbdf91b8e977",
   "metadata": {},
   "outputs": [
    {
     "ename": "AttributeError",
     "evalue": "'BayesianOptimization' object has no attribute 'explore'",
     "output_type": "error",
     "traceback": [
      "\u001b[1;31m---------------------------------------------------------------------------\u001b[0m",
      "\u001b[1;31mAttributeError\u001b[0m                            Traceback (most recent call last)",
      "\u001b[1;32m<ipython-input-64-78db8fa9ea1e>\u001b[0m in \u001b[0;36m<module>\u001b[1;34m\u001b[0m\n\u001b[1;32m----> 1\u001b[1;33m XGB_BO.explore({\n\u001b[0m\u001b[0;32m      2\u001b[0m               \u001b[1;34m'max_depth'\u001b[0m\u001b[1;33m:\u001b[0m            \u001b[1;33m[\u001b[0m\u001b[1;36m3\u001b[0m\u001b[1;33m,\u001b[0m \u001b[1;36m8\u001b[0m\u001b[1;33m,\u001b[0m \u001b[1;36m3\u001b[0m\u001b[1;33m,\u001b[0m \u001b[1;36m8\u001b[0m\u001b[1;33m,\u001b[0m \u001b[1;36m8\u001b[0m\u001b[1;33m,\u001b[0m \u001b[1;36m3\u001b[0m\u001b[1;33m,\u001b[0m \u001b[1;36m8\u001b[0m\u001b[1;33m,\u001b[0m \u001b[1;36m3\u001b[0m\u001b[1;33m]\u001b[0m\u001b[1;33m,\u001b[0m\u001b[1;33m\u001b[0m\u001b[1;33m\u001b[0m\u001b[0m\n\u001b[0;32m      3\u001b[0m               \u001b[1;34m'gamma'\u001b[0m\u001b[1;33m:\u001b[0m                \u001b[1;33m[\u001b[0m\u001b[1;36m0.5\u001b[0m\u001b[1;33m,\u001b[0m \u001b[1;36m8\u001b[0m\u001b[1;33m,\u001b[0m \u001b[1;36m0.2\u001b[0m\u001b[1;33m,\u001b[0m \u001b[1;36m9\u001b[0m\u001b[1;33m,\u001b[0m \u001b[1;36m0.5\u001b[0m\u001b[1;33m,\u001b[0m \u001b[1;36m8\u001b[0m\u001b[1;33m,\u001b[0m \u001b[1;36m0.2\u001b[0m\u001b[1;33m,\u001b[0m \u001b[1;36m9\u001b[0m\u001b[1;33m]\u001b[0m\u001b[1;33m,\u001b[0m\u001b[1;33m\u001b[0m\u001b[1;33m\u001b[0m\u001b[0m\n\u001b[0;32m      4\u001b[0m               \u001b[1;34m'min_child_weight'\u001b[0m\u001b[1;33m:\u001b[0m     \u001b[1;33m[\u001b[0m\u001b[1;36m0.2\u001b[0m\u001b[1;33m,\u001b[0m \u001b[1;36m0.2\u001b[0m\u001b[1;33m,\u001b[0m \u001b[1;36m0.2\u001b[0m\u001b[1;33m,\u001b[0m \u001b[1;36m0.2\u001b[0m\u001b[1;33m,\u001b[0m \u001b[1;36m12\u001b[0m\u001b[1;33m,\u001b[0m \u001b[1;36m12\u001b[0m\u001b[1;33m,\u001b[0m \u001b[1;36m12\u001b[0m\u001b[1;33m,\u001b[0m \u001b[1;36m12\u001b[0m\u001b[1;33m]\u001b[0m\u001b[1;33m,\u001b[0m\u001b[1;33m\u001b[0m\u001b[1;33m\u001b[0m\u001b[0m\n\u001b[0;32m      5\u001b[0m               \u001b[1;34m'max_delta_step'\u001b[0m\u001b[1;33m:\u001b[0m       \u001b[1;33m[\u001b[0m\u001b[1;36m1\u001b[0m\u001b[1;33m,\u001b[0m \u001b[1;36m2\u001b[0m\u001b[1;33m,\u001b[0m \u001b[1;36m2\u001b[0m\u001b[1;33m,\u001b[0m \u001b[1;36m1\u001b[0m\u001b[1;33m,\u001b[0m \u001b[1;36m2\u001b[0m\u001b[1;33m,\u001b[0m \u001b[1;36m1\u001b[0m\u001b[1;33m,\u001b[0m \u001b[1;36m1\u001b[0m\u001b[1;33m,\u001b[0m \u001b[1;36m2\u001b[0m\u001b[1;33m]\u001b[0m\u001b[1;33m,\u001b[0m\u001b[1;33m\u001b[0m\u001b[1;33m\u001b[0m\u001b[0m\n",
      "\u001b[1;31mAttributeError\u001b[0m: 'BayesianOptimization' object has no attribute 'explore'"
     ]
    }
   ],
   "source": [
    "XGB_BO.explore({\n",
    "              'max_depth':            [3, 8, 3, 8, 8, 3, 8, 3],\n",
    "              'gamma':                [0.5, 8, 0.2, 9, 0.5, 8, 0.2, 9],\n",
    "              'min_child_weight':     [0.2, 0.2, 0.2, 0.2, 12, 12, 12, 12],\n",
    "              'max_delta_step':       [1, 2, 2, 1, 2, 1, 1, 2],\n",
    "              'subsample':            [0.6, 0.8, 0.6, 0.8, 0.6, 0.8, 0.6, 0.8],\n",
    "              'colsample_bytree':     [0.6, 0.8, 0.6, 0.8, 0.6, 0.8, 0.6, 0.8],\n",
    "              })"
   ]
  },
  {
   "cell_type": "code",
   "execution_count": 65,
   "id": "c20e1a70-1992-4757-b46c-a1843e01c498",
   "metadata": {},
   "outputs": [
    {
     "name": "stdout",
     "output_type": "stream",
     "text": [
      "----------------------------------------------------------------------------------------------------------------------------------\n",
      "|   iter    |  target   | colsam... |   gamma   | max_de... | max_depth | min_ch... | subsample |\n",
      "-------------------------------------------------------------------------------------------------\n",
      "[19:04:25] WARNING: C:/Users/Administrator/workspace/xgboost-win64_release_1.5.1/src/learner.cc:576: \n",
      "Parameters: { \"silent\" } might not be used.\n",
      "\n",
      "  This could be a false alarm, with some parameters getting used by language bindings but\n",
      "  then being mistakenly passed down to XGBoost core, or some parameter actually being used\n",
      "  but getting flagged wrongly here. Please open an issue if you find any such cases.\n",
      "\n",
      "\n"
     ]
    },
    {
     "ename": "XGBoostError",
     "evalue": "[19:04:25] C:/Users/Administrator/workspace/xgboost-win64_release_1.5.1/src/objective/regression_obj.cu:120: label must be in [0,1] for logistic regression",
     "output_type": "error",
     "traceback": [
      "\u001b[1;31m---------------------------------------------------------------------------\u001b[0m",
      "\u001b[1;31mKeyError\u001b[0m                                  Traceback (most recent call last)",
      "\u001b[1;32m~\\Anaconda3\\lib\\site-packages\\bayes_opt\\target_space.py\u001b[0m in \u001b[0;36mprobe\u001b[1;34m(self, params)\u001b[0m\n\u001b[0;32m    190\u001b[0m         \u001b[1;32mtry\u001b[0m\u001b[1;33m:\u001b[0m\u001b[1;33m\u001b[0m\u001b[1;33m\u001b[0m\u001b[0m\n\u001b[1;32m--> 191\u001b[1;33m             \u001b[0mtarget\u001b[0m \u001b[1;33m=\u001b[0m \u001b[0mself\u001b[0m\u001b[1;33m.\u001b[0m\u001b[0m_cache\u001b[0m\u001b[1;33m[\u001b[0m\u001b[0m_hashable\u001b[0m\u001b[1;33m(\u001b[0m\u001b[0mx\u001b[0m\u001b[1;33m)\u001b[0m\u001b[1;33m]\u001b[0m\u001b[1;33m\u001b[0m\u001b[1;33m\u001b[0m\u001b[0m\n\u001b[0m\u001b[0;32m    192\u001b[0m         \u001b[1;32mexcept\u001b[0m \u001b[0mKeyError\u001b[0m\u001b[1;33m:\u001b[0m\u001b[1;33m\u001b[0m\u001b[1;33m\u001b[0m\u001b[0m\n",
      "\u001b[1;31mKeyError\u001b[0m: (0.47122071787706776, 0.07352725304634208, 0.6273763632123686, 11.441525287471924, 18.48398775729464, 0.9731628679939363)",
      "\nDuring handling of the above exception, another exception occurred:\n",
      "\u001b[1;31mXGBoostError\u001b[0m                              Traceback (most recent call last)",
      "\u001b[1;32m<ipython-input-65-9badf14def15>\u001b[0m in \u001b[0;36m<module>\u001b[1;34m\u001b[0m\n\u001b[0;32m      5\u001b[0m \u001b[1;32mwith\u001b[0m \u001b[0mwarnings\u001b[0m\u001b[1;33m.\u001b[0m\u001b[0mcatch_warnings\u001b[0m\u001b[1;33m(\u001b[0m\u001b[1;33m)\u001b[0m\u001b[1;33m:\u001b[0m\u001b[1;33m\u001b[0m\u001b[1;33m\u001b[0m\u001b[0m\n\u001b[0;32m      6\u001b[0m     \u001b[0mwarnings\u001b[0m\u001b[1;33m.\u001b[0m\u001b[0mfilterwarnings\u001b[0m\u001b[1;33m(\u001b[0m\u001b[1;34m'ignore'\u001b[0m\u001b[1;33m)\u001b[0m\u001b[1;33m\u001b[0m\u001b[1;33m\u001b[0m\u001b[0m\n\u001b[1;32m----> 7\u001b[1;33m     \u001b[0mXGB_BO\u001b[0m\u001b[1;33m.\u001b[0m\u001b[0mmaximize\u001b[0m\u001b[1;33m(\u001b[0m\u001b[0minit_points\u001b[0m\u001b[1;33m=\u001b[0m\u001b[1;36m2\u001b[0m\u001b[1;33m,\u001b[0m \u001b[0mn_iter\u001b[0m\u001b[1;33m=\u001b[0m\u001b[1;36m5\u001b[0m\u001b[1;33m,\u001b[0m \u001b[0macq\u001b[0m\u001b[1;33m=\u001b[0m\u001b[1;34m'ei'\u001b[0m\u001b[1;33m,\u001b[0m \u001b[0mxi\u001b[0m\u001b[1;33m=\u001b[0m\u001b[1;36m0.0\u001b[0m\u001b[1;33m)\u001b[0m\u001b[1;33m\u001b[0m\u001b[1;33m\u001b[0m\u001b[0m\n\u001b[0m\u001b[0;32m      8\u001b[0m \u001b[1;33m\u001b[0m\u001b[0m\n\u001b[0;32m      9\u001b[0m \u001b[1;31m# XGB_BO.maximize(init_points=10, n_iter=50, acq='ei', xi=0.0)\u001b[0m\u001b[1;33m\u001b[0m\u001b[1;33m\u001b[0m\u001b[1;33m\u001b[0m\u001b[0m\n",
      "\u001b[1;32m~\\Anaconda3\\lib\\site-packages\\bayes_opt\\bayesian_optimization.py\u001b[0m in \u001b[0;36mmaximize\u001b[1;34m(self, init_points, n_iter, acq, kappa, kappa_decay, kappa_decay_delay, xi, **gp_params)\u001b[0m\n\u001b[0;32m    183\u001b[0m                 \u001b[0miteration\u001b[0m \u001b[1;33m+=\u001b[0m \u001b[1;36m1\u001b[0m\u001b[1;33m\u001b[0m\u001b[1;33m\u001b[0m\u001b[0m\n\u001b[0;32m    184\u001b[0m \u001b[1;33m\u001b[0m\u001b[0m\n\u001b[1;32m--> 185\u001b[1;33m             \u001b[0mself\u001b[0m\u001b[1;33m.\u001b[0m\u001b[0mprobe\u001b[0m\u001b[1;33m(\u001b[0m\u001b[0mx_probe\u001b[0m\u001b[1;33m,\u001b[0m \u001b[0mlazy\u001b[0m\u001b[1;33m=\u001b[0m\u001b[1;32mFalse\u001b[0m\u001b[1;33m)\u001b[0m\u001b[1;33m\u001b[0m\u001b[1;33m\u001b[0m\u001b[0m\n\u001b[0m\u001b[0;32m    186\u001b[0m \u001b[1;33m\u001b[0m\u001b[0m\n\u001b[0;32m    187\u001b[0m             \u001b[1;32mif\u001b[0m \u001b[0mself\u001b[0m\u001b[1;33m.\u001b[0m\u001b[0m_bounds_transformer\u001b[0m\u001b[1;33m:\u001b[0m\u001b[1;33m\u001b[0m\u001b[1;33m\u001b[0m\u001b[0m\n",
      "\u001b[1;32m~\\Anaconda3\\lib\\site-packages\\bayes_opt\\bayesian_optimization.py\u001b[0m in \u001b[0;36mprobe\u001b[1;34m(self, params, lazy)\u001b[0m\n\u001b[0;32m    114\u001b[0m             \u001b[0mself\u001b[0m\u001b[1;33m.\u001b[0m\u001b[0m_queue\u001b[0m\u001b[1;33m.\u001b[0m\u001b[0madd\u001b[0m\u001b[1;33m(\u001b[0m\u001b[0mparams\u001b[0m\u001b[1;33m)\u001b[0m\u001b[1;33m\u001b[0m\u001b[1;33m\u001b[0m\u001b[0m\n\u001b[0;32m    115\u001b[0m         \u001b[1;32melse\u001b[0m\u001b[1;33m:\u001b[0m\u001b[1;33m\u001b[0m\u001b[1;33m\u001b[0m\u001b[0m\n\u001b[1;32m--> 116\u001b[1;33m             \u001b[0mself\u001b[0m\u001b[1;33m.\u001b[0m\u001b[0m_space\u001b[0m\u001b[1;33m.\u001b[0m\u001b[0mprobe\u001b[0m\u001b[1;33m(\u001b[0m\u001b[0mparams\u001b[0m\u001b[1;33m)\u001b[0m\u001b[1;33m\u001b[0m\u001b[1;33m\u001b[0m\u001b[0m\n\u001b[0m\u001b[0;32m    117\u001b[0m             \u001b[0mself\u001b[0m\u001b[1;33m.\u001b[0m\u001b[0mdispatch\u001b[0m\u001b[1;33m(\u001b[0m\u001b[0mEvents\u001b[0m\u001b[1;33m.\u001b[0m\u001b[0mOPTIMIZATION_STEP\u001b[0m\u001b[1;33m)\u001b[0m\u001b[1;33m\u001b[0m\u001b[1;33m\u001b[0m\u001b[0m\n\u001b[0;32m    118\u001b[0m \u001b[1;33m\u001b[0m\u001b[0m\n",
      "\u001b[1;32m~\\Anaconda3\\lib\\site-packages\\bayes_opt\\target_space.py\u001b[0m in \u001b[0;36mprobe\u001b[1;34m(self, params)\u001b[0m\n\u001b[0;32m    192\u001b[0m         \u001b[1;32mexcept\u001b[0m \u001b[0mKeyError\u001b[0m\u001b[1;33m:\u001b[0m\u001b[1;33m\u001b[0m\u001b[1;33m\u001b[0m\u001b[0m\n\u001b[0;32m    193\u001b[0m             \u001b[0mparams\u001b[0m \u001b[1;33m=\u001b[0m \u001b[0mdict\u001b[0m\u001b[1;33m(\u001b[0m\u001b[0mzip\u001b[0m\u001b[1;33m(\u001b[0m\u001b[0mself\u001b[0m\u001b[1;33m.\u001b[0m\u001b[0m_keys\u001b[0m\u001b[1;33m,\u001b[0m \u001b[0mx\u001b[0m\u001b[1;33m)\u001b[0m\u001b[1;33m)\u001b[0m\u001b[1;33m\u001b[0m\u001b[1;33m\u001b[0m\u001b[0m\n\u001b[1;32m--> 194\u001b[1;33m             \u001b[0mtarget\u001b[0m \u001b[1;33m=\u001b[0m \u001b[0mself\u001b[0m\u001b[1;33m.\u001b[0m\u001b[0mtarget_func\u001b[0m\u001b[1;33m(\u001b[0m\u001b[1;33m**\u001b[0m\u001b[0mparams\u001b[0m\u001b[1;33m)\u001b[0m\u001b[1;33m\u001b[0m\u001b[1;33m\u001b[0m\u001b[0m\n\u001b[0m\u001b[0;32m    195\u001b[0m             \u001b[0mself\u001b[0m\u001b[1;33m.\u001b[0m\u001b[0mregister\u001b[0m\u001b[1;33m(\u001b[0m\u001b[0mx\u001b[0m\u001b[1;33m,\u001b[0m \u001b[0mtarget\u001b[0m\u001b[1;33m)\u001b[0m\u001b[1;33m\u001b[0m\u001b[1;33m\u001b[0m\u001b[0m\n\u001b[0;32m    196\u001b[0m         \u001b[1;32mreturn\u001b[0m \u001b[0mtarget\u001b[0m\u001b[1;33m\u001b[0m\u001b[1;33m\u001b[0m\u001b[0m\n",
      "\u001b[1;32m<ipython-input-60-80ea4d9f07f0>\u001b[0m in \u001b[0;36mXGB_CV\u001b[1;34m(max_depth, gamma, min_child_weight, max_delta_step, subsample, colsample_bytree)\u001b[0m\n\u001b[0;32m     33\u001b[0m     \u001b[0mlog_file\u001b[0m\u001b[1;33m.\u001b[0m\u001b[0mflush\u001b[0m\u001b[1;33m(\u001b[0m\u001b[1;33m)\u001b[0m\u001b[1;33m\u001b[0m\u001b[1;33m\u001b[0m\u001b[0m\n\u001b[0;32m     34\u001b[0m \u001b[1;33m\u001b[0m\u001b[0m\n\u001b[1;32m---> 35\u001b[1;33m     xgbc = xgb.cv(\n\u001b[0m\u001b[0;32m     36\u001b[0m                     \u001b[0mparamt\u001b[0m\u001b[1;33m,\u001b[0m\u001b[1;33m\u001b[0m\u001b[1;33m\u001b[0m\u001b[0m\n\u001b[0;32m     37\u001b[0m                     \u001b[0mdtrain\u001b[0m\u001b[1;33m,\u001b[0m\u001b[1;33m\u001b[0m\u001b[1;33m\u001b[0m\u001b[0m\n",
      "\u001b[1;32m~\\Anaconda3\\lib\\site-packages\\xgboost\\training.py\u001b[0m in \u001b[0;36mcv\u001b[1;34m(params, dtrain, num_boost_round, nfold, stratified, folds, metrics, obj, feval, maximize, early_stopping_rounds, fpreproc, as_pandas, verbose_eval, show_stdv, seed, callbacks, shuffle)\u001b[0m\n\u001b[0;32m    494\u001b[0m         \u001b[1;32mif\u001b[0m \u001b[0mcallbacks\u001b[0m\u001b[1;33m.\u001b[0m\u001b[0mbefore_iteration\u001b[0m\u001b[1;33m(\u001b[0m\u001b[0mbooster\u001b[0m\u001b[1;33m,\u001b[0m \u001b[0mi\u001b[0m\u001b[1;33m,\u001b[0m \u001b[0mdtrain\u001b[0m\u001b[1;33m,\u001b[0m \u001b[1;32mNone\u001b[0m\u001b[1;33m)\u001b[0m\u001b[1;33m:\u001b[0m\u001b[1;33m\u001b[0m\u001b[1;33m\u001b[0m\u001b[0m\n\u001b[0;32m    495\u001b[0m             \u001b[1;32mbreak\u001b[0m\u001b[1;33m\u001b[0m\u001b[1;33m\u001b[0m\u001b[0m\n\u001b[1;32m--> 496\u001b[1;33m         \u001b[0mbooster\u001b[0m\u001b[1;33m.\u001b[0m\u001b[0mupdate\u001b[0m\u001b[1;33m(\u001b[0m\u001b[0mi\u001b[0m\u001b[1;33m,\u001b[0m \u001b[0mobj\u001b[0m\u001b[1;33m)\u001b[0m\u001b[1;33m\u001b[0m\u001b[1;33m\u001b[0m\u001b[0m\n\u001b[0m\u001b[0;32m    497\u001b[0m \u001b[1;33m\u001b[0m\u001b[0m\n\u001b[0;32m    498\u001b[0m         \u001b[0mshould_break\u001b[0m \u001b[1;33m=\u001b[0m \u001b[0mcallbacks\u001b[0m\u001b[1;33m.\u001b[0m\u001b[0mafter_iteration\u001b[0m\u001b[1;33m(\u001b[0m\u001b[0mbooster\u001b[0m\u001b[1;33m,\u001b[0m \u001b[0mi\u001b[0m\u001b[1;33m,\u001b[0m \u001b[0mdtrain\u001b[0m\u001b[1;33m,\u001b[0m \u001b[1;32mNone\u001b[0m\u001b[1;33m)\u001b[0m\u001b[1;33m\u001b[0m\u001b[1;33m\u001b[0m\u001b[0m\n",
      "\u001b[1;32m~\\Anaconda3\\lib\\site-packages\\xgboost\\training.py\u001b[0m in \u001b[0;36mupdate\u001b[1;34m(self, iteration, obj)\u001b[0m\n\u001b[0;32m    228\u001b[0m         \u001b[1;34m'''Iterate through folds for update'''\u001b[0m\u001b[1;33m\u001b[0m\u001b[1;33m\u001b[0m\u001b[0m\n\u001b[0;32m    229\u001b[0m         \u001b[1;32mfor\u001b[0m \u001b[0mfold\u001b[0m \u001b[1;32min\u001b[0m \u001b[0mself\u001b[0m\u001b[1;33m.\u001b[0m\u001b[0mcvfolds\u001b[0m\u001b[1;33m:\u001b[0m\u001b[1;33m\u001b[0m\u001b[1;33m\u001b[0m\u001b[0m\n\u001b[1;32m--> 230\u001b[1;33m             \u001b[0mfold\u001b[0m\u001b[1;33m.\u001b[0m\u001b[0mupdate\u001b[0m\u001b[1;33m(\u001b[0m\u001b[0miteration\u001b[0m\u001b[1;33m,\u001b[0m \u001b[0mobj\u001b[0m\u001b[1;33m)\u001b[0m\u001b[1;33m\u001b[0m\u001b[1;33m\u001b[0m\u001b[0m\n\u001b[0m\u001b[0;32m    231\u001b[0m \u001b[1;33m\u001b[0m\u001b[0m\n\u001b[0;32m    232\u001b[0m     \u001b[1;32mdef\u001b[0m \u001b[0meval\u001b[0m\u001b[1;33m(\u001b[0m\u001b[0mself\u001b[0m\u001b[1;33m,\u001b[0m \u001b[0miteration\u001b[0m\u001b[1;33m,\u001b[0m \u001b[0mfeval\u001b[0m\u001b[1;33m)\u001b[0m\u001b[1;33m:\u001b[0m\u001b[1;33m\u001b[0m\u001b[1;33m\u001b[0m\u001b[0m\n",
      "\u001b[1;32m~\\Anaconda3\\lib\\site-packages\\xgboost\\training.py\u001b[0m in \u001b[0;36mupdate\u001b[1;34m(self, iteration, fobj)\u001b[0m\n\u001b[0;32m    214\u001b[0m     \u001b[1;32mdef\u001b[0m \u001b[0mupdate\u001b[0m\u001b[1;33m(\u001b[0m\u001b[0mself\u001b[0m\u001b[1;33m,\u001b[0m \u001b[0miteration\u001b[0m\u001b[1;33m,\u001b[0m \u001b[0mfobj\u001b[0m\u001b[1;33m)\u001b[0m\u001b[1;33m:\u001b[0m\u001b[1;33m\u001b[0m\u001b[1;33m\u001b[0m\u001b[0m\n\u001b[0;32m    215\u001b[0m         \u001b[1;34m\"\"\"\"Update the boosters for one iteration\"\"\"\u001b[0m\u001b[1;33m\u001b[0m\u001b[1;33m\u001b[0m\u001b[0m\n\u001b[1;32m--> 216\u001b[1;33m         \u001b[0mself\u001b[0m\u001b[1;33m.\u001b[0m\u001b[0mbst\u001b[0m\u001b[1;33m.\u001b[0m\u001b[0mupdate\u001b[0m\u001b[1;33m(\u001b[0m\u001b[0mself\u001b[0m\u001b[1;33m.\u001b[0m\u001b[0mdtrain\u001b[0m\u001b[1;33m,\u001b[0m \u001b[0miteration\u001b[0m\u001b[1;33m,\u001b[0m \u001b[0mfobj\u001b[0m\u001b[1;33m)\u001b[0m\u001b[1;33m\u001b[0m\u001b[1;33m\u001b[0m\u001b[0m\n\u001b[0m\u001b[0;32m    217\u001b[0m \u001b[1;33m\u001b[0m\u001b[0m\n\u001b[0;32m    218\u001b[0m     \u001b[1;32mdef\u001b[0m \u001b[0meval\u001b[0m\u001b[1;33m(\u001b[0m\u001b[0mself\u001b[0m\u001b[1;33m,\u001b[0m \u001b[0miteration\u001b[0m\u001b[1;33m,\u001b[0m \u001b[0mfeval\u001b[0m\u001b[1;33m)\u001b[0m\u001b[1;33m:\u001b[0m\u001b[1;33m\u001b[0m\u001b[1;33m\u001b[0m\u001b[0m\n",
      "\u001b[1;32m~\\Anaconda3\\lib\\site-packages\\xgboost\\core.py\u001b[0m in \u001b[0;36mupdate\u001b[1;34m(self, dtrain, iteration, fobj)\u001b[0m\n\u001b[0;32m   1678\u001b[0m \u001b[1;33m\u001b[0m\u001b[0m\n\u001b[0;32m   1679\u001b[0m         \u001b[1;32mif\u001b[0m \u001b[0mfobj\u001b[0m \u001b[1;32mis\u001b[0m \u001b[1;32mNone\u001b[0m\u001b[1;33m:\u001b[0m\u001b[1;33m\u001b[0m\u001b[1;33m\u001b[0m\u001b[0m\n\u001b[1;32m-> 1680\u001b[1;33m             _check_call(_LIB.XGBoosterUpdateOneIter(self.handle,\n\u001b[0m\u001b[0;32m   1681\u001b[0m                                                     \u001b[0mctypes\u001b[0m\u001b[1;33m.\u001b[0m\u001b[0mc_int\u001b[0m\u001b[1;33m(\u001b[0m\u001b[0miteration\u001b[0m\u001b[1;33m)\u001b[0m\u001b[1;33m,\u001b[0m\u001b[1;33m\u001b[0m\u001b[1;33m\u001b[0m\u001b[0m\n\u001b[0;32m   1682\u001b[0m                                                     dtrain.handle))\n",
      "\u001b[1;32m~\\Anaconda3\\lib\\site-packages\\xgboost\\core.py\u001b[0m in \u001b[0;36m_check_call\u001b[1;34m(ret)\u001b[0m\n\u001b[0;32m    216\u001b[0m     \"\"\"\n\u001b[0;32m    217\u001b[0m     \u001b[1;32mif\u001b[0m \u001b[0mret\u001b[0m \u001b[1;33m!=\u001b[0m \u001b[1;36m0\u001b[0m\u001b[1;33m:\u001b[0m\u001b[1;33m\u001b[0m\u001b[1;33m\u001b[0m\u001b[0m\n\u001b[1;32m--> 218\u001b[1;33m         \u001b[1;32mraise\u001b[0m \u001b[0mXGBoostError\u001b[0m\u001b[1;33m(\u001b[0m\u001b[0mpy_str\u001b[0m\u001b[1;33m(\u001b[0m\u001b[0m_LIB\u001b[0m\u001b[1;33m.\u001b[0m\u001b[0mXGBGetLastError\u001b[0m\u001b[1;33m(\u001b[0m\u001b[1;33m)\u001b[0m\u001b[1;33m)\u001b[0m\u001b[1;33m)\u001b[0m\u001b[1;33m\u001b[0m\u001b[1;33m\u001b[0m\u001b[0m\n\u001b[0m\u001b[0;32m    219\u001b[0m \u001b[1;33m\u001b[0m\u001b[0m\n\u001b[0;32m    220\u001b[0m \u001b[1;33m\u001b[0m\u001b[0m\n",
      "\u001b[1;31mXGBoostError\u001b[0m: [19:04:25] C:/Users/Administrator/workspace/xgboost-win64_release_1.5.1/src/objective/regression_obj.cu:120: label must be in [0,1] for logistic regression"
     ]
    }
   ],
   "source": [
    "print('-'*130)\n",
    "print('-'*130, file=log_file)\n",
    "log_file.flush()\n",
    "\n",
    "with warnings.catch_warnings():\n",
    "    warnings.filterwarnings('ignore')\n",
    "    XGB_BO.maximize(init_points=2, n_iter=5, acq='ei', xi=0.0)\n",
    "\n",
    "# XGB_BO.maximize(init_points=10, n_iter=50, acq='ei', xi=0.0)\n",
    "# XGB_BO.maximize(init_points=10, n_iter=50, acq='ei', xi=0.01)\n",
    "# XGB_BO.maximize(init_points=10, n_iter=50, acq='ucb', kappa=10)\n",
    "# XGB_BO.maximize(init_points=10, n_iter=50, acq='ucb', kappa=1)"
   ]
  },
  {
   "cell_type": "code",
   "execution_count": 66,
   "id": "e49e3155-5733-4169-a578-c81ed2f60993",
   "metadata": {},
   "outputs": [],
   "source": [
    "dtrain = xgb.DMatrix(X_train, label=y_train)"
   ]
  },
  {
   "cell_type": "code",
   "execution_count": 67,
   "id": "4e08c1f4-57e6-450c-82bd-0bfa5a122af6",
   "metadata": {},
   "outputs": [],
   "source": [
    "dtest = xgb.DMatrix(X_test)"
   ]
  },
  {
   "cell_type": "code",
   "execution_count": 68,
   "id": "5bc28d49-60d8-4dce-aee2-53ff5182c0d7",
   "metadata": {},
   "outputs": [],
   "source": [
    "def xgb_evaluate(max_depth, gamma, colsample_bytree):\n",
    "    params = {'eval_metric': 'rmse',\n",
    "              'max_depth': int(max_depth),\n",
    "              'subsample': 0.8,\n",
    "              'eta': 0.1,\n",
    "              'gamma': gamma,\n",
    "              'colsample_bytree': colsample_bytree}\n",
    "    # Used around 1000 boosting rounds in the full model\n",
    "    cv_result = xgb.cv(params, dtrain, num_boost_round=100, nfold=3)    \n",
    "    \n",
    "    # Bayesian optimization only knows how to maximize, not minimize, so return the negative RMSE\n",
    "    return -1.0 * cv_result['test-rmse-mean'].iloc[-1]"
   ]
  },
  {
   "cell_type": "code",
   "execution_count": 69,
   "id": "e7e4d8ee-9534-49f0-852d-37d2a7a0ae15",
   "metadata": {},
   "outputs": [
    {
     "name": "stdout",
     "output_type": "stream",
     "text": [
      "|   iter    |  target   | colsam... |   gamma   | max_depth |\n",
      "-------------------------------------------------------------\n",
      "| \u001b[0m 1       \u001b[0m | \u001b[0m-0.3876  \u001b[0m | \u001b[0m 0.6876  \u001b[0m | \u001b[0m 0.8819  \u001b[0m | \u001b[0m 4.139   \u001b[0m |\n",
      "| \u001b[0m 2       \u001b[0m | \u001b[0m-0.4441  \u001b[0m | \u001b[0m 0.3541  \u001b[0m | \u001b[0m 0.2351  \u001b[0m | \u001b[0m 3.978   \u001b[0m |\n",
      "| \u001b[0m 3       \u001b[0m | \u001b[0m-0.4147  \u001b[0m | \u001b[0m 0.4691  \u001b[0m | \u001b[0m 0.9389  \u001b[0m | \u001b[0m 4.936   \u001b[0m |\n",
      "| \u001b[0m 4       \u001b[0m | \u001b[0m-0.4025  \u001b[0m | \u001b[0m 0.6421  \u001b[0m | \u001b[0m 0.07573 \u001b[0m | \u001b[0m 3.638   \u001b[0m |\n",
      "| \u001b[95m 5       \u001b[0m | \u001b[95m-0.3593  \u001b[0m | \u001b[95m 0.7598  \u001b[0m | \u001b[95m 0.5934  \u001b[0m | \u001b[95m 4.065   \u001b[0m |\n",
      "| \u001b[0m 6       \u001b[0m | \u001b[0m-0.3645  \u001b[0m | \u001b[0m 0.8242  \u001b[0m | \u001b[0m 0.6603  \u001b[0m | \u001b[0m 4.08    \u001b[0m |\n",
      "| \u001b[95m 7       \u001b[0m | \u001b[95m-0.3554  \u001b[0m | \u001b[95m 0.8717  \u001b[0m | \u001b[95m 0.4848  \u001b[0m | \u001b[95m 4.067   \u001b[0m |\n",
      "| \u001b[0m 8       \u001b[0m | \u001b[0m-0.3956  \u001b[0m | \u001b[0m 0.8958  \u001b[0m | \u001b[0m 0.5291  \u001b[0m | \u001b[0m 3.871   \u001b[0m |\n",
      "=============================================================\n"
     ]
    }
   ],
   "source": [
    "xgb_bo = BayesianOptimization(xgb_evaluate, {'max_depth': (3, 7), \n",
    "                                             'gamma': (0, 1),\n",
    "                                             'colsample_bytree': (0.3, 0.9)})\n",
    "# Use the expected improvement acquisition function to handle negative numbers\n",
    "# Optimally needs quite a few more initiation points and number of iterations\n",
    "xgb_bo.maximize(init_points=3, n_iter=5, acq='ei')"
   ]
  },
  {
   "cell_type": "markdown",
   "id": "07f83160-f731-467d-952f-c6fd88a307b9",
   "metadata": {},
   "source": [
    "Extract the parameters of the best model."
   ]
  },
  {
   "cell_type": "code",
   "execution_count": 70,
   "id": "c667f237-bf85-4f62-b6ee-b0147bf9fe68",
   "metadata": {},
   "outputs": [
    {
     "ename": "TypeError",
     "evalue": "list indices must be integers or slices, not str",
     "output_type": "error",
     "traceback": [
      "\u001b[1;31m---------------------------------------------------------------------------\u001b[0m",
      "\u001b[1;31mTypeError\u001b[0m                                 Traceback (most recent call last)",
      "\u001b[1;32m<ipython-input-70-49c9e92c2a99>\u001b[0m in \u001b[0;36m<module>\u001b[1;34m\u001b[0m\n\u001b[1;32m----> 1\u001b[1;33m \u001b[0mparams\u001b[0m \u001b[1;33m=\u001b[0m \u001b[0mxgb_bo\u001b[0m\u001b[1;33m.\u001b[0m\u001b[0mres\u001b[0m\u001b[1;33m[\u001b[0m\u001b[1;34m'max'\u001b[0m\u001b[1;33m]\u001b[0m\u001b[1;33m[\u001b[0m\u001b[1;34m'max_params'\u001b[0m\u001b[1;33m]\u001b[0m\u001b[1;33m\u001b[0m\u001b[1;33m\u001b[0m\u001b[0m\n\u001b[0m",
      "\u001b[1;31mTypeError\u001b[0m: list indices must be integers or slices, not str"
     ]
    }
   ],
   "source": [
    "params = xgb_bo.res['max']['max_params']"
   ]
  },
  {
   "cell_type": "code",
   "execution_count": 71,
   "id": "2de5e388-1b45-4eab-a53d-3f86b3726a71",
   "metadata": {},
   "outputs": [],
   "source": [
    "params=xgb_bo.max['params']\n",
    "params['max_depth'] = int(params['max_depth'])"
   ]
  },
  {
   "cell_type": "markdown",
   "id": "1f953bec-41bd-4982-a077-4bd08932f1bf",
   "metadata": {},
   "source": [
    "#### Testing"
   ]
  },
  {
   "cell_type": "code",
   "execution_count": 72,
   "id": "3401773c-862e-494a-a7f6-3161751f0fc2",
   "metadata": {},
   "outputs": [
    {
     "name": "stdout",
     "output_type": "stream",
     "text": [
      "0.339949161119791\n",
      "0.24508954420070014\n"
     ]
    }
   ],
   "source": [
    "# Train a new model with the best parameters from the search\n",
    "model2 = xgb.train(params, dtrain, num_boost_round=250)\n",
    "\n",
    "# Predict on testing and training set\n",
    "y_pred = model2.predict(dtest)\n",
    "y_train_pred = model2.predict(dtrain)\n",
    "\n",
    "# Report testing and training RMSE\n",
    "print(np.sqrt(mean_squared_error(y_test, y_pred)))\n",
    "print(np.sqrt(mean_squared_error(y_train, y_train_pred)))"
   ]
  },
  {
   "cell_type": "code",
   "execution_count": 73,
   "id": "cbe91fb2-a367-493b-8e82-f5376cc854fb",
   "metadata": {},
   "outputs": [],
   "source": [
    "y_pred = model2.predict(dtest)"
   ]
  },
  {
   "cell_type": "code",
   "execution_count": null,
   "id": "7b160319-990f-40ec-9a5e-60cc516807d2",
   "metadata": {},
   "outputs": [],
   "source": []
  },
  {
   "cell_type": "code",
   "execution_count": 74,
   "id": "1b26f153-1b4e-4d11-a35e-b503a28d0456",
   "metadata": {},
   "outputs": [
    {
     "name": "stdout",
     "output_type": "stream",
     "text": [
      "Mean Square Error      = 0.11556543214604964\n",
      "Root Mean Square Error = 0.339949161119791\n",
      "Mean Absolute Error    = 0.17390810313977695\n",
      "Median Absolute Error  = 0.08179510116577138\n",
      "R^2                    = 0.8160627618008334\n",
      "Adjusted R^2           = 0.8153507466852237\n"
     ]
    }
   ],
   "source": [
    "def print_metrics(y_true, y_predicted, n_parameters):\n",
    "    ## First compute R^2 and the adjusted R^2\n",
    "    r2 = sklm.r2_score(y_true, y_predicted)\n",
    "    r2_adj = r2 - (n_parameters - 1)/(y_true.shape[0] - n_parameters) * (1 - r2)\n",
    "    \n",
    "    ## Print the usual metrics and the R^2 values\n",
    "    print('Mean Square Error      = ' + str(sklm.mean_squared_error(y_true, y_predicted)))\n",
    "    print('Root Mean Square Error = ' + str(math.sqrt(sklm.mean_squared_error(y_true, y_predicted))))\n",
    "    print('Mean Absolute Error    = ' + str(sklm.mean_absolute_error(y_true, y_predicted)))\n",
    "    print('Median Absolute Error  = ' + str(sklm.median_absolute_error(y_true, y_predicted)))\n",
    "    print('R^2                    = ' + str(r2))\n",
    "    print('Adjusted R^2           = ' + str(r2_adj))\n",
    "\n",
    "print_metrics(y_test, y_pred, 4)"
   ]
  },
  {
   "cell_type": "code",
   "execution_count": 93,
   "id": "9eb52a0f-fb7f-445d-92e1-2452302de946",
   "metadata": {},
   "outputs": [],
   "source": [
    "R_score=[0.16,0.87,0.81,0.51, 0.763,0.89,0.83]"
   ]
  },
  {
   "cell_type": "code",
   "execution_count": 94,
   "id": "6b29773f-b0d8-4567-9691-b742d2612f53",
   "metadata": {},
   "outputs": [],
   "source": [
    "column=['LinearReg','RandomForest','OptimedRF','SVR','GBR','XGBoost','XGB_BO']"
   ]
  },
  {
   "cell_type": "code",
   "execution_count": 95,
   "id": "6b15407c-1240-47a5-b882-efde3e9d00c0",
   "metadata": {},
   "outputs": [
    {
     "name": "stderr",
     "output_type": "stream",
     "text": [
      "<ipython-input-95-300980d5a9e1>:2: MatplotlibDeprecationWarning: Using a string of single character colors as a color sequence is deprecated since 3.2 and will be removed two minor releases later. Use an explicit list instead.\n",
      "  plt.bar(column,R_score,width=0.6,color='rgbkymc')\n",
      "No handles with labels found to put in legend.\n"
     ]
    },
    {
     "data": {
      "image/png": "[encoded data removed]",
      "text/plain": [
       "<Figure size 720x432 with 1 Axes>"
      ]
     },
     "metadata": {
      "needs_background": "light"
     },
     "output_type": "display_data"
    }
   ],
   "source": [
    "plt.figure(figsize=(10,6))\n",
    "plt.bar(column,R_score,width=0.6,color='rgbkymc')\n",
    "plt.xlabel('ML models')\n",
    "plt.ylabel('Adjusted R2')\n",
    "plt.title('TOC Comparison for Different Models')\n",
    "plt.ylim(0.1,0.9)\n",
    "plt.legend()\n",
    "plt.show()\n"
   ]
  },
  {
   "cell_type": "markdown",
   "id": "2e91cbe9-24df-4836-8a37-5b80a74699c1",
   "metadata": {},
   "source": [
    "## Saving your models:"
   ]
  },
  {
   "cell_type": "code",
   "execution_count": 96,
   "id": "bc5f8eef-278d-4f60-912f-a47778cbcadb",
   "metadata": {},
   "outputs": [],
   "source": [
    "import pickle"
   ]
  },
  {
   "cell_type": "code",
   "execution_count": 111,
   "id": "df16e282-e83c-4e5f-857b-8a945099560b",
   "metadata": {},
   "outputs": [],
   "source": [
    "filename='TOC_modelupdated.sav'\n",
    "pickle.dump(model,open(filename,'wb'))"
   ]
  },
  {
   "cell_type": "code",
   "execution_count": 112,
   "id": "8bc02fa7-1f87-4eba-b1d9-68eda244cbae",
   "metadata": {},
   "outputs": [],
   "source": [
    "y_predictions=model.predict(X_test)"
   ]
  },
  {
   "cell_type": "code",
   "execution_count": 113,
   "id": "ea5d39fd-b85b-4324-95e6-bc410839efb9",
   "metadata": {},
   "outputs": [
    {
     "data": {
      "text/plain": [
       "array([2.850064 , 1.2890893, 0.9591646, ..., 1.2824692, 1.5671608,\n",
       "       1.8472995], dtype=float32)"
      ]
     },
     "execution_count": 113,
     "metadata": {},
     "output_type": "execute_result"
    }
   ],
   "source": [
    "y_predictions"
   ]
  },
  {
   "cell_type": "code",
   "execution_count": 1,
   "id": "e71afe3e",
   "metadata": {},
   "outputs": [],
   "source": [
    "R_score=[0.16,0.87,0.81,0.51, 0.763,0.89,0.83]\n",
    "column=['LinearReg','RandomForest','OptimedRF','SVR','GBR','XGBoost','XGB_BO']"
   ]
  },
  {
   "cell_type": "code",
   "execution_count": 11,
   "id": "45852cbf-4489-4b79-b21e-05fe8b06a7d9",
   "metadata": {},
   "outputs": [
    {
     "data": {
      "image/png": "[encoded data removed]",
      "text/plain": [
       "<Figure size 432x288 with 1 Axes>"
      ]
     },
     "metadata": {
      "needs_background": "light"
     },
     "output_type": "display_data"
    }
   ],
   "source": [
    "import matplotlib\n",
    "import matplotlib.pyplot as plt\n",
    "\n",
    "#data = [220,14.2,150,400,420]\n",
    "error = [10, 1, 20, 60, 10]\n",
    "x = [i + .5 for i in range(5)]\n",
    "colors = ['#5DA5DA', '#FAA43A', '#60BD68', '#F17CB0', '#B2912F']\n",
    "\n",
    "fig, ax = plt.subplots()\n",
    "bar = ax.bar(column, R_score, 0.8, align=\"center\",color=colors,)\n",
    "plot = ax.plot(column, R_score)\n",
    "ax.set_xticks(column)\n",
    "ax.set_xticklabels(column)\n",
    "ax.set_title(r\"Everything in the document can use m$\\alpha$th language\", y=1.05)\n",
    "ax.set_ylabel(r\"Rate (s$^{-1}$)\", labelpad=10)\n",
    "ax.set_xlabel(\"Mutant\",labelpad=10)\n",
    "ax.yaxis.set_ticks_position('left')\n",
    "ax.xaxis.set_ticks_position('bottom')\n",
    "plt.savefig('test.svg')\n",
    "plt.show()\n"
   ]
  },
  {
   "cell_type": "code",
   "execution_count": null,
   "id": "4dbe3850",
   "metadata": {},
   "outputs": [],
   "source": []
  }
 ],
 "metadata": {
  "kernelspec": {
   "display_name": "Python 3 (ipykernel)",
   "language": "python",
   "name": "python3"
  },
  "language_info": {
   "codemirror_mode": {
    "name": "ipython",
    "version": 3
   },
   "file_extension": ".py",
   "mimetype": "text/x-python",
   "name": "python",
   "nbconvert_exporter": "python",
   "pygments_lexer": "ipython3",
   "version": "3.11.4"
  }
 },
 "nbformat": 4,
 "nbformat_minor": 5
}
